{
 "metadata": {
  "language_info": {
   "codemirror_mode": {
    "name": "ipython",
    "version": 3
   },
   "file_extension": ".py",
   "mimetype": "text/x-python",
   "name": "python",
   "nbconvert_exporter": "python",
   "pygments_lexer": "ipython3",
   "version": "3.8.3-final"
  },
  "orig_nbformat": 2,
  "kernelspec": {
   "name": "python_defaultSpec_1600734834845",
   "display_name": "Python 3.8.5 64-bit ('rec_sys': conda)"
  }
 },
 "nbformat": 4,
 "nbformat_minor": 2,
 "cells": [
  {
   "cell_type": "code",
   "execution_count": 1,
   "metadata": {
    "tags": []
   },
   "outputs": [
    {
     "output_type": "stream",
     "name": "stdout",
     "text": "2.3.0\n"
    }
   ],
   "source": [
    "\n",
    "#Check TF version\n",
    "import tensorflow as tf\n",
    "print(tf.__version__)\n"
   ]
  },
  {
   "cell_type": "code",
   "execution_count": 2,
   "metadata": {
    "tags": []
   },
   "outputs": [
    {
     "output_type": "stream",
     "name": "stdout",
     "text": "Default GPU Device:/device:GPU:0\n"
    }
   ],
   "source": [
    "# Is GPU enabled\n",
    "if tf.test.gpu_device_name():\n",
    "    print('Default GPU Device:{}'.format(tf.test.gpu_device_name()))\n",
    "else:\n",
    "    print(\"Fix it\")"
   ]
  },
  {
   "cell_type": "code",
   "execution_count": 3,
   "metadata": {
    "tags": []
   },
   "outputs": [
    {
     "output_type": "stream",
     "name": "stdout",
     "text": "WARNING:tensorflow:From /home/ckamerin/Desktop/sample_project/env/lib/python3.8/site-packages/tensorflow_gan/python/estimator/tpu_gan_estimator.py:42: The name tf.estimator.tpu.TPUEstimator is deprecated. Please use tf.compat.v1.estimator.tpu.TPUEstimator instead.\n\n"
    }
   ],
   "source": [
    "import tensorflow_gan as tfgan\n",
    "import numpy as np\n",
    "from numpy import zeros\n",
    "from numpy import mean\n",
    "from numpy import ones\n",
    "from numpy import hstack\n",
    "from numpy.random import rand\n",
    "from numpy.random import randn\n",
    "from numpy.random import random\n",
    "from numpy.random import choice\n",
    "from numpy.random import randint\n",
    "import pandas as pd\n",
    "import glob\n",
    "import os\n",
    "import earthpy as et \n",
    "from os import makedirs\n",
    "import PIL\n",
    "from tensorflow.keras import layers\n",
    "from keras import backend\n",
    "from keras.models import Sequential\n",
    "from keras.layers import Dense\n",
    "from keras.layers import LeakyReLU\n",
    "from keras.constraints import Constraint\n",
    "from keras.initializers import RandomNormal\n",
    "from keras.optimizers import Adam\n",
    "from keras.optimizers import RMSprop\n",
    "from keras.utils.vis_utils import plot_model\n",
    "import seaborn as sb\n",
    "from matplotlib import pyplot\n",
    "import matplotlib.pyplot as plt\n",
    "import matplotlib.gridspec as gridspec\n",
    "import pydot\n",
    "\n",
    "sb.set()"
   ]
  },
  {
   "cell_type": "code",
   "execution_count": 4,
   "metadata": {},
   "outputs": [],
   "source": [
    "## Code needed to set a new working directory\n",
    "\n",
    "#my_path = os.path.join(et.io.HOME, 'recommender_system')\n",
    "#os.mkdir(my_path)\n",
    "\n",
    "## Set Working Directory\n",
    "os.chdir(os.path.join(\"/home/ckamerin/Documents/GitHub\", 'recommender_system'))"
   ]
  },
  {
   "cell_type": "code",
   "execution_count": 5,
   "metadata": {},
   "outputs": [
    {
     "output_type": "execute_result",
     "data": {
      "text/plain": "'/home/ckamerin/Documents/GitHub/recommender_system'"
     },
     "metadata": {},
     "execution_count": 5
    }
   ],
   "source": [
    "# Check if it worked\n",
    "os.getcwd()"
   ]
  },
  {
   "cell_type": "code",
   "execution_count": 6,
   "metadata": {},
   "outputs": [],
   "source": [
    "df =pd.read_csv('data_in_use/df2.csv')"
   ]
  },
  {
   "cell_type": "code",
   "execution_count": 7,
   "metadata": {},
   "outputs": [],
   "source": [
    "df = df.sample(frac=1).reset_index(drop=True)"
   ]
  },
  {
   "cell_type": "code",
   "execution_count": 8,
   "metadata": {},
   "outputs": [],
   "source": [
    "df['user_id']  = pd.Categorical(df.user_id).codes\n",
    "df['headphone_name']  = pd.Categorical(df.headphone_name).codes"
   ]
  },
  {
   "cell_type": "code",
   "execution_count": 9,
   "metadata": {},
   "outputs": [],
   "source": [
    "#Set columns we want to normalize\n",
    "\n",
    "cols_to_norm = ['sound_quality_importance', 'positional_importance', 'loud_importance',\n",
    "       'mic_importance', 'wireless_importance','noise_canceling_importance', 'in_ear_importance',\n",
    "       'on_ear_importance', 'over_ear_importance', 'no_pref_oninover', 'recording_quality', 'noise_handling','user_rating',\n",
    "       'Impedance', 'sensitivity(dbv)', 'accuracy',\n",
    "       'weighted_harmonic_distortion', 'soundstage', 'imaging',\n",
    "       'noise_isolation', 'wireless']\n",
    "imp_col = ['sound_quality_importance', 'positional_importance', 'loud_importance',\n",
    "       'mic_importance', 'wireless_importance', \n",
    "#       'price_sensitivity'\n",
    "]\n",
    "#price_col = ['max_price','price']\n",
    "hp_feat_col = ['recording_quality', 'noise_handling', 'accuracy',\n",
    "       'weighted_harmonic_distortion', 'soundstage', 'imaging',\n",
    "       'noise_isolation', 'wireless']\n",
    "remaining_col = ['Impedance', 'sensitivity(dbv)']\n",
    "\n"
   ]
  },
  {
   "cell_type": "code",
   "execution_count": 10,
   "metadata": {},
   "outputs": [],
   "source": [
    "df =df[['game_use', 'rec_use', 'studio_use', 'exercise_use',\n",
    "       'office_use', 'podcast_use', 'travel_use', 'other_use',\n",
    "       'sound_quality_importance', 'positional_importance', 'loud_importance',\n",
    "       'mic_importance', 'wireless_importance', 'in_ear_importance',\n",
    "       'on_ear_importance', 'over_ear_importance', 'no_pref_oninover','attached_mic', 'recording_quality',\n",
    "       'noise_handling', 'Impedance', 'sensitivity(dbv)', 'accuracy',\n",
    "      'weighted_harmonic_distortion', 'soundstage', 'imaging',\n",
    "      'noise_isolation', 'wireless', 'over_ear_style', 'on_ear_style',\n",
    "      'in_ear_style', 'open_back', 'close_back', 'semiclosed_back']]\n",
    "#ydf =df[[ 'attached_mic', 'recording_quality',\n",
    "#       'noise_handling', 'Impedance', 'sensitivity(dbv)', 'accuracy',\n",
    "#      'weighted_harmonic_distortion', 'soundstage', 'imaging',\n",
    "#      'noise_isolation', 'wireless', 'over_ear_style', 'on_ear_style',\n",
    "#       'in_ear_style', 'open_back', 'close_back', 'semiclosed_back']]\n",
    "#xtest=df1[['game_use', 'rec_use', 'studio_use', 'exercise_use',\n",
    "#       'office_use', 'podcast_use', 'travel_use', 'other_use',\n",
    "#       'sound_quality_importance', 'positional_importance', 'loud_importance',\n",
    "#       'mic_importance', 'wireless_importance', 'in_ear_importance',\n",
    "#       'on_ear_importance', 'over_ear_importance', 'no_pref_oninover']][12:]\n",
    "#ytest=df1[[ 'attached_mic', 'recording_quality',\n",
    "#       'noise_handling', 'Impedance', 'sensitivity(dbv)', 'accuracy',\n",
    "#       'weighted_harmonic_distortion', 'soundstage', 'imaging',\n",
    "#       'noise_isolation', 'wireless', 'over_ear_style', 'on_ear_style',\n",
    "#       'in_ear_style', 'open_back', 'close_back', 'semiclosed_back']][12:]"
   ]
  },
  {
   "cell_type": "code",
   "execution_count": 11,
   "metadata": {},
   "outputs": [],
   "source": [
    "#normalize columns in df\n",
    "\n",
    "df=df.fillna(0)\n",
    "df[imp_col] = df[imp_col].apply(lambda x: (x - 0) / (10 - 0))\n",
    "#df[price_col] = df[price_col].apply(lambda x: (x - x.min()) / (x.max() - x.min()))\n",
    "df[hp_feat_col] = df[hp_feat_col].apply(lambda x: (x - x.min()) / (x.max() - x.min()))   \n",
    "df[remaining_col] = df[remaining_col].apply(lambda x: (x - x.min()) / (x.max() - x.min()))       \n",
    "#df[cols_to_norm] = df[cols_to_norm].apply(lambda x: (x - x.min()) / (x.max() - x.min()))"
   ]
  },
  {
   "cell_type": "code",
   "execution_count": 12,
   "metadata": {
    "tags": []
   },
   "outputs": [],
   "source": [
    "# clip model weights to a given hypercube\n",
    "class ClipConstraint(Constraint):\n",
    "\t# set clip value when initialized\n",
    "\tdef __init__(self, clip_value):\n",
    "\t\tself.clip_value = clip_value\n",
    " \n",
    "\t# clip model weights to hypercube\n",
    "\tdef __call__(self, weights):\n",
    "\t\treturn backend.clip(weights, -self.clip_value, self.clip_value)\n",
    " \n",
    "\t# get the config\n",
    "\tdef get_config(self):\n",
    "\t\treturn {'clip_value': self.clip_value}\n",
    " \n",
    "# calculate wasserstein loss\n",
    "def wasserstein_loss(y_true, y_pred):\n",
    "\treturn backend.mean(y_true * y_pred)\n",
    "\n",
    "# Critic Model for Wesserstein GAN\n",
    "def define_critic(n_inputs=34):\n",
    "\tmodel = Sequential()\n",
    "\tinit = RandomNormal(mean=0.0, stddev=0.02)\n",
    "\tconst = ClipConstraint(0.01)\n",
    "\tmodel.add(Dense(256, kernel_initializer=init, kernel_constraint=const, input_dim=n_inputs))\n",
    "\tmodel.add(LeakyReLU(alpha=0.2))\n",
    "\tmodel.add(Dense(256, kernel_initializer=init))\n",
    "\tmodel.add(LeakyReLU(alpha=0.2))\n",
    "\tmodel.add(Dense(256, kernel_initializer=init))\n",
    "\tmodel.add(LeakyReLU(alpha=0.2))\n",
    "\tmodel.add(Dense(34))\n",
    "\t# compile model\n",
    "\topt = RMSprop(lr=0.00005)\n",
    "\tmodel.compile(loss=wasserstein_loss, optimizer=opt,metrics=['accuracy'])\n",
    "\treturn model\n",
    "\n",
    "\n",
    "# define the standalone generator model\n",
    "def define_generator(latent_dim, n_outputs=34):\n",
    "\tmodel = Sequential()\n",
    "\tinit = RandomNormal(mean=0.0, stddev=0.02)\n",
    "\tmodel.add(Dense(256, kernel_initializer=init, input_dim=latent_dim))\n",
    "\tmodel.add(LeakyReLU(alpha=0.2))\n",
    "\tmodel.add(Dense(256, kernel_initializer=init))\n",
    "\tmodel.add(LeakyReLU(alpha=0.2))\n",
    "\tmodel.add(Dense(256, kernel_initializer=init))\n",
    "\tmodel.add(LeakyReLU(alpha=0.2))\n",
    "\tmodel.add(Dense(n_outputs, activation='tanh'))\n",
    "\treturn model\n",
    " \n",
    "# define the combined generator and discriminator model, for updating the generator\n",
    "def define_gan(generator, critic):\n",
    "\t# make weights in the discriminator not trainable\n",
    "\t#discriminator.trainable = False\n",
    "\tcritic.trainable = False\n",
    "\t# connect them\n",
    "\tmodel = Sequential()\n",
    "\t# add generator\n",
    "\tmodel.add(generator)\n",
    "\t# add the discriminator\n",
    "\tmodel.add(critic)\n",
    "\t# compile model\n",
    "\topt = RMSprop(lr=0.00005)\n",
    "\t#opt = Adam(lr=0.0002, beta_1=0.5)\n",
    "\tmodel.compile(loss=wasserstein_loss, optimizer=opt)\n",
    "\t#model.compile(loss='binary_crossentropy', optimizer=opt)\n",
    "\treturn model\n",
    "\n",
    "\n",
    "\n",
    "# generate points in latent space as input for the generator\n",
    "def generate_latent_points(latent_dim, n):\n",
    "\t# generate points in the latent space\n",
    "\tx_input = randn(latent_dim * n)\n",
    "\t# reshape into a batch of inputs for the network\n",
    "\tx_input = x_input.reshape(n, latent_dim)\n",
    "\n",
    "\treturn x_input\n",
    "\n",
    "\n",
    "\n",
    "# generate n real samples with class labels\n",
    "def generate_real_samples(n):\n",
    "\t# generate class labels\n",
    "\ty = -ones((1, n))\n",
    "\treturn  y\n",
    "\n",
    "\n",
    "\n",
    "# use the generator to generate n fake examples, with class labels\n",
    "def generate_fake_samples(generator, latent_dim, n):\n",
    "\t# generate points in latent space\n",
    "\tx_input = generate_latent_points(latent_dim, n)\n",
    "\n",
    "\t\n",
    "\n",
    "\t# predict outputs\n",
    "\tX = generator.predict(x_input)\n",
    "\t# create class labels\n",
    "\ty = ones((n, 34))\n",
    "\n",
    "\n",
    "\treturn X, y\n",
    "\t\n",
    "\t\n",
    "# evaluate the discriminator and plot real and fake points\n",
    "def summarize_performance(epoch, generator, critic, latent_dim, n=34):\n",
    "\t# prepare real samples\n",
    "\tfor row in range(len(df)):\n",
    "\t\tx_real, y_real = df[row:row+1], generate_real_samples(n)\n",
    "\t# evaluate discriminator on real examples\n",
    "\t_, acc_real = critic.evaluate(x_real, y_real, verbose=0)\n",
    "\t# prepare fake examples\n",
    "\tx_fake, y_fake = generate_fake_samples(generator, latent_dim, 1)\n",
    "\t# evaluate discriminator on fake examples\n",
    "\t_, acc_fake = critic.evaluate(x_fake, y_fake, verbose=0)\n",
    "\t# summarize discriminator performance\n",
    "\tprint(epoch, acc_real, acc_fake)\n",
    "\t# scatter plot real and fake data points\n",
    "\t#pyplot.scatter(x_real[:, 0], x_real[:, 1], color='red')\n",
    "\t#pyplot.scatter(x_fake[:, 0], x_fake[:, 1], color='blue')\n",
    "\t#pyplot.show()\n",
    " \n",
    "\n",
    "\n",
    "# create a line plot of loss for the gan and save to file\n",
    "def plot_history(d1_hist, d2_hist, g_hist):\n",
    "\t# plot loss\n",
    "\tpyplot.subplot(2, 1, 1)\n",
    "\tpyplot.plot(d1_hist, label='d-real')\n",
    "\tpyplot.plot(d2_hist, label='d-fake')\n",
    "\tpyplot.plot(g_hist, label='gen')\n",
    "\tpyplot.legend()\n",
    "\t# save plot to file\n",
    "\tpyplot.savefig('data_augmentation/WGAN/results_baseline_WGAN/plot_line_plot_loss.png')\n",
    "\tpyplot.close()\n",
    "\n",
    "# train the generator and discriminator\n",
    "def train(g_model, c_model, gan_model, latent_dim, n_epochs=100, n_batch=68, n_eval=20,n_critic=5):\n",
    "\t\n",
    "# prepare lists for storing stats each iteration\n",
    "\tc1_hist, c2_hist, g_hist = list(), list(), list()\n",
    "# manually enumerate epochs\n",
    "\tfor i in range(n_epochs):\n",
    "\t\t# update the critic more than the generator\n",
    "\t\tc1_tmp, c2_tmp = list(), list()\n",
    "\t\tfor _ in range(n_critic):\n",
    "\t\t\t# get randomly selected 'real' samples\n",
    "\t\t\tX_real, y_real = df[i%len(df):i%len(df)+1], generate_real_samples(34)\n",
    "\t\t\t# update critic model weights\n",
    "\t\t\tc_loss1 = c_model.train_on_batch(X_real, y_real)\n",
    "\t\t\tc1_tmp.append(c_loss1)\n",
    "\t\t\t# generate 'fake' examples\n",
    "\t\t\tX_fake, y_fake = generate_fake_samples(g_model, latent_dim, 1)\n",
    "\t\t\t# update critic model weights\n",
    "\t\t\tc_loss2 = c_model.train_on_batch(X_fake, y_fake)\n",
    "\t\t\tc2_tmp.append(c_loss2)\n",
    "\t\t# store critic loss\n",
    "\t\tc1_hist.append(mean(c1_tmp))\n",
    "\t\tc2_hist.append(mean(c2_tmp))\n",
    "\n",
    "\t\t# prepare points in latent space as input for the generator\n",
    "\t\tx_gan = generate_latent_points(latent_dim, 1)\n",
    "\t\t# create inverted labels for the fake samples\n",
    "\t\ty_gan = -ones((1, 34))\n",
    "\n",
    "\t\t# update the generator via the discriminator's error\n",
    "\t\tg_loss = gan_model.train_on_batch(x_gan, y_gan)\n",
    "\t\t# evaluate the model every n_eval epochs\n",
    "\t\t# record history\n",
    "\t\tg_hist.append(g_loss)\n",
    "\t\t# evaluate the model performance every 'epoch'\n",
    "\t\tif (i+1) % n_eval == 0:\n",
    "\t\t\tsummarize_performance(i, g_model, c_model, latent_dim)\n",
    "\n",
    "\tplot_history(c1_hist, c2_hist, g_hist)\n",
    "\n",
    "\n",
    "# make folder for results\n",
    "makedirs('data_augmentation/WGAN/results_baseline_WGAN', exist_ok=True)\n",
    "# size of the latent space\n",
    "latent_dim = 100\n",
    "# create the discriminator/critic\n",
    "critic = define_critic()\n",
    "#discriminator = define_discriminator()\n",
    "# create the generator\n",
    "generator = define_generator(latent_dim)\n",
    "# create the gan\n",
    "gan_model = define_gan(generator, critic)"
   ]
  },
  {
   "cell_type": "code",
   "execution_count": 5,
   "metadata": {},
   "outputs": [
    {
     "output_type": "error",
     "ename": "NameError",
     "evalue": "name 'train' is not defined",
     "traceback": [
      "\u001b[0;31m---------------------------------------------------------------------------\u001b[0m",
      "\u001b[0;31mNameError\u001b[0m                                 Traceback (most recent call last)",
      "\u001b[0;32m<ipython-input-5-7b0fa0823901>\u001b[0m in \u001b[0;36m<module>\u001b[0;34m\u001b[0m\n\u001b[1;32m      1\u001b[0m \u001b[0mnp\u001b[0m\u001b[0;34m.\u001b[0m\u001b[0mrandom\u001b[0m\u001b[0;34m.\u001b[0m\u001b[0mseed\u001b[0m\u001b[0;34m(\u001b[0m\u001b[0;36m5\u001b[0m\u001b[0;34m)\u001b[0m\u001b[0;34m\u001b[0m\u001b[0;34m\u001b[0m\u001b[0m\n\u001b[0;32m----> 2\u001b[0;31m \u001b[0mtrain\u001b[0m\u001b[0;34m(\u001b[0m\u001b[0mgenerator\u001b[0m\u001b[0;34m,\u001b[0m \u001b[0mcritic\u001b[0m\u001b[0;34m,\u001b[0m \u001b[0mgan_model\u001b[0m\u001b[0;34m,\u001b[0m \u001b[0mlatent_dim\u001b[0m\u001b[0;34m,\u001b[0m \u001b[0mn_epochs\u001b[0m\u001b[0;34m=\u001b[0m\u001b[0;36m100\u001b[0m\u001b[0;34m,\u001b[0m \u001b[0mn_eval\u001b[0m\u001b[0;34m=\u001b[0m\u001b[0;36m20\u001b[0m\u001b[0;34m,\u001b[0m \u001b[0mn_critic\u001b[0m\u001b[0;34m=\u001b[0m\u001b[0;36m5\u001b[0m\u001b[0;34m)\u001b[0m\u001b[0;34m\u001b[0m\u001b[0;34m\u001b[0m\u001b[0m\n\u001b[0m",
      "\u001b[0;31mNameError\u001b[0m: name 'train' is not defined"
     ]
    }
   ],
   "source": [
    "np.random.seed(5)\n",
    "train(generator, critic, gan_model, latent_dim, n_epochs=100, n_eval=20, n_critic=5)"
   ]
  },
  {
   "cell_type": "code",
   "execution_count": null,
   "metadata": {},
   "outputs": [],
   "source": []
  }
 ]
}