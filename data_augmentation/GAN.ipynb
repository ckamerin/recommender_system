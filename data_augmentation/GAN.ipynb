{
 "metadata": {
  "language_info": {
   "codemirror_mode": {
    "name": "ipython",
    "version": 3
   },
   "file_extension": ".py",
   "mimetype": "text/x-python",
   "name": "python",
   "nbconvert_exporter": "python",
   "pygments_lexer": "ipython3",
   "version": "3.8.5-final"
  },
  "orig_nbformat": 2,
  "kernelspec": {
   "name": "python_defaultSpec_1599871311872",
   "display_name": "Python 3.8.5 64-bit ('rec_sys': conda)"
  }
 },
 "nbformat": 4,
 "nbformat_minor": 2,
 "cells": [
  {
   "cell_type": "code",
   "execution_count": 1,
   "metadata": {
    "tags": []
   },
   "outputs": [
    {
     "output_type": "stream",
     "name": "stdout",
     "text": "WARNING:tensorflow:From /opt/anaconda3/envs/rec_sys/lib/python3.8/site-packages/tensorflow_gan/python/estimator/tpu_gan_estimator.py:42: The name tf.estimator.tpu.TPUEstimator is deprecated. Please use tf.compat.v1.estimator.tpu.TPUEstimator instead.\n\n"
    }
   ],
   "source": [
    "import tensorflow as tf\n",
    "import tensorflow_gan as tfgan\n",
    "import numpy as np\n",
    "from numpy import zeros\n",
    "from numpy import ones\n",
    "from numpy import hstack\n",
    "from numpy.random import rand\n",
    "from numpy.random import randn\n",
    "from numpy.random import random\n",
    "from numpy.random import choice\n",
    "from numpy.random import randint\n",
    "import pandas as pd\n",
    "import glob\n",
    "import os\n",
    "from os import makedirs\n",
    "import PIL\n",
    "from tensorflow.keras import layers\n",
    "from keras import backend\n",
    "from keras.models import Sequential\n",
    "from keras.layers import Dense\n",
    "from keras.layers import LeakyReLU\n",
    "from keras.constraints import Constraint\n",
    "from keras.initializers import RandomNormal\n",
    "from keras.optimizers import Adam\n",
    "from keras.optimizers import RMSprop\n",
    "from keras.utils.vis_utils import plot_model\n",
    "import seaborn as sb\n",
    "from matplotlib import pyplot\n",
    "import matplotlib.pyplot as plt\n",
    "import matplotlib.gridspec as gridspec\n",
    "import pydot\n",
    "\n",
    "sb.set()"
   ]
  },
  {
   "cell_type": "code",
   "execution_count": 2,
   "metadata": {},
   "outputs": [],
   "source": [
    "import os \n",
    "import earthpy as et "
   ]
  },
  {
   "cell_type": "code",
   "execution_count": 3,
   "metadata": {},
   "outputs": [],
   "source": [
    "## Code needed to set a new working directory\n",
    "\n",
    "#my_path = os.path.join(et.io.HOME, 'recommender_system')\n",
    "#os.mkdir(my_path)\n",
    "\n",
    "## Set Working Directory\n",
    "os.chdir(os.path.join(et.io.HOME, 'recommender_system'))"
   ]
  },
  {
   "cell_type": "code",
   "execution_count": 4,
   "metadata": {},
   "outputs": [
    {
     "output_type": "execute_result",
     "data": {
      "text/plain": "'/Users/chriskamerin/recommender_system'"
     },
     "metadata": {},
     "execution_count": 4
    }
   ],
   "source": [
    "# Check if it worked\n",
    "os.getcwd()"
   ]
  },
  {
   "cell_type": "code",
   "execution_count": 5,
   "metadata": {},
   "outputs": [],
   "source": [
    "df =pd.read_csv('data_in_use/df2.csv')"
   ]
  },
  {
   "cell_type": "code",
   "execution_count": 6,
   "metadata": {},
   "outputs": [],
   "source": [
    "df = df.sample(frac=1).reset_index(drop=True)"
   ]
  },
  {
   "cell_type": "code",
   "execution_count": 7,
   "metadata": {},
   "outputs": [],
   "source": [
    "df['user_id']  = pd.Categorical(df.user_id).codes\n",
    "df['headphone_name']  = pd.Categorical(df.headphone_name).codes"
   ]
  },
  {
   "cell_type": "code",
   "execution_count": 8,
   "metadata": {},
   "outputs": [],
   "source": [
    "#Set columns we want to normalize\n",
    "\n",
    "cols_to_norm = ['sound_quality_importance', 'positional_importance', 'loud_importance',\n",
    "       'mic_importance', 'wireless_importance','noise_canceling_importance', 'in_ear_importance',\n",
    "       'on_ear_importance', 'over_ear_importance', 'no_pref_oninover', 'recording_quality', 'noise_handling','user_rating',\n",
    "       'Impedance', 'sensitivity(dbv)', 'accuracy',\n",
    "       'weighted_harmonic_distortion', 'soundstage', 'imaging',\n",
    "       'noise_isolation', 'wireless']\n",
    "imp_col = ['sound_quality_importance', 'positional_importance', 'loud_importance',\n",
    "       'mic_importance', 'wireless_importance', \n",
    "#       'price_sensitivity'\n",
    "]\n",
    "#price_col = ['max_price','price']\n",
    "hp_feat_col = ['recording_quality', 'noise_handling', 'accuracy',\n",
    "       'weighted_harmonic_distortion', 'soundstage', 'imaging',\n",
    "       'noise_isolation', 'wireless']\n",
    "remaining_col = ['Impedance', 'sensitivity(dbv)']\n",
    "\n"
   ]
  },
  {
   "cell_type": "code",
   "execution_count": 9,
   "metadata": {},
   "outputs": [],
   "source": [
    "df =df[['game_use', 'rec_use', 'studio_use', 'exercise_use',\n",
    "       'office_use', 'podcast_use', 'travel_use', 'other_use',\n",
    "       'sound_quality_importance', 'positional_importance', 'loud_importance',\n",
    "       'mic_importance', 'wireless_importance', 'in_ear_importance',\n",
    "       'on_ear_importance', 'over_ear_importance', 'no_pref_oninover','attached_mic', 'recording_quality',\n",
    "       'noise_handling', 'Impedance', 'sensitivity(dbv)', 'accuracy',\n",
    "      'weighted_harmonic_distortion', 'soundstage', 'imaging',\n",
    "      'noise_isolation', 'wireless', 'over_ear_style', 'on_ear_style',\n",
    "      'in_ear_style', 'open_back', 'close_back', 'semiclosed_back']]\n",
    "#ydf =df[[ 'attached_mic', 'recording_quality',\n",
    "#       'noise_handling', 'Impedance', 'sensitivity(dbv)', 'accuracy',\n",
    "#      'weighted_harmonic_distortion', 'soundstage', 'imaging',\n",
    "#      'noise_isolation', 'wireless', 'over_ear_style', 'on_ear_style',\n",
    "#       'in_ear_style', 'open_back', 'close_back', 'semiclosed_back']]\n",
    "#xtest=df1[['game_use', 'rec_use', 'studio_use', 'exercise_use',\n",
    "#       'office_use', 'podcast_use', 'travel_use', 'other_use',\n",
    "#       'sound_quality_importance', 'positional_importance', 'loud_importance',\n",
    "#       'mic_importance', 'wireless_importance', 'in_ear_importance',\n",
    "#       'on_ear_importance', 'over_ear_importance', 'no_pref_oninover']][12:]\n",
    "#ytest=df1[[ 'attached_mic', 'recording_quality',\n",
    "#       'noise_handling', 'Impedance', 'sensitivity(dbv)', 'accuracy',\n",
    "#       'weighted_harmonic_distortion', 'soundstage', 'imaging',\n",
    "#       'noise_isolation', 'wireless', 'over_ear_style', 'on_ear_style',\n",
    "#       'in_ear_style', 'open_back', 'close_back', 'semiclosed_back']][12:]"
   ]
  },
  {
   "cell_type": "code",
   "execution_count": 10,
   "metadata": {},
   "outputs": [],
   "source": [
    "#normalize columns in df\n",
    "\n",
    "df=df.fillna(0)\n",
    "df[imp_col] = df[imp_col].apply(lambda x: (x - 0) / (10 - 0))\n",
    "#df[price_col] = df[price_col].apply(lambda x: (x - x.min()) / (x.max() - x.min()))\n",
    "df[hp_feat_col] = df[hp_feat_col].apply(lambda x: (x - x.min()) / (x.max() - x.min()))   \n",
    "df[remaining_col] = df[remaining_col].apply(lambda x: (x - x.min()) / (x.max() - x.min()))       \n",
    "#df[cols_to_norm] = df[cols_to_norm].apply(lambda x: (x - x.min()) / (x.max() - x.min()))"
   ]
  },
  {
   "cell_type": "code",
   "execution_count": 27,
   "metadata": {
    "tags": []
   },
   "outputs": [
    {
     "output_type": "stream",
     "name": "stdout",
     "text": "19 0.0 0.0\n39 0.0 0.0\n59 0.0 0.0\n79 0.0 0.0\n99 0.0 0.0\n"
    }
   ],
   "source": [
    "# define the standalone discriminator model\n",
    "def define_discriminator(n_inputs=34):\n",
    "\tmodel = Sequential()\n",
    "\tinit = RandomNormal(mean=0.0, stddev=0.02)\n",
    "\tmodel.add(Dense(256, kernel_initializer=init, input_dim=n_inputs))\n",
    "\tmodel.add(LeakyReLU(alpha=0.2))\n",
    "\tmodel.add(Dense(256, kernel_initializer=init))\n",
    "\tmodel.add(LeakyReLU(alpha=0.2))\n",
    "\tmodel.add(Dense(256, kernel_initializer=init))\n",
    "\tmodel.add(LeakyReLU(alpha=0.2))\n",
    "\tmodel.add(Dense(34, activation='sigmoid'))\n",
    "\t# compile model\n",
    "\topt = Adam(lr=0.0002, beta_1=0.5)\n",
    "\tmodel.compile(loss='binary_crossentropy', optimizer=opt, metrics=['accuracy'])\n",
    "\treturn model\n",
    "\n",
    "\t\n",
    " \n",
    "# define the standalone generator model\n",
    "def define_generator(latent_dim, n_outputs=34):\n",
    "\tmodel = Sequential()\n",
    "\tinit = RandomNormal(mean=0.0, stddev=0.02)\n",
    "\tmodel.add(Dense(256, kernel_initializer=init, input_dim=latent_dim))\n",
    "\tmodel.add(LeakyReLU(alpha=0.2))\n",
    "\tmodel.add(Dense(256, kernel_initializer=init))\n",
    "\tmodel.add(LeakyReLU(alpha=0.2))\n",
    "\tmodel.add(Dense(256, kernel_initializer=init))\n",
    "\tmodel.add(LeakyReLU(alpha=0.2))\n",
    "\tmodel.add(Dense(n_outputs, activation='tanh'))\n",
    "\treturn model\n",
    " \n",
    "# define the combined generator and discriminator model, for updating the generator\n",
    "def define_gan(generator, discriminator):\n",
    "\t# make weights in the discriminator not trainable\n",
    "\t#discriminator.trainable = False\n",
    "\tdiscriminator.trainable = False\n",
    "\t# connect them\n",
    "\tmodel = Sequential()\n",
    "\t# add generator\n",
    "\tmodel.add(generator)\n",
    "\t# add the discriminator\n",
    "\tmodel.add(discriminator)\n",
    "\t# compile model\n",
    "\topt = Adam(lr=0.0002, beta_1=0.5)\n",
    "\tmodel.compile(loss='binary_crossentropy', optimizer=opt)\n",
    "\treturn model\n",
    "\n",
    "\n",
    "\n",
    "# generate points in latent space as input for the generator\n",
    "def generate_latent_points(latent_dim, n):\n",
    "\t# generate points in the latent space\n",
    "\tx_input = randn(latent_dim * n)\n",
    "\t# reshape into a batch of inputs for the network\n",
    "\tx_input = x_input.reshape(n, latent_dim)\n",
    "\n",
    "\t#Dimension Diagnostic\n",
    "\t#x_in_lat.append(x_input)\n",
    "\n",
    "\treturn x_input\n",
    "\n",
    "# randomly flip some labels\n",
    "def noisy_labels(y, p_flip):\n",
    "\t# determine the number of labels to flip\n",
    "\tn_select = int(p_flip * y.shape[0])\n",
    "\t# choose labels to flip\n",
    "\tflip_ix = choice([i for i in range(y.shape[0])], size=n_select)\n",
    "\t# invert the labels in place\n",
    "\ty[flip_ix] = 1 - y[flip_ix]\n",
    "\treturn y\n",
    "\n",
    "\n",
    "def smooth_positive_labels(y):\n",
    "\treturn y - 0.3 + (random(y.shape) * 0.5)\n",
    "\n",
    "#Dimension Diagnostic\n",
    "#real_y = [] \n",
    "# generate n real samples with class labels\n",
    "def generate_real_samples(n):\n",
    "\t# generate class labels\n",
    "\ty = ones((1, n))\n",
    "\n",
    "\ty = smooth_positive_labels(y)\n",
    "\t#Dimension Diagnostic\n",
    "\t#real_y.append(y)\n",
    "\n",
    "\treturn  y\n",
    "\n",
    "# select real samples\n",
    "#def generate_real_samples(dataset, n_samples):\n",
    "\t# choose random instances\n",
    "#\tix = randint(0, df.shape[0], n_samples)\n",
    "\t# select rows\n",
    "#\tX = df[ix:]\n",
    "\t# generate class labels\n",
    "#\ty = ones((1, n))\n",
    "#\ty = smooth_positive_labels(y)\n",
    "#\treturn X, y\n",
    "\n",
    "#Dimension Diagnostic\n",
    "#latent_x_input= []\n",
    "\n",
    "\n",
    "def smooth_negative_labels(y):\n",
    "\treturn y + random(y.shape) * 0.3\n",
    "\n",
    "#Dimension Diagnostic \n",
    "#gen_X_fake =[]\n",
    "#gen_y_fake =[]\n",
    "#gen_x_input=[]\n",
    "\n",
    "# use the generator to generate n fake examples, with class labels\n",
    "def generate_fake_samples(generator, latent_dim, n):\n",
    "\t# generate points in latent space\n",
    "\tx_input = generate_latent_points(latent_dim, n)\n",
    "\n",
    "\t#Dimension Diagnostic\n",
    "\t#x_in_gen.append(x_input)\n",
    "\n",
    "\t# predict outputs\n",
    "\tX = generator.predict(x_input)\n",
    "\t# create class labels\n",
    "\ty = zeros((n, 34))\n",
    "\ty = smooth_negative_labels(y)\n",
    "\n",
    "\t#Dimension Diagnostic\n",
    "\t#y_fake.append(y)\n",
    "\t#X_fake.append(X)\n",
    "\n",
    "\treturn X, y\n",
    "\t\n",
    "\t\n",
    "# evaluate the discriminator and plot real and fake points\n",
    "def summarize_performance(epoch, generator, discriminator, latent_dim, n=34):\n",
    "\t# prepare real samples\n",
    "\tfor row in range(len(df)):\n",
    "\t\tx_real, y_real = df[row:row+1], generate_real_samples(n)\n",
    "\n",
    "\t#x_real, y_real = generate_real_samples(df, 34)\n",
    "\n",
    "\t# evaluate discriminator on real examples\n",
    "\t_, acc_real = discriminator.evaluate(x_real, y_real, verbose=0)\n",
    "\t# prepare fake examples\n",
    "\tx_fake, y_fake = generate_fake_samples(generator, latent_dim, 1)\n",
    "\t# evaluate discriminator on fake examples\n",
    "\t_, acc_fake = discriminator.evaluate(x_fake, y_fake, verbose=0)\n",
    "\t# summarize discriminator performance\n",
    "\tprint(epoch, acc_real, acc_fake)\n",
    "\t# scatter plot real and fake data points\n",
    "\t#pyplot.scatter(x_real[:, 0], x_real[:, 1], color='red')\n",
    "\t#pyplot.scatter(x_fake[:, 0], x_fake[:, 1], color='blue')\n",
    "\t#pyplot.show()\n",
    " \n",
    "#Dimension Diagnostic\n",
    "model_x_fake = []\n",
    "#model_y_fake = []\n",
    "#model_x_real = []\n",
    "#model_y_real = []\n",
    "#model_x_gan=[]\n",
    "#model_y_gan=[]\n",
    "\n",
    "\n",
    "# create a line plot of loss for the gan and save to file\n",
    "def plot_history(d1_hist, d2_hist, g_hist, a1_hist, a2_hist):\n",
    "\t# plot loss\n",
    "\tpyplot.subplot(2, 1, 1)\n",
    "\tpyplot.plot(d1_hist, label='d-real')\n",
    "\tpyplot.plot(d2_hist, label='d-fake')\n",
    "\tpyplot.plot(g_hist, label='gen')\n",
    "\tpyplot.legend()\n",
    "\t# plot discriminator accuracy\n",
    "\tpyplot.subplot(2, 1, 2)\n",
    "\tpyplot.plot(a1_hist, label='acc-real')\n",
    "\tpyplot.plot(a2_hist, label='acc-fake')\n",
    "\tpyplot.legend()\n",
    "\t# save plot to file\n",
    "\tpyplot.savefig('data_augmentation/results_baseline_GAN/plot_line_plot_loss.png')\n",
    "\tpyplot.close()\n",
    "\n",
    "# train the generator and discriminator\n",
    "def train(g_model, d_model, gan_model, latent_dim, n_epochs=100, n_batch=68, n_eval=20):\n",
    "\t\n",
    "# prepare lists for storing stats each iteration\n",
    "\td1_hist, d2_hist, g_hist, a1_hist, a2_hist = list(), list(), list(), list(), list()\n",
    "# manually enumerate epochs\n",
    "\tfor i in range(n_epochs):\n",
    "\t\t# prepare real samples\n",
    "\t\t#for row in range(len(df)):\n",
    "\t\t\t#x_real, y_real = df[row:row+1], generate_real_samples(n)\n",
    "\n",
    "\t\tx_real, y_real = df[i%len(df):i%len(df)+1], generate_real_samples(34)\n",
    "\n",
    "\t\t#x_real, y_real = generate_real_samples(df, 34)\n",
    "\n",
    "\t\t#Dimension Diagnostic\n",
    "\t\t#model_x_real.append(x_real)\n",
    "\t\t#model_y_real.append(y_real)\n",
    "\n",
    "\t\t# prepare fake examples\n",
    "\t\tx_fake, y_fake = generate_fake_samples(g_model, latent_dim, 1)\n",
    "\n",
    "\t\t#Dimension Diagnostic\n",
    "\t\tmodel_x_fake.append(x_fake)\n",
    "\t\t#model_y_fake.append(y_fake)\n",
    "\n",
    "\t\t# update discriminator\n",
    "\t\ty_real= noisy_labels(y_real,.05)\n",
    "\t\ty_fake= noisy_labels(y_fake,.05)\n",
    "\t\td_loss1, d_acc1 = d_model.train_on_batch(x_real, y_real)\n",
    "\t\td_loss2, d_acc2 = d_model.train_on_batch(x_fake, y_fake)\n",
    "\t\t# prepare points in latent space as input for the generator\n",
    "\t\tx_gan = generate_latent_points(latent_dim, 1)\n",
    "\t\t# create inverted labels for the fake samples\n",
    "\t\ty_gan = ones((1, 34))\n",
    "\n",
    "\t\t#Dimension Diagnostic\n",
    "\t\t#model_x_gan.append(x_gan)\n",
    "\t\t#model_y_gan.append(y_gan)\n",
    "\n",
    "\t\t# update the generator via the discriminator's error\n",
    "\t\tg_loss = gan_model.train_on_batch(x_gan, y_gan)\n",
    "\t\t# evaluate the model every n_eval epochs\n",
    "\t\n",
    "\t\t# summarize loss on this batch\n",
    "\t\t#print('>%d, d1=%.3f, d2=%.3f g=%.3f, a1=%d, a2=%d' %\n",
    "\t\t#\t(i+1, d_loss1, d_loss2, g_loss, int(100*d_acc1), int(100*d_acc2)))\n",
    "\t\t# record history\n",
    "\t\td1_hist.append(d_loss1)\n",
    "\t\td2_hist.append(d_loss2)\n",
    "\t\tg_hist.append(g_loss)\n",
    "\t\ta1_hist.append(d_acc1)\n",
    "\t\ta2_hist.append(d_acc2)\n",
    "\t\t# evaluate the model performance every 'epoch'\n",
    "\t\tif (i+1) % n_eval == 0:\n",
    "\t\t\tsummarize_performance(i, g_model, d_model, latent_dim)\n",
    "\n",
    "\tplot_history(d1_hist, d2_hist, g_hist, a1_hist, a2_hist)\n",
    "\n",
    "\n",
    "# make folder for results\n",
    "makedirs('data_augmentation/results_baseline_GAN', exist_ok=True)\n",
    "# size of the latent space\n",
    "latent_dim = 100\n",
    "# create the discriminator/critic\n",
    "discriminator = define_discriminator()\n",
    "# create the generator\n",
    "generator = define_generator(latent_dim)\n",
    "# create the gan\n",
    "gan_model = define_gan(generator, discriminator)\n",
    "# train model\n",
    "train(generator, discriminator, gan_model, latent_dim)"
   ]
  },
  {
   "cell_type": "code",
   "execution_count": 12,
   "metadata": {},
   "outputs": [],
   "source": [
    "#Dimension Checks"
   ]
  },
  {
   "cell_type": "code",
   "execution_count": 13,
   "metadata": {},
   "outputs": [],
   "source": [
    "#len(real_y),real_y[1].shape,real_y[2].shape,real_y[2].shape"
   ]
  },
  {
   "cell_type": "code",
   "execution_count": 14,
   "metadata": {},
   "outputs": [],
   "source": [
    "#len(model_x_real),model_x_real[1].shape,model_x_real[2].shape"
   ]
  },
  {
   "cell_type": "code",
   "execution_count": 15,
   "metadata": {},
   "outputs": [],
   "source": [
    "#len(model_y_real),model_y_real[1].shape,model_y_real[2].shape"
   ]
  },
  {
   "cell_type": "code",
   "execution_count": 16,
   "metadata": {},
   "outputs": [],
   "source": [
    "#len(model_x_fake), model_x_fake{1].shape,model_x_fake[2].shape"
   ]
  },
  {
   "cell_type": "code",
   "execution_count": 17,
   "metadata": {},
   "outputs": [],
   "source": [
    "#len(model_y_fake), model_y_fake[1].shape,model_y_fake[2].shape"
   ]
  },
  {
   "cell_type": "code",
   "execution_count": 18,
   "metadata": {},
   "outputs": [],
   "source": [
    "#len(model_x_gan),model_x_gan[1].shape,model_x_gan2].shape"
   ]
  },
  {
   "cell_type": "code",
   "execution_count": 19,
   "metadata": {},
   "outputs": [],
   "source": [
    "#len(model_y_gan),model_y_gan[1].shape,model_y_gan[2].shape"
   ]
  },
  {
   "cell_type": "code",
   "execution_count": 20,
   "metadata": {},
   "outputs": [],
   "source": [
    "#len(latent_x_input),latent_x_input[1].shape,latent_x_input[2].shape,latent_x_input[3].shape,latent_x_input[4].shape,"
   ]
  },
  {
   "cell_type": "code",
   "execution_count": 21,
   "metadata": {},
   "outputs": [],
   "source": [
    "#len(gen_x_input),gen_x_input[1].shape,gen_x_input[2].shape,gen_x_input[3].shape,"
   ]
  },
  {
   "cell_type": "code",
   "execution_count": 22,
   "metadata": {},
   "outputs": [],
   "source": [
    "#len(gen_X_fake), gen_X_fake[1].shape,gen_X_fake[2].shape,gen_X_fake{3].shape,gen_X_fake[4].shape"
   ]
  },
  {
   "cell_type": "code",
   "execution_count": 23,
   "metadata": {},
   "outputs": [],
   "source": [
    "#len(gen_y_fake), gen_y_fake[1].shape,gen_y_fake[2].shape,gen_y_fake[3].shape,gen_y_fake[4].shape"
   ]
  },
  {
   "cell_type": "code",
   "execution_count": 24,
   "metadata": {},
   "outputs": [
    {
     "output_type": "execute_result",
     "data": {
      "text/plain": " 1.1401767 ,  0.41914943,  0.33475965,\n          0.3956773 ,  1.4072046 ,  0.15542062, -0.14444637,  1.1980617 ,\n         -0.13548659,  1.0773065 ,  1.0758252 ,  1.1199428 ,  1.3549486 ,\n          1.0445805 ,  0.9311398 ,  0.23051076,  0.8820315 ,  0.02953578,\n          0.42297697,  0.58823746,  1.3769318 ,  0.08706284]],\n       dtype=float32),\n array([[ 8.44412029e-01,  6.01556897e-01,  9.26965237e-01,\n          1.64798722e-01,  5.99704266e-01,  6.83218479e-01,\n          4.93104488e-01, -7.75844902e-02,  1.12387753e+00,\n          9.21344638e-01,  7.49527872e-01,  1.05341637e+00,\n          8.91009331e-01,  3.26873183e-01,  2.31756449e-01,\n          2.64909625e-01,  1.10203767e+00,  1.10562697e-01,\n         -1.18613183e-01,  9.36702609e-01, -1.17032476e-01,\n          8.21411729e-01,  8.44585598e-01,  8.92304301e-01,\n          1.07520604e+00,  7.97222495e-01,  7.11183369e-01,\n          1.54663697e-01,  6.89121783e-01,  9.98430420e-04,\n          3.35745722e-01,  4.48312581e-01,  1.07573652e+00,\n          6.77085891e-02]], dtype=float32),\n array([[ 1.3944414 ,  0.952557  ,  1.5176958 ,  0.24728264,  0.9624748 ,\n          1.1051548 ,  0.83591783, -0.11831442,  1.8770472 ,  1.527215  ,\n          1.2158324 ,  1.7039007 ,  1.4427524 ,  0.5093726 ,  0.32447827,\n          0.38655153,  1.8390054 ,  0.1610843 , -0.20203657,  1.5451574 ,\n         -0.2371409 ,  1.3504328 ,  1.3866059 ,  1.4718884 ,  1.7542137 ,\n          1.3079333 ,  1.1677392 ,  0.24665971,  1.1495628 , -0.00812326,\n          0.5315778 ,  0.73358065,  1.7836763 ,  0.14899747]],\n       dtype=float32),\n array([[ 1.0244284 ,  0.67896026,  1.1063263 ,  0.17073734,  0.70750034,\n          0.80315423,  0.61449695, -0.07486422,  1.384684  ,  1.0856491 ,\n          0.86782956,  1.2476228 ,  1.024317  ,  0.36365268,  0.23713708,\n          0.25621247,  1.3528966 ,  0.10112728, -0.13304839,  1.1395835 ,\n         -0.16671388,  0.97515416,  1.0267255 ,  1.0592856 ,  1.2794596 ,\n          0.9493017 ,  0.86093223,  0.16374598,  0.8604637 , -0.00923674,\n          0.38921916,  0.5581853 ,  1.2869526 ,  0.11116829]],\n       dtype=float32),\n array([[ 1.0230905 ,  0.6948744 ,  1.1244055 ,  0.16026439,  0.7343257 ,\n          0.83969367,  0.6637197 , -0.0691641 ,  1.4461268 ,  1.1367229 ,\n          0.9056073 ,  1.3182712 ,  1.0800899 ,  0.3747143 ,  0.21191818,\n          0.25737563,  1.4257612 ,  0.10885283, -0.1322221 ,  1.202664  ,\n         -0.19693574,  1.0016161 ,  1.0923063 ,  1.1507038 ,  1.3326161 ,\n          1.0212805 ,  0.87530315,  0.14320992,  0.89527786, -0.02087124,\n          0.42741004,  0.6117098 ,  1.3485278 ,  0.12767024]],\n       dtype=float32),\n array([[ 1.3753666 ,  0.86233807,  1.3962406 ,  0.18193424,  0.9138551 ,\n          1.044291  ,  0.83198154, -0.04974375,  1.920479  ,  1.4428504 ,\n          1.1331842 ,  1.6511674 ,  1.3733473 ,  0.46979758,  0.25490767,\n          0.2892958 ,  1.8315431 ,  0.12649801, -0.15510485,  1.5308082 ,\n         -0.29820594,  1.2570171 ,  1.3922412 ,  1.4901698 ,  1.6690085 ,\n          1.2990661 ,  1.1054186 ,  0.17299472,  1.1319916 , -0.07137659,\n          0.50333023,  0.7638297 ,  1.7389903 ,  0.19554248]],\n       dtype=float32),\n array([[ 1.1336716 ,  0.7063083 ,  1.1726953 ,  0.10849915,  0.7515359 ,\n          0.86896694,  0.7096501 , -0.03497944,  1.651177  ,  1.2281281 ,\n          0.9797512 ,  1.3522489 ,  1.1888129 ,  0.35845882,  0.17382729,\n          0.23363723,  1.54779   ,  0.10938352, -0.10572205,  1.2957996 ,\n         -0.26882172,  1.0545695 ,  1.1954604 ,  1.2835085 ,  1.3901031 ,\n          1.1066251 ,  0.90214163,  0.13228738,  0.97756296, -0.04935139,\n          0.43462384,  0.6263813 ,  1.4566323 ,  0.13865586]],\n       dtype=float32),\n array([[ 1.057408  ,  0.6159995 ,  1.0612099 ,  0.10219482,  0.6868179 ,\n          0.77158505,  0.6461245 , -0.01907332,  1.542405  ,  1.1198423 ,\n          0.8825854 ,  1.2333899 ,  1.0673652 ,  0.3431032 ,  0.15647092,\n          0.16007978,  1.4343132 ,  0.08805988, -0.10810272,  1.1950722 ,\n         -0.2740904 ,  0.93351847,  1.1134379 ,  1.1813772 ,  1.2968403 ,\n          0.9997242 ,  0.8437121 ,  0.11373227,  0.8934512 , -0.06449329,\n          0.3969312 ,  0.60165006,  1.332268  ,  0.15818307]],\n       dtype=float32),\n array([[ 0.97927   ,  0.54233956,  0.92107034,  0.05624837,  0.5978137 ,\n          0.6887888 ,  0.5959077 ,  0.00761531,  1.399     ,  0.99974054,\n          0.75886846,  1.1106766 ,  0.97131133,  0.27560607,  0.1140907 ,\n          0.1352115 ,  1.3126255 ,  0.06468271, -0.06588496,  1.0946224 ,\n         -0.27685708,  0.82986987,  1.0244167 ,  1.0927157 ,  1.1738843 ,\n          0.9262026 ,  0.72011995,  0.08749459,  0.8223641 , -0.06833733,\n          0.3671356 ,  0.5061657 ,  1.2221515 ,  0.15583824]],\n       dtype=float32),\n array([[ 1.0746474 ,  0.5642769 ,  1.004856  ,  0.04154613,  0.6794246 ,\n          0.7631801 ,  0.67818815,  0.0126289 ,  1.591336  ,  1.1213803 ,\n          0.8780441 ,  1.1979587 ,  1.0824653 ,  0.27124622,  0.08167093,\n          0.05666746,  1.4836029 ,  0.04834244, -0.06011313,  1.2143869 ,\n         -0.3093612 ,  0.9248624 ,  1.127677  ,  1.212474  ,  1.2962097 ,\n          1.0036644 ,  0.80481446,  0.06911281,  0.87319773, -0.08839046,\n          0.39030665,  0.57300216,  1.3628327 ,  0.16169351]],\n       dtype=float32),\n array([[ 0.80896276,  0.40741035,  0.7611888 ,  0.00953275,  0.5071278 ,\n          0.562698  ,  0.52606505,  0.03909473,  1.2231272 ,  0.85586905,\n          0.62651217,  0.8936428 ,  0.81835425,  0.22676502,  0.0622791 ,\n          0.01560566,  1.1216959 ,  0.01464798, -0.0320809 ,  0.9353468 ,\n         -0.2368124 ,  0.6591247 ,  0.87460464,  0.93774843,  0.9814982 ,\n          0.7614888 ,  0.6115049 ,  0.04097533,  0.69720757, -0.08238703,\n          0.32307455,  0.4467566 ,  1.0555913 ,  0.13936622]],\n       dtype=float32),\n array([[ 1.1526234 ,  0.5327792 ,  0.99785984,  0.0235776 ,  0.6649141 ,\n          0.73107976,  0.7332503 ,  0.06517943,  1.6877166 ,  1.1344454 ,\n          0.8821993 ,  1.2219967 ,  1.1024488 ,  0.24146578,  0.06387959,\n          0.00256931,  1.6001441 , -0.00488413, -0.04112862,  1.3052669 ,\n         -0.36031747,  0.9265034 ,  1.1918191 ,  1.2843579 ,  1.3183328 ,\n          1.0534056 ,  0.8020882 ,  0.03315792,  0.91753685, -0.12336356,\n          0.40655437,  0.5876992 ,  1.4160836 ,  0.18161844]],\n       dtype=float32),\n array([[ 7.2584456e-01,  3.3306110e-01,  6.1732227e-01, -1.6737463e-02,\n          3.9858428e-01,  4.6523914e-01,  4.6573657e-01,  3.2941509e-02,\n          1.0746195e+00,  7.1740115e-01,  5.6635255e-01,  7.5730199e-01,\n          7.0780498e-01,  1.4821720e-01,  5.7297973e-03, -3.4527818e-04,\n          9.9310017e-01,  4.8494935e-03,  2.2794958e-02,  8.2025582e-01,\n         -2.2257324e-01,  5.5019349e-01,  7.6556242e-01,  8.0875796e-01,\n          8.3765757e-01,  6.4971656e-01,  5.0471991e-01,  7.2702267e-03,\n          5.7502484e-01, -6.7759536e-02,  2.9149508e-01,  3.7071502e-01,\n          8.9971274e-01,  1.0977581e-01]], dtype=float32),\n array([[ 0.86758053,  0.37259188,  0.69211686, -0.0211682 ,  0.47080716,\n          0.51165617,  0.54965544,  0.0619847 ,  1.2982192 ,  0.827869  ,\n          0.6549405 ,  0.8865495 ,  0.8200801 ,  0.16631383, -0.00525877,\n         -0.0568153 ,  1.1986352 , -0.00572925,  0.00922624,  0.9857115 ,\n         -0.32040757,  0.65898657,  0.9335764 ,  0.9867561 ,  0.99414086,\n          0.77272946,  0.5716635 ,  0.01310379,  0.71454287, -0.09977783,\n          0.32977504,  0.4320218 ,  1.0745401 ,  0.12764138]],\n       dtype=float32),\n array([[ 0.47444713,  0.18695329,  0.39138108, -0.03153343,  0.26340687,\n          0.26594758,  0.31875908,  0.05433722,  0.7464337 ,  0.45601243,\n          0.36311278,  0.48495135,  0.45774597,  0.07280894, -0.00670648,\n         -0.06648976,  0.668355  , -0.00804027,  0.04640425,  0.5632391 ,\n         -0.17894939,  0.3404719 ,  0.5224944 ,  0.55734235,  0.5476047 ,\n          0.44365966,  0.31660664, -0.00106758,  0.40191323, -0.06436361,\n          0.19714858,  0.2526005 ,  0.5866224 ,  0.08057619]],\n       dtype=float32),\n array([[ 0.8675146 ,  0.30142796,  0.6570211 , -0.08183809,  0.4801136 ,\n          0.46030897,  0.6173965 ,  0.11542624,  1.4221171 ,  0.8255639 ,\n          0.6272652 ,  0.8675246 ,  0.8516808 ,  0.10868791, -0.08367489,\n         -0.14494358,  1.2475556 , -0.00912402,  0.10614336,  1.0515403 ,\n         -0.34160733,  0.62236637,  0.9849377 ,  1.0820247 ,  0.983743  ,\n          0.80529594,  0.55140716, -0.04426696,  0.7491909 , -0.14753255,\n          0.35395443,  0.45090035,  1.0956923 ,  0.17675498]],\n       dtype=float32),\n array([[ 0.7942706 ,  0.25481424,  0.5548255 , -0.11503109,  0.41267765,\n          0.38195172,  0.566523  ,  0.13203748,  1.3254316 ,  0.726188  ,\n          0.5768726 ,  0.7355564 ,  0.76171285,  0.04596748, -0.12338773,\n         -0.18089412,  1.1391772 , -0.0036611 ,  0.15677534,  0.9583631 ,\n         -0.3184165 ,  0.55872405,  0.9159619 ,  1.0225639 ,  0.8896656 ,\n          0.73893833,  0.46439308, -0.0640176 ,  0.7227726 , -0.13663001,\n          0.31773397,  0.3947974 ,  0.9963385 ,  0.20431757]],\n       dtype=float32),\n array([[ 0.5055766 ,  0.12953804,  0.30551592, -0.07503581,  0.2451584 ,\n          0.21590418,  0.36010927,  0.08738659,  0.85989445,  0.42351946,\n          0.3368246 ,  0.4739134 ,  0.4711122 ,  0.01793913, -0.10263005,\n         -0.16847508,  0.7150195 , -0.01586637,  0.11811557,  0.6173311 ,\n         -0.21139687,  0.31808144,  0.56374454,  0.66086316,  0.54999924,\n          0.4493314 ,  0.27944568, -0.05099011,  0.44712472, -0.10904983,\n          0.19385123,  0.2511126 ,  0.62934893,  0.15590568]],\n       dtype=float32),\n array([[ 0.8052845 ,  0.14005437,  0.44160563, -0.17497094,  0.37593287,\n          0.29862934,  0.60057414,  0.17795752,  1.3975846 ,  0.6954606 ,\n          0.5387482 ,  0.6928857 ,  0.7573286 , -0.07334504, -0.22418305,\n         -0.35037345,  1.1961396 , -0.02944915,  0.23951142,  1.0006938 ,\n         -0.4214237 ,  0.4723028 ,  0.96634394,  1.1273538 ,  0.84475535,\n          0.72649485,  0.40925574, -0.13921349,  0.71676004, -0.20926635,\n          0.35235542,  0.39572892,  1.0120482 ,  0.2599162 ]],\n       dtype=float32),\n array([[ 1.082451  ,  0.11144816,  0.5436372 , -0.27356184,  0.51223654,\n          0.36905405,  0.8616048 ,  0.2707816 ,  1.9848545 ,  0.95020527,\n          0.72305983,  0.8741634 ,  1.0357074 , -0.19475225, -0.401908  ,\n         -0.60004103,  1.7027119 , -0.0566624 ,  0.37427813,  1.4248898 ,\n         -0.5894807 ,  0.6223414 ,  1.3231384 ,  1.605906  ,  1.1352335 ,\n          0.9483451 ,  0.54759735, -0.26590016,  1.0369899 , -0.33125085,\n          0.46367288,  0.50131726,  1.3914409 ,  0.4308503 ]],\n       dtype=float32),\n array([[ 0.62595654, -0.00245045,  0.23399349, -0.17066294,  0.25259277,\n          0.16195907,  0.5346126 ,  0.16092953,  1.2164642 ,  0.50929415,\n          0.3860867 ,  0.45880875,  0.59111416, -0.18925576, -0.30842644,\n         -0.4500602 ,  0.9828006 , -0.03384644,  0.26447716,  0.827101  ,\n         -0.3851467 ,  0.30558136,  0.740511  ,  0.9582176 ,  0.6214095 ,\n          0.50776917,  0.28255802, -0.18258896,  0.6042557 , -0.21301413,\n          0.26799276,  0.25479952,  0.8003859 ,  0.27647746]],\n       dtype=float32),\n array([[ 0.6695828 , -0.04489207,  0.163303  , -0.21683893,  0.2752055 ,\n          0.1301284 ,  0.61760366,  0.1881478 ,  1.3439819 ,  0.5207723 ,\n          0.39308122,  0.43515587,  0.606351  , -0.27366355, -0.36839965,\n         -0.56774044,  1.1026144 , -0.04409557,  0.31984037,  0.8797199 ,\n         -0.467389  ,  0.31967625,  0.8197807 ,  1.0721028 ,  0.6310602 ,\n          0.5457849 ,  0.27249962, -0.21851306,  0.68168205, -0.2645201 ,\n          0.25987473,  0.27975056,  0.86168146,  0.33723053]],\n       dtype=float32),\n array([[ 0.5976991 , -0.05563058,  0.13508976, -0.1930573 ,  0.21027265,\n          0.09163305,  0.55606276,  0.20794065,  1.203994  ,  0.45268598,\n          0.35509285,  0.3806577 ,  0.5265051 , -0.25038755, -0.3364396 ,\n         -0.53215116,  0.98647296, -0.00776839,  0.30724818,  0.80302036,\n         -0.40692368,  0.25888103,  0.7418281 ,  0.9849883 ,  0.5505281 ,\n          0.50405025,  0.22724144, -0.20523909,  0.59463525, -0.24800609,\n          0.2676029 ,  0.25638917,  0.749664  ,  0.33177972]],\n       dtype=float32),\n array([[ 5.0585932e-01, -1.0004662e-01,  5.9757043e-02, -2.0368932e-01,\n          1.6359375e-01,  7.2745055e-02,  5.2097756e-01,  1.8820350e-01,\n          1.1083802e+00,  3.7439176e-01,  2.9159909e-01,  3.0196097e-01,\n          4.4998038e-01, -2.7722704e-01, -3.2624492e-01, -5.3729022e-01,\n          8.6639369e-01, -4.9278047e-04,  2.9795390e-01,  7.2762680e-01,\n         -3.7877601e-01,  1.8520764e-01,  6.5986097e-01,  8.9462548e-01,\n          4.8232353e-01,  4.3353280e-01,  1.8644807e-01, -2.1994564e-01,\n          5.5628216e-01, -2.3978269e-01,  2.4360397e-01,  2.1901849e-01,\n          6.3152653e-01,  3.2329419e-01]], dtype=float32),\n array([[ 0.53896993, -0.14824979, -0.0097107 , -0.22339605,  0.1587388 ,\n          0.01598486,  0.5882694 ,  0.2413685 ,  1.2490104 ,  0.39961612,\n          0.2626459 ,  0.29234946,  0.46209955, -0.35193104, -0.39943925,\n         -0.6711937 ,  0.98287916, -0.01372084,  0.32774338,  0.7745732 ,\n         -0.4389845 ,  0.19962157,  0.7024539 ,  0.9940898 ,  0.50416034,\n          0.4263143 ,  0.15201728, -0.274852  ,  0.6183838 , -0.28189412,\n          0.26465002,  0.19965394,  0.70360184,  0.37233177]],\n       dtype=float32),\n array([[ 3.50034624e-01, -1.27685919e-01, -4.61542420e-02,\n         -1.36526242e-01,  1.00355797e-01, -1.27381878e-02,\n          4.15680170e-01,  1.83199197e-01,  8.60774934e-01,\n          2.52694786e-01,  1.80298150e-01,  1.84834480e-01,\n          2.99669296e-01, -2.60705531e-01, -2.81064779e-01,\n         -5.10301709e-01,  6.61166787e-01, -4.84967604e-04,\n          2.28079170e-01,  5.31202614e-01, -3.09532464e-01,\n          1.13741994e-01,  4.75917667e-01,  6.81756020e-01,\n          3.40636313e-01,  2.91489393e-01,  9.70384032e-02,\n         -2.04150796e-01,  4.17895347e-01, -2.27717429e-01,\n          1.93242684e-01,  1.20618917e-01,  4.54567641e-01,\n          2.64684975e-01]], dtype=float32),\n array([[ 0.4278366 , -0.15710647, -0.06162696, -0.1779629 ,  0.10294835,\n         -0.02245358,  0.524635  ,  0.21582259,  1.1060259 ,  0.3265254 ,\n          0.19512516,  0.20119368,  0.3605201 , -0.3164011 , -0.3547026 ,\n         -0.5879457 ,  0.8013824 ,  0.036708  ,  0.31074962,  0.63320637,\n         -0.34408098,  0.1308965 ,  0.58726597,  0.8633678 ,  0.38440698,\n          0.34086496,  0.11134852, -0.25710338,  0.5380273 , -0.26830024,\n          0.24873675,  0.1573556 ,  0.557512  ,  0.33791056]],\n       dtype=float32),\n array([[ 0.32724753, -0.20244868, -0.1653069 , -0.15257628,  0.05964193,\n         -0.07436174,  0.4755688 ,  0.21190293,  0.9865054 ,  0.2396283 ,\n          0.14142975,  0.12568113,  0.28979108, -0.32746214, -0.34854394,\n         -0.6290913 ,  0.7248319 ,  0.01453218,  0.2655361 ,  0.5451907 ,\n         -0.35011044,  0.09259156,  0.49244726,  0.7577555 ,  0.30653945,\n          0.26819432,  0.08094212, -0.24849418,  0.48931962, -0.26372832,\n          0.216376  ,  0.09083819,  0.4672857 ,  0.29913646]],\n       dtype=float32),\n array([[ 0.38185096, -0.25954422, -0.24392195, -0.1527582 ,  0.03876997,\n         -0.12071847,  0.54930866,  0.27344993,  1.1499476 ,  0.24392232,\n          0.14559811,  0.12909621,  0.29005337, -0.40433836, -0.43162557,\n         -0.7535827 ,  0.7829792 ,  0.01946874,  0.33391577,  0.61287874,\n         -0.41335192,  0.04014917,  0.53474414,  0.87177634,  0.3286312 ,\n          0.28905508,  0.05608839, -0.2675303 ,  0.5815252 , -0.28541708,\n          0.23775117,  0.09821033,  0.5197019 ,  0.3489454 ]],\n       dtype=float32),\n array([[ 0.28469962, -0.21011913, -0.19425517, -0.09873406,  0.01493013,\n         -0.12406801,  0.41660002,  0.20077951,  0.85212326,  0.15968189,\n          0.08128274,  0.09887387,  0.19320416, -0.29479557, -0.30532885,\n         -0.55761254,  0.5859552 ,  0.05212375,  0.24579166,  0.42407092,\n         -0.27937162,  0.03456749,  0.39603722,  0.61307085,  0.24441123,\n          0.20332898,  0.03720088, -0.20518145,  0.41432908, -0.24759696,\n          0.198349  ,  0.04819936,  0.35837656,  0.26876855]],\n       dtype=float32),\n array([[ 0.34872872, -0.25272304, -0.28869653, -0.14907284, -0.02145869,\n         -0.17040332,  0.5506376 ,  0.26951772,  1.1012181 ,  0.19601752,\n          0.10098553,  0.13084863,  0.21987413, -0.40030053, -0.39557466,\n         -0.7233232 ,  0.7460475 ,  0.0584851 ,  0.32664943,  0.528777  ,\n         -0.35631323,  0.04049434,  0.49734887,  0.82888556,  0.28423798,\n          0.28062466,  0.01579744, -0.27607897,  0.543211  , -0.30181062,\n          0.24806535,  0.08892   ,  0.43798047,  0.32108396]],\n       dtype=float32),\n array([[ 0.28598595, -0.30801722, -0.32883674, -0.10177147, -0.02824183,\n         -0.19677278,  0.51532227,  0.26276594,  1.0070467 ,  0.18913373,\n          0.04926744,  0.06987638,  0.18330757, -0.3695114 , -0.39139083,\n         -0.7215409 ,  0.67679656,  0.06560634,  0.30454037,  0.46447802,\n         -0.32817915,  0.00851359,  0.4091267 ,  0.75001645,  0.21567452,\n          0.2111588 ,  0.00516144, -0.25692487,  0.47596678, -0.28232548,\n          0.21873197,  0.01886373,  0.3777509 ,  0.284348  ]],\n       dtype=float32),\n array([[ 0.33291033, -0.34557518, -0.39312932, -0.09588617, -0.05943732,\n         -0.25711083,  0.5744251 ,  0.29712677,  1.1941015 ,  0.2045892 ,\n          0.04010032,  0.0403125 ,  0.17881453, -0.42305636, -0.44295162,\n         -0.82492644,  0.7248724 ,  0.09440417,  0.35924274,  0.5113455 ,\n         -0.33257744, -0.01787789,  0.42632118,  0.83016783,  0.24296474,\n          0.21109888,  0.01032807, -0.25952852,  0.56545174, -0.33347425,\n          0.22210173,  0.0433467 ,  0.40707517,  0.34260273]],\n       dtype=float32),\n array([[ 0.25931275, -0.29082683, -0.37410155, -0.06584013, -0.06657574,\n         -0.225544  ,  0.49820226,  0.26007682,  1.0164845 ,  0.148047  ,\n         -0.0039529 ,  0.05708994,  0.11921986, -0.34451717, -0.37276873,\n         -0.6969097 ,  0.6054537 ,  0.09247506,  0.32435971,  0.4325729 ,\n         -0.25643912, -0.01792637,  0.35784417,  0.7082278 ,  0.19399916,\n          0.1675634 ,  0.00216123, -0.23722577,  0.51189953, -0.26365483,\n          0.20075536,  0.01251144,  0.3553249 ,  0.28111932]],\n       dtype=float32),\n array([[ 0.1418846 , -0.29547468, -0.4049748 , -0.06217074, -0.12115775,\n         -0.22792125,  0.43197486,  0.21608607,  0.8645679 ,  0.09620357,\n         -0.0300515 , -0.00610045,  0.0786868 , -0.33866724, -0.36116746,\n         -0.6591356 ,  0.51091707,  0.08750375,  0.27918354,  0.34527957,\n         -0.22219072, -0.04942137,  0.26082262,  0.61291057,  0.1445894 ,\n          0.1075094 , -0.01389011, -0.20468935,  0.45674092, -0.21031392,\n          0.17119469, -0.03899891,  0.2702605 ,  0.20666233]],\n       dtype=float32),\n array([[ 0.16851367, -0.355663  , -0.48179364, -0.04686908, -0.15672201,\n         -0.29450765,  0.43707094,  0.23580366,  0.9243328 ,  0.07355942,\n         -0.06522874, -0.01277143,  0.0570907 , -0.35556063, -0.3659348 ,\n         -0.7498271 ,  0.55760247,  0.09787703,  0.3031278 ,  0.3565669 ,\n         -0.21286671, -0.07145876,  0.25489947,  0.6400356 ,  0.13794991,\n          0.09039531, -0.02756684, -0.21132995,  0.4842294 , -0.24551457,\n          0.19478366, -0.06087201,  0.26055056,  0.22765778]],\n       dtype=float32),\n array([[ 0.18445896, -0.46201146, -0.61283875, -0.01181034, -0.20599133,\n         -0.37399918,  0.55087966,  0.3059995 ,  1.166703  ,  0.07989626,\n         -0.10896927, -0.0092563 ,  0.03252045, -0.41693327, -0.47050777,\n         -0.9074629 ,  0.6417598 ,  0.1383168 ,  0.37138125,  0.43755317,\n         -0.23187833, -0.11703066,  0.2832538 ,  0.7968657 ,  0.16278715,\n          0.09337948, -0.0191164 , -0.23460574,  0.59899765, -0.3031294 ,\n          0.22562058, -0.08746701,  0.30453005,  0.27985796]],\n       dtype=float32)]"
     },
     "metadata": {},
     "execution_count": 24
    }
   ],
   "source": [
    "model_x_fake\n"
   ]
  }
 ]
}