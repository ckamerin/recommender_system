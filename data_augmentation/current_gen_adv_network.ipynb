{
 "metadata": {
  "language_info": {
   "codemirror_mode": {
    "name": "ipython",
    "version": 3
   },
   "file_extension": ".py",
   "mimetype": "text/x-python",
   "name": "python",
   "nbconvert_exporter": "python",
   "pygments_lexer": "ipython3",
   "version": "3.8.5-final"
  },
  "orig_nbformat": 2,
  "kernelspec": {
   "name": "python_defaultSpec_1599699350559",
   "display_name": "Python 3.8.5 64-bit ('rec_sys': conda)"
  }
 },
 "nbformat": 4,
 "nbformat_minor": 2,
 "cells": [
  {
   "cell_type": "code",
   "execution_count": 1,
   "metadata": {
    "tags": []
   },
   "outputs": [
    {
     "output_type": "stream",
     "name": "stdout",
     "text": "WARNING:tensorflow:From /opt/anaconda3/envs/rec_sys/lib/python3.8/site-packages/tensorflow_gan/python/estimator/tpu_gan_estimator.py:42: The name tf.estimator.tpu.TPUEstimator is deprecated. Please use tf.compat.v1.estimator.tpu.TPUEstimator instead.\n\n"
    }
   ],
   "source": [
    "import tensorflow as tf\n",
    "import tensorflow_gan as tfgan\n",
    "import numpy as np\n",
    "from numpy import zeros\n",
    "from numpy import ones\n",
    "from numpy import hstack\n",
    "from numpy.random import rand\n",
    "from numpy.random import randn\n",
    "import pandas as pd\n",
    "import glob\n",
    "import os\n",
    "import PIL\n",
    "from tensorflow.keras import layers\n",
    "from keras.models import Sequential\n",
    "from keras.layers import Dense\n",
    "from keras.layers import LeakyReLU\n",
    "from keras.utils.vis_utils import plot_model\n",
    "import seaborn as sb\n",
    "from matplotlib import pyplot\n",
    "import matplotlib.pyplot as plt\n",
    "import matplotlib.gridspec as gridspec\n",
    "import pydot\n",
    "sb.set()"
   ]
  },
  {
   "cell_type": "code",
   "execution_count": 2,
   "metadata": {},
   "outputs": [],
   "source": [
    "import os \n",
    "import earthpy as et "
   ]
  },
  {
   "cell_type": "code",
   "execution_count": 3,
   "metadata": {},
   "outputs": [],
   "source": [
    "## Code needed to set a new working directory\n",
    "\n",
    "#my_path = os.path.join(et.io.HOME, 'recommender_system')\n",
    "#os.mkdir(my_path)\n",
    "\n",
    "## Set Working Directory\n",
    "os.chdir(os.path.join(et.io.HOME, 'recommender_system'))"
   ]
  },
  {
   "cell_type": "code",
   "execution_count": 4,
   "metadata": {},
   "outputs": [
    {
     "output_type": "execute_result",
     "data": {
      "text/plain": "'/Users/chriskamerin/recommender_system'"
     },
     "metadata": {},
     "execution_count": 4
    }
   ],
   "source": [
    "# Check if it worked\n",
    "os.getcwd()"
   ]
  },
  {
   "cell_type": "code",
   "execution_count": 5,
   "metadata": {},
   "outputs": [],
   "source": [
    "df =pd.read_csv('data_in_use/headphones2hp.csv')"
   ]
  },
  {
   "cell_type": "code",
   "execution_count": 6,
   "metadata": {},
   "outputs": [],
   "source": [
    "df = df.sample(frac=1).reset_index(drop=True)"
   ]
  },
  {
   "cell_type": "code",
   "execution_count": 7,
   "metadata": {},
   "outputs": [],
   "source": [
    "df['user_id']  = pd.Categorical(df.user_id).codes\n",
    "df['headphone_name']  = pd.Categorical(df.headphone_name).codes"
   ]
  },
  {
   "cell_type": "code",
   "execution_count": 8,
   "metadata": {},
   "outputs": [],
   "source": [
    "#Set columns we want to normalize\n",
    "\n",
    "cols_to_norm = ['sound_quality_importance', 'positional_importance', 'loud_importance',\n",
    "       'mic_importance', 'wireless_importance','noise_canceling_importance', 'in_ear_importance',\n",
    "       'on_ear_importance', 'over_ear_importance', 'no_pref_oninover', 'recording_quality', 'noise_handling','user_rating',\n",
    "       'Impedance', 'sensitivity(dbv)', 'accuracy',\n",
    "       'weighted_harmonic_distortion', 'soundstage', 'imaging',\n",
    "       'noise_isolation', 'wireless']\n",
    "imp_col = ['sound_quality_importance', 'positional_importance', 'loud_importance',\n",
    "       'mic_importance', 'wireless_importance', \n",
    "#       'price_sensitivity'\n",
    "]\n",
    "#price_col = ['max_price','price']\n",
    "hp_feat_col = ['recording_quality', 'noise_handling', 'accuracy',\n",
    "       'weighted_harmonic_distortion', 'soundstage', 'imaging',\n",
    "       'noise_isolation', 'wireless']\n",
    "remaining_col = ['Impedance', 'sensitivity(dbv)']\n",
    "\n"
   ]
  },
  {
   "cell_type": "code",
   "execution_count": 9,
   "metadata": {},
   "outputs": [],
   "source": [
    "df =df[['game_use', 'rec_use', 'studio_use', 'exercise_use',\n",
    "       'office_use', 'podcast_use', 'travel_use', 'other_use',\n",
    "       'sound_quality_importance', 'positional_importance', 'loud_importance',\n",
    "       'mic_importance', 'wireless_importance', 'in_ear_importance',\n",
    "       'on_ear_importance', 'over_ear_importance', 'no_pref_oninover','attached_mic', 'recording_quality',\n",
    "       'noise_handling', 'Impedance', 'sensitivity(dbv)', 'accuracy',\n",
    "      'weighted_harmonic_distortion', 'soundstage', 'imaging',\n",
    "      'noise_isolation', 'wireless', 'over_ear_style', 'on_ear_style',\n",
    "      'in_ear_style', 'open_back', 'close_back', 'semiclosed_back']]\n",
    "#ydf =df[[ 'attached_mic', 'recording_quality',\n",
    "#       'noise_handling', 'Impedance', 'sensitivity(dbv)', 'accuracy',\n",
    "#      'weighted_harmonic_distortion', 'soundstage', 'imaging',\n",
    "#      'noise_isolation', 'wireless', 'over_ear_style', 'on_ear_style',\n",
    "#       'in_ear_style', 'open_back', 'close_back', 'semiclosed_back']]\n",
    "#xtest=df1[['game_use', 'rec_use', 'studio_use', 'exercise_use',\n",
    "#       'office_use', 'podcast_use', 'travel_use', 'other_use',\n",
    "#       'sound_quality_importance', 'positional_importance', 'loud_importance',\n",
    "#       'mic_importance', 'wireless_importance', 'in_ear_importance',\n",
    "#       'on_ear_importance', 'over_ear_importance', 'no_pref_oninover']][12:]\n",
    "#ytest=df1[[ 'attached_mic', 'recording_quality',\n",
    "#       'noise_handling', 'Impedance', 'sensitivity(dbv)', 'accuracy',\n",
    "#       'weighted_harmonic_distortion', 'soundstage', 'imaging',\n",
    "#       'noise_isolation', 'wireless', 'over_ear_style', 'on_ear_style',\n",
    "#       'in_ear_style', 'open_back', 'close_back', 'semiclosed_back']][12:]"
   ]
  },
  {
   "cell_type": "code",
   "execution_count": 10,
   "metadata": {},
   "outputs": [],
   "source": [
    "#normalize columns in df\n",
    "\n",
    "df=df.fillna(0)\n",
    "df[imp_col] = df[imp_col].apply(lambda x: (x - 0) / (10 - 0))\n",
    "#df[price_col] = df[price_col].apply(lambda x: (x - x.min()) / (x.max() - x.min()))\n",
    "df[hp_feat_col] = df[hp_feat_col].apply(lambda x: (x - x.min()) / (x.max() - x.min()))   \n",
    "df[remaining_col] = df[remaining_col].apply(lambda x: (x - x.min()) / (x.max() - x.min()))       \n",
    "#df[cols_to_norm] = df[cols_to_norm].apply(lambda x: (x - x.min()) / (x.max() - x.min()))"
   ]
  },
  {
   "cell_type": "code",
   "execution_count": 13,
   "metadata": {
    "tags": []
   },
   "outputs": [
    {
     "output_type": "stream",
     "name": "stdout",
     "text": "WARNING:tensorflow:5 out of the last 5 calls to <function Model.make_train_function.<locals>.train_function at 0x7fd9139d9820> triggered tf.function retracing. Tracing is expensive and the excessive number of tracings could be due to (1) creating @tf.function repeatedly in a loop, (2) passing tensors with different shapes, (3) passing Python objects instead of tensors. For (1), please define your @tf.function outside of the loop. For (2), @tf.function has experimental_relax_shapes=True option that relaxes argument shapes that can avoid unnecessary retracing. For (3), please refer to https://www.tensorflow.org/tutorials/customization/performance#python_or_tensor_args and https://www.tensorflow.org/api_docs/python/tf/function for  more details.\nWARNING:tensorflow:6 out of the last 6 calls to <function Model.make_train_function.<locals>.train_function at 0x7fd9139d95e0> triggered tf.function retracing. Tracing is expensive and the excessive number of tracings could be due to (1) creating @tf.function repeatedly in a loop, (2) passing tensors with different shapes, (3) passing Python objects instead of tensors. For (1), please define your @tf.function outside of the loop. For (2), @tf.function has experimental_relax_shapes=True option that relaxes argument shapes that can avoid unnecessary retracing. For (3), please refer to https://www.tensorflow.org/tutorials/customization/performance#python_or_tensor_args and https://www.tensorflow.org/api_docs/python/tf/function for  more details.\n"
    }
   ],
   "source": [
    "# define the standalone discriminator model\n",
    "def define_discriminator(n_inputs=34):\n",
    "\tmodel = Sequential()\n",
    "\tmodel.add(Dense(256, kernel_initializer='he_uniform', input_dim=n_inputs))\n",
    "\tmodel.add(LeakyReLU(alpha=0.1))\n",
    "\tmodel.add(Dense(256, kernel_initializer='he_uniform'))\n",
    "\tmodel.add(LeakyReLU(alpha=0.1))\n",
    "\tmodel.add(Dense(34, activation='sigmoid'))\n",
    "\t# compile model\n",
    "\tmodel.compile(loss='binary_crossentropy', optimizer='adam', metrics=['accuracy'])\n",
    "\treturn model\n",
    " \n",
    "# define the standalone generator model\n",
    "def define_generator(latent_dim, n_outputs=34):\n",
    "\tmodel = Sequential()\n",
    "\tmodel.add(Dense(256, kernel_initializer='he_uniform', input_dim=latent_dim))\n",
    "\tmodel.add(LeakyReLU(alpha=0.1))\n",
    "\tmodel.add(Dense(256, kernel_initializer='he_uniform'))\n",
    "\tmodel.add(LeakyReLU(alpha=0.1))\n",
    "\tmodel.add(Dense(n_outputs, activation='linear'))\n",
    "\treturn model\n",
    " \n",
    "# define the combined generator and discriminator model, for updating the generator\n",
    "def define_gan(generator, discriminator):\n",
    "\t# make weights in the discriminator not trainable\n",
    "\tdiscriminator.trainable = False\n",
    "\t# connect them\n",
    "\tmodel = Sequential()\n",
    "\t# add generator\n",
    "\tmodel.add(generator)\n",
    "\t# add the discriminator\n",
    "\tmodel.add(discriminator)\n",
    "\t# compile model\n",
    "\tmodel.compile(loss='binary_crossentropy', optimizer='adam')\n",
    "\treturn model\n",
    " \n",
    "# generate n real samples with class labels\n",
    "def generate_real_samples(n):\n",
    "\t# generate inputs in [-0.5, 0.5]\n",
    "\tX1 = rand(n) - 0.5\n",
    "\t# generate outputs X^2\n",
    "\tX2 = X1 * X1\n",
    "\t# stack arrays\n",
    "\tX1 = X1.reshape(n, 1)\n",
    "\tX2 = X2.reshape(n, 1)\n",
    "\tX = hstack((X1, X2))\n",
    "\t# generate class labels\n",
    "\ty = ones((1, n))\n",
    "\treturn  y\n",
    "#   return X, y\n",
    "\n",
    "# generate points in latent space as input for the generator\n",
    "def generate_latent_points(latent_dim, n):\n",
    "\t# generate points in the latent space\n",
    "\tx_input = randn(latent_dim * n)\n",
    "\t# reshape into a batch of inputs for the network\n",
    "\tx_input = x_input.reshape(n, latent_dim)\n",
    "\treturn x_input\n",
    " \n",
    "# use the generator to generate n fake examples, with class labels\n",
    "def generate_fake_samples(generator, latent_dim, n):\n",
    "\t# generate points in latent space\n",
    "\tx_input = generate_latent_points(latent_dim, n)\n",
    "\t# predict outputs\n",
    "\tX = generator.predict(x_input)\n",
    "\t# create class labels\n",
    "\ty = zeros((n, 34))\n",
    "\treturn X, y\n",
    "\t\n",
    "\t\n",
    "# evaluate the discriminator and plot real and fake points\n",
    "def summarize_performance(epoch, generator, discriminator, latent_dim, n=34):\n",
    "\t# prepare real samples\n",
    "\t# x_real, y_real = generate_real_samples(n)\n",
    "\tx_real, y_real = df, generate_real_samples(n)\n",
    "\t# evaluate discriminator on real examples\n",
    "\t_, acc_real = discriminator.evaluate(x_real, y_real, verbose=0)\n",
    "\t# prepare fake examples\n",
    "\tx_fake, y_fake = generate_fake_samples(generator, latent_dim, n)\n",
    "\t# evaluate discriminator on fake examples\n",
    "\t_, acc_fake = discriminator.evaluate(x_fake, y_fake, verbose=0)\n",
    "\t# summarize discriminator performance\n",
    "\tprint(epoch, acc_real, acc_fake)\n",
    "\t# scatter plot real and fake data points\n",
    "\t#pyplot.scatter(x_real[:, 0], x_real[:, 1], color='red')\n",
    "\t#pyplot.scatter(x_fake[:, 0], x_fake[:, 1], color='blue')\n",
    "\t#pyplot.show()\n",
    " \n",
    "gen_x = []\n",
    "gen_y = []\n",
    "# train the generator and discriminator\n",
    "def train(g_model, d_model, gan_model, latent_dim, n_epochs=16, n_batch=68, n_eval=1):\n",
    "\t# determine half the size of one batch, for updating the discriminator\n",
    "\thalf_batch = int(n_batch / 2)\n",
    "\t# manually enumerate epochs\n",
    "\tfor i in range(n_epochs):\n",
    "\t\t# prepare real samples\n",
    "\t\t# x_real, y_real = generate_real_samples(half_batch)\n",
    "\t\tx_real, y_real = df[i:i+1], generate_real_samples(half_batch)\n",
    "\t\t# prepare fake examples\n",
    "\t\tx_fake, y_fake = generate_fake_samples(g_model, latent_dim, half_batch)\n",
    "\t\tgen_x.append(x_fake)\n",
    "\t\tgen_y.append(y_fake)\n",
    "\t\t# update discriminator\n",
    "\t\td_model.train_on_batch(x_real, y_real)\n",
    "\t\td_model.train_on_batch(x_fake, y_fake)\n",
    "\t\t# prepare points in latent space as input for the generator\n",
    "\t\tx_gan = generate_latent_points(latent_dim, n_batch)\n",
    "\t\t# create inverted labels for the fake samples\n",
    "\t\ty_gan = ones((n_batch, 34))\n",
    "\t\t# update the generator via the discriminator's error\n",
    "\t\tgan_model.train_on_batch(x_gan, y_gan)\n",
    "\t\t# evaluate the model every n_eval epochs\n",
    "\t\t#if (i+1) % n_eval == 0:\n",
    "\t\t#\tsummarize_performance(i, g_model, d_model, latent_dim)\n",
    " \n",
    "# size of the latent space\n",
    "latent_dim = 100\n",
    "# create the discriminator\n",
    "discriminator = define_discriminator()\n",
    "# create the generator\n",
    "generator = define_generator(latent_dim)\n",
    "# create the gan\n",
    "gan_model = define_gan(generator, discriminator)\n",
    "# train model\n",
    "train(generator, discriminator, gan_model, latent_dim)"
   ]
  },
  {
   "cell_type": "code",
   "execution_count": 14,
   "metadata": {},
   "outputs": [
    {
     "output_type": "execute_result",
     "data": {
      "text/plain": "[array([[ 2.0431633 , -1.1531789 , -1.4404536 , ..., -0.3779737 ,\n         -0.41195068,  0.4201606 ],\n        [ 2.0993185 ,  1.1729653 , -2.498685  , ..., -0.4283296 ,\n          0.40831396,  4.1787753 ],\n        [ 3.974496  ,  1.2855831 , -2.134029  , ..., -0.73474294,\n         -0.42498225,  0.4906978 ],\n        ...,\n        [ 1.6551561 ,  2.8031404 , -2.199257  , ..., -2.470438  ,\n          1.5195887 ,  4.9928064 ],\n        [ 3.0649772 , -1.7306335 ,  0.7883282 , ..., -3.1524189 ,\n         -0.31922624,  3.398003  ],\n        [ 1.574652  , -1.0748242 , -2.052271  , ..., -0.23865049,\n          0.48528576,  0.6309414 ]], dtype=float32),\n array([[ 0.8983556 , -0.3172897 , -0.69411147, ...,  0.18131375,\n         -0.42079544,  1.871747  ],\n        [ 2.1804414 , -1.7399719 , -1.6482493 , ..., -0.29113805,\n          0.3568443 ,  2.551978  ],\n        [ 1.1132492 , -0.33238864, -0.13856332, ...,  0.7097365 ,\n         -0.21182646,  1.9752339 ],\n        ...,\n        [ 2.3809    , -0.6000283 , -1.2289157 , ...,  0.75978696,\n         -0.50574785,  2.2413394 ],\n        [ 0.05072283,  0.14346854, -1.0490485 , ..., -1.6778896 ,\n         -0.8442905 ,  2.2839503 ],\n        [ 0.19893594, -0.17803289, -0.88253206, ..., -0.5707109 ,\n         -0.26539427,  2.578593  ]], dtype=float32),\n array([[-7.5490928e-01,  7.4420810e-01,  1.7953959e+00, ...,\n          3.5115319e-01, -6.0524160e-01,  1.1614522e+00],\n        [ 1.7322329e+00,  1.2582947e+00,  1.7393705e+00, ...,\n          2.7725172e-01, -8.1815910e-01,  2.0799148e+00],\n        [ 1.3983572e+00,  6.3329661e-01,  4.7356442e-01, ...,\n         -1.1940337e+00, -7.9257292e-01,  1.8125485e+00],\n        ...,\n        [ 9.8592049e-01, -5.0727028e-01,  4.7174111e-01, ...,\n         -8.4413314e-01,  8.8297361e-01,  1.3833123e+00],\n        [ 1.5713980e+00,  8.5598677e-01, -1.0918335e+00, ...,\n         -7.9795402e-01,  4.5986054e-04,  1.0077339e-01],\n        [ 1.7961725e+00,  6.7020607e-01,  1.7769686e+00, ...,\n          6.5445495e-01, -7.0083894e-02,  9.2655122e-01]], dtype=float32),\n array([[ 0.7886142 ,  1.5833478 , -0.15909983, ..., -0.46489272,\n          1.0114521 ,  0.5678879 ],\n        [ 0.30980888,  2.7787538 ,  1.2747555 , ...,  0.8459714 ,\n          0.25585315,  0.15769632],\n        [ 0.09030923,  2.6741147 , -0.8090986 , ...,  0.0994391 ,\n          0.3551692 ,  0.24088205],\n        ...,\n        [ 1.3845979 ,  2.2844114 , -0.06361458, ...,  0.14815123,\n         -0.57211864,  1.4171032 ],\n        [ 1.5949333 , -0.05988214,  2.2073479 , ...,  0.8806353 ,\n         -1.2541083 ,  1.4903443 ],\n        [ 0.7279922 ,  0.61744386,  0.10850565, ...,  0.5516683 ,\n         -0.34586585,  0.9012416 ]], dtype=float32),\n array([[ 0.03397049,  0.8852214 ,  2.3452756 , ...,  1.2573673 ,\n         -0.85082906,  2.0427113 ],\n        [ 0.7432307 ,  2.5634449 ,  1.2457455 , ...,  0.05251144,\n         -0.990345  , -1.3579408 ],\n        [ 0.7292402 ,  2.53043   ,  0.75318384, ...,  0.96050113,\n         -1.0244602 ,  0.246035  ],\n        ...,\n        [-0.7206862 , -0.5458744 , -0.24755615, ...,  3.102048  ,\n         -0.46373272,  0.74993163],\n        [ 0.0361593 ,  2.3467877 , -0.30718422, ...,  2.1147096 ,\n         -0.5555051 ,  0.83973265],\n        [ 0.00453036,  2.6742966 ,  0.6309923 , ...,  1.2418185 ,\n         -1.5821315 ,  0.10867818]], dtype=float32),\n array([[-0.19620742,  1.6744194 ,  1.1835555 , ...,  0.610957  ,\n          0.22013523,  0.08242081],\n        [ 0.5027327 ,  0.9314475 ,  2.3318808 , ...,  2.6853976 ,\n         -1.2876852 ,  0.1235407 ],\n        [ 0.8735885 ,  3.0093753 ,  0.9923341 , ...,  0.5181547 ,\n         -0.50669503, -1.1362786 ],\n        ...,\n        [ 1.3499619 ,  2.040324  ,  2.1680908 , ...,  1.3462126 ,\n         -0.7959215 , -0.958723  ],\n        [ 0.10797629,  3.4465163 ,  2.065575  , ...,  1.8940438 ,\n         -1.4495981 ,  1.0828695 ],\n        [-0.8875292 ,  0.9240111 ,  2.9171493 , ...,  2.3821707 ,\n          0.4890648 , -0.48215315]], dtype=float32),\n array([[-0.37827677,  3.7669797 ,  0.6360785 , ...,  2.780897  ,\n         -0.14710538, -0.5805703 ],\n        [-1.4596567 ,  2.8835971 ,  0.5502189 , ...,  3.2572002 ,\n         -0.73972505, -0.47485328],\n        [-0.08101229,  0.33403972,  0.41939738, ...,  0.85436726,\n         -1.7542892 , -0.6059445 ],\n        ...,\n        [-1.4528003 ,  0.9673245 ,  2.1287994 , ...,  2.6035984 ,\n         -0.15447439, -0.7659211 ],\n        [-0.42361158,  2.0214362 ,  1.9569808 , ...,  3.6530256 ,\n         -1.8772824 ,  0.5825321 ],\n        [-1.1521523 ,  3.147614  ,  0.9613286 , ...,  2.6576583 ,\n          0.5277103 ,  1.3791503 ]], dtype=float32),\n array([[-1.8453444 ,  3.0168166 ,  1.3010441 , ...,  3.9078817 ,\n         -0.1550282 , -1.0377924 ],\n        [-0.5491457 ,  2.2385683 ,  3.5651538 , ...,  2.1042807 ,\n          0.03660578, -1.2018013 ],\n        [ 0.5465164 ,  3.2210855 ,  3.5380054 , ...,  2.8210952 ,\n          0.27219498, -1.6580772 ],\n        ...,\n        [-2.131963  ,  4.3381596 ,  1.5426476 , ...,  2.5867288 ,\n         -0.18582886, -1.9503446 ],\n        [-2.049188  ,  5.969449  ,  1.6328591 , ...,  3.4748318 ,\n         -0.20553017, -0.43252048],\n        [-0.94631743,  2.3435807 ,  1.4473968 , ...,  3.384853  ,\n          0.6697248 , -1.9015291 ]], dtype=float32),\n array([[-1.7972152 ,  1.514735  ,  1.9994547 , ...,  2.0052612 ,\n          0.6730744 , -0.0894757 ],\n        [-0.3809367 ,  2.2874699 ,  2.2390249 , ...,  3.1655838 ,\n          0.02242962, -2.9436727 ],\n        [-1.2964106 ,  1.6054177 ,  1.3102294 , ...,  1.1606218 ,\n         -0.3152933 , -0.030277  ],\n        ...,\n        [-0.85140496,  3.5814397 ,  2.0973313 , ...,  4.4382935 ,\n          1.1009483 , -0.6862543 ],\n        [-2.81163   ,  4.471186  ,  2.0843565 , ...,  1.7258682 ,\n          0.42756063, -2.1177242 ],\n        [-1.7426738 ,  2.037021  ,  2.4551768 , ...,  2.6855206 ,\n         -0.20613225, -1.4028182 ]], dtype=float32),\n array([[-1.2939408 ,  4.883747  ,  1.7554524 , ...,  3.811485  ,\n         -0.49208337, -1.7086251 ],\n        [-2.5614812 ,  4.057576  ,  0.33459222, ...,  2.5233393 ,\n          0.39113247, -3.5037982 ],\n        [-0.30348554,  2.9530823 ,  2.727564  , ...,  3.1047223 ,\n         -1.0143889 , -2.0375204 ],\n        ...,\n        [-0.9499853 ,  2.2599566 ,  2.7794862 , ...,  2.9127903 ,\n         -0.07685401, -1.2905037 ],\n        [-1.3810304 ,  2.486312  ,  1.430867  , ...,  1.2904651 ,\n          0.1052696 , -0.8994066 ],\n        [-2.0018656 ,  2.7832384 ,  0.1337373 , ...,  1.7186167 ,\n         -0.22393014, -1.3673856 ]], dtype=float32),\n array([[-2.2956533 ,  4.4191594 ,  2.897943  , ...,  3.3403363 ,\n         -1.2017014 , -0.6444221 ],\n        [-2.2605326 ,  3.1084368 ,  0.8290906 , ...,  1.2950253 ,\n          0.20969485, -1.5227374 ],\n        [-3.1622164 ,  3.3693984 ,  3.157021  , ...,  7.2965145 ,\n         -0.33529288, -1.1775177 ],\n        ...,\n        [-2.2656467 ,  4.9649796 ,  0.41254213, ...,  3.3117342 ,\n         -0.13211133, -0.19351663],\n        [-1.5617177 ,  2.4592633 ,  1.2292949 , ...,  1.8987972 ,\n         -0.38911968, -0.6383371 ],\n        [-2.739371  ,  6.015072  ,  2.1677277 , ...,  2.5766702 ,\n          0.71917903, -4.87961   ]], dtype=float32),\n array([[-1.7525408 ,  5.2697744 ,  2.1600254 , ...,  4.175419  ,\n          0.5639837 , -2.7121136 ],\n        [-0.786812  ,  5.90068   ,  1.8924015 , ...,  3.7933624 ,\n          1.4708107 , -1.7764537 ],\n        [-1.2378889 ,  4.3242645 ,  3.650668  , ...,  5.7797003 ,\n          0.81379634, -3.0532422 ],\n        ...,\n        [-1.675715  ,  3.8919032 ,  1.8048978 , ...,  1.743738  ,\n          0.3188071 , -1.30781   ],\n        [-3.5085    ,  7.7627325 ,  2.47826   , ...,  5.4868546 ,\n          0.71100444, -1.9631791 ],\n        [-4.177727  ,  6.189519  ,  1.8440912 , ...,  5.572766  ,\n          0.08788857, -1.9173474 ]], dtype=float32),\n array([[-2.2119515 ,  2.7982357 ,  2.7429893 , ...,  4.3061824 ,\n          2.1504269 , -2.4079885 ],\n        [-3.445236  ,  5.069727  ,  1.6903863 , ...,  5.5575404 ,\n          0.6310473 , -1.5523664 ],\n        [-2.475122  ,  4.287528  ,  2.2603333 , ...,  4.296334  ,\n          0.5552116 , -0.6558837 ],\n        ...,\n        [-1.7548561 ,  4.7300453 ,  3.4420822 , ...,  3.263787  ,\n          3.527464  , -2.0022712 ],\n        [-2.302829  ,  6.076557  ,  1.6309785 , ...,  5.48438   ,\n          1.7759035 , -3.31554   ],\n        [-2.5187118 ,  4.1941357 ,  2.9931426 , ...,  3.357993  ,\n         -0.06350962, -1.4596226 ]], dtype=float32),\n array([[-2.3878076 ,  6.461053  ,  3.374577  , ...,  4.5063486 ,\n         -0.38013723, -1.6595794 ],\n        [-3.69055   ,  4.1624827 ,  1.9803549 , ...,  4.7704353 ,\n          1.0346583 , -1.9440092 ],\n        [-2.4018962 ,  4.540927  ,  1.7341566 , ...,  5.151802  ,\n          1.6172076 , -1.7889724 ],\n        ...,\n        [-0.231025  ,  4.5016026 ,  2.4107342 , ...,  6.0141144 ,\n          1.7851367 , -2.2998316 ],\n        [-3.4620578 ,  7.119482  ,  3.4096994 , ...,  5.550361  ,\n          0.13771744, -0.70902324],\n        [-2.8074863 ,  5.513597  ,  2.3695748 , ...,  5.202947  ,\n          0.7199236 , -3.1046653 ]], dtype=float32),\n array([[-1.5566404 ,  4.628471  ,  3.165741  , ...,  4.6752205 ,\n          2.202965  , -3.2009947 ],\n        [-3.5110834 ,  5.4012017 ,  3.4772708 , ...,  6.422943  ,\n          1.5280422 ,  0.46349522],\n        [-1.4729363 ,  3.0398252 ,  2.1357615 , ...,  2.8706412 ,\n         -0.25902697, -0.61891705],\n        ...,\n        [-2.5367723 ,  5.227536  ,  2.0612557 , ...,  6.689028  ,\n          3.340148  , -2.2155228 ],\n        [-2.9691396 ,  5.029514  ,  2.986487  , ...,  5.456688  ,\n          2.7131183 , -1.0650233 ],\n        [-2.244382  ,  3.2627828 ,  2.4054086 , ...,  3.0150385 ,\n          1.0376431 , -1.421731  ]], dtype=float32),\n array([[-2.9967978 ,  5.861461  ,  3.1007807 , ...,  4.9945974 ,\n          1.7488977 , -1.2448249 ],\n        [-4.3719354 ,  4.2926145 ,  1.8509871 , ...,  4.939356  ,\n          2.7232149 , -0.04542334],\n        [-1.8861893 ,  3.9477015 ,  2.8029664 , ...,  5.559807  ,\n          2.9136229 , -2.7020798 ],\n        ...,\n        [-1.1346272 ,  3.8292847 ,  2.6365013 , ...,  4.122179  ,\n          0.16009758, -2.2860944 ],\n        [-1.8582706 ,  4.0575175 ,  2.8314633 , ...,  6.3271813 ,\n          1.4255899 , -3.5185695 ],\n        [-2.3642395 ,  4.073679  ,  0.7935322 , ...,  5.3773317 ,\n          2.7658994 , -1.9123356 ]], dtype=float32)]"
     },
     "metadata": {},
     "execution_count": 14
    }
   ],
   "source": []
  },
  {
   "cell_type": "code",
   "execution_count": null,
   "metadata": {},
   "outputs": [],
   "source": []
  }
 ]
}