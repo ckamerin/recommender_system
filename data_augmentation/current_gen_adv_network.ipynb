{
 "metadata": {
  "language_info": {
   "codemirror_mode": {
    "name": "ipython",
    "version": 3
   },
   "file_extension": ".py",
   "mimetype": "text/x-python",
   "name": "python",
   "nbconvert_exporter": "python",
   "pygments_lexer": "ipython3",
   "version": "3.8.5-final"
  },
  "orig_nbformat": 2,
  "kernelspec": {
   "name": "python_defaultSpec_1599616034895",
   "display_name": "Python 3.8.5 64-bit ('rec_sys': conda)"
  }
 },
 "nbformat": 4,
 "nbformat_minor": 2,
 "cells": [
  {
   "cell_type": "code",
   "execution_count": 1,
   "metadata": {
    "tags": []
   },
   "outputs": [
    {
     "output_type": "stream",
     "name": "stdout",
     "text": "WARNING:tensorflow:From /opt/anaconda3/envs/rec_sys/lib/python3.8/site-packages/tensorflow_gan/python/estimator/tpu_gan_estimator.py:42: The name tf.estimator.tpu.TPUEstimator is deprecated. Please use tf.compat.v1.estimator.tpu.TPUEstimator instead.\n\n"
    }
   ],
   "source": [
    "import tensorflow as tf\n",
    "import tensorflow_gan as tfgan\n",
    "import numpy as np\n",
    "from numpy import zeros\n",
    "from numpy import ones\n",
    "from numpy import hstack\n",
    "from numpy.random import rand\n",
    "from numpy.random import randn\n",
    "import pandas as pd\n",
    "import glob\n",
    "import os\n",
    "import PIL\n",
    "from tensorflow.keras import layers\n",
    "from keras.models import Sequential\n",
    "from keras.layers import Dense\n",
    "from keras.layers import LeakyReLU\n",
    "from keras.utils.vis_utils import plot_model\n",
    "import seaborn as sb\n",
    "from matplotlib import pyplot\n",
    "import matplotlib.pyplot as plt\n",
    "import matplotlib.gridspec as gridspec\n",
    "import pydot\n",
    "sb.set()"
   ]
  },
  {
   "cell_type": "code",
   "execution_count": 2,
   "metadata": {},
   "outputs": [],
   "source": [
    "import os \n",
    "import earthpy as et "
   ]
  },
  {
   "cell_type": "code",
   "execution_count": 3,
   "metadata": {},
   "outputs": [],
   "source": [
    "## Code needed to set a new working directory\n",
    "\n",
    "#my_path = os.path.join(et.io.HOME, 'recommender_system')\n",
    "#os.mkdir(my_path)\n",
    "\n",
    "## Set Working Directory\n",
    "os.chdir(os.path.join(et.io.HOME, 'recommender_system'))"
   ]
  },
  {
   "cell_type": "code",
   "execution_count": 4,
   "metadata": {},
   "outputs": [
    {
     "output_type": "execute_result",
     "data": {
      "text/plain": "'/Users/chriskamerin/recommender_system'"
     },
     "metadata": {},
     "execution_count": 4
    }
   ],
   "source": [
    "# Check if it worked\n",
    "os.getcwd()"
   ]
  },
  {
   "cell_type": "code",
   "execution_count": 5,
   "metadata": {},
   "outputs": [],
   "source": [
    "df =pd.read_csv('data_in_use/headphones2hp.csv')"
   ]
  },
  {
   "cell_type": "code",
   "execution_count": 6,
   "metadata": {},
   "outputs": [],
   "source": [
    "df = df.sample(frac=1).reset_index(drop=True)"
   ]
  },
  {
   "cell_type": "code",
   "execution_count": 7,
   "metadata": {},
   "outputs": [],
   "source": [
    "df['user_id']  = pd.Categorical(df.user_id).codes\n",
    "df['headphone_name']  = pd.Categorical(df.headphone_name).codes"
   ]
  },
  {
   "cell_type": "code",
   "execution_count": 8,
   "metadata": {},
   "outputs": [],
   "source": [
    "#Set columns we want to normalize\n",
    "\n",
    "cols_to_norm = ['sound_quality_importance', 'positional_importance', 'loud_importance',\n",
    "       'mic_importance', 'wireless_importance','noise_canceling_importance', 'in_ear_importance',\n",
    "       'on_ear_importance', 'over_ear_importance', 'no_pref_oninover', 'recording_quality', 'noise_handling','user_rating',\n",
    "       'Impedance', 'sensitivity(dbv)', 'accuracy',\n",
    "       'weighted_harmonic_distortion', 'soundstage', 'imaging',\n",
    "       'noise_isolation', 'wireless']\n",
    "imp_col = ['sound_quality_importance', 'positional_importance', 'loud_importance',\n",
    "       'mic_importance', 'wireless_importance', \n",
    "       'price_sensitivity']\n",
    "#price_col = ['max_price','price']\n",
    "hp_feat_col = ['recording_quality', 'noise_handling', 'accuracy',\n",
    "       'weighted_harmonic_distortion', 'soundstage', 'imaging',\n",
    "       'noise_isolation', 'wireless']\n",
    "remaining_col = ['Impedance', 'sensitivity(dbv)']\n",
    "\n"
   ]
  },
  {
   "cell_type": "code",
   "execution_count": 9,
   "metadata": {},
   "outputs": [],
   "source": [
    "xdf =df[['game_use', 'rec_use', 'studio_use', 'exercise_use',\n",
    "       'office_use', 'podcast_use', 'travel_use', 'other_use',\n",
    "       'sound_quality_importance', 'positional_importance', 'loud_importance',\n",
    "       'mic_importance', 'wireless_importance', 'in_ear_importance',\n",
    "       'on_ear_importance', 'over_ear_importance', 'no_pref_oninover']]\n",
    "ydf =df[[ 'attached_mic', 'recording_quality',\n",
    "       'noise_handling', 'Impedance', 'sensitivity(dbv)', 'accuracy',\n",
    "       'weighted_harmonic_distortion', 'soundstage', 'imaging',\n",
    "       'noise_isolation', 'wireless', 'over_ear_style', 'on_ear_style',\n",
    "       'in_ear_style', 'open_back', 'close_back', 'semiclosed_back']]\n",
    "#xtest=df1[['game_use', 'rec_use', 'studio_use', 'exercise_use',\n",
    "#       'office_use', 'podcast_use', 'travel_use', 'other_use',\n",
    "#       'sound_quality_importance', 'positional_importance', 'loud_importance',\n",
    "#       'mic_importance', 'wireless_importance', 'in_ear_importance',\n",
    "#       'on_ear_importance', 'over_ear_importance', 'no_pref_oninover']][12:]\n",
    "#ytest=df1[[ 'attached_mic', 'recording_quality',\n",
    "#       'noise_handling', 'Impedance', 'sensitivity(dbv)', 'accuracy',\n",
    "#       'weighted_harmonic_distortion', 'soundstage', 'imaging',\n",
    "#       'noise_isolation', 'wireless', 'over_ear_style', 'on_ear_style',\n",
    "#       'in_ear_style', 'open_back', 'close_back', 'semiclosed_back']][12:]"
   ]
  },
  {
   "cell_type": "code",
   "execution_count": 10,
   "metadata": {},
   "outputs": [],
   "source": [
    "#normalize columns in df\n",
    "\n",
    "df=df.fillna(0)\n",
    "df[imp_col] = df[imp_col].apply(lambda x: (x - 0) / (10 - 0))\n",
    "#df[price_col] = df[price_col].apply(lambda x: (x - x.min()) / (x.max() - x.min()))\n",
    "df[hp_feat_col] = df[hp_feat_col].apply(lambda x: (x - x.min()) / (x.max() - x.min()))   \n",
    "df[remaining_col] = df[remaining_col].apply(lambda x: (x - x.min()) / (x.max() - x.min()))       \n",
    "#df[cols_to_norm] = df[cols_to_norm].apply(lambda x: (x - x.min()) / (x.max() - x.min()))"
   ]
  },
  {
   "cell_type": "code",
   "execution_count": 14,
   "metadata": {
    "tags": []
   },
   "outputs": [
    {
     "output_type": "stream",
     "name": "stdout",
     "text": "0 0.375 0.0\n1 0.75 0.0\n2 0.75 0.0\n3 0.75 0.0\n4 0.75 0.0\n5 0.75 0.0\n6 0.75 0.0\n7 0.75 0.0\n8 0.75 0.0\n9 0.75 0.0\n10 0.75 0.0\n11 0.75 0.0\n12 0.75 0.0\n13 0.75 0.0\n14 0.75 0.0\n15 0.75 0.0\n"
    }
   ],
   "source": [
    "# define the standalone discriminator model\n",
    "def define_discriminator(n_inputs=17):\n",
    "\tmodel = Sequential()\n",
    "\tmodel.add(Dense(256, kernel_initializer='he_uniform', input_dim=n_inputs))\n",
    "\tmodel.add(LeakyReLU(alpha=0.1))\n",
    "\tmodel.add(Dense(256, kernel_initializer='he_uniform'))\n",
    "\tmodel.add(LeakyReLU(alpha=0.1))\n",
    "\tmodel.add(Dense(17, activation='sigmoid'))\n",
    "\t# compile model\n",
    "\tmodel.compile(loss='binary_crossentropy', optimizer='adam', metrics=['accuracy'])\n",
    "\treturn model\n",
    " \n",
    "# define the standalone generator model\n",
    "def define_generator(latent_dim, n_outputs=17):\n",
    "\tmodel = Sequential()\n",
    "\tmodel.add(Dense(256, kernel_initializer='he_uniform', input_dim=latent_dim))\n",
    "\tmodel.add(LeakyReLU(alpha=0.1))\n",
    "\tmodel.add(Dense(256, kernel_initializer='he_uniform'))\n",
    "\tmodel.add(LeakyReLU(alpha=0.1))\n",
    "\tmodel.add(Dense(n_outputs, activation='linear'))\n",
    "\treturn model\n",
    " \n",
    "# define the combined generator and discriminator model, for updating the generator\n",
    "def define_gan(generator, discriminator):\n",
    "\t# make weights in the discriminator not trainable\n",
    "\tdiscriminator.trainable = False\n",
    "\t# connect them\n",
    "\tmodel = Sequential()\n",
    "\t# add generator\n",
    "\tmodel.add(generator)\n",
    "\t# add the discriminator\n",
    "\tmodel.add(discriminator)\n",
    "\t# compile model\n",
    "\tmodel.compile(loss='binary_crossentropy', optimizer='adam')\n",
    "\treturn model\n",
    " \n",
    "# generate n real samples with class labels\n",
    "def generate_real_samples(n):\n",
    "\t# generate inputs in [-0.5, 0.5]\n",
    "\tX1 = rand(n) - 0.5\n",
    "\t# generate outputs X^2\n",
    "\tX2 = X1 * X1\n",
    "\t# stack arrays\n",
    "\tX1 = X1.reshape(n, 1)\n",
    "\tX2 = X2.reshape(n, 1)\n",
    "\tX = hstack((X1, X2))\n",
    "\t# generate class labels\n",
    "\ty = ones((n, 1))\n",
    "\treturn X, y\n",
    " \n",
    "# generate points in latent space as input for the generator\n",
    "def generate_latent_points(latent_dim, n):\n",
    "\t# generate points in the latent space\n",
    "\tx_input = randn(latent_dim * n)\n",
    "\t# reshape into a batch of inputs for the network\n",
    "\tx_input = x_input.reshape(n, latent_dim)\n",
    "\treturn x_input\n",
    " \n",
    "# use the generator to generate n fake examples, with class labels\n",
    "def generate_fake_samples(generator, latent_dim, n):\n",
    "\t# generate points in latent space\n",
    "\tx_input = generate_latent_points(latent_dim, n)\n",
    "\t# predict outputs\n",
    "\tX = generator.predict(x_input)\n",
    "\t# create class labels\n",
    "\ty = zeros((n, 17))\n",
    "\treturn X, y\n",
    " \n",
    "# evaluate the discriminator and plot real and fake points\n",
    "def summarize_performance(epoch, generator, discriminator, latent_dim, n=17):\n",
    "\t# prepare real samples\n",
    "\t# x_real, y_real = generate_real_samples(n)\n",
    "\tx_real, y_real = xdf, ydf\n",
    "\t# evaluate discriminator on real examples\n",
    "\t_, acc_real = discriminator.evaluate(x_real, y_real, verbose=0)\n",
    "\t# prepare fake examples\n",
    "\tx_fake, y_fake = generate_fake_samples(generator, latent_dim, n)\n",
    "\t# evaluate discriminator on fake examples\n",
    "\t_, acc_fake = discriminator.evaluate(x_fake, y_fake, verbose=0)\n",
    "\t# summarize discriminator performance\n",
    "\tprint(epoch, acc_real, acc_fake)\n",
    "\t# scatter plot real and fake data points\n",
    "\t#pyplot.scatter(x_real[:, 0], x_real[:, 1], color='red')\n",
    "\t#pyplot.scatter(x_fake[:, 0], x_fake[:, 1], color='blue')\n",
    "\t#pyplot.show()\n",
    " \n",
    "# train the generator and discriminator\n",
    "def train(g_model, d_model, gan_model, latent_dim, n_epochs=16, n_batch=34, n_eval=1):\n",
    "\t# determine half the size of one batch, for updating the discriminator\n",
    "\thalf_batch = int(n_batch / 2)\n",
    "\t# manually enumerate epochs\n",
    "\tfor i in range(n_epochs):\n",
    "\t\t# prepare real samples\n",
    "\t\t# x_real, y_real = generate_real_samples(half_batch)\n",
    "\t\tx_real, y_real = xdf[i:i+1], ydf[i:i+1]\n",
    "\t\t# prepare fake examples\n",
    "\t\tx_fake, y_fake = generate_fake_samples(g_model, latent_dim, half_batch)\n",
    "\t\t# update discriminator\n",
    "\t\td_model.train_on_batch(x_real, y_real)\n",
    "\t\td_model.train_on_batch(x_fake, y_fake)\n",
    "\t\t# prepare points in latent space as input for the generator\n",
    "\t\tx_gan = generate_latent_points(latent_dim, n_batch)\n",
    "\t\t# create inverted labels for the fake samples\n",
    "\t\ty_gan = ones((n_batch, 17))\n",
    "\t\t# update the generator via the discriminator's error\n",
    "\t\tgan_model.train_on_batch(x_gan, y_gan)\n",
    "\t\t# evaluate the model every n_eval epochs\n",
    "\t\tif (i+1) % n_eval == 0:\n",
    "\t\t\tsummarize_performance(i, g_model, d_model, latent_dim)\n",
    " \n",
    "# size of the latent space\n",
    "latent_dim = 50\n",
    "# create the discriminator\n",
    "discriminator = define_discriminator()\n",
    "# create the generator\n",
    "generator = define_generator(latent_dim)\n",
    "# create the gan\n",
    "gan_model = define_gan(generator, discriminator)\n",
    "# train model\n",
    "train(generator, discriminator, gan_model, latent_dim)"
   ]
  }
 ]
}