{
 "metadata": {
  "language_info": {
   "codemirror_mode": {
    "name": "ipython",
    "version": 3
   },
   "file_extension": ".py",
   "mimetype": "text/x-python",
   "name": "python",
   "nbconvert_exporter": "python",
   "pygments_lexer": "ipython3",
   "version": "3.8.5-final"
  },
  "orig_nbformat": 2,
  "kernelspec": {
   "name": "python_defaultSpec_1599699350559",
   "display_name": "Python 3.8.5 64-bit ('rec_sys': conda)"
  }
 },
 "nbformat": 4,
 "nbformat_minor": 2,
 "cells": [
  {
   "cell_type": "code",
   "execution_count": 38,
   "metadata": {
    "tags": []
   },
   "outputs": [],
   "source": [
    "import tensorflow as tf\n",
    "import tensorflow_gan as tfgan\n",
    "import numpy as np\n",
    "from numpy import zeros\n",
    "from numpy import ones\n",
    "from numpy import hstack\n",
    "from numpy.random import rand\n",
    "from numpy.random import randn\n",
    "from numpy.random import random\n",
    "from numpy.random import choice\n",
    "from numpy.random import randint\n",
    "import pandas as pd\n",
    "import glob\n",
    "import os\n",
    "from os import makedirs\n",
    "import PIL\n",
    "from tensorflow.keras import layers\n",
    "from keras.models import Sequential\n",
    "from keras.layers import Dense\n",
    "from keras.layers import LeakyReLU\n",
    "from keras.utils.vis_utils import plot_model\n",
    "import seaborn as sb\n",
    "from matplotlib import pyplot\n",
    "import matplotlib.pyplot as plt\n",
    "import matplotlib.gridspec as gridspec\n",
    "import pydot\n",
    "from keras.initializers import RandomNormal\n",
    "from keras.optimizers import Adam\n",
    "sb.set()"
   ]
  },
  {
   "cell_type": "code",
   "execution_count": 2,
   "metadata": {},
   "outputs": [],
   "source": [
    "import os \n",
    "import earthpy as et "
   ]
  },
  {
   "cell_type": "code",
   "execution_count": 3,
   "metadata": {},
   "outputs": [],
   "source": [
    "## Code needed to set a new working directory\n",
    "\n",
    "#my_path = os.path.join(et.io.HOME, 'recommender_system')\n",
    "#os.mkdir(my_path)\n",
    "\n",
    "## Set Working Directory\n",
    "os.chdir(os.path.join(et.io.HOME, 'recommender_system'))"
   ]
  },
  {
   "cell_type": "code",
   "execution_count": 4,
   "metadata": {},
   "outputs": [
    {
     "output_type": "execute_result",
     "data": {
      "text/plain": "'/Users/chriskamerin/recommender_system'"
     },
     "metadata": {},
     "execution_count": 4
    }
   ],
   "source": [
    "# Check if it worked\n",
    "os.getcwd()"
   ]
  },
  {
   "cell_type": "code",
   "execution_count": 5,
   "metadata": {},
   "outputs": [],
   "source": [
    "df =pd.read_csv('data_in_use/df2.csv')"
   ]
  },
  {
   "cell_type": "code",
   "execution_count": 6,
   "metadata": {},
   "outputs": [],
   "source": [
    "df = df.sample(frac=1).reset_index(drop=True)"
   ]
  },
  {
   "cell_type": "code",
   "execution_count": 7,
   "metadata": {},
   "outputs": [],
   "source": [
    "df['user_id']  = pd.Categorical(df.user_id).codes\n",
    "df['headphone_name']  = pd.Categorical(df.headphone_name).codes"
   ]
  },
  {
   "cell_type": "code",
   "execution_count": 8,
   "metadata": {},
   "outputs": [],
   "source": [
    "#Set columns we want to normalize\n",
    "\n",
    "cols_to_norm = ['sound_quality_importance', 'positional_importance', 'loud_importance',\n",
    "       'mic_importance', 'wireless_importance','noise_canceling_importance', 'in_ear_importance',\n",
    "       'on_ear_importance', 'over_ear_importance', 'no_pref_oninover', 'recording_quality', 'noise_handling','user_rating',\n",
    "       'Impedance', 'sensitivity(dbv)', 'accuracy',\n",
    "       'weighted_harmonic_distortion', 'soundstage', 'imaging',\n",
    "       'noise_isolation', 'wireless']\n",
    "imp_col = ['sound_quality_importance', 'positional_importance', 'loud_importance',\n",
    "       'mic_importance', 'wireless_importance', \n",
    "#       'price_sensitivity'\n",
    "]\n",
    "#price_col = ['max_price','price']\n",
    "hp_feat_col = ['recording_quality', 'noise_handling', 'accuracy',\n",
    "       'weighted_harmonic_distortion', 'soundstage', 'imaging',\n",
    "       'noise_isolation', 'wireless']\n",
    "remaining_col = ['Impedance', 'sensitivity(dbv)']\n",
    "\n"
   ]
  },
  {
   "cell_type": "code",
   "execution_count": 9,
   "metadata": {},
   "outputs": [],
   "source": [
    "df =df[['game_use', 'rec_use', 'studio_use', 'exercise_use',\n",
    "       'office_use', 'podcast_use', 'travel_use', 'other_use',\n",
    "       'sound_quality_importance', 'positional_importance', 'loud_importance',\n",
    "       'mic_importance', 'wireless_importance', 'in_ear_importance',\n",
    "       'on_ear_importance', 'over_ear_importance', 'no_pref_oninover','attached_mic', 'recording_quality',\n",
    "       'noise_handling', 'Impedance', 'sensitivity(dbv)', 'accuracy',\n",
    "      'weighted_harmonic_distortion', 'soundstage', 'imaging',\n",
    "      'noise_isolation', 'wireless', 'over_ear_style', 'on_ear_style',\n",
    "      'in_ear_style', 'open_back', 'close_back', 'semiclosed_back']]\n",
    "#ydf =df[[ 'attached_mic', 'recording_quality',\n",
    "#       'noise_handling', 'Impedance', 'sensitivity(dbv)', 'accuracy',\n",
    "#      'weighted_harmonic_distortion', 'soundstage', 'imaging',\n",
    "#      'noise_isolation', 'wireless', 'over_ear_style', 'on_ear_style',\n",
    "#       'in_ear_style', 'open_back', 'close_back', 'semiclosed_back']]\n",
    "#xtest=df1[['game_use', 'rec_use', 'studio_use', 'exercise_use',\n",
    "#       'office_use', 'podcast_use', 'travel_use', 'other_use',\n",
    "#       'sound_quality_importance', 'positional_importance', 'loud_importance',\n",
    "#       'mic_importance', 'wireless_importance', 'in_ear_importance',\n",
    "#       'on_ear_importance', 'over_ear_importance', 'no_pref_oninover']][12:]\n",
    "#ytest=df1[[ 'attached_mic', 'recording_quality',\n",
    "#       'noise_handling', 'Impedance', 'sensitivity(dbv)', 'accuracy',\n",
    "#       'weighted_harmonic_distortion', 'soundstage', 'imaging',\n",
    "#       'noise_isolation', 'wireless', 'over_ear_style', 'on_ear_style',\n",
    "#       'in_ear_style', 'open_back', 'close_back', 'semiclosed_back']][12:]"
   ]
  },
  {
   "cell_type": "code",
   "execution_count": 10,
   "metadata": {},
   "outputs": [],
   "source": [
    "#normalize columns in df\n",
    "\n",
    "df=df.fillna(0)\n",
    "df[imp_col] = df[imp_col].apply(lambda x: (x - 0) / (10 - 0))\n",
    "#df[price_col] = df[price_col].apply(lambda x: (x - x.min()) / (x.max() - x.min()))\n",
    "df[hp_feat_col] = df[hp_feat_col].apply(lambda x: (x - x.min()) / (x.max() - x.min()))   \n",
    "df[remaining_col] = df[remaining_col].apply(lambda x: (x - x.min()) / (x.max() - x.min()))       \n",
    "#df[cols_to_norm] = df[cols_to_norm].apply(lambda x: (x - x.min()) / (x.max() - x.min()))"
   ]
  },
  {
   "cell_type": "code",
   "execution_count": 52,
   "metadata": {
    "tags": []
   },
   "outputs": [
    {
     "output_type": "stream",
     "name": "stdout",
     "text": "19 0.0 0.0\n39 0.0 0.0\n59 0.0 0.0\n79 0.0 0.0\n99 1.0 0.0\n"
    }
   ],
   "source": [
    "# define the standalone discriminator model\n",
    "def define_discriminator(n_inputs=34):\n",
    "\tmodel = Sequential()\n",
    "\tinit = RandomNormal(mean=0.0, stddev=0.02)\n",
    "\tmodel.add(Dense(256, kernel_initializer=init, input_dim=n_inputs))\n",
    "\tmodel.add(LeakyReLU(alpha=0.1))\n",
    "\tmodel.add(Dense(256, kernel_initializer=init))\n",
    "\tmodel.add(LeakyReLU(alpha=0.1))\n",
    "\tmodel.add(Dense(256, kernel_initializer=init))\n",
    "\tmodel.add(LeakyReLU(alpha=0.1))\n",
    "\tmodel.add(Dense(34, activation='sigmoid'))\n",
    "\t# compile model\n",
    "\topt = Adam(lr=0.0002, beta_1=0.5)\n",
    "\tmodel.compile(loss='binary_crossentropy', optimizer=opt, metrics=['accuracy'])\n",
    "\treturn model\n",
    " \n",
    "# define the standalone generator model\n",
    "def define_generator(latent_dim, n_outputs=34):\n",
    "\tmodel = Sequential()\n",
    "\tinit = RandomNormal(mean=0.0, stddev=0.02)\n",
    "\tmodel.add(Dense(256, kernel_initializer=init, input_dim=latent_dim))\n",
    "\tmodel.add(LeakyReLU(alpha=0.1))\n",
    "\tmodel.add(Dense(256, kernel_initializer=init))\n",
    "\tmodel.add(LeakyReLU(alpha=0.1))\n",
    "\tmodel.add(Dense(256, kernel_initializer=init))\n",
    "\tmodel.add(LeakyReLU(alpha=0.1))\n",
    "\tmodel.add(Dense(n_outputs, activation='linear'))\n",
    "\treturn model\n",
    " \n",
    "# define the combined generator and discriminator model, for updating the generator\n",
    "def define_gan(generator, discriminator):\n",
    "\t# make weights in the discriminator not trainable\n",
    "\tdiscriminator.trainable = False\n",
    "\t# connect them\n",
    "\tmodel = Sequential()\n",
    "\t# add generator\n",
    "\tmodel.add(generator)\n",
    "\t# add the discriminator\n",
    "\tmodel.add(discriminator)\n",
    "\t# compile model\n",
    "\tmodel.compile(loss='binary_crossentropy', optimizer='adam')\n",
    "\treturn model\n",
    "\n",
    "# generate points in latent space as input for the generator\n",
    "def generate_latent_points(latent_dim, n):\n",
    "\t# generate points in the latent space\n",
    "\tx_input = randn(latent_dim * n)\n",
    "\t# reshape into a batch of inputs for the network\n",
    "\tx_input = x_input.reshape(n, latent_dim)\n",
    "\n",
    "\t#Dimension Diagnostic\n",
    "\t#x_in_lat.append(x_input)\n",
    "\n",
    "\treturn x_input\n",
    "\n",
    "# randomly flip some labels\n",
    "def noisy_labels(y, p_flip):\n",
    "\t# determine the number of labels to flip\n",
    "\tn_select = int(p_flip * y.shape[0])\n",
    "\t# choose labels to flip\n",
    "\tflip_ix = choice([i for i in range(y.shape[0])], size=n_select)\n",
    "\t# invert the labels in place\n",
    "\ty[flip_ix] = 1 - y[flip_ix]\n",
    "\treturn y\n",
    "\n",
    "\n",
    "def smooth_positive_labels(y):\n",
    "\treturn y - 0.3 + (random(y.shape) * 0.5)\n",
    "\n",
    "#Dimension Diagnostic\n",
    "#real_y = [] \n",
    "# generate n real samples with class labels\n",
    "def generate_real_samples(n):\n",
    "\t# generate class labels\n",
    "\ty = ones((1, n))\n",
    "\n",
    "\ty = smooth_positive_labels(y)\n",
    "\t#Dimension Diagnostic\n",
    "\t#real_y.append(y)\n",
    "\n",
    "\treturn  y\n",
    "\n",
    "# select real samples\n",
    "#def generate_real_samples(dataset, n_samples):\n",
    "\t# choose random instances\n",
    "#\tix = randint(0, df.shape[0], n_samples)\n",
    "\t# select rows\n",
    "#\tX = df[ix:]\n",
    "\t# generate class labels\n",
    "#\ty = ones((1, n))\n",
    "#\ty = smooth_positive_labels(y)\n",
    "#\treturn X, y\n",
    "\n",
    "#Dimension Diagnostic\n",
    "#latent_x_input= []\n",
    "\n",
    "\n",
    "def smooth_negative_labels(y):\n",
    "\treturn y + random(y.shape) * 0.3\n",
    "\n",
    "#Dimension Diagnostic \n",
    "#gen_X_fake =[]\n",
    "#gen_y_fake =[]\n",
    "#gen_x_input=[]\n",
    "\n",
    "# use the generator to generate n fake examples, with class labels\n",
    "def generate_fake_samples(generator, latent_dim, n):\n",
    "\t# generate points in latent space\n",
    "\tx_input = generate_latent_points(latent_dim, n)\n",
    "\n",
    "\t#Dimension Diagnostic\n",
    "\t#x_in_gen.append(x_input)\n",
    "\n",
    "\t# predict outputs\n",
    "\tX = generator.predict(x_input)\n",
    "\t# create class labels\n",
    "\ty = zeros((n, 34))\n",
    "\ty = smooth_negative_labels(y)\n",
    "\n",
    "\t#Dimension Diagnostic\n",
    "\t#y_fake.append(y)\n",
    "\t#X_fake.append(X)\n",
    "\n",
    "\treturn X, y\n",
    "\t\n",
    "\t\n",
    "# evaluate the discriminator and plot real and fake points\n",
    "def summarize_performance(epoch, generator, discriminator, latent_dim, n=34):\n",
    "\t# prepare real samples\n",
    "\tfor row in range(len(df)):\n",
    "\t\tx_real, y_real = df[row:row+1], generate_real_samples(n)\n",
    "\n",
    "\t#x_real, y_real = generate_real_samples(df, 34)\n",
    "\n",
    "\t# evaluate discriminator on real examples\n",
    "\t_, acc_real = discriminator.evaluate(x_real, y_real, verbose=0)\n",
    "\t# prepare fake examples\n",
    "\tx_fake, y_fake = generate_fake_samples(generator, latent_dim, 1)\n",
    "\t# evaluate discriminator on fake examples\n",
    "\t_, acc_fake = discriminator.evaluate(x_fake, y_fake, verbose=0)\n",
    "\t# summarize discriminator performance\n",
    "\tprint(epoch, acc_real, acc_fake)\n",
    "\t# scatter plot real and fake data points\n",
    "\t#pyplot.scatter(x_real[:, 0], x_real[:, 1], color='red')\n",
    "\t#pyplot.scatter(x_fake[:, 0], x_fake[:, 1], color='blue')\n",
    "\t#pyplot.show()\n",
    " \n",
    "#Dimension Diagnostic\n",
    "model_x_fake = []\n",
    "#model_y_fake = []\n",
    "#model_x_real = []\n",
    "#model_y_real = []\n",
    "#model_x_gan=[]\n",
    "#model_y_gan=[]\n",
    "\n",
    "\n",
    "# create a line plot of loss for the gan and save to file\n",
    "def plot_history(d1_hist, d2_hist, g_hist, a1_hist, a2_hist):\n",
    "\t# plot loss\n",
    "\tpyplot.subplot(2, 1, 1)\n",
    "\tpyplot.plot(d1_hist, label='d-real')\n",
    "\tpyplot.plot(d2_hist, label='d-fake')\n",
    "\tpyplot.plot(g_hist, label='gen')\n",
    "\tpyplot.legend()\n",
    "\t# plot discriminator accuracy\n",
    "\tpyplot.subplot(2, 1, 2)\n",
    "\tpyplot.plot(a1_hist, label='acc-real')\n",
    "\tpyplot.plot(a2_hist, label='acc-fake')\n",
    "\tpyplot.legend()\n",
    "\t# save plot to file\n",
    "\tpyplot.savefig('results_baseline/plot_line_plot_loss.png')\n",
    "\tpyplot.close()\n",
    "\n",
    "# train the generator and discriminator\n",
    "def train(g_model, d_model, gan_model, latent_dim, n_epochs=100, n_batch=68, n_eval=20):\n",
    "\t\n",
    "# prepare lists for storing stats each iteration\n",
    "\td1_hist, d2_hist, g_hist, a1_hist, a2_hist = list(), list(), list(), list(), list()\n",
    "# manually enumerate epochs\n",
    "\tfor i in range(n_epochs):\n",
    "\t\t# prepare real samples\n",
    "\t\t#for row in range(len(df)):\n",
    "\t\t\t#x_real, y_real = df[row:row+1], generate_real_samples(n)\n",
    "\n",
    "\t\tx_real, y_real = df[i%len(df):i%len(df)+1], generate_real_samples(34)\n",
    "\n",
    "\t\t#x_real, y_real = generate_real_samples(df, 34)\n",
    "\n",
    "\t\t#Dimension Diagnostic\n",
    "\t\t#model_x_real.append(x_real)\n",
    "\t\t#model_y_real.append(y_real)\n",
    "\n",
    "\t\t# prepare fake examples\n",
    "\t\tx_fake, y_fake = generate_fake_samples(g_model, latent_dim, 1)\n",
    "\n",
    "\t\t#Dimension Diagnostic\n",
    "\t\tmodel_x_fake.append(x_fake)\n",
    "\t\t#model_y_fake.append(y_fake)\n",
    "\n",
    "\t\t# update discriminator\n",
    "\t\ty_real= noisy_labels(y_real,.05)\n",
    "\t\ty_fake= noisy_labels(y_fake,.05)\n",
    "\t\td_loss1, d_acc1 = d_model.train_on_batch(x_real, y_real)\n",
    "\t\td_loss2, d_acc2 = d_model.train_on_batch(x_fake, y_fake)\n",
    "\t\t# prepare points in latent space as input for the generator\n",
    "\t\tx_gan = generate_latent_points(latent_dim, 1)\n",
    "\t\t# create inverted labels for the fake samples\n",
    "\t\ty_gan = ones((1, 34))\n",
    "\n",
    "\t\t#Dimension Diagnostic\n",
    "\t\t#model_x_gan.append(x_gan)\n",
    "\t\t#model_y_gan.append(y_gan)\n",
    "\n",
    "\t\t# update the generator via the discriminator's error\n",
    "\t\tg_loss = gan_model.train_on_batch(x_gan, y_gan)\n",
    "\t\t# evaluate the model every n_eval epochs\n",
    "\t\n",
    "\t\t# summarize loss on this batch\n",
    "\t\t#print('>%d, d1=%.3f, d2=%.3f g=%.3f, a1=%d, a2=%d' %\n",
    "\t\t#\t(i+1, d_loss1, d_loss2, g_loss, int(100*d_acc1), int(100*d_acc2)))\n",
    "\t\t# record history\n",
    "\t\td1_hist.append(d_loss1)\n",
    "\t\td2_hist.append(d_loss2)\n",
    "\t\tg_hist.append(g_loss)\n",
    "\t\ta1_hist.append(d_acc1)\n",
    "\t\ta2_hist.append(d_acc2)\n",
    "\t\t# evaluate the model performance every 'epoch'\n",
    "\t\tif (i+1) % n_eval == 0:\n",
    "\t\t\tsummarize_performance(i, g_model, d_model, latent_dim)\n",
    "\n",
    "\tplot_history(d1_hist, d2_hist, g_hist, a1_hist, a2_hist)\n",
    "\n",
    "\n",
    "# make folder for results\n",
    "makedirs('results_baseline', exist_ok=True)\n",
    "# size of the latent space\n",
    "latent_dim = 100\n",
    "# create the discriminator\n",
    "discriminator = define_discriminator()\n",
    "# create the generator\n",
    "generator = define_generator(latent_dim)\n",
    "# create the gan\n",
    "gan_model = define_gan(generator, discriminator)\n",
    "# train model\n",
    "train(generator, discriminator, gan_model, latent_dim)"
   ]
  },
  {
   "cell_type": "code",
   "execution_count": 12,
   "metadata": {},
   "outputs": [],
   "source": [
    "#Dimension Checks"
   ]
  },
  {
   "cell_type": "code",
   "execution_count": 13,
   "metadata": {},
   "outputs": [],
   "source": [
    "#len(real_y),real_y[1].shape,real_y[2].shape,real_y[2].shape"
   ]
  },
  {
   "cell_type": "code",
   "execution_count": 14,
   "metadata": {},
   "outputs": [],
   "source": [
    "#len(model_x_real),model_x_real[1].shape,model_x_real[2].shape"
   ]
  },
  {
   "cell_type": "code",
   "execution_count": 15,
   "metadata": {},
   "outputs": [],
   "source": [
    "#len(model_y_real),model_y_real[1].shape,model_y_real[2].shape"
   ]
  },
  {
   "cell_type": "code",
   "execution_count": 16,
   "metadata": {},
   "outputs": [],
   "source": [
    "#len(model_x_fake), model_x_fake{1].shape,model_x_fake[2].shape"
   ]
  },
  {
   "cell_type": "code",
   "execution_count": 17,
   "metadata": {},
   "outputs": [],
   "source": [
    "#len(model_y_fake), model_y_fake[1].shape,model_y_fake[2].shape"
   ]
  },
  {
   "cell_type": "code",
   "execution_count": 18,
   "metadata": {},
   "outputs": [],
   "source": [
    "#len(model_x_gan),model_x_gan[1].shape,model_x_gan2].shape"
   ]
  },
  {
   "cell_type": "code",
   "execution_count": 19,
   "metadata": {},
   "outputs": [],
   "source": [
    "#len(model_y_gan),model_y_gan[1].shape,model_y_gan[2].shape"
   ]
  },
  {
   "cell_type": "code",
   "execution_count": 20,
   "metadata": {},
   "outputs": [],
   "source": [
    "#len(latent_x_input),latent_x_input[1].shape,latent_x_input[2].shape,latent_x_input[3].shape,latent_x_input[4].shape,"
   ]
  },
  {
   "cell_type": "code",
   "execution_count": 21,
   "metadata": {},
   "outputs": [],
   "source": [
    "#len(gen_x_input),gen_x_input[1].shape,gen_x_input[2].shape,gen_x_input[3].shape,"
   ]
  },
  {
   "cell_type": "code",
   "execution_count": 22,
   "metadata": {},
   "outputs": [],
   "source": [
    "#len(gen_X_fake), gen_X_fake[1].shape,gen_X_fake[2].shape,gen_X_fake{3].shape,gen_X_fake[4].shape"
   ]
  },
  {
   "cell_type": "code",
   "execution_count": 23,
   "metadata": {},
   "outputs": [],
   "source": [
    "#len(gen_y_fake), gen_y_fake[1].shape,gen_y_fake[2].shape,gen_y_fake[3].shape,gen_y_fake[4].shape"
   ]
  },
  {
   "cell_type": "code",
   "execution_count": 50,
   "metadata": {},
   "outputs": [
    {
     "output_type": "execute_result",
     "data": {
      "text/plain": "574,  0.13153492, -0.05732365,\n          0.0393037 ,  0.04404167,  0.07069601,  0.01945558]],\n       dtype=float32),\n array([[ 0.06822327,  0.11430866,  0.0543235 ,  0.16902661,  0.12597257,\n          0.14293984,  0.06857334, -0.01123631,  0.11747857,  0.04223321,\n         -0.0572692 ,  0.0589719 , -0.05313965,  0.1681132 , -0.00268531,\n          0.04084631,  0.00709485,  0.14570841, -0.02301747, -0.0468325 ,\n         -0.03087743,  0.06324296,  0.00921736, -0.07036915,  0.21995015,\n         -0.01058761, -0.02013329, -0.05223878,  0.17574334, -0.08519697,\n          0.02872556,  0.06674926,  0.08705831,  0.04953057]],\n       dtype=float32),\n array([[ 0.18559094,  0.21693203,  0.14160477,  0.18699443,  0.20387095,\n          0.23904946,  0.07830602,  0.01073819,  0.20560263,  0.11470419,\n         -0.0828713 ,  0.08088544, -0.05790745,  0.19028321,  0.01171534,\n          0.09494632,  0.12284372,  0.22793601, -0.00852719,  0.00542408,\n          0.04196319,  0.16703366, -0.00154871,  0.05773368,  0.32534367,\n          0.09861369, -0.00576396,  0.06732288,  0.2274497 , -0.07012308,\n          0.17744923,  0.07491647,  0.100333  ,  0.07480159]],\n       dtype=float32),\n array([[ 0.19257767,  0.233851  ,  0.1512503 ,  0.22336456,  0.21366063,\n          0.2641621 ,  0.08297098,  0.01069218,  0.23073429,  0.1388581 ,\n         -0.06996373,  0.09330411, -0.05927071,  0.20632562,  0.01942033,\n          0.09323902,  0.13146661,  0.24700339,  0.01628009,  0.03056874,\n          0.05510088,  0.18294683,  0.0128903 ,  0.06397924,  0.34540313,\n          0.09867548,  0.01542071,  0.06976278,  0.25475684, -0.08091698,\n          0.17242585,  0.08081766,  0.10487625,  0.08071078]],\n       dtype=float32),\n array([[ 0.29874018,  0.35012844,  0.2542273 ,  0.29592344,  0.31843692,\n          0.37800258,  0.12761472,  0.01212557,  0.36272418,  0.24117799,\n         -0.08102562,  0.13604632, -0.04986679,  0.27906075,  0.04114654,\n          0.15070783,  0.24390236,  0.35909924,  0.02161319,  0.05467011,\n          0.10812496,  0.29294968,  0.00398013,  0.15266392,  0.5036412 ,\n          0.19270127,  0.03461227,  0.15679066,  0.34002832, -0.08400951,\n          0.32027492,  0.13447905,  0.13268273,  0.12765944]],\n       dtype=float32),\n array([[ 0.3781807 ,  0.39143002,  0.321027  ,  0.2842873 ,  0.36828554,\n          0.42016834,  0.16295345,  0.05848669,  0.42477933,  0.2854873 ,\n         -0.08114652,  0.15626848, -0.05702736,  0.28006178,  0.05331322,\n          0.1903461 ,  0.3144087 ,  0.38057083,  0.06463587,  0.08369453,\n          0.17158732,  0.35666317,  0.00552554,  0.25771284,  0.5610934 ,\n          0.27759027,  0.05770722,  0.24074498,  0.31886116, -0.02837496,\n          0.41217464,  0.13593625,  0.1248032 ,  0.12927346]],\n       dtype=float32),\n array([[ 0.5670685 ,  0.6147051 ,  0.5077388 ,  0.41657475,  0.5451737 ,\n          0.62816095,  0.26275834,  0.104795  ,  0.6562227 ,  0.45464578,\n         -0.11113172,  0.2512958 , -0.0746365 ,  0.41880232,  0.1010114 ,\n          0.3071949 ,  0.48608625,  0.55094063,  0.12489648,  0.14056373,\n          0.28821868,  0.53930604,  0.00536004,  0.40508297,  0.8542901 ,\n          0.42499682,  0.09439163,  0.38761508,  0.47306   , -0.0139819 ,\n          0.6555452 ,  0.19831905,  0.18315837,  0.2268608 ]],\n       dtype=float32),\n array([[ 0.2289703 ,  0.28421342,  0.22249457,  0.24081281,  0.25549376,\n          0.31404024,  0.1415319 ,  0.02960195,  0.31505236,  0.20467806,\n         -0.02121324,  0.13151985, -0.0047495 ,  0.23115484,  0.05192079,\n          0.13948105,  0.21693751,  0.26730585,  0.0679734 ,  0.09355966,\n          0.12017439,  0.24926318,  0.03961166,  0.18793838,  0.38896248,\n          0.19713874,  0.05848345,  0.15225756,  0.25419867, -0.00629378,\n          0.26314285,  0.1089979 ,  0.11397356,  0.10592604]],\n       dtype=float32),\n array([[ 0.7270866 ,  0.8050787 ,  0.6837383 ,  0.5317241 ,  0.7212581 ,\n          0.8199157 ,  0.3822813 ,  0.19812572,  0.8377708 ,  0.56942916,\n         -0.11101168,  0.38486096, -0.09167456,  0.5290593 ,  0.20199552,\n          0.41458005,  0.62416494,  0.6758047 ,  0.21366867,  0.21789035,\n          0.3792127 ,  0.7119655 ,  0.08369796,  0.51922   ,  1.0563416 ,\n          0.5627209 ,  0.17317155,  0.48190078,  0.6133433 ,  0.03931095,\n          0.8106974 ,  0.3032023 ,  0.2945589 ,  0.30991757]],\n       dtype=float32),\n array([[ 1.4423958 ,  1.5900731 ,  1.4018952 ,  1.0007302 ,  1.3985418 ,\n          1.6128905 ,  0.79555386,  0.45547915,  1.7009327 ,  1.1685545 ,\n         -0.10693574,  0.7866912 , -0.10977667,  0.97102207,  0.4743573 ,\n          0.851956  ,  1.2983961 ,  1.2346604 ,  0.46507087,  0.49260825,\n          0.84740025,  1.4491502 ,  0.19644675,  1.1391112 ,  2.067698  ,\n          1.1796843 ,  0.42198902,  1.0341997 ,  1.1398823 ,  0.15089202,\n          1.658951  ,  0.60016584,  0.58543795,  0.61652577]],\n       dtype=float32),\n array([[ 0.8290886 ,  0.92227197,  0.8135705 ,  0.56105214,  0.82702047,\n          0.9245786 ,  0.48232576,  0.27292812,  0.9977637 ,  0.68018794,\n          0.00486901,  0.48346627, -0.02645485,  0.56878716,  0.29225105,\n          0.5075526 ,  0.7441213 ,  0.6804854 ,  0.26829234,  0.3039967 ,\n          0.47867507,  0.8331346 ,  0.15726596,  0.6828036 ,  1.1475972 ,\n          0.7139555 ,  0.2808111 ,  0.5715591 ,  0.67311156,  0.13436893,\n          0.92575467,  0.35825738,  0.38460624,  0.35406622]],\n       dtype=float32),\n array([[1.3217945 , 1.4585983 , 1.3661727 , 0.8047141 , 1.280748  ,\n         1.4477307 , 0.77685297, 0.48310557, 1.6439639 , 1.1393307 ,\n         0.11989254, 0.80216545, 0.05232575, 0.8366307 , 0.4818784 ,\n         0.8551689 , 1.271437  , 0.9910436 , 0.44609562, 0.56716424,\n         0.84960437, 1.3699821 , 0.28201878, 1.2543789 , 1.8032876 ,\n         1.2401161 , 0.5415878 , 1.003881  , 0.9973822 , 0.30943796,\n         1.5226133 , 0.5179575 , 0.6050403 , 0.5407377 ]], dtype=float32),\n array([[1.6311507 , 1.821585  , 1.7405294 , 0.936171  , 1.6073895 ,\n         1.7805367 , 0.9837777 , 0.659431  , 2.0890763 , 1.4336994 ,\n         0.27005857, 1.0700955 , 0.12429312, 0.9222316 , 0.64937633,\n         1.1213489 , 1.6222305 , 1.1420119 , 0.5088259 , 0.7563512 ,\n         1.099791  , 1.742579  , 0.4402597 , 1.6222203 , 2.2037098 ,\n         1.6021204 , 0.78791875, 1.2530664 , 1.2209855 , 0.46334788,\n         1.8116893 , 0.62135774, 0.8442747 , 0.6191072 ]], dtype=float32),\n array([[2.337765  , 2.6349683 , 2.5636232 , 1.2779624 , 2.3178632 ,\n         2.5290987 , 1.4156787 , 1.0170655 , 3.1428    , 2.149935  ,\n         0.60245156, 1.6548651 , 0.31801754, 1.2207416 , 0.9771582 ,\n         1.7205964 , 2.385067  , 1.5469083 , 0.63454324, 1.1822586 ,\n         1.6090573 , 2.541775  , 0.79133946, 2.4535093 , 3.162433  ,\n         2.4206235 , 1.3034595 , 1.7702945 , 1.7883368 , 0.7578413 ,\n         2.5523124 , 0.8815225 , 1.3507656 , 0.81816864]], dtype=float32),\n array([[2.366228  , 2.657132  , 2.6979873 , 1.1446311 , 2.3231914 ,\n         2.500068  , 1.4259772 , 1.0760791 , 3.3176267 , 2.2829528 ,\n         0.8524485 , 1.7853385 , 0.50277007, 1.0770067 , 0.98935103,\n         1.8492796 , 2.5137198 , 1.4296292 , 0.5604111 , 1.2527951 ,\n         1.6915233 , 2.6270838 , 0.91563374, 2.6899574 , 3.1649606 ,\n         2.609699  , 1.4777641 , 1.8214443 , 1.781736  , 0.9258042 ,\n         2.514683  , 0.80032337, 1.4820459 , 0.7205143 ]], dtype=float32),\n array([[1.2240155 , 1.4098346 , 1.4419779 , 0.5768169 , 1.2279989 ,\n         1.2994987 , 0.7661443 , 0.582869  , 1.816211  , 1.2409927 ,\n         0.5702757 , 0.9915224 , 0.3546671 , 0.5156304 , 0.51233643,\n         1.0282407 , 1.3644247 , 0.6956101 , 0.25882763, 0.7228218 ,\n         0.9102546 , 1.3911258 , 0.56818956, 1.5015104 , 1.6512495 ,\n         1.4311051 , 0.8575587 , 0.9484357 , 0.9620211 , 0.5500661 ,\n         1.2664931 , 0.3972476 , 0.85674393, 0.34392273]], dtype=float32),\n array([[2.1153646 , 2.3946893 , 2.5270429 , 0.85084236, 2.0979364 ,\n         2.1470995 , 1.2932094 , 1.0638638 , 3.1983364 , 2.2212787 ,\n         1.1354501 , 1.7859888 , 0.7048366 , 0.72329694, 0.8802444 ,\n         1.831018  , 2.3999536 , 1.1021713 , 0.35875824, 1.2785006 ,\n         1.6157126 , 2.410632  , 1.0462801 , 2.6983235 , 2.8151515 ,\n         2.5551941 , 1.6404922 , 1.6302218 , 1.6021148 , 1.0183144 ,\n         2.118463  , 0.62280566, 1.5633242 , 0.4764688 ]], dtype=float32),\n array([[1.4806235 , 1.6922044 , 1.8161883 , 0.5486162 , 1.5011774 ,\n         1.4848126 , 0.9262429 , 0.79520476, 2.3415852 , 1.62076   ,\n         0.9480551 , 1.3245714 , 0.5878126 , 0.42166036, 0.6414244 ,\n         1.3576063 , 1.7511374 , 0.7018967 , 0.21249554, 0.9560462 ,\n         1.1610249 , 1.74493   , 0.8577241 , 2.0044136 , 1.9625579 ,\n         1.8782266 , 1.2356102 , 1.1432463 , 1.1374513 , 0.81266874,\n         1.4316906 , 0.4016501 , 1.202854  , 0.26797444]], dtype=float32),\n array([[1.4680967 , 1.6743147 , 1.8439897 , 0.44578573, 1.4823505 ,\n         1.4125726 , 0.92907214, 0.8300246 , 2.4209406 , 1.6956121 ,\n         1.0866842 , 1.3972262 , 0.68696916, 0.30518556, 0.60842556,\n         1.4175793 , 1.8056824 , 0.6101915 , 0.16745788, 0.99397874,\n         1.1966096 , 1.755677  , 0.92345625, 2.1206534 , 1.9470192 ,\n         1.9743713 , 1.3627241 , 1.1395907 , 1.1067508 , 0.87454236,\n         1.3933684 , 0.35960525, 1.2758334 , 0.17974782]], dtype=float32),\n array([[0.8589594 , 1.0207803 , 1.1003232 , 0.30385017, 0.91478306,\n         0.8652258 , 0.5735893 , 0.4972086 , 1.516738  , 1.0464678 ,\n         0.7325831 , 0.9020974 , 0.47490606, 0.19865914, 0.36534175,\n         0.88935935, 1.0925757 , 0.3527198 , 0.0488768 , 0.64126897,\n         0.6943505 , 1.0554926 , 0.64121664, 1.2810259 , 1.2031515 ,\n         1.2039965 , 0.8785886 , 0.61950225, 0.718921  , 0.5163733 ,\n         0.75266033, 0.2218614 , 0.8709676 , 0.06271065]], dtype=float32),\n array([[ 1.8522427 ,  2.1205268 ,  2.4058964 ,  0.4005412 ,  1.8938723 ,\n          1.657539  ,  1.2191553 ,  1.141172  ,  3.402143  ,  2.4122212 ,\n          1.7911819 ,  2.0531123 ,  1.2101235 ,  0.09436679,  0.73967385,\n          1.9849498 ,  2.4897017 ,  0.568597  ,  0.08466363,  1.4450243 ,\n          1.5866708 ,  2.3417056 ,  1.485086  ,  3.0435517 ,  2.5286536 ,\n          2.8020687 ,  2.0727472 ,  1.4314767 ,  1.4189514 ,  1.260376  ,\n          1.626238  ,  0.37137428,  1.9461629 , -0.04115642]],\n       dtype=float32),\n array([[ 2.8444002 ,  3.2160413 ,  3.7379777 ,  0.3757792 ,  2.8800712 ,\n          2.3692806 ,  1.8841362 ,  1.8474953 ,  5.4809294 ,  3.9537156 ,\n          3.162282  ,  3.3585808 ,  2.1941314 , -0.1997731 ,  1.0709258 ,\n          3.172465  ,  4.006024  ,  0.63403106,  0.00932452,  2.3650844 ,\n          2.5231943 ,  3.7216015 ,  2.4886098 ,  5.065366  ,  3.884783  ,\n          4.614605  ,  3.4464707 ,  2.2337985 ,  2.0703235 ,  2.1412873 ,\n          2.4718628 ,  0.42045146,  3.2256696 , -0.3226707 ]],\n       dtype=float32),\n array([[ 0.7040388 ,  0.8852126 ,  0.97099495,  0.18848398,  0.81430537,\n          0.6779791 ,  0.5229376 ,  0.4793741 ,  1.520746  ,  1.055871  ,\n          0.89668256,  0.9459807 ,  0.5966997 , -0.00428884,  0.30764765,\n          0.8865193 ,  1.0447844 ,  0.18394947, -0.06414568,  0.6593489 ,\n          0.6033244 ,  0.9624348 ,  0.7705364 ,  1.283052  ,  1.0731673 ,\n          1.2021015 ,  0.9796815 ,  0.4769612 ,  0.67098683,  0.5149792 ,\n          0.5080882 ,  0.1550171 ,  0.984961  , -0.12964718]],\n       dtype=float32),\n array([[ 1.2434919 ,  1.4405947 ,  1.714193  ,  0.03616608,  1.2870233 ,\n          0.9280847 ,  0.89322305,  0.8581283 ,  2.7943234 ,  2.048971  ,\n          1.8667779 ,  1.7751869 ,  1.3672525 , -0.36120534,  0.40228984,\n          1.5578864 ,  2.0209355 ,  0.06802874, -0.08908103,  1.2475613 ,\n          1.1852543 ,  1.7903852 ,  1.4305117 ,  2.6605    ,  1.7954521 ,\n          2.3939857 ,  1.9107285 ,  0.97864306,  0.9516723 ,  1.0995518 ,\n          0.96894705,  0.10102274,  1.8002708 , -0.45014828]],\n       dtype=float32),\n array([[ 1.0957135 ,  1.3004372 ,  1.5469711 , -0.00648535,  1.1787903 ,\n          0.78195   ,  0.8283438 ,  0.79805064,  2.717487  ,  1.978997  ,\n          1.9293795 ,  1.7630811 ,  1.4203293 , -0.4613677 ,  0.33206767,\n          1.481754  ,  1.9318947 , -0.02738931, -0.17126429,  1.2444228 ,\n          1.0619068 ,  1.6600981 ,  1.4848425 ,  2.57227   ,  1.6538789 ,\n          2.3179913 ,  1.9328635 ,  0.83285356,  0.90102935,  1.0274571 ,\n          0.78880703,  0.07020201,  1.835766  , -0.5511425 ]],\n       dtype=float32),\n array([[ 1.1200436 ,  1.3405362 ,  1.602978  , -0.09870686,  1.2218597 ,\n          0.7254786 ,  0.87146467,  0.8605897 ,  3.0305228 ,  2.2099597 ,\n          2.2851217 ,  2.0012631 ,  1.7041107 , -0.6710606 ,  0.31976283,\n          1.6155026 ,  2.1377041 , -0.17947437, -0.2649667 ,  1.3953488 ,\n          1.1120601 ,  1.8144671 ,  1.7420098 ,  2.8765728 ,  1.7414201 ,\n          2.6074877 ,  2.231381  ,  0.8322759 ,  0.92183125,  1.131155  ,\n          0.7400897 ,  0.01355437,  2.1395211 , -0.76210415]],\n       dtype=float32),\n array([[ 2.141218  ,  2.4972498 ,  3.1075668 , -0.59912413,  2.2453885 ,\n          1.0175682 ,  1.6860341 ,  1.7472758 ,  6.351098  ,  4.702082  ,\n          5.131773  ,  4.25676   ,  3.9181106 , -1.9248235 ,  0.4370031 ,\n          3.2493653 ,  4.468223  , -0.77982485, -0.66466933,  2.9458046 ,\n          2.2736723 ,  3.711009  ,  3.7811277 ,  6.282091  ,  3.3336616 ,\n          5.625173  ,  4.866483  ,  1.6713598 ,  1.6003274 ,  2.4428842 ,\n          1.3792592 , -0.16770475,  4.591153  , -1.9712515 ]],\n       dtype=float32),\n array([[ 1.3673035 ,  1.6395693 ,  2.0667968 , -0.58852696,  1.4542081 ,\n          0.4692024 ,  1.1636093 ,  1.1965088 ,  4.684899  ,  3.4840953 ,\n          4.0182557 ,  3.197726  ,  3.1333523 , -1.6674205 ,  0.16250691,\n          2.2742844 ,  3.24572   , -0.8222704 , -0.5941116 ,  2.20603   ,\n          1.5510924 ,  2.6182508 ,  2.9133394 ,  4.703079  ,  2.2482    ,\n          4.1852913 ,  3.7096694 ,  1.0741202 ,  1.0748001 ,  1.7681983 ,\n          0.80375946, -0.2197366 ,  3.524025  , -1.6970749 ]],\n       dtype=float32),\n array([[ 1.2131336 ,  1.5200368 ,  1.9357013 , -0.74666405,  1.3425997 ,\n          0.16016176,  1.1175897 ,  1.123912  ,  4.981366  ,  3.7241945 ,\n          4.5468955 ,  3.4750288 ,  3.5936456 , -2.0345445 ,  0.02588346,\n          2.2556505 ,  3.397174  , -1.1549672 , -0.7664178 ,  2.4098487 ,\n          1.4694827 ,  2.6577113 ,  3.3021326 ,  5.064079  ,  2.1539216 ,\n          4.4697895 ,  4.085076  ,  0.9388265 ,  1.0481489 ,  1.822996  ,\n          0.5614817 , -0.31247815,  3.943153  , -2.110967  ]],\n       dtype=float32),\n array([[ 1.2175493 ,  1.5350109 ,  1.994607  , -1.0598799 ,  1.382075  ,\n         -0.17278133,  1.2101034 ,  1.1875166 ,  5.9100447 ,  4.455598  ,\n          5.670175  ,  4.1748343 ,  4.561174  , -2.6837454 , -0.1675923 ,\n          2.493542  ,  3.958106  , -1.7213757 , -1.0205204 ,  2.92242   ,\n          1.5306358 ,  2.9921148 ,  4.1134067 ,  6.063739  ,  2.271688  ,\n          5.307346  ,  5.033127  ,  0.88814527,  1.1489309 ,  2.0905418 ,\n          0.3356612 , -0.42402387,  4.8805575 , -2.8231447 ]],\n       dtype=float32),\n array([[ 0.27579197,  0.42469448,  0.49076453, -0.21957338,  0.3972705 ,\n         -0.06212504,  0.3369352 ,  0.26088992,  1.720944  ,  1.2858038 ,\n          1.7073994 ,  1.230165  ,  1.3734567 , -0.7204379 , -0.07790901,\n          0.68667436,  1.1089396 , -0.5176899 , -0.33163556,  0.8765805 ,\n          0.32347912,  0.800972  ,  1.3016219 ,  1.6904256 ,  0.63375497,\n          1.5002968 ,  1.519566  ,  0.12758648,  0.43504727,  0.53185254,\n         -0.08892765, -0.07200303,  1.5583463 , -0.89326125]],\n       dtype=float32),\n array([[ 0.47329855,  0.76828074,  0.9354633 , -0.74440044,  0.72377986,\n         -0.5993374 ,  0.7697275 ,  0.44519436,  4.221451  ,  3.2062087 ,\n          4.469423  ,  3.0708516 ,  3.7442377 , -2.0674274 , -0.4521332 ,\n          1.4713519 ,  2.665001  , -1.6852142 , -0.8206501 ,  2.197886  ,\n          0.6856665 ,  1.883133  ,  3.3037376 ,  4.388551  ,  1.2118986 ,\n          3.7851155 ,  3.8908427 ,  0.1686709 ,  0.90832233,  1.3311906 ,\n         -0.39133707, -0.21367702,  3.9226282 , -2.4902155 ]],\n       dtype=float32),\n array([[ 0.3368648 ,  0.72986305,  0.76080996, -0.74144584,  0.78369635,\n         -0.912892  ,  0.9091357 ,  0.21712963,  4.9342265 ,  3.779042  ,\n          5.443513  ,  3.6600332 ,  4.626974  , -2.4116738 , -0.74362487,\n          1.531506  ,  2.999055  , -2.1725607 , -0.9608614 ,  2.6491606 ,\n          0.4862445 ,  1.998606  ,  4.110708  ,  5.115348  ,  1.1543622 ,\n          4.417232  ,  4.784895  , -0.14633702,  1.261061  ,  1.3740146 ,\n         -0.9110178 , -0.08106311,  4.941113  , -3.1665146 ]],\n       dtype=float32),\n array([[ 0.19844748,  0.7858294 ,  0.60710704, -0.8664834 ,  1.0551522 ,\n         -1.5469291 ,  1.3874747 , -0.14314926,  6.9895244 ,  5.390035  ,\n          8.036911  ,  5.257916  ,  6.9538603 , -3.446356  , -1.4101077 ,\n          1.8876553 ,  4.1149755 , -3.3409278 , -1.2256784 ,  3.908445  ,\n          0.22018835,  2.5837374 ,  6.16405   ,  7.3210998 ,  1.2345932 ,\n          6.310654  ,  7.134673  , -0.74336684,  2.0987291 ,  1.7376132 ,\n         -1.9720684 ,  0.16124626,  7.4848413 , -4.830733  ]],\n       dtype=float32),\n array([[ 0.0304618 ,  0.22368717,  0.07204036,  0.00277295,  0.3247518 ,\n         -0.20865431,  0.34757885, -0.10577341,  1.4454554 ,  1.0895157 ,\n          1.6408386 ,  1.0825766 ,  1.4031651 , -0.5190977 , -0.28312403,\n          0.374783  ,  0.79095113, -0.6126114 , -0.23822851,  0.8283437 ,\n         -0.07438608,  0.4674267 ,  1.3425888 ,  1.4259006 ,  0.2821291 ,\n          1.240602  ,  1.4917161 , -0.28090504,  0.6400722 ,  0.2617943 ,\n         -0.57922095,  0.13756828,  1.6649005 , -0.9557238 ]],\n       dtype=float32),\n array([[-0.08718466,  0.2566129 , -0.20609479,  0.03474744,  0.5882267 ,\n         -0.75731295,  0.77420753, -0.5699753 ,  3.166894  ,  2.3940358 ,\n          3.9034877 ,  2.4437602 ,  3.4774249 , -1.3335927 , -0.91656387,\n          0.5742339 ,  1.6984609 , -1.6138974 , -0.3416982 ,  1.8809607 ,\n         -0.42536378,  0.8651066 ,  3.1192248 ,  3.2763662 ,  0.27155516,\n          2.8652775 ,  3.5559046 , -0.93076265,  1.488784  ,  0.45511347,\n         -1.7267151 ,  0.4517213 ,  3.9550157 , -2.4221194 ]],\n       dtype=float32),\n array([[-0.09362793,  0.10413623, -0.22408046,  0.1721409 ,  0.29883382,\n         -0.3208273 ,  0.3939891 , -0.41427192,  1.3274461 ,  1.0088634 ,\n          1.7448914 ,  1.0568511 ,  1.5803678 , -0.46332014, -0.44701037,\n          0.15985401,  0.6737778 , -0.70091134, -0.06828222,  0.821846  ,\n         -0.32592303,  0.27035534,  1.4047109 ,  1.3661369 ,  0.03974339,\n          1.2297022 ,  1.591302  , -0.57568675,  0.8068298 ,  0.09929156,\n         -0.9795989 ,  0.3149291 ,  1.8451391 , -1.0962299 ]],\n       dtype=float32),\n array([[-3.4646675e-02,  1.7312694e-01, -2.7740097e-01,  3.5358268e-01,\n          4.4197476e-01, -2.1355854e-01,  4.6478558e-01, -5.0091475e-01,\n          1.3744447e+00,  1.0121348e+00,  1.7728686e+00,  1.0810406e+00,\n          1.5936519e+00, -3.0279237e-01, -4.2330942e-01,  1.2074372e-01,\n          6.4261812e-01, -6.5245038e-01, -3.1368345e-02,  8.7990725e-01,\n         -4.5775998e-01,  1.9796130e-01,  1.5020981e+00,  1.3333985e+00,\n          6.7797795e-02,  1.2175893e+00,  1.6358013e+00, -7.1538252e-01,\n          1.0308930e+00,  7.1255490e-06, -1.1787608e+00,  4.3978903e-01,\n          1.9818677e+00, -1.0869144e+00]], dtype=float32),\n array([[-0.03328912,  0.16388354, -0.40984437,  0.43667576,  0.47089222,\n         -0.2399779 ,  0.509023  , -0.6608164 ,  1.296202  ,  0.95401156,\n          1.757795  ,  1.0447913 ,  1.6180015 , -0.2473324 , -0.46836966,\n         -0.00352421,  0.5753288 , -0.65391153,  0.1114639 ,  0.82299066,\n         -0.57404   ,  0.08769479,  1.4916131 ,  1.259565  , -0.03342963,\n          1.1889046 ,  1.6492213 , -0.8490051 ,  1.1314607 , -0.09247746,\n         -1.3654169 ,  0.52476746,  2.0082648 , -1.0849066 ]],\n       dtype=float32)]"
     },
     "metadata": {},
     "execution_count": 50
    }
   ],
   "source": [
    "model_x_fake\n"
   ]
  },
  {
   "cell_type": "code",
   "execution_count": 25,
   "metadata": {},
   "outputs": [
    {
     "output_type": "error",
     "ename": "NameError",
     "evalue": "name 'x_fake' is not defined",
     "traceback": [
      "\u001b[0;31m---------------------------------------------------------------------------\u001b[0m",
      "\u001b[0;31mNameError\u001b[0m                                 Traceback (most recent call last)",
      "\u001b[0;32m<ipython-input-25-751ed497a2d8>\u001b[0m in \u001b[0;36m<module>\u001b[0;34m\u001b[0m\n\u001b[0;32m----> 1\u001b[0;31m \u001b[0mx_fake\u001b[0m\u001b[0;34m\u001b[0m\u001b[0;34m\u001b[0m\u001b[0m\n\u001b[0m",
      "\u001b[0;31mNameError\u001b[0m: name 'x_fake' is not defined"
     ]
    }
   ],
   "source": [
    "x_fake"
   ]
  },
  {
   "cell_type": "code",
   "execution_count": null,
   "metadata": {},
   "outputs": [],
   "source": []
  }
 ]
}