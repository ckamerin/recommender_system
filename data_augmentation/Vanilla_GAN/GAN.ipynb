{
 "metadata": {
  "language_info": {
   "codemirror_mode": {
    "name": "ipython",
    "version": 3
   },
   "file_extension": ".py",
   "mimetype": "text/x-python",
   "name": "python",
   "nbconvert_exporter": "python",
   "pygments_lexer": "ipython3",
   "version": "3.8.5-final"
  },
  "orig_nbformat": 2,
  "kernelspec": {
   "name": "python_defaultSpec_1599875408015",
   "display_name": "Python 3.8.5 64-bit ('rec_sys': conda)"
  }
 },
 "nbformat": 4,
 "nbformat_minor": 2,
 "cells": [
  {
   "cell_type": "code",
   "execution_count": 1,
   "metadata": {
    "tags": []
   },
   "outputs": [
    {
     "output_type": "stream",
     "name": "stdout",
     "text": "WARNING:tensorflow:From /opt/anaconda3/envs/rec_sys/lib/python3.8/site-packages/tensorflow_gan/python/estimator/tpu_gan_estimator.py:42: The name tf.estimator.tpu.TPUEstimator is deprecated. Please use tf.compat.v1.estimator.tpu.TPUEstimator instead.\n\n"
    }
   ],
   "source": [
    "import tensorflow as tf\n",
    "import tensorflow_gan as tfgan\n",
    "import numpy as np\n",
    "from numpy import zeros\n",
    "from numpy import ones\n",
    "from numpy import hstack\n",
    "from numpy.random import rand\n",
    "from numpy.random import randn\n",
    "from numpy.random import random\n",
    "from numpy.random import choice\n",
    "from numpy.random import randint\n",
    "import pandas as pd\n",
    "import glob\n",
    "import os\n",
    "from os import makedirs\n",
    "import PIL\n",
    "from tensorflow.keras import layers\n",
    "from keras import backend\n",
    "from keras.models import Sequential\n",
    "from keras.layers import Dense\n",
    "from keras.layers import LeakyReLU\n",
    "from keras.constraints import Constraint\n",
    "from keras.initializers import RandomNormal\n",
    "from keras.optimizers import Adam\n",
    "from keras.optimizers import RMSprop\n",
    "from keras.utils.vis_utils import plot_model\n",
    "import seaborn as sb\n",
    "from matplotlib import pyplot\n",
    "import matplotlib.pyplot as plt\n",
    "import matplotlib.gridspec as gridspec\n",
    "import pydot\n",
    "\n",
    "sb.set()"
   ]
  },
  {
   "cell_type": "code",
   "execution_count": 2,
   "metadata": {},
   "outputs": [],
   "source": [
    "import os \n",
    "import earthpy as et "
   ]
  },
  {
   "cell_type": "code",
   "execution_count": 3,
   "metadata": {},
   "outputs": [],
   "source": [
    "## Code needed to set a new working directory\n",
    "\n",
    "#my_path = os.path.join(et.io.HOME, 'recommender_system')\n",
    "#os.mkdir(my_path)\n",
    "\n",
    "## Set Working Directory\n",
    "os.chdir(os.path.join(et.io.HOME, 'recommender_system'))"
   ]
  },
  {
   "cell_type": "code",
   "execution_count": 4,
   "metadata": {},
   "outputs": [
    {
     "output_type": "execute_result",
     "data": {
      "text/plain": "'/Users/chriskamerin/recommender_system'"
     },
     "metadata": {},
     "execution_count": 4
    }
   ],
   "source": [
    "# Check if it worked\n",
    "os.getcwd()"
   ]
  },
  {
   "cell_type": "code",
   "execution_count": 5,
   "metadata": {},
   "outputs": [],
   "source": [
    "df =pd.read_csv('data_in_use/df2.csv')"
   ]
  },
  {
   "cell_type": "code",
   "execution_count": 6,
   "metadata": {},
   "outputs": [],
   "source": [
    "df = df.sample(frac=1).reset_index(drop=True)"
   ]
  },
  {
   "cell_type": "code",
   "execution_count": 7,
   "metadata": {},
   "outputs": [],
   "source": [
    "df['user_id']  = pd.Categorical(df.user_id).codes\n",
    "df['headphone_name']  = pd.Categorical(df.headphone_name).codes"
   ]
  },
  {
   "cell_type": "code",
   "execution_count": 8,
   "metadata": {},
   "outputs": [],
   "source": [
    "#Set columns we want to normalize\n",
    "\n",
    "cols_to_norm = ['sound_quality_importance', 'positional_importance', 'loud_importance',\n",
    "       'mic_importance', 'wireless_importance','noise_canceling_importance', 'in_ear_importance',\n",
    "       'on_ear_importance', 'over_ear_importance', 'no_pref_oninover', 'recording_quality', 'noise_handling','user_rating',\n",
    "       'Impedance', 'sensitivity(dbv)', 'accuracy',\n",
    "       'weighted_harmonic_distortion', 'soundstage', 'imaging',\n",
    "       'noise_isolation', 'wireless']\n",
    "imp_col = ['sound_quality_importance', 'positional_importance', 'loud_importance',\n",
    "       'mic_importance', 'wireless_importance', \n",
    "#       'price_sensitivity'\n",
    "]\n",
    "#price_col = ['max_price','price']\n",
    "hp_feat_col = ['recording_quality', 'noise_handling', 'accuracy',\n",
    "       'weighted_harmonic_distortion', 'soundstage', 'imaging',\n",
    "       'noise_isolation', 'wireless']\n",
    "remaining_col = ['Impedance', 'sensitivity(dbv)']\n",
    "\n"
   ]
  },
  {
   "cell_type": "code",
   "execution_count": 9,
   "metadata": {},
   "outputs": [],
   "source": [
    "df =df[['game_use', 'rec_use', 'studio_use', 'exercise_use',\n",
    "       'office_use', 'podcast_use', 'travel_use', 'other_use',\n",
    "       'sound_quality_importance', 'positional_importance', 'loud_importance',\n",
    "       'mic_importance', 'wireless_importance', 'in_ear_importance',\n",
    "       'on_ear_importance', 'over_ear_importance', 'no_pref_oninover','attached_mic', 'recording_quality',\n",
    "       'noise_handling', 'Impedance', 'sensitivity(dbv)', 'accuracy',\n",
    "      'weighted_harmonic_distortion', 'soundstage', 'imaging',\n",
    "      'noise_isolation', 'wireless', 'over_ear_style', 'on_ear_style',\n",
    "      'in_ear_style', 'open_back', 'close_back', 'semiclosed_back']]\n",
    "#ydf =df[[ 'attached_mic', 'recording_quality',\n",
    "#       'noise_handling', 'Impedance', 'sensitivity(dbv)', 'accuracy',\n",
    "#      'weighted_harmonic_distortion', 'soundstage', 'imaging',\n",
    "#      'noise_isolation', 'wireless', 'over_ear_style', 'on_ear_style',\n",
    "#       'in_ear_style', 'open_back', 'close_back', 'semiclosed_back']]\n",
    "#xtest=df1[['game_use', 'rec_use', 'studio_use', 'exercise_use',\n",
    "#       'office_use', 'podcast_use', 'travel_use', 'other_use',\n",
    "#       'sound_quality_importance', 'positional_importance', 'loud_importance',\n",
    "#       'mic_importance', 'wireless_importance', 'in_ear_importance',\n",
    "#       'on_ear_importance', 'over_ear_importance', 'no_pref_oninover']][12:]\n",
    "#ytest=df1[[ 'attached_mic', 'recording_quality',\n",
    "#       'noise_handling', 'Impedance', 'sensitivity(dbv)', 'accuracy',\n",
    "#       'weighted_harmonic_distortion', 'soundstage', 'imaging',\n",
    "#       'noise_isolation', 'wireless', 'over_ear_style', 'on_ear_style',\n",
    "#       'in_ear_style', 'open_back', 'close_back', 'semiclosed_back']][12:]"
   ]
  },
  {
   "cell_type": "code",
   "execution_count": 10,
   "metadata": {},
   "outputs": [],
   "source": [
    "#normalize columns in df\n",
    "\n",
    "df=df.fillna(0)\n",
    "df[imp_col] = df[imp_col].apply(lambda x: (x - 0) / (10 - 0))\n",
    "#df[price_col] = df[price_col].apply(lambda x: (x - x.min()) / (x.max() - x.min()))\n",
    "df[hp_feat_col] = df[hp_feat_col].apply(lambda x: (x - x.min()) / (x.max() - x.min()))   \n",
    "df[remaining_col] = df[remaining_col].apply(lambda x: (x - x.min()) / (x.max() - x.min()))       \n",
    "#df[cols_to_norm] = df[cols_to_norm].apply(lambda x: (x - x.min()) / (x.max() - x.min()))"
   ]
  },
  {
   "cell_type": "code",
   "execution_count": 11,
   "metadata": {
    "tags": []
   },
   "outputs": [
    {
     "output_type": "stream",
     "name": "stdout",
     "text": "19 0.0 0.0\n39 0.0 0.0\n59 0.0 0.0\n79 0.0 0.0\n99 0.0 0.0\n"
    }
   ],
   "source": [
    "# define the standalone discriminator model\n",
    "def define_discriminator(n_inputs=34):\n",
    "\tmodel = Sequential()\n",
    "\tinit = RandomNormal(mean=0.0, stddev=0.02)\n",
    "\tmodel.add(Dense(256, kernel_initializer=init, input_dim=n_inputs))\n",
    "\tmodel.add(LeakyReLU(alpha=0.2))\n",
    "\tmodel.add(Dense(256, kernel_initializer=init))\n",
    "\tmodel.add(LeakyReLU(alpha=0.2))\n",
    "\tmodel.add(Dense(256, kernel_initializer=init))\n",
    "\tmodel.add(LeakyReLU(alpha=0.2))\n",
    "\tmodel.add(Dense(34, activation='sigmoid'))\n",
    "\t# compile model\n",
    "\topt = Adam(lr=0.0002, beta_1=0.5)\n",
    "\tmodel.compile(loss='binary_crossentropy', optimizer=opt, metrics=['accuracy'])\n",
    "\treturn model\n",
    "\n",
    "\t\n",
    " \n",
    "# define the standalone generator model\n",
    "def define_generator(latent_dim, n_outputs=34):\n",
    "\tmodel = Sequential()\n",
    "\tinit = RandomNormal(mean=0.0, stddev=0.02)\n",
    "\tmodel.add(Dense(256, kernel_initializer=init, input_dim=latent_dim))\n",
    "\tmodel.add(LeakyReLU(alpha=0.2))\n",
    "\tmodel.add(Dense(256, kernel_initializer=init))\n",
    "\tmodel.add(LeakyReLU(alpha=0.2))\n",
    "\tmodel.add(Dense(256, kernel_initializer=init))\n",
    "\tmodel.add(LeakyReLU(alpha=0.2))\n",
    "\tmodel.add(Dense(n_outputs, activation='tanh'))\n",
    "\treturn model\n",
    " \n",
    "# define the combined generator and discriminator model, for updating the generator\n",
    "def define_gan(generator, discriminator):\n",
    "\t# make weights in the discriminator not trainable\n",
    "\t#discriminator.trainable = False\n",
    "\tdiscriminator.trainable = False\n",
    "\t# connect them\n",
    "\tmodel = Sequential()\n",
    "\t# add generator\n",
    "\tmodel.add(generator)\n",
    "\t# add the discriminator\n",
    "\tmodel.add(discriminator)\n",
    "\t# compile model\n",
    "\topt = Adam(lr=0.0002, beta_1=0.5)\n",
    "\tmodel.compile(loss='binary_crossentropy', optimizer=opt)\n",
    "\treturn model\n",
    "\n",
    "\n",
    "\n",
    "# generate points in latent space as input for the generator\n",
    "def generate_latent_points(latent_dim, n):\n",
    "\t# generate points in the latent space\n",
    "\tx_input = randn(latent_dim * n)\n",
    "\t# reshape into a batch of inputs for the network\n",
    "\tx_input = x_input.reshape(n, latent_dim)\n",
    "\n",
    "\t#Dimension Diagnostic\n",
    "\t#x_in_lat.append(x_input)\n",
    "\n",
    "\treturn x_input\n",
    "\n",
    "# randomly flip some labels\n",
    "def noisy_labels(y, p_flip):\n",
    "\t# determine the number of labels to flip\n",
    "\tn_select = int(p_flip * y.shape[0])\n",
    "\t# choose labels to flip\n",
    "\tflip_ix = choice([i for i in range(y.shape[0])], size=n_select)\n",
    "\t# invert the labels in place\n",
    "\ty[flip_ix] = 1 - y[flip_ix]\n",
    "\treturn y\n",
    "\n",
    "\n",
    "def smooth_positive_labels(y):\n",
    "\treturn y - 0.3 + (random(y.shape) * 0.5)\n",
    "\n",
    "#Dimension Diagnostic\n",
    "#real_y = [] \n",
    "# generate n real samples with class labels\n",
    "def generate_real_samples(n):\n",
    "\t# generate class labels\n",
    "\ty = ones((1, n))\n",
    "\n",
    "\ty = smooth_positive_labels(y)\n",
    "\t#Dimension Diagnostic\n",
    "\t#real_y.append(y)\n",
    "\n",
    "\treturn  y\n",
    "\n",
    "# select real samples\n",
    "#def generate_real_samples(dataset, n_samples):\n",
    "\t# choose random instances\n",
    "#\tix = randint(0, df.shape[0], n_samples)\n",
    "\t# select rows\n",
    "#\tX = df[ix:]\n",
    "\t# generate class labels\n",
    "#\ty = ones((1, n))\n",
    "#\ty = smooth_positive_labels(y)\n",
    "#\treturn X, y\n",
    "\n",
    "#Dimension Diagnostic\n",
    "#latent_x_input= []\n",
    "\n",
    "\n",
    "def smooth_negative_labels(y):\n",
    "\treturn y + random(y.shape) * 0.3\n",
    "\n",
    "#Dimension Diagnostic \n",
    "#gen_X_fake =[]\n",
    "#gen_y_fake =[]\n",
    "#gen_x_input=[]\n",
    "\n",
    "# use the generator to generate n fake examples, with class labels\n",
    "def generate_fake_samples(generator, latent_dim, n):\n",
    "\t# generate points in latent space\n",
    "\tx_input = generate_latent_points(latent_dim, n)\n",
    "\n",
    "\t#Dimension Diagnostic\n",
    "\t#x_in_gen.append(x_input)\n",
    "\n",
    "\t# predict outputs\n",
    "\tX = generator.predict(x_input)\n",
    "\t# create class labels\n",
    "\ty = zeros((n, 34))\n",
    "\ty = smooth_negative_labels(y)\n",
    "\n",
    "\t#Dimension Diagnostic\n",
    "\t#y_fake.append(y)\n",
    "\t#X_fake.append(X)\n",
    "\n",
    "\treturn X, y\n",
    "\t\n",
    "\t\n",
    "# evaluate the discriminator and plot real and fake points\n",
    "def summarize_performance(epoch, generator, discriminator, latent_dim, n=34):\n",
    "\t# prepare real samples\n",
    "\tfor row in range(len(df)):\n",
    "\t\tx_real, y_real = df[row:row+1], generate_real_samples(n)\n",
    "\n",
    "\t#x_real, y_real = generate_real_samples(df, 34)\n",
    "\n",
    "\t# evaluate discriminator on real examples\n",
    "\t_, acc_real = discriminator.evaluate(x_real, y_real, verbose=0)\n",
    "\t# prepare fake examples\n",
    "\tx_fake, y_fake = generate_fake_samples(generator, latent_dim, 1)\n",
    "\t# evaluate discriminator on fake examples\n",
    "\t_, acc_fake = discriminator.evaluate(x_fake, y_fake, verbose=0)\n",
    "\t# summarize discriminator performance\n",
    "\tprint(epoch, acc_real, acc_fake)\n",
    "\t# scatter plot real and fake data points\n",
    "\t#pyplot.scatter(x_real[:, 0], x_real[:, 1], color='red')\n",
    "\t#pyplot.scatter(x_fake[:, 0], x_fake[:, 1], color='blue')\n",
    "\t#pyplot.show()\n",
    " \n",
    "#Dimension Diagnostic\n",
    "model_x_fake = []\n",
    "#model_y_fake = []\n",
    "#model_x_real = []\n",
    "#model_y_real = []\n",
    "#model_x_gan=[]\n",
    "#model_y_gan=[]\n",
    "\n",
    "\n",
    "# create a line plot of loss for the gan and save to file\n",
    "def plot_history(d1_hist, d2_hist, g_hist, a1_hist, a2_hist):\n",
    "\t# plot loss\n",
    "\tpyplot.subplot(2, 1, 1)\n",
    "\tpyplot.plot(d1_hist, label='d-real')\n",
    "\tpyplot.plot(d2_hist, label='d-fake')\n",
    "\tpyplot.plot(g_hist, label='gen')\n",
    "\tpyplot.legend()\n",
    "\t# plot discriminator accuracy\n",
    "\tpyplot.subplot(2, 1, 2)\n",
    "\tpyplot.plot(a1_hist, label='acc-real')\n",
    "\tpyplot.plot(a2_hist, label='acc-fake')\n",
    "\tpyplot.legend()\n",
    "\t# save plot to file\n",
    "\tpyplot.savefig('data_augmentation/Vanilla_GAN/results_baseline_GAN/plot_line_plot_loss.png')\n",
    "\tpyplot.close()\n",
    "\n",
    "# train the generator and discriminator\n",
    "def train(g_model, d_model, gan_model, latent_dim, n_epochs=100, n_batch=68, n_eval=20):\n",
    "\t\n",
    "# prepare lists for storing stats each iteration\n",
    "\td1_hist, d2_hist, g_hist, a1_hist, a2_hist = list(), list(), list(), list(), list()\n",
    "# manually enumerate epochs\n",
    "\tfor i in range(n_epochs):\n",
    "\t\t# prepare real samples\n",
    "\t\t#for row in range(len(df)):\n",
    "\t\t\t#x_real, y_real = df[row:row+1], generate_real_samples(n)\n",
    "\n",
    "\t\tx_real, y_real = df[i%len(df):i%len(df)+1], generate_real_samples(34)\n",
    "\n",
    "\t\t#x_real, y_real = generate_real_samples(df, 34)\n",
    "\n",
    "\t\t#Dimension Diagnostic\n",
    "\t\t#model_x_real.append(x_real)\n",
    "\t\t#model_y_real.append(y_real)\n",
    "\n",
    "\t\t# prepare fake examples\n",
    "\t\tx_fake, y_fake = generate_fake_samples(g_model, latent_dim, 1)\n",
    "\n",
    "\t\t#Dimension Diagnostic\n",
    "\t\tmodel_x_fake.append(x_fake)\n",
    "\t\t#model_y_fake.append(y_fake)\n",
    "\n",
    "\t\t# update discriminator\n",
    "\t\ty_real= noisy_labels(y_real,.05)\n",
    "\t\ty_fake= noisy_labels(y_fake,.05)\n",
    "\t\td_loss1, d_acc1 = d_model.train_on_batch(x_real, y_real)\n",
    "\t\td_loss2, d_acc2 = d_model.train_on_batch(x_fake, y_fake)\n",
    "\t\t# prepare points in latent space as input for the generator\n",
    "\t\tx_gan = generate_latent_points(latent_dim, 1)\n",
    "\t\t# create inverted labels for the fake samples\n",
    "\t\ty_gan = ones((1, 34))\n",
    "\n",
    "\t\t#Dimension Diagnostic\n",
    "\t\t#model_x_gan.append(x_gan)\n",
    "\t\t#model_y_gan.append(y_gan)\n",
    "\n",
    "\t\t# update the generator via the discriminator's error\n",
    "\t\tg_loss = gan_model.train_on_batch(x_gan, y_gan)\n",
    "\t\t# evaluate the model every n_eval epochs\n",
    "\t\n",
    "\t\t# summarize loss on this batch\n",
    "\t\t#print('>%d, d1=%.3f, d2=%.3f g=%.3f, a1=%d, a2=%d' %\n",
    "\t\t#\t(i+1, d_loss1, d_loss2, g_loss, int(100*d_acc1), int(100*d_acc2)))\n",
    "\t\t# record history\n",
    "\t\td1_hist.append(d_loss1)\n",
    "\t\td2_hist.append(d_loss2)\n",
    "\t\tg_hist.append(g_loss)\n",
    "\t\ta1_hist.append(d_acc1)\n",
    "\t\ta2_hist.append(d_acc2)\n",
    "\t\t# evaluate the model performance every 'epoch'\n",
    "\t\tif (i+1) % n_eval == 0:\n",
    "\t\t\tsummarize_performance(i, g_model, d_model, latent_dim)\n",
    "\n",
    "\tplot_history(d1_hist, d2_hist, g_hist, a1_hist, a2_hist)\n",
    "\n",
    "\n",
    "# make folder for results\n",
    "makedirs('data_augmentation/Vanilla_GAN/results_baseline_GAN', exist_ok=True)\n",
    "# size of the latent space\n",
    "latent_dim = 100\n",
    "# create the discriminator/critic\n",
    "discriminator = define_discriminator()\n",
    "# create the generator\n",
    "generator = define_generator(latent_dim)\n",
    "# create the gan\n",
    "gan_model = define_gan(generator, discriminator)\n",
    "# train model\n",
    "train(generator, discriminator, gan_model, latent_dim)"
   ]
  },
  {
   "cell_type": "code",
   "execution_count": 12,
   "metadata": {},
   "outputs": [],
   "source": [
    "#Dimension Checks"
   ]
  },
  {
   "cell_type": "code",
   "execution_count": 13,
   "metadata": {},
   "outputs": [],
   "source": [
    "#len(real_y),real_y[1].shape,real_y[2].shape,real_y[2].shape"
   ]
  },
  {
   "cell_type": "code",
   "execution_count": 14,
   "metadata": {},
   "outputs": [],
   "source": [
    "#len(model_x_real),model_x_real[1].shape,model_x_real[2].shape"
   ]
  },
  {
   "cell_type": "code",
   "execution_count": 15,
   "metadata": {},
   "outputs": [],
   "source": [
    "#len(model_y_real),model_y_real[1].shape,model_y_real[2].shape"
   ]
  },
  {
   "cell_type": "code",
   "execution_count": 16,
   "metadata": {},
   "outputs": [],
   "source": [
    "#len(model_x_fake), model_x_fake{1].shape,model_x_fake[2].shape"
   ]
  },
  {
   "cell_type": "code",
   "execution_count": 17,
   "metadata": {},
   "outputs": [],
   "source": [
    "#len(model_y_fake), model_y_fake[1].shape,model_y_fake[2].shape"
   ]
  },
  {
   "cell_type": "code",
   "execution_count": 18,
   "metadata": {},
   "outputs": [],
   "source": [
    "#len(model_x_gan),model_x_gan[1].shape,model_x_gan2].shape"
   ]
  },
  {
   "cell_type": "code",
   "execution_count": 19,
   "metadata": {},
   "outputs": [],
   "source": [
    "#len(model_y_gan),model_y_gan[1].shape,model_y_gan[2].shape"
   ]
  },
  {
   "cell_type": "code",
   "execution_count": 20,
   "metadata": {},
   "outputs": [],
   "source": [
    "#len(latent_x_input),latent_x_input[1].shape,latent_x_input[2].shape,latent_x_input[3].shape,latent_x_input[4].shape,"
   ]
  },
  {
   "cell_type": "code",
   "execution_count": 21,
   "metadata": {},
   "outputs": [],
   "source": [
    "#len(gen_x_input),gen_x_input[1].shape,gen_x_input[2].shape,gen_x_input[3].shape,"
   ]
  },
  {
   "cell_type": "code",
   "execution_count": 22,
   "metadata": {},
   "outputs": [],
   "source": [
    "#len(gen_X_fake), gen_X_fake[1].shape,gen_X_fake[2].shape,gen_X_fake{3].shape,gen_X_fake[4].shape"
   ]
  },
  {
   "cell_type": "code",
   "execution_count": 23,
   "metadata": {},
   "outputs": [],
   "source": [
    "#len(gen_y_fake), gen_y_fake[1].shape,gen_y_fake[2].shape,gen_y_fake[3].shape,gen_y_fake[4].shape"
   ]
  },
  {
   "cell_type": "code",
   "execution_count": 24,
   "metadata": {},
   "outputs": [
    {
     "output_type": "execute_result",
     "data": {
      "text/plain": "514, -0.07315627, -0.09761464,  0.76831794,\n          0.3080386 ,  0.8068754 ,  0.8298919 ,  0.815245  ,  0.805198  ,\n          0.9105256 ,  0.8456836 ,  0.47020718,  0.7952829 , -0.01706084,\n          0.3106836 , -0.21773766,  0.8223459 , -0.15810986]],\n       dtype=float32),\n array([[ 5.4561466e-01,  8.2091433e-01,  7.0172215e-01,  2.6335186e-01,\n          5.6676298e-01,  4.6609676e-01,  7.4880177e-01, -1.2760551e-02,\n          8.0440706e-01,  7.8699154e-01,  6.8913692e-01,  7.0066059e-01,\n          7.0487732e-01,  4.7363842e-01, -9.9801198e-03,  3.3569646e-01,\n          8.1018031e-01, -6.8977468e-02, -1.1686832e-01,  7.1782154e-01,\n          2.7730745e-01,  7.4820292e-01,  7.7656585e-01,  7.5676209e-01,\n          7.5154448e-01,  8.6053061e-01,  7.9600483e-01,  4.0468886e-01,\n          7.3068953e-01,  7.5855525e-04,  2.5218925e-01, -1.7932035e-01,\n          7.6643455e-01, -1.3214637e-01]], dtype=float32),\n array([[ 0.55007917,  0.8389767 ,  0.7188203 ,  0.26557267,  0.5865293 ,\n          0.48338264,  0.76751363, -0.01004378,  0.8227954 ,  0.8106207 ,\n          0.70815015,  0.7315214 ,  0.722278  ,  0.46162924, -0.01840464,\n          0.3624834 ,  0.834458  , -0.06953791, -0.11032831,  0.7358218 ,\n          0.24950221,  0.76270795,  0.7888724 ,  0.7693806 ,  0.75871885,\n          0.8781771 ,  0.80821705,  0.43142194,  0.7563327 ,  0.01114156,\n          0.24302824, -0.17188331,  0.7834191 , -0.10434639]],\n       dtype=float32),\n array([[ 0.76272583,  0.9694493 ,  0.9182824 ,  0.397935  ,  0.8186672 ,\n          0.702017  ,  0.93878716, -0.06163315,  0.9638463 ,  0.95960665,\n          0.90784305,  0.9216536 ,  0.91542804,  0.70171696, -0.08075451,\n          0.5471112 ,  0.9670777 , -0.18249927, -0.22798611,  0.9208649 ,\n          0.3424945 ,  0.93903536,  0.9491485 ,  0.94068587,  0.93200576,\n          0.9812955 ,  0.957559  ,  0.6501023 ,  0.93331844,  0.04837489,\n          0.39100406, -0.25817564,  0.94687283, -0.13412398]],\n       dtype=float32),\n array([[ 0.7489824 ,  0.9597206 ,  0.9002586 ,  0.3336935 ,  0.79097533,\n          0.64347255,  0.9184936 , -0.00882886,  0.9529469 ,  0.94801795,\n          0.8851207 ,  0.9042677 ,  0.8995114 ,  0.66676426, -0.12306516,\n          0.5305045 ,  0.95822674, -0.206293  , -0.2364873 ,  0.91016656,\n          0.27633622,  0.9217014 ,  0.93780804,  0.92696357,  0.9182981 ,\n          0.97431195,  0.94721395,  0.61692494,  0.9123508 ,  0.05728213,\n          0.35549635, -0.24914427,  0.9339584 , -0.08719158]],\n       dtype=float32),\n array([[ 0.6555329 ,  0.927983  ,  0.84852   ,  0.26162916,  0.72694623,\n          0.5446895 ,  0.87638557, -0.01186039,  0.9163029 ,  0.9106239 ,\n          0.83158123,  0.85371727,  0.8423261 ,  0.58730745, -0.11647806,\n          0.4316644 ,  0.9255731 , -0.21518447, -0.23248121,  0.8625521 ,\n          0.19591232,  0.87569916,  0.8960266 ,  0.87239414,  0.8722496 ,\n          0.9482651 ,  0.9086105 ,  0.52743036,  0.8681472 ,  0.06845944,\n          0.2626647 , -0.17217365,  0.8970158 , -0.06445336]],\n       dtype=float32),\n array([[ 0.60870093,  0.9080387 ,  0.8093896 ,  0.20907623,  0.6689333 ,\n          0.47641417,  0.83958244,  0.0029262 ,  0.9003202 ,  0.8872343 ,\n          0.78183395,  0.83763385,  0.8105138 ,  0.555512  , -0.16633108,\n          0.40479815,  0.90196496, -0.21503787, -0.21819474,  0.83049   ,\n          0.12474328,  0.84206027,  0.8696341 ,  0.84074223,  0.8368771 ,\n          0.93340147,  0.88567007,  0.497059  ,  0.83928657,  0.08586156,\n          0.22514471, -0.16453257,  0.86706716, -0.02438878]],\n       dtype=float32),\n array([[ 0.56583285,  0.888563  ,  0.79209924,  0.17868777,  0.64133036,\n          0.4246032 ,  0.82324386,  0.02172748,  0.8765749 ,  0.87032616,\n          0.76208985,  0.8116258 ,  0.7862331 ,  0.5170891 , -0.14532945,\n          0.35929248,  0.88506263, -0.2528622 , -0.23269199,  0.8249644 ,\n          0.08775728,  0.8256729 ,  0.8461937 ,  0.8170339 ,  0.81460667,\n          0.9161648 ,  0.86822116,  0.46057582,  0.8226563 ,  0.08985815,\n          0.17213212, -0.11301626,  0.85497475, -0.00994789]],\n       dtype=float32),\n array([[ 0.614401  ,  0.93155444,  0.8477292 ,  0.15198076,  0.7158885 ,\n          0.46207604,  0.8796116 ,  0.06021832,  0.92025286,  0.90889627,\n          0.82028645,  0.8758841 ,  0.84407926,  0.57066983, -0.21248072,\n          0.40802827,  0.9272322 , -0.33044744, -0.2659649 ,  0.86906797,\n          0.04484685,  0.87558705,  0.8939929 ,  0.8745637 ,  0.8625799 ,\n          0.9474169 ,  0.9119036 ,  0.5258374 ,  0.86979294,  0.12881365,\n          0.19311674, -0.10392959,  0.89928836,  0.03894695]],\n       dtype=float32),\n array([[ 0.64538604,  0.9541587 ,  0.8852756 ,  0.15625882,  0.7552219 ,\n          0.4832333 ,  0.90608215,  0.0673329 ,  0.9465694 ,  0.93688184,\n          0.858458  ,  0.9057283 ,  0.87999195,  0.6113387 , -0.2428123 ,\n          0.43636456,  0.94806   , -0.38662452, -0.32008228,  0.9031045 ,\n         -0.00250725,  0.905562  ,  0.92394036,  0.89558303,  0.8942241 ,\n          0.967142  ,  0.93921804,  0.547264  ,  0.9081379 ,  0.1766787 ,\n          0.18265337, -0.10178509,  0.9315995 ,  0.07445619]],\n       dtype=float32),\n array([[ 0.67047393,  0.9713174 ,  0.9182036 ,  0.13291596,  0.81345534,\n          0.5076973 ,  0.9386671 ,  0.12155957,  0.96401316,  0.95926636,\n          0.9038877 ,  0.93700695,  0.91522354,  0.6541628 , -0.28644246,\n          0.45405856,  0.9685579 , -0.43746096, -0.3823723 ,  0.93714875,\n         -0.0333143 ,  0.9374194 ,  0.9518303 ,  0.929901  ,  0.9293228 ,\n          0.980745  ,  0.9621946 ,  0.59174997,  0.9380191 ,  0.21052106,\n          0.1508598 , -0.05806504,  0.9547069 ,  0.11894031]],\n       dtype=float32),\n array([[ 0.65626204,  0.9674975 ,  0.91356826,  0.11428847,  0.78948724,\n          0.47149372,  0.9346776 ,  0.12360332,  0.9606473 ,  0.95430017,\n          0.8867023 ,  0.9312819 ,  0.9050645 ,  0.6362525 , -0.30033988,\n          0.46259093,  0.96287674, -0.45546588, -0.37950805,  0.92492217,\n         -0.08659028,  0.9249727 ,  0.9441029 ,  0.9184634 ,  0.9182819 ,\n          0.9764592 ,  0.95279354,  0.56976324,  0.9284502 ,  0.23852953,\n          0.1195239 , -0.04533707,  0.9503769 ,  0.14111955]],\n       dtype=float32),\n array([[ 0.4659665 ,  0.88665473,  0.7727215 ,  0.03751877,  0.6185914 ,\n          0.31610912,  0.8127667 ,  0.07801808,  0.871238  ,  0.8525513 ,\n          0.75161487,  0.8155291 ,  0.77230483,  0.4791738 , -0.2305662 ,\n          0.30245468,  0.87848365, -0.3274668 , -0.26221454,  0.80963284,\n         -0.11416671,  0.81270695,  0.8417328 ,  0.7971575 ,  0.7897877 ,\n          0.908993  ,  0.86064696,  0.4230486 ,  0.8133771 ,  0.1656784 ,\n          0.05882451, -0.0131622 ,  0.8503926 ,  0.1311629 ]],\n       dtype=float32),\n array([[ 0.64194685,  0.9759132 ,  0.926658  ,  0.04113625,  0.8056661 ,\n          0.41897178,  0.9405419 ,  0.14369564,  0.970773  ,  0.9639015 ,\n          0.90416336,  0.9468511 ,  0.91905934,  0.66937876, -0.38188452,\n          0.42024034,  0.97292286, -0.5196857 , -0.41757125,  0.9438234 ,\n         -0.1942742 ,  0.93876153,  0.9554792 ,  0.9338075 ,  0.92987406,\n          0.9822239 ,  0.96337634,  0.5659611 ,  0.9459104 ,  0.2511227 ,\n          0.0589477 ,  0.05190371,  0.964973  ,  0.2170532 ]],\n       dtype=float32),\n array([[ 0.4115893 ,  0.8693851 ,  0.7537412 ,  0.02681779,  0.59147   ,\n          0.2714466 ,  0.8011156 ,  0.09251577,  0.85257965,  0.83461297,\n          0.72136325,  0.8062524 ,  0.74635166,  0.43820438, -0.23190162,\n          0.26377454,  0.8574528 , -0.32898   , -0.25968847,  0.794254  ,\n         -0.14005892,  0.7791524 ,  0.8136285 ,  0.7709382 ,  0.76311934,\n          0.89192355,  0.8351642 ,  0.38012704,  0.7897954 ,  0.1927969 ,\n          0.01392688,  0.06039488,  0.829993  ,  0.16440375]],\n       dtype=float32),\n array([[ 0.34048906,  0.83355856,  0.70654047, -0.02650822,  0.53749   ,\n          0.21880618,  0.74905205,  0.08742082,  0.8179006 ,  0.7887146 ,\n          0.67619973,  0.76447994,  0.6990123 ,  0.4155342 , -0.23534435,\n          0.21899043,  0.8140848 , -0.31958434, -0.23420964,  0.7440684 ,\n         -0.17459221,  0.73823893,  0.7815142 ,  0.7066968 ,  0.7121327 ,\n          0.860048  ,  0.79161924,  0.32196203,  0.751963  ,  0.19384651,\n         -0.03832562,  0.06821866,  0.80056787,  0.15653603]],\n       dtype=float32),\n array([[ 0.5801512 ,  0.9859335 ,  0.9474225 , -0.05388227,  0.8446119 ,\n          0.35968527,  0.9615857 ,  0.19311476,  0.97886544,  0.9762702 ,\n          0.9294318 ,  0.9671818 ,  0.9409427 ,  0.67037034, -0.4687831 ,\n          0.383668  ,  0.9828143 , -0.59407955, -0.48306802,  0.96336555,\n         -0.37468502,  0.9552433 ,  0.97118986,  0.949688  ,  0.9465112 ,\n          0.9886182 ,  0.975932  ,  0.5817815 ,  0.96189415,  0.36722136,\n         -0.13621779,  0.21263686,  0.9762051 ,  0.36881715]],\n       dtype=float32),\n array([[ 0.48791233,  0.9706767 ,  0.9070442 , -0.10993861,  0.7753671 ,\n          0.2630581 ,  0.93148947,  0.21401134,  0.96055806,  0.9537937 ,\n          0.8896574 ,  0.9444163 ,  0.9067321 ,  0.6097672 , -0.45001334,\n          0.28924173,  0.9647827 , -0.53995353, -0.4341377 ,  0.93899345,\n         -0.377346  ,  0.9279513 ,  0.9488363 ,  0.91560787,  0.9147108 ,\n          0.9770781 ,  0.9581267 ,  0.5073339 ,  0.93460894,  0.31608337,\n         -0.16314279,  0.21995595,  0.95720017,  0.37891436]],\n       dtype=float32),\n array([[ 0.41586488,  0.9594523 ,  0.88452244, -0.11992731,  0.7505132 ,\n          0.2046814 ,  0.9046849 ,  0.1768682 ,  0.9443248 ,  0.93954694,\n          0.8564885 ,  0.92646074,  0.873169  ,  0.5531358 , -0.44522798,\n          0.23375495,  0.95280325, -0.5116805 , -0.42117968,  0.9183481 ,\n         -0.3920763 ,  0.8982433 ,  0.93086725,  0.8910677 ,  0.88308513,\n          0.9652612 ,  0.9388571 ,  0.4438515 ,  0.91627115,  0.2909996 ,\n         -0.17455931,  0.20437291,  0.9435573 ,  0.317987  ]],\n       dtype=float32),\n array([[ 0.36334836,  0.95364165,  0.8737362 , -0.12052912,  0.7212624 ,\n          0.17097501,  0.8959211 ,  0.15287375,  0.9387235 ,  0.92930216,\n          0.8458295 ,  0.9190495 ,  0.8638729 ,  0.52809674, -0.43232176,\n          0.1925781 ,  0.94487077, -0.50113523, -0.3991303 ,  0.90880835,\n         -0.38828036,  0.894286  ,  0.9200409 ,  0.87646466,  0.86682767,\n          0.9594478 ,  0.92783415,  0.40353212,  0.9071714 ,  0.30299738,\n         -0.20110884,  0.24559051,  0.9354128 ,  0.36141768]],\n       dtype=float32),\n array([[ 0.3051682 ,  0.93605524,  0.84193534, -0.1274428 ,  0.67925626,\n          0.14982332,  0.86762685,  0.13505843,  0.91462845,  0.9050909 ,\n          0.8056553 ,  0.898041  ,  0.8333255 ,  0.4677803 , -0.40383974,\n          0.18919237,  0.92689794, -0.4763746 , -0.3446975 ,  0.88696194,\n         -0.4009229 ,  0.85793483,  0.892675  ,  0.8404474 ,  0.8238921 ,\n          0.94337213,  0.90443456,  0.37397313,  0.87860113,  0.29319915,\n         -0.22026676,  0.25009558,  0.9109484 ,  0.35012633]],\n       dtype=float32),\n array([[ 0.32046944,  0.9550471 ,  0.87687933, -0.18873745,  0.71799904,\n          0.14259703,  0.9030887 ,  0.14347845,  0.9386154 ,  0.9298131 ,\n          0.8456614 ,  0.9277904 ,  0.8664876 ,  0.49977013, -0.44294706,\n          0.20066704,  0.94831455, -0.5094123 , -0.38357297,  0.9102992 ,\n         -0.46879002,  0.88592994,  0.91998637,  0.8773238 ,  0.866152  ,\n          0.9602278 ,  0.9292867 ,  0.4004991 ,  0.90510654,  0.3223122 ,\n         -0.25768796,  0.28694725,  0.93732154,  0.39435428]],\n       dtype=float32),\n array([[ 0.25466144,  0.9356639 ,  0.837575  , -0.18616176,  0.6643912 ,\n          0.12505698,  0.8720656 ,  0.1545454 ,  0.91825676,  0.9075172 ,\n          0.81024104,  0.9023484 ,  0.83659434,  0.45116383, -0.40651482,\n          0.15385531,  0.92906576, -0.4747906 , -0.34757435,  0.8882484 ,\n         -0.45861527,  0.8616204 ,  0.8954178 ,  0.8406085 ,  0.8352271 ,\n          0.944473  ,  0.9080865 ,  0.35023528,  0.8810681 ,  0.29822764,\n         -0.2522708 ,  0.2993183 ,  0.9147117 ,  0.39300793]],\n       dtype=float32),\n array([[ 0.12344971,  0.7891746 ,  0.62289536, -0.12533154,  0.4737097 ,\n          0.03835253,  0.67883795,  0.11523502,  0.74645007,  0.73141   ,\n          0.59840614,  0.7317162 ,  0.6188636 ,  0.29584363, -0.27613294,\n          0.08546534,  0.7626408 , -0.3311206 , -0.221666  ,  0.703029  ,\n         -0.29285213,  0.6705516 ,  0.7147334 ,  0.6411566 ,  0.62640685,\n          0.7981001 ,  0.734341  ,  0.20913677,  0.7005261 ,  0.18815283,\n         -0.17473501,  0.2121989 ,  0.7514204 ,  0.26039538]],\n       dtype=float32),\n array([[ 0.15943392,  0.91722006,  0.8003816 , -0.23178668,  0.63708   ,\n          0.02724224,  0.84452575,  0.16904204,  0.8926312 ,  0.881075  ,\n          0.76441824,  0.8821983 ,  0.79996884,  0.40003276, -0.40369615,\n          0.12419013,  0.90719515, -0.47596264, -0.32990256,  0.85940427,\n         -0.4837301 ,  0.8289054 ,  0.8658821 ,  0.8056174 ,  0.798073  ,\n          0.9206063 ,  0.872903  ,  0.2813445 ,  0.8545991 ,  0.29111472,\n         -0.30584413,  0.3171323 ,  0.89209145,  0.37596783]],\n       dtype=float32),\n array([[ 0.17471194,  0.959772  ,  0.88430077, -0.28096047,  0.7209257 ,\n          0.03002832,  0.90631837,  0.2010513 ,  0.9440223 ,  0.9342114 ,\n          0.8509784 ,  0.9372045 ,  0.87406456,  0.4613457 , -0.48783198,\n          0.14762299,  0.95466447, -0.5454861 , -0.37771752,  0.92112756,\n         -0.5655721 ,  0.89624685,  0.925233  ,  0.877968  ,  0.8665623 ,\n          0.96276265,  0.93057543,  0.3178517 ,  0.91454536,  0.34405357,\n         -0.3766571 ,  0.4061585 ,  0.94272244,  0.47517717]],\n       dtype=float32),\n array([[ 0.18927827,  0.99295026,  0.96363306, -0.4197934 ,  0.85938126,\n         -0.00300512,  0.9746639 ,  0.27386132,  0.98895967,  0.98562187,\n          0.947711  ,  0.9861033 ,  0.9604408 ,  0.60433775, -0.6463237 ,\n          0.19834624,  0.9906818 , -0.73067504, -0.5117223 ,  0.98110855,\n         -0.74231225,  0.9710995 ,  0.9817731 ,  0.9609855 ,  0.95526963,\n          0.9931524 ,  0.98426324,  0.40474734,  0.9783183 ,  0.46849996,\n         -0.5222729 ,  0.60885966,  0.98822457,  0.6633368 ]],\n       dtype=float32),\n array([[ 0.12592265,  0.9751933 ,  0.91450185, -0.34378305,  0.7601734 ,\n         -0.01869542,  0.93569535,  0.21509603,  0.96472365,  0.9572347 ,\n          0.8821889 ,  0.95944065,  0.91002685,  0.4667998 , -0.50083345,\n          0.17471178,  0.96917963, -0.60807705, -0.39168555,  0.9480389 ,\n         -0.63703567,  0.9238196 ,  0.947093  ,  0.90550154,  0.90178674,\n          0.9756567 ,  0.9547029 ,  0.30707163,  0.94090277,  0.39604676,\n         -0.4440755 ,  0.48890552,  0.96253717,  0.5331398 ]],\n       dtype=float32),\n array([[ 0.10526585,  0.9709324 ,  0.9011879 , -0.35455388,  0.7221467 ,\n         -0.05499966,  0.9245553 ,  0.20915616,  0.95999354,  0.94966877,\n          0.8789316 ,  0.9553287 ,  0.8938063 ,  0.4586368 , -0.5176135 ,\n          0.1760809 ,  0.9645267 , -0.56916887, -0.35133272,  0.94376636,\n         -0.6303721 ,  0.91963345,  0.9409814 ,  0.897312  ,  0.88909554,\n          0.97159994,  0.94814074,  0.2717119 ,  0.93540365,  0.35375115,\n         -0.44323245,  0.51089364,  0.9584503 ,  0.5517595 ]],\n       dtype=float32),\n array([[ 0.06775133,  0.9019406 ,  0.7642001 , -0.26295495,  0.5546258 ,\n         -0.02021745,  0.8074669 ,  0.14098616,  0.8746704 ,  0.853744  ,\n          0.73608714,  0.8600707 ,  0.7632768 ,  0.33253837, -0.3639436 ,\n          0.14256218,  0.8791575 , -0.4407423 , -0.23015809,  0.84333235,\n         -0.48339972,  0.7986902 ,  0.8435365 ,  0.7583134 ,  0.7467417 ,\n          0.8962432 ,  0.8431685 ,  0.1637559 ,  0.8261274 ,  0.25553617,\n         -0.31835917,  0.38619876,  0.87835604,  0.42416665]],\n       dtype=float32),\n array([[ 0.06857757,  0.96475405,  0.8833114 , -0.33840427,  0.7019334 ,\n         -0.04796729,  0.9123799 ,  0.19758128,  0.956001  ,  0.943133  ,\n          0.86171335,  0.9477422 ,  0.87817407,  0.4386939 , -0.47494632,\n          0.20511064,  0.9558122 , -0.5593885 , -0.28656206,  0.93561363,\n         -0.61551154,  0.90006894,  0.93143064,  0.8840846 ,  0.8730457 ,\n          0.9643617 ,  0.9337492 ,  0.20618716,  0.926268  ,  0.33134812,\n         -0.37681764,  0.5169715 ,  0.9524722 ,  0.53218436]],\n       dtype=float32),\n array([[ 0.06745436,  0.9663252 ,  0.890491  , -0.37560505,  0.6879875 ,\n         -0.02759229,  0.9168529 ,  0.18194366,  0.96018165,  0.9476297 ,\n          0.87099767,  0.95212704,  0.8875419 ,  0.4469526 , -0.47071573,\n          0.2344127 ,  0.9581973 , -0.54705423, -0.23413293,  0.9404361 ,\n         -0.623585  ,  0.90299016,  0.93620485,  0.88596994,  0.8761186 ,\n          0.96697813,  0.9351193 ,  0.17140086,  0.92960894,  0.32685187,\n         -0.35900396,  0.5378823 ,  0.95756865,  0.5535207 ]],\n       dtype=float32),\n array([[ 0.05247504,  0.97897   ,  0.92034775, -0.41515478,  0.7152294 ,\n         -0.07947145,  0.93961376,  0.20224176,  0.97466904,  0.96026146,\n          0.8999308 ,  0.96598166,  0.91268426,  0.4651506 , -0.47679198,\n          0.29405743,  0.972824  , -0.58752817, -0.24682897,  0.95924544,\n         -0.678536  ,  0.9277949 ,  0.951016  ,  0.9110634 ,  0.90487516,\n          0.97778505,  0.95445305,  0.1619398 ,  0.95000076,  0.31589374,\n         -0.40687874,  0.5797983 ,  0.97270674,  0.59669346]],\n       dtype=float32),\n array([[ 0.02740229,  0.93559515,  0.82077205, -0.30297375,  0.564607  ,\n         -0.05508313,  0.8630931 ,  0.15038383,  0.92700297,  0.90447366,\n          0.79108304,  0.91492647,  0.81575817,  0.35035825, -0.34426463,\n          0.257091  ,  0.917301  , -0.45294523, -0.14684184,  0.8999994 ,\n         -0.54472536,  0.8351904 ,  0.8812877 ,  0.8161141 ,  0.81036806,\n          0.93087685,  0.8819668 ,  0.1119614 ,  0.8784607 ,  0.2308391 ,\n         -0.2978415 ,  0.48272952,  0.9217974 ,  0.48470095]],\n       dtype=float32),\n array([[ 0.03100947,  0.91298556,  0.7942901 , -0.2972743 ,  0.5186768 ,\n         -0.03440829,  0.830346  ,  0.13742836,  0.91056794,  0.8814231 ,\n          0.7547974 ,  0.89500856,  0.7933716 ,  0.32408917, -0.30084357,\n          0.2785276 ,  0.8999718 , -0.4083611 , -0.10839713,  0.8803024 ,\n         -0.5182558 ,  0.8023737 ,  0.85158753,  0.7710885 ,  0.7832312 ,\n          0.9122476 ,  0.8509225 ,  0.0831209 ,  0.84641993,  0.18309076,\n         -0.24612649,  0.4299254 ,  0.90089494,  0.42773196]],\n       dtype=float32),\n array([[ 0.01319715,  0.96044976,  0.8812912 , -0.36331582,  0.5938132 ,\n         -0.08491892,  0.9010443 ,  0.17850202,  0.95864856,  0.9368479 ,\n          0.84363806,  0.9469034 ,  0.86838925,  0.38629153, -0.34077275,\n          0.3861661 ,  0.94915104, -0.50524104, -0.07686249,  0.9380224 ,\n         -0.6190776 ,  0.88061464,  0.91012084,  0.85304785,  0.8590163 ,\n          0.9590514 ,  0.91978234,  0.07928567,  0.9189308 ,  0.20124778,\n         -0.313833  ,  0.52744675,  0.9513728 ,  0.54327995]],\n       dtype=float32),\n array([[ 0.02481315,  0.9069681 ,  0.7868435 , -0.2810478 ,  0.45754284,\n         -0.03349645,  0.81556267,  0.14539428,  0.9031993 ,  0.86840415,\n          0.7495033 ,  0.88753027,  0.7786748 ,  0.30087465, -0.25588238,\n          0.33493224,  0.89029264, -0.35799718, -0.00585537,  0.87133574,\n         -0.5088647 ,  0.7762886 ,  0.84028256,  0.7655997 ,  0.7627559 ,\n          0.90949255,  0.8387376 ,  0.06052333,  0.8307473 ,  0.13206434,\n         -0.23053885,  0.44239986,  0.89325815,  0.4536853 ]],\n       dtype=float32),\n array([[ 0.02664768,  0.9718304 ,  0.9034687 , -0.38113865,  0.57853025,\n         -0.05326667,  0.92638725,  0.24504194,  0.97283727,  0.95512295,\n          0.8743662 ,  0.96390367,  0.8980095 ,  0.42211092, -0.28092247,\n          0.500143  ,  0.9637135 , -0.46829528,  0.05877825,  0.95580184,\n         -0.6391689 ,  0.9011137 ,  0.93112105,  0.88918054,  0.8907121 ,\n          0.9712722 ,  0.9340729 ,  0.04636268,  0.93671167,  0.12259872,\n         -0.24582005,  0.58867127,  0.96802336,  0.59520644]],\n       dtype=float32)]"
     },
     "metadata": {},
     "execution_count": 24
    }
   ],
   "source": [
    "model_x_fake\n"
   ]
  }
 ]
}