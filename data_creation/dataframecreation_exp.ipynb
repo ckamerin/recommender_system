{
  "nbformat": 4,
  "nbformat_minor": 0,
  "metadata": {
    "colab": {
      "name": "TF2.0 Recommender System.ipynb",
      "provenance": []
    },
    "kernelspec": {
      "name": "python3",
      "display_name": "Python 3"
    },
    "accelerator": "GPU"
  },
  "cells": [
    {
      "cell_type": "code",
      "execution_count": 2,
      "metadata": {
        "tags": []
      },
      "outputs": [
        {
          "output_type": "stream",
          "name": "stdout",
          "text": "2.3.0\n"
        }
      ],
      "source": [
        "#Install TensorFlow\n",
        "!pip install -q tensorflow\n",
        "\n",
        "import tensorflow as tf\n",
        "print(tf.__version__)"
      ]
    },
    {
      "cell_type": "code",
      "metadata": {
        "id": "KmO5csZi7cdr",
        "colab_type": "code",
        "colab": {}
      },
      "source": [
        "# More imports\n",
        "from tensorflow.keras.layers import Input, Dense, Embedding, Flatten, \\\n",
        "  Concatenate\n",
        "from tensorflow.keras.models import Model\n",
        "from tensorflow.keras.optimizers import SGD, Adam\n",
        "\n",
        "from sklearn.utils import shuffle\n",
        "\n",
        "import numpy as np\n",
        "import pandas as pd\n",
        "import matplotlib.pyplot as plt"
      ],
      "execution_count": 9,
      "outputs": []
    },
    {
      "cell_type": "code",
      "execution_count": 3,
      "metadata": {},
      "outputs": [],
      "source": [
        "user_df=pd.DataFrame(columns=['user_id','user_feat_1','user_feat_2','user_feat_3','user_feat_4'])\n",
        "item_df=pd.DataFrame(columns=['item_id','item_feat_1','item_feat_2','item_feat_3','item_feat_4'])"
      ]
    },
    {
      "cell_type": "code",
      "execution_count": 4,
      "metadata": {},
      "outputs": [],
      "source": [
        "user_df['user_id'] = range(1,1000)\n",
        "item_df['item_id'] = range(1,1000)"
      ]
    },
    {
      "cell_type": "code",
      "execution_count": 5,
      "metadata": {},
      "outputs": [],
      "source": [
        "user_df['user_feat_1'] = user_df['user_feat_1'].transform(lambda x: np.random.rand())\n",
        "user_df['user_feat_2'] = user_df['user_feat_2'].transform(lambda x: np.random.rand())\n",
        "user_df['user_feat_3'] = user_df['user_feat_3'].transform(lambda x: np.random.rand())\n",
        "user_df['user_feat_4'] = user_df['user_feat_4'].transform(lambda x: np.random.rand())\n",
        "\n",
        "item_df['item_feat_1'] = item_df['item_feat_1'].transform(lambda x: np.random.rand())\n",
        "item_df['item_feat_2'] = item_df['item_feat_2'].transform(lambda x: np.random.rand())\n",
        "item_df['item_feat_3'] = item_df['item_feat_3'].transform(lambda x: np.random.rand())\n",
        "item_df['item_feat_4'] = item_df['item_feat_4'].transform(lambda x: np.random.rand())"
      ]
    },
    {
      "cell_type": "code",
      "execution_count": 6,
      "metadata": {},
      "outputs": [
        {
          "output_type": "execute_result",
          "data": {
            "text/plain": "     user_id  user_feat_1  user_feat_2  user_feat_3  user_feat_4\n0          1     0.567626     0.525135     0.045177     0.156089\n1          2     0.608580     0.583126     0.834631     0.046354\n2          3     0.451128     0.571276     0.202015     0.556842\n3          4     0.176144     0.863299     0.980011     0.604276\n4          5     0.449130     0.109571     0.163132     0.548028\n..       ...          ...          ...          ...          ...\n994      995     0.065550     0.369906     0.356446     0.319044\n995      996     0.679226     0.796834     0.925148     0.634815\n996      997     0.793646     0.005114     0.823065     0.540165\n997      998     0.081894     0.460325     0.799986     0.253103\n998      999     0.078414     0.119953     0.651581     0.321123\n\n[999 rows x 5 columns]",
            "text/html": "<div>\n<style scoped>\n    .dataframe tbody tr th:only-of-type {\n        vertical-align: middle;\n    }\n\n    .dataframe tbody tr th {\n        vertical-align: top;\n    }\n\n    .dataframe thead th {\n        text-align: right;\n    }\n</style>\n<table border=\"1\" class=\"dataframe\">\n  <thead>\n    <tr style=\"text-align: right;\">\n      <th></th>\n      <th>user_id</th>\n      <th>user_feat_1</th>\n      <th>user_feat_2</th>\n      <th>user_feat_3</th>\n      <th>user_feat_4</th>\n    </tr>\n  </thead>\n  <tbody>\n    <tr>\n      <td>0</td>\n      <td>1</td>\n      <td>0.567626</td>\n      <td>0.525135</td>\n      <td>0.045177</td>\n      <td>0.156089</td>\n    </tr>\n    <tr>\n      <td>1</td>\n      <td>2</td>\n      <td>0.608580</td>\n      <td>0.583126</td>\n      <td>0.834631</td>\n      <td>0.046354</td>\n    </tr>\n    <tr>\n      <td>2</td>\n      <td>3</td>\n      <td>0.451128</td>\n      <td>0.571276</td>\n      <td>0.202015</td>\n      <td>0.556842</td>\n    </tr>\n    <tr>\n      <td>3</td>\n      <td>4</td>\n      <td>0.176144</td>\n      <td>0.863299</td>\n      <td>0.980011</td>\n      <td>0.604276</td>\n    </tr>\n    <tr>\n      <td>4</td>\n      <td>5</td>\n      <td>0.449130</td>\n      <td>0.109571</td>\n      <td>0.163132</td>\n      <td>0.548028</td>\n    </tr>\n    <tr>\n      <td>...</td>\n      <td>...</td>\n      <td>...</td>\n      <td>...</td>\n      <td>...</td>\n      <td>...</td>\n    </tr>\n    <tr>\n      <td>994</td>\n      <td>995</td>\n      <td>0.065550</td>\n      <td>0.369906</td>\n      <td>0.356446</td>\n      <td>0.319044</td>\n    </tr>\n    <tr>\n      <td>995</td>\n      <td>996</td>\n      <td>0.679226</td>\n      <td>0.796834</td>\n      <td>0.925148</td>\n      <td>0.634815</td>\n    </tr>\n    <tr>\n      <td>996</td>\n      <td>997</td>\n      <td>0.793646</td>\n      <td>0.005114</td>\n      <td>0.823065</td>\n      <td>0.540165</td>\n    </tr>\n    <tr>\n      <td>997</td>\n      <td>998</td>\n      <td>0.081894</td>\n      <td>0.460325</td>\n      <td>0.799986</td>\n      <td>0.253103</td>\n    </tr>\n    <tr>\n      <td>998</td>\n      <td>999</td>\n      <td>0.078414</td>\n      <td>0.119953</td>\n      <td>0.651581</td>\n      <td>0.321123</td>\n    </tr>\n  </tbody>\n</table>\n<p>999 rows × 5 columns</p>\n</div>"
          },
          "metadata": {},
          "execution_count": 6
        }
      ],
      "source": [
        "user_df"
      ]
    },
    {
      "cell_type": "code",
      "execution_count": 119,
      "metadata": {},
      "outputs": [],
      "source": [
        "user_features = pd.DataFrame(columns=[\"features\",'feature_id'])"
      ]
    },
    {
      "cell_type": "code",
      "execution_count": 128,
      "metadata": {},
      "outputs": [],
      "source": [
        "user_df['feature_id_1'] = 1\n",
        "user_df['feature_id_2'] = 2\n",
        "user_df['feature_id_3'] = 3\n",
        "user_df['feature_id_4'] = 4"
      ]
    },
    {
      "cell_type": "code",
      "execution_count": 129,
      "metadata": {},
      "outputs": [],
      "source": [
        "user_features[\"features\"] = pd.concat([user_df['user_feat_1'],user_df['user_feat_2'],user_df['user_feat_3'],user_df['user_feat_4']],axis=0,ignore_index=True)\n",
        "\n",
        "user_features['feature_id']=pd.concat([user_df['feature_id_1'],user_df['feature_id_2'],user_df['feature_id_3'],user_df['feature_id_4']],axis=0,ignore_index=True)"
      ]
    },
    {
      "cell_type": "code",
      "execution_count": 130,
      "metadata": {},
      "outputs": [
        {
          "output_type": "execute_result",
          "data": {
            "text/plain": "      features  feature_id\n0     0.567626           1\n1     0.608580           1\n2     0.451128           1\n3     0.176144           1\n4     0.449130           1\n...        ...         ...\n3991  0.319044           4\n3992  0.634815           4\n3993  0.540165           4\n3994  0.253103           4\n3995  0.321123           4\n\n[3996 rows x 2 columns]",
            "text/html": "<div>\n<style scoped>\n    .dataframe tbody tr th:only-of-type {\n        vertical-align: middle;\n    }\n\n    .dataframe tbody tr th {\n        vertical-align: top;\n    }\n\n    .dataframe thead th {\n        text-align: right;\n    }\n</style>\n<table border=\"1\" class=\"dataframe\">\n  <thead>\n    <tr style=\"text-align: right;\">\n      <th></th>\n      <th>features</th>\n      <th>feature_id</th>\n    </tr>\n  </thead>\n  <tbody>\n    <tr>\n      <td>0</td>\n      <td>0.567626</td>\n      <td>1</td>\n    </tr>\n    <tr>\n      <td>1</td>\n      <td>0.608580</td>\n      <td>1</td>\n    </tr>\n    <tr>\n      <td>2</td>\n      <td>0.451128</td>\n      <td>1</td>\n    </tr>\n    <tr>\n      <td>3</td>\n      <td>0.176144</td>\n      <td>1</td>\n    </tr>\n    <tr>\n      <td>4</td>\n      <td>0.449130</td>\n      <td>1</td>\n    </tr>\n    <tr>\n      <td>...</td>\n      <td>...</td>\n      <td>...</td>\n    </tr>\n    <tr>\n      <td>3991</td>\n      <td>0.319044</td>\n      <td>4</td>\n    </tr>\n    <tr>\n      <td>3992</td>\n      <td>0.634815</td>\n      <td>4</td>\n    </tr>\n    <tr>\n      <td>3993</td>\n      <td>0.540165</td>\n      <td>4</td>\n    </tr>\n    <tr>\n      <td>3994</td>\n      <td>0.253103</td>\n      <td>4</td>\n    </tr>\n    <tr>\n      <td>3995</td>\n      <td>0.321123</td>\n      <td>4</td>\n    </tr>\n  </tbody>\n</table>\n<p>3996 rows × 2 columns</p>\n</div>"
          },
          "metadata": {},
          "execution_count": 130
        }
      ],
      "source": [
        "user_features\n"
      ]
    },
    {
      "cell_type": "code",
      "execution_count": 39,
      "metadata": {},
      "outputs": [],
      "source": [
        "#user_df=pd.DataFrame(columns=['user_id','user_feat','rating'])\n",
        "#item_df=pd.DataFrame(columns=['item_id','item_feat','rating'])"
      ]
    },
    {
      "cell_type": "code",
      "execution_count": 49,
      "metadata": {},
      "outputs": [],
      "source": [
        "s = [ _ for _ in range(1,1000)]\n",
        "t = [ _ for _ in range(1,1000)]\n",
        "u = [ _ for _ in range(1,1000)]\n",
        "v = [ _ for _ in range(1,1000)]"
      ]
    },
    {
      "cell_type": "code",
      "execution_count": 123,
      "metadata": {},
      "outputs": [],
      "source": [
        "##user_df['user_id'] = pd.DataFrame(s)\n",
        "#item_df['item_id'] = pd.DataFrame(s)"
      ]
    },
    {
      "cell_type": "code",
      "execution_count": 55,
      "metadata": {},
      "outputs": [],
      "source": [
        "s = pd.DataFrame(s)\n",
        "t = pd.DataFrame(t)\n",
        "u = pd.DataFrame(u)\n",
        "v = pd.DataFrame(v)"
      ]
    },
    {
      "cell_type": "code",
      "execution_count": 62,
      "metadata": {},
      "outputs": [],
      "source": [
        "x['user_id'] = pd.concat([s,t,u,v])\n",
        "#x.resetindex()\n",
        "#x.drop(\"index\")\n"
      ]
    },
    {
      "cell_type": "code",
      "execution_count": 65,
      "metadata": {},
      "outputs": [],
      "source": [
        "y=pd.DataFrame()\n",
        "y['user_id']=x['user_id']"
      ]
    },
    {
      "cell_type": "code",
      "execution_count": 85,
      "metadata": {},
      "outputs": [
        {
          "output_type": "execute_result",
          "data": {
            "text/plain": "3996"
          },
          "metadata": {},
          "execution_count": 85
        }
      ],
      "source": []
    },
    {
      "cell_type": "code",
      "execution_count": 86,
      "metadata": {},
      "outputs": [],
      "source": [
        "y['indexing']=range(0,3996)"
      ]
    },
    {
      "cell_type": "code",
      "execution_count": 100,
      "metadata": {},
      "outputs": [],
      "source": [
        "y=y.set_index(keys=y['indexing'])"
      ]
    },
    {
      "cell_type": "code",
      "execution_count": 101,
      "metadata": {},
      "outputs": [
        {
          "output_type": "execute_result",
          "data": {
            "text/plain": "          user_id  indexing\nindexing                   \n0               1         0\n1               2         1\n2               3         2\n3               4         3\n4               5         4\n...           ...       ...\n3991          995      3991\n3992          996      3992\n3993          997      3993\n3994          998      3994\n3995          999      3995\n\n[3996 rows x 2 columns]",
            "text/html": "<div>\n<style scoped>\n    .dataframe tbody tr th:only-of-type {\n        vertical-align: middle;\n    }\n\n    .dataframe tbody tr th {\n        vertical-align: top;\n    }\n\n    .dataframe thead th {\n        text-align: right;\n    }\n</style>\n<table border=\"1\" class=\"dataframe\">\n  <thead>\n    <tr style=\"text-align: right;\">\n      <th></th>\n      <th>user_id</th>\n      <th>indexing</th>\n    </tr>\n    <tr>\n      <th>indexing</th>\n      <th></th>\n      <th></th>\n    </tr>\n  </thead>\n  <tbody>\n    <tr>\n      <td>0</td>\n      <td>1</td>\n      <td>0</td>\n    </tr>\n    <tr>\n      <td>1</td>\n      <td>2</td>\n      <td>1</td>\n    </tr>\n    <tr>\n      <td>2</td>\n      <td>3</td>\n      <td>2</td>\n    </tr>\n    <tr>\n      <td>3</td>\n      <td>4</td>\n      <td>3</td>\n    </tr>\n    <tr>\n      <td>4</td>\n      <td>5</td>\n      <td>4</td>\n    </tr>\n    <tr>\n      <td>...</td>\n      <td>...</td>\n      <td>...</td>\n    </tr>\n    <tr>\n      <td>3991</td>\n      <td>995</td>\n      <td>3991</td>\n    </tr>\n    <tr>\n      <td>3992</td>\n      <td>996</td>\n      <td>3992</td>\n    </tr>\n    <tr>\n      <td>3993</td>\n      <td>997</td>\n      <td>3993</td>\n    </tr>\n    <tr>\n      <td>3994</td>\n      <td>998</td>\n      <td>3994</td>\n    </tr>\n    <tr>\n      <td>3995</td>\n      <td>999</td>\n      <td>3995</td>\n    </tr>\n  </tbody>\n</table>\n<p>3996 rows × 2 columns</p>\n</div>"
          },
          "metadata": {},
          "execution_count": 101
        }
      ],
      "source": []
    },
    {
      "cell_type": "code",
      "execution_count": 109,
      "metadata": {},
      "outputs": [],
      "source": [
        "user_df_edit = pd.DataFrame(columns = ['user_id','features','feature_id'])"
      ]
    },
    {
      "cell_type": "code",
      "execution_count": 131,
      "metadata": {},
      "outputs": [],
      "source": [
        "user_df_edit['user_id']=y['user_id']\n",
        "user_df_edit['features']=user_features['features']\n",
        "user_df_edit['feature_id']=user_features['feature_id']"
      ]
    },
    {
      "cell_type": "code",
      "execution_count": 132,
      "metadata": {},
      "outputs": [
        {
          "output_type": "error",
          "ename": "AttributeError",
          "evalue": "name",
          "traceback": [
            "\u001b[0;31m---------------------------------------------------------------------------\u001b[0m",
            "\u001b[0;31mAttributeError\u001b[0m                            Traceback (most recent call last)",
            "\u001b[0;32m<ipython-input-132-549785299335>\u001b[0m in \u001b[0;36m<module>\u001b[0;34m\u001b[0m\n\u001b[0;32m----> 1\u001b[0;31m \u001b[0;32mdel\u001b[0m \u001b[0muser_df_edit\u001b[0m\u001b[0;34m.\u001b[0m\u001b[0mindex\u001b[0m\u001b[0;34m.\u001b[0m\u001b[0mname\u001b[0m\u001b[0;34m\u001b[0m\u001b[0;34m\u001b[0m\u001b[0m\n\u001b[0m",
            "\u001b[0;31mAttributeError\u001b[0m: name"
          ]
        }
      ],
      "source": [
        "del user_df_edit.index.name"
      ]
    },
    {
      "cell_type": "code",
      "execution_count": 133,
      "metadata": {},
      "outputs": [
        {
          "output_type": "execute_result",
          "data": {
            "text/plain": "      user_id  features  feature_id\n0           1  0.567626           1\n1           2  0.608580           1\n2           3  0.451128           1\n3           4  0.176144           1\n4           5  0.449130           1\n...       ...       ...         ...\n3991      995  0.319044           4\n3992      996  0.634815           4\n3993      997  0.540165           4\n3994      998  0.253103           4\n3995      999  0.321123           4\n\n[3996 rows x 3 columns]",
            "text/html": "<div>\n<style scoped>\n    .dataframe tbody tr th:only-of-type {\n        vertical-align: middle;\n    }\n\n    .dataframe tbody tr th {\n        vertical-align: top;\n    }\n\n    .dataframe thead th {\n        text-align: right;\n    }\n</style>\n<table border=\"1\" class=\"dataframe\">\n  <thead>\n    <tr style=\"text-align: right;\">\n      <th></th>\n      <th>user_id</th>\n      <th>features</th>\n      <th>feature_id</th>\n    </tr>\n  </thead>\n  <tbody>\n    <tr>\n      <td>0</td>\n      <td>1</td>\n      <td>0.567626</td>\n      <td>1</td>\n    </tr>\n    <tr>\n      <td>1</td>\n      <td>2</td>\n      <td>0.608580</td>\n      <td>1</td>\n    </tr>\n    <tr>\n      <td>2</td>\n      <td>3</td>\n      <td>0.451128</td>\n      <td>1</td>\n    </tr>\n    <tr>\n      <td>3</td>\n      <td>4</td>\n      <td>0.176144</td>\n      <td>1</td>\n    </tr>\n    <tr>\n      <td>4</td>\n      <td>5</td>\n      <td>0.449130</td>\n      <td>1</td>\n    </tr>\n    <tr>\n      <td>...</td>\n      <td>...</td>\n      <td>...</td>\n      <td>...</td>\n    </tr>\n    <tr>\n      <td>3991</td>\n      <td>995</td>\n      <td>0.319044</td>\n      <td>4</td>\n    </tr>\n    <tr>\n      <td>3992</td>\n      <td>996</td>\n      <td>0.634815</td>\n      <td>4</td>\n    </tr>\n    <tr>\n      <td>3993</td>\n      <td>997</td>\n      <td>0.540165</td>\n      <td>4</td>\n    </tr>\n    <tr>\n      <td>3994</td>\n      <td>998</td>\n      <td>0.253103</td>\n      <td>4</td>\n    </tr>\n    <tr>\n      <td>3995</td>\n      <td>999</td>\n      <td>0.321123</td>\n      <td>4</td>\n    </tr>\n  </tbody>\n</table>\n<p>3996 rows × 3 columns</p>\n</div>"
          },
          "metadata": {},
          "execution_count": 133
        }
      ],
      "source": [
        "user_df_edit"
      ]
    },
    {
      "cell_type": "code",
      "execution_count": 137,
      "metadata": {},
      "outputs": [],
      "source": [
        "user_df = user_df_edit.copy()"
      ]
    },
    {
      "cell_type": "code",
      "execution_count": 143,
      "metadata": {},
      "outputs": [],
      "source": [
        "user_df = user_df[['user_id','feature_id','features']]"
      ]
    },
    {
      "cell_type": "code",
      "execution_count": 144,
      "metadata": {},
      "outputs": [
        {
          "output_type": "execute_result",
          "data": {
            "text/plain": "      user_id  feature_id  features\n0           1           1  0.567626\n1           2           1  0.608580\n2           3           1  0.451128\n3           4           1  0.176144\n4           5           1  0.449130\n...       ...         ...       ...\n3991      995           4  0.319044\n3992      996           4  0.634815\n3993      997           4  0.540165\n3994      998           4  0.253103\n3995      999           4  0.321123\n\n[3996 rows x 3 columns]",
            "text/html": "<div>\n<style scoped>\n    .dataframe tbody tr th:only-of-type {\n        vertical-align: middle;\n    }\n\n    .dataframe tbody tr th {\n        vertical-align: top;\n    }\n\n    .dataframe thead th {\n        text-align: right;\n    }\n</style>\n<table border=\"1\" class=\"dataframe\">\n  <thead>\n    <tr style=\"text-align: right;\">\n      <th></th>\n      <th>user_id</th>\n      <th>feature_id</th>\n      <th>features</th>\n    </tr>\n  </thead>\n  <tbody>\n    <tr>\n      <td>0</td>\n      <td>1</td>\n      <td>1</td>\n      <td>0.567626</td>\n    </tr>\n    <tr>\n      <td>1</td>\n      <td>2</td>\n      <td>1</td>\n      <td>0.608580</td>\n    </tr>\n    <tr>\n      <td>2</td>\n      <td>3</td>\n      <td>1</td>\n      <td>0.451128</td>\n    </tr>\n    <tr>\n      <td>3</td>\n      <td>4</td>\n      <td>1</td>\n      <td>0.176144</td>\n    </tr>\n    <tr>\n      <td>4</td>\n      <td>5</td>\n      <td>1</td>\n      <td>0.449130</td>\n    </tr>\n    <tr>\n      <td>...</td>\n      <td>...</td>\n      <td>...</td>\n      <td>...</td>\n    </tr>\n    <tr>\n      <td>3991</td>\n      <td>995</td>\n      <td>4</td>\n      <td>0.319044</td>\n    </tr>\n    <tr>\n      <td>3992</td>\n      <td>996</td>\n      <td>4</td>\n      <td>0.634815</td>\n    </tr>\n    <tr>\n      <td>3993</td>\n      <td>997</td>\n      <td>4</td>\n      <td>0.540165</td>\n    </tr>\n    <tr>\n      <td>3994</td>\n      <td>998</td>\n      <td>4</td>\n      <td>0.253103</td>\n    </tr>\n    <tr>\n      <td>3995</td>\n      <td>999</td>\n      <td>4</td>\n      <td>0.321123</td>\n    </tr>\n  </tbody>\n</table>\n<p>3996 rows × 3 columns</p>\n</div>"
          },
          "metadata": {},
          "execution_count": 144
        }
      ],
      "source": [
        "user_df"
      ]
    },
    {
      "cell_type": "code",
      "execution_count": 139,
      "metadata": {},
      "outputs": [],
      "source": [
        "n_users = user_df.user_id.unique().shape[0]\n",
        "n_items = user_df.feature_id.unique().shape[0]"
      ]
    },
    {
      "cell_type": "code",
      "execution_count": 145,
      "metadata": {},
      "outputs": [],
      "source": [
        "data_matrix = np.zeros((n_users, n_items))\n",
        "for line in user_df.itertuples():\n",
        "    data_matrix[line[1]-1, line[2]-1] = line[3]"
      ]
    },
    {
      "cell_type": "code",
      "execution_count": 148,
      "metadata": {},
      "outputs": [
        {
          "output_type": "execute_result",
          "data": {
            "text/plain": "array([[0.56762602, 0.52513471, 0.04517696, 0.15608872],\n       [0.6085799 , 0.58312583, 0.83463077, 0.04635363],\n       [0.45112764, 0.57127635, 0.20201536, 0.55684248],\n       ...,\n       [0.79364616, 0.00511432, 0.82306488, 0.54016479],\n       [0.08189404, 0.46032527, 0.79998635, 0.25310349],\n       [0.07841393, 0.11995252, 0.65158077, 0.3211226 ]])"
          },
          "metadata": {},
          "execution_count": 148
        }
      ],
      "source": [
        "data_matrix"
      ]
    },
    {
      "cell_type": "code",
      "execution_count": null,
      "metadata": {},
      "outputs": [],
      "source": [
        "#Data matrix looks like our original dataset, lets skip all the work above and just convert our original dataset into a numpy array"
      ]
    },
    {
      "cell_type": "code",
      "execution_count": 154,
      "metadata": {},
      "outputs": [
        {
          "output_type": "execute_result",
          "data": {
            "text/plain": "Empty DataFrame\nColumns: [user_id, user_feat_1, user_feat_2, user_feat_3, user_feat_4]\nIndex: []",
            "text/html": "<div>\n<style scoped>\n    .dataframe tbody tr th:only-of-type {\n        vertical-align: middle;\n    }\n\n    .dataframe tbody tr th {\n        vertical-align: top;\n    }\n\n    .dataframe thead th {\n        text-align: right;\n    }\n</style>\n<table border=\"1\" class=\"dataframe\">\n  <thead>\n    <tr style=\"text-align: right;\">\n      <th></th>\n      <th>user_id</th>\n      <th>user_feat_1</th>\n      <th>user_feat_2</th>\n      <th>user_feat_3</th>\n      <th>user_feat_4</th>\n    </tr>\n  </thead>\n  <tbody>\n  </tbody>\n</table>\n</div>"
          },
          "metadata": {},
          "execution_count": 154
        }
      ],
      "source": [
        "user_exp=pd.DataFrame(columns=['user_id','user_feat_1','user_feat_2','user_feat_3','user_feat_4'])\n"
      ]
    },
    {
      "cell_type": "code",
      "execution_count": 160,
      "metadata": {},
      "outputs": [
        {
          "output_type": "execute_result",
          "data": {
            "text/plain": "0      NaN\n1      NaN\n2      NaN\n3      NaN\n4      NaN\n      ... \n994    NaN\n995    NaN\n996    NaN\n997    NaN\n998    NaN\nName: user_feat_1, Length: 999, dtype: object"
          },
          "metadata": {},
          "execution_count": 160
        }
      ],
      "source": [
        "user_exp['user_id'] = range(1,1000)\n",
        "\n",
        "user_exp['user_feat_1']"
      ]
    },
    {
      "cell_type": "code",
      "execution_count": 161,
      "metadata": {},
      "outputs": [],
      "source": [
        "user_exp['user_feat_1'] = user_exp['user_feat_1'].transform(lambda x: np.random.rand())\n",
        "user_exp['user_feat_2'] = user_exp['user_feat_2'].transform(lambda x: np.random.rand())\n",
        "user_exp['user_feat_3'] = user_exp['user_feat_3'].transform(lambda x: np.random.rand())\n",
        "user_exp['user_feat_4'] = user_exp['user_feat_4'].transform(lambda x: np.random.rand())"
      ]
    },
    {
      "cell_type": "code",
      "execution_count": 162,
      "metadata": {},
      "outputs": [
        {
          "output_type": "execute_result",
          "data": {
            "text/plain": "     user_id  user_feat_1  user_feat_2  user_feat_3  user_feat_4\n0          1     0.183264     0.950180     0.809237     0.364427\n1          2     0.358757     0.189541     0.161427     0.623086\n2          3     0.209819     0.289204     0.109696     0.460558\n3          4     0.627828     0.131034     0.371763     0.963526\n4          5     0.096661     0.658607     0.495488     0.321719\n..       ...          ...          ...          ...          ...\n994      995     0.849125     0.421835     0.289961     0.373634\n995      996     0.661519     0.524612     0.395161     0.320900\n996      997     0.805776     0.165377     0.704409     0.230490\n997      998     0.673098     0.318379     0.071580     0.087562\n998      999     0.240882     0.612255     0.508537     0.944819\n\n[999 rows x 5 columns]",
            "text/html": "<div>\n<style scoped>\n    .dataframe tbody tr th:only-of-type {\n        vertical-align: middle;\n    }\n\n    .dataframe tbody tr th {\n        vertical-align: top;\n    }\n\n    .dataframe thead th {\n        text-align: right;\n    }\n</style>\n<table border=\"1\" class=\"dataframe\">\n  <thead>\n    <tr style=\"text-align: right;\">\n      <th></th>\n      <th>user_id</th>\n      <th>user_feat_1</th>\n      <th>user_feat_2</th>\n      <th>user_feat_3</th>\n      <th>user_feat_4</th>\n    </tr>\n  </thead>\n  <tbody>\n    <tr>\n      <td>0</td>\n      <td>1</td>\n      <td>0.183264</td>\n      <td>0.950180</td>\n      <td>0.809237</td>\n      <td>0.364427</td>\n    </tr>\n    <tr>\n      <td>1</td>\n      <td>2</td>\n      <td>0.358757</td>\n      <td>0.189541</td>\n      <td>0.161427</td>\n      <td>0.623086</td>\n    </tr>\n    <tr>\n      <td>2</td>\n      <td>3</td>\n      <td>0.209819</td>\n      <td>0.289204</td>\n      <td>0.109696</td>\n      <td>0.460558</td>\n    </tr>\n    <tr>\n      <td>3</td>\n      <td>4</td>\n      <td>0.627828</td>\n      <td>0.131034</td>\n      <td>0.371763</td>\n      <td>0.963526</td>\n    </tr>\n    <tr>\n      <td>4</td>\n      <td>5</td>\n      <td>0.096661</td>\n      <td>0.658607</td>\n      <td>0.495488</td>\n      <td>0.321719</td>\n    </tr>\n    <tr>\n      <td>...</td>\n      <td>...</td>\n      <td>...</td>\n      <td>...</td>\n      <td>...</td>\n      <td>...</td>\n    </tr>\n    <tr>\n      <td>994</td>\n      <td>995</td>\n      <td>0.849125</td>\n      <td>0.421835</td>\n      <td>0.289961</td>\n      <td>0.373634</td>\n    </tr>\n    <tr>\n      <td>995</td>\n      <td>996</td>\n      <td>0.661519</td>\n      <td>0.524612</td>\n      <td>0.395161</td>\n      <td>0.320900</td>\n    </tr>\n    <tr>\n      <td>996</td>\n      <td>997</td>\n      <td>0.805776</td>\n      <td>0.165377</td>\n      <td>0.704409</td>\n      <td>0.230490</td>\n    </tr>\n    <tr>\n      <td>997</td>\n      <td>998</td>\n      <td>0.673098</td>\n      <td>0.318379</td>\n      <td>0.071580</td>\n      <td>0.087562</td>\n    </tr>\n    <tr>\n      <td>998</td>\n      <td>999</td>\n      <td>0.240882</td>\n      <td>0.612255</td>\n      <td>0.508537</td>\n      <td>0.944819</td>\n    </tr>\n  </tbody>\n</table>\n<p>999 rows × 5 columns</p>\n</div>"
          },
          "metadata": {},
          "execution_count": 162
        }
      ],
      "source": [
        "user_exp"
      ]
    },
    {
      "cell_type": "code",
      "execution_count": 172,
      "metadata": {},
      "outputs": [],
      "source": [
        "user_exp_feat = user_exp[['user_feat_1','user_feat_2','user_feat_3','user_feat_4']]"
      ]
    },
    {
      "cell_type": "code",
      "execution_count": 175,
      "metadata": {},
      "outputs": [],
      "source": [
        "user_exp_array = user_exp_feat.to_numpy()"
      ]
    },
    {
      "cell_type": "code",
      "execution_count": 176,
      "metadata": {},
      "outputs": [],
      "source": [
        "from sklearn.metrics.pairwise import pairwise_distances \n",
        "user_similarity = pairwise_distances(data_matrix, metric='cosine')\n",
        "item_similarity = pairwise_distances(data_matrix.T, metric='cosine')"
      ]
    },
    {
      "cell_type": "code",
      "execution_count": 178,
      "metadata": {},
      "outputs": [],
      "source": [
        "def predict(features, similarity, type='user'):\n",
        "    if type == 'user':\n",
        "        mean_user_rating = features.mean(axis=1)\n",
        "        #We use np.newaxis so that mean_user_rating has same format as ratings\n",
        "        ratings_diff = (features - mean_user_rating[:, np.newaxis])\n",
        "        pred = mean_user_rating[:, np.newaxis] + similarity.dot(ratings_diff) / np.array([np.abs(similarity).sum(axis=1)]).T\n",
        "    elif type == 'item':\n",
        "        pred = features.dot(similarity) / np.array([np.abs(similarity).sum(axis=1)])\n",
        "    return pred"
      ]
    },
    {
      "cell_type": "code",
      "execution_count": 179,
      "metadata": {},
      "outputs": [],
      "source": [
        "user_prediction = predict(data_matrix, user_similarity, type='user')\n",
        "item_prediction = predict(data_matrix, item_similarity, type='item')"
      ]
    },
    {
      "cell_type": "code",
      "execution_count": 180,
      "metadata": {},
      "outputs": [
        {
          "output_type": "execute_result",
          "data": {
            "text/plain": "array([[0.22286165, 0.26597733, 0.41606605, 0.38912137],\n       [0.47697345, 0.51627723, 0.42764471, 0.65179474],\n       [0.42570335, 0.38922876, 0.56656519, 0.39976453],\n       ...,\n       [0.46879613, 0.67499301, 0.4656411 , 0.55255991],\n       [0.47657085, 0.39792041, 0.2732348 , 0.44758309],\n       [0.35107046, 0.36526508, 0.16310202, 0.29163227]])"
          },
          "metadata": {},
          "execution_count": 180
        }
      ],
      "source": [
        "user_prediction\n"
      ]
    },
    {
      "cell_type": "code",
      "execution_count": 182,
      "metadata": {
        "tags": []
      },
      "outputs": [
        {
          "output_type": "stream",
          "name": "stdout",
          "text": "Collecting turicreate\n\u001b[?25l  Downloading https://files.pythonhosted.org/packages/50/59/400140a0c53ae7bf5790fad31b6c8be15debabfd8fc9531b17f86202551d/turicreate-6.3-cp37-cp37m-macosx_10_12_intel.macosx_10_12_x86_64.macosx_10_13_intel.macosx_10_13_x86_64.macosx_10_14_intel.macosx_10_14_x86_64.whl (33.1MB)\n\u001b[K     |████████████████████████████████| 33.1MB 29.9MB/s \n\u001b[?25hCollecting coremltools==3.3 (from turicreate)\n\u001b[?25l  Downloading https://files.pythonhosted.org/packages/96/70/a7abb33fe681dad7daef963160c90b3c1900146c7fa41035cc9df8bb6870/coremltools-3.3-cp37-none-macosx_10_15_intel.whl (3.5MB)\n\u001b[K     |████████████████████████████████| 3.5MB 3.0MB/s \n\u001b[?25hRequirement already satisfied: pandas>=0.23.2 in /opt/anaconda3/lib/python3.7/site-packages (from turicreate) (0.25.1)\nCollecting prettytable==0.7.2 (from turicreate)\n  Downloading https://files.pythonhosted.org/packages/ef/30/4b0746848746ed5941f052479e7c23d2b56d174b82f4fd34a25e389831f5/prettytable-0.7.2.tar.bz2\nRequirement already satisfied: numpy in /opt/anaconda3/lib/python3.7/site-packages (from turicreate) (1.17.2)\nRequirement already satisfied: pillow>=5.2.0 in /opt/anaconda3/lib/python3.7/site-packages (from turicreate) (6.2.0)\nRequirement already satisfied: decorator>=4.0.9 in /opt/anaconda3/lib/python3.7/site-packages (from turicreate) (4.4.0)\nRequirement already satisfied: tensorflow>=2.0.0 in /opt/anaconda3/lib/python3.7/site-packages (from turicreate) (2.3.0)\nRequirement already satisfied: requests>=2.9.1 in /opt/anaconda3/lib/python3.7/site-packages (from turicreate) (2.22.0)\nRequirement already satisfied: six>=1.10.0 in /opt/anaconda3/lib/python3.7/site-packages (from turicreate) (1.12.0)\nCollecting resampy==0.2.1 (from turicreate)\n\u001b[?25l  Downloading https://files.pythonhosted.org/packages/14/b6/66a06d85474190b50aee1a6c09cdc95bb405ac47338b27e9b21409da1760/resampy-0.2.1.tar.gz (322kB)\n\u001b[K     |████████████████████████████████| 327kB 38.8MB/s \n\u001b[?25hRequirement already satisfied: scipy>=1.1.0 in /opt/anaconda3/lib/python3.7/site-packages (from turicreate) (1.4.1)\nRequirement already satisfied: protobuf>=3.1.0 in /opt/anaconda3/lib/python3.7/site-packages (from coremltools==3.3->turicreate) (3.11.3)\nRequirement already satisfied: pytz>=2017.2 in /opt/anaconda3/lib/python3.7/site-packages (from pandas>=0.23.2->turicreate) (2019.3)\nRequirement already satisfied: python-dateutil>=2.6.1 in /opt/anaconda3/lib/python3.7/site-packages (from pandas>=0.23.2->turicreate) (2.8.0)\nRequirement already satisfied: absl-py>=0.7.0 in /opt/anaconda3/lib/python3.7/site-packages (from tensorflow>=2.0.0->turicreate) (0.9.0)\nRequirement already satisfied: h5py<2.11.0,>=2.10.0 in /opt/anaconda3/lib/python3.7/site-packages (from tensorflow>=2.0.0->turicreate) (2.10.0)\nRequirement already satisfied: tensorflow-estimator<2.4.0,>=2.3.0 in /opt/anaconda3/lib/python3.7/site-packages (from tensorflow>=2.0.0->turicreate) (2.3.0)\nRequirement already satisfied: wrapt>=1.11.1 in /opt/anaconda3/lib/python3.7/site-packages (from tensorflow>=2.0.0->turicreate) (1.11.2)\nRequirement already satisfied: gast==0.3.3 in /opt/anaconda3/lib/python3.7/site-packages (from tensorflow>=2.0.0->turicreate) (0.3.3)\nRequirement already satisfied: grpcio>=1.8.6 in /opt/anaconda3/lib/python3.7/site-packages (from tensorflow>=2.0.0->turicreate) (1.31.0)\nRequirement already satisfied: wheel>=0.26 in /opt/anaconda3/lib/python3.7/site-packages (from tensorflow>=2.0.0->turicreate) (0.33.6)\nRequirement already satisfied: tensorboard<3,>=2.3.0 in /opt/anaconda3/lib/python3.7/site-packages (from tensorflow>=2.0.0->turicreate) (2.3.0)\nRequirement already satisfied: astunparse==1.6.3 in /opt/anaconda3/lib/python3.7/site-packages (from tensorflow>=2.0.0->turicreate) (1.6.3)\nRequirement already satisfied: termcolor>=1.1.0 in /opt/anaconda3/lib/python3.7/site-packages (from tensorflow>=2.0.0->turicreate) (1.1.0)\nRequirement already satisfied: opt-einsum>=2.3.2 in /opt/anaconda3/lib/python3.7/site-packages (from tensorflow>=2.0.0->turicreate) (3.3.0)\nRequirement already satisfied: google-pasta>=0.1.8 in /opt/anaconda3/lib/python3.7/site-packages (from tensorflow>=2.0.0->turicreate) (0.2.0)\nRequirement already satisfied: keras-preprocessing<1.2,>=1.1.1 in /opt/anaconda3/lib/python3.7/site-packages (from tensorflow>=2.0.0->turicreate) (1.1.2)\nRequirement already satisfied: idna<2.9,>=2.5 in /opt/anaconda3/lib/python3.7/site-packages (from requests>=2.9.1->turicreate) (2.8)\nRequirement already satisfied: certifi>=2017.4.17 in /opt/anaconda3/lib/python3.7/site-packages (from requests>=2.9.1->turicreate) (2019.9.11)\nRequirement already satisfied: chardet<3.1.0,>=3.0.2 in /opt/anaconda3/lib/python3.7/site-packages (from requests>=2.9.1->turicreate) (3.0.4)\nRequirement already satisfied: urllib3!=1.25.0,!=1.25.1,<1.26,>=1.21.1 in /opt/anaconda3/lib/python3.7/site-packages (from requests>=2.9.1->turicreate) (1.24.2)\nRequirement already satisfied: numba>=0.32 in /opt/anaconda3/lib/python3.7/site-packages (from resampy==0.2.1->turicreate) (0.45.1)\nRequirement already satisfied: setuptools in /opt/anaconda3/lib/python3.7/site-packages (from protobuf>=3.1.0->coremltools==3.3->turicreate) (41.4.0)\nRequirement already satisfied: werkzeug>=0.11.15 in /opt/anaconda3/lib/python3.7/site-packages (from tensorboard<3,>=2.3.0->tensorflow>=2.0.0->turicreate) (0.16.0)\nRequirement already satisfied: tensorboard-plugin-wit>=1.6.0 in /opt/anaconda3/lib/python3.7/site-packages (from tensorboard<3,>=2.3.0->tensorflow>=2.0.0->turicreate) (1.7.0)\nRequirement already satisfied: google-auth-oauthlib<0.5,>=0.4.1 in /opt/anaconda3/lib/python3.7/site-packages (from tensorboard<3,>=2.3.0->tensorflow>=2.0.0->turicreate) (0.4.1)\nRequirement already satisfied: google-auth<2,>=1.6.3 in /opt/anaconda3/lib/python3.7/site-packages (from tensorboard<3,>=2.3.0->tensorflow>=2.0.0->turicreate) (1.20.1)\nRequirement already satisfied: markdown>=2.6.8 in /opt/anaconda3/lib/python3.7/site-packages (from tensorboard<3,>=2.3.0->tensorflow>=2.0.0->turicreate) (3.2.2)\nRequirement already satisfied: llvmlite>=0.29.0dev0 in /opt/anaconda3/lib/python3.7/site-packages (from numba>=0.32->resampy==0.2.1->turicreate) (0.29.0)\nRequirement already satisfied: requests-oauthlib>=0.7.0 in /opt/anaconda3/lib/python3.7/site-packages (from google-auth-oauthlib<0.5,>=0.4.1->tensorboard<3,>=2.3.0->tensorflow>=2.0.0->turicreate) (1.3.0)\nRequirement already satisfied: pyasn1-modules>=0.2.1 in /opt/anaconda3/lib/python3.7/site-packages (from google-auth<2,>=1.6.3->tensorboard<3,>=2.3.0->tensorflow>=2.0.0->turicreate) (0.2.8)\nRequirement already satisfied: cachetools<5.0,>=2.0.0 in /opt/anaconda3/lib/python3.7/site-packages (from google-auth<2,>=1.6.3->tensorboard<3,>=2.3.0->tensorflow>=2.0.0->turicreate) (4.1.1)\nRequirement already satisfied: rsa<5,>=3.1.4; python_version >= \"3.5\" in /opt/anaconda3/lib/python3.7/site-packages (from google-auth<2,>=1.6.3->tensorboard<3,>=2.3.0->tensorflow>=2.0.0->turicreate) (4.6)\nRequirement already satisfied: importlib-metadata; python_version < \"3.8\" in /opt/anaconda3/lib/python3.7/site-packages (from markdown>=2.6.8->tensorboard<3,>=2.3.0->tensorflow>=2.0.0->turicreate) (0.23)\nRequirement already satisfied: oauthlib>=3.0.0 in /opt/anaconda3/lib/python3.7/site-packages (from requests-oauthlib>=0.7.0->google-auth-oauthlib<0.5,>=0.4.1->tensorboard<3,>=2.3.0->tensorflow>=2.0.0->turicreate) (3.1.0)\nRequirement already satisfied: pyasn1<0.5.0,>=0.4.6 in /opt/anaconda3/lib/python3.7/site-packages (from pyasn1-modules>=0.2.1->google-auth<2,>=1.6.3->tensorboard<3,>=2.3.0->tensorflow>=2.0.0->turicreate) (0.4.8)\nRequirement already satisfied: zipp>=0.5 in /opt/anaconda3/lib/python3.7/site-packages (from importlib-metadata; python_version < \"3.8\"->markdown>=2.6.8->tensorboard<3,>=2.3.0->tensorflow>=2.0.0->turicreate) (0.6.0)\nRequirement already satisfied: more-itertools in /opt/anaconda3/lib/python3.7/site-packages (from zipp>=0.5->importlib-metadata; python_version < \"3.8\"->markdown>=2.6.8->tensorboard<3,>=2.3.0->tensorflow>=2.0.0->turicreate) (7.2.0)\nBuilding wheels for collected packages: prettytable, resampy\n  Building wheel for prettytable (setup.py) ... \u001b[?25ldone\n\u001b[?25h  Created wheel for prettytable: filename=prettytable-0.7.2-cp37-none-any.whl size=13700 sha256=caeef982256df121678f1049153799628d1745fa931e3845ce2c552d6a95c26b\n  Stored in directory: /Users/chriskamerin/Library/Caches/pip/wheels/80/34/1c/3967380d9676d162cb59513bd9dc862d0584e045a162095606\n  Building wheel for resampy (setup.py) ... \u001b[?25ldone\n\u001b[?25h  Created wheel for resampy: filename=resampy-0.2.1-cp37-none-any.whl size=320849 sha256=2e967a4f6c4d10b00180be24cda85703d12a23a0c0bfd46e387ccc5ea510f931\n  Stored in directory: /Users/chriskamerin/Library/Caches/pip/wheels/ff/4f/ed/2e6c676c23efe5394bb40ade50662e90eb46e29b48324c5f9b\nSuccessfully built prettytable resampy\nInstalling collected packages: coremltools, prettytable, resampy, turicreate\nSuccessfully installed coremltools-3.3 prettytable-0.7.2 resampy-0.2.1 turicreate-6.3\nNote: you may need to restart the kernel to use updated packages.\n"
        }
      ],
      "source": [
        "pip install turicreate"
      ]
    },
    {
      "cell_type": "code",
      "execution_count": 183,
      "metadata": {},
      "outputs": [],
      "source": [
        "import turicreate\n",
        "train_data = turicreate.SFrame(user_df)"
      ]
    },
    {
      "cell_type": "code",
      "execution_count": 191,
      "metadata": {},
      "outputs": [
        {
          "output_type": "display_data",
          "data": {
            "text/plain": "Preparing data set.",
            "text/html": "<pre>Preparing data set.</pre>"
          },
          "metadata": {}
        },
        {
          "output_type": "display_data",
          "data": {
            "text/plain": "    Data has 3996 observations with 999 users and 4 items.",
            "text/html": "<pre>    Data has 3996 observations with 999 users and 4 items.</pre>"
          },
          "metadata": {}
        },
        {
          "output_type": "display_data",
          "data": {
            "text/plain": "    Data prepared in: 0.016123s",
            "text/html": "<pre>    Data prepared in: 0.016123s</pre>"
          },
          "metadata": {}
        },
        {
          "output_type": "display_data",
          "data": {
            "text/plain": "3996 observations to process; with 4 unique items.",
            "text/html": "<pre>3996 observations to process; with 4 unique items.</pre>"
          },
          "metadata": {}
        }
      ],
      "source": [
        "popularity_model = turicreate.popularity_recommender.create(train_data, user_id='user_id', item_id='feature_id', target='features')"
      ]
    },
    {
      "cell_type": "code",
      "execution_count": 192,
      "metadata": {
        "tags": []
      },
      "outputs": [
        {
          "output_type": "stream",
          "name": "stdout",
          "text": "+---------+------------+-------+------+\n| user_id | feature_id | score | rank |\n+---------+------------+-------+------+\n+---------+------------+-------+------+\n[0 rows x 4 columns]\n\n"
        }
      ],
      "source": [
        "popularity_recomm = popularity_model.recommend(users=[1,2,3,4,5],k=1)\n",
        "popularity_recomm.print_rows(num_rows=25)"
      ]
    },
    {
      "cell_type": "code",
      "execution_count": 195,
      "metadata": {
        "tags": []
      },
      "outputs": [
        {
          "output_type": "display_data",
          "data": {
            "text/plain": "Preparing data set.",
            "text/html": "<pre>Preparing data set.</pre>"
          },
          "metadata": {}
        },
        {
          "output_type": "display_data",
          "data": {
            "text/plain": "    Data has 3996 observations with 999 users and 4 items.",
            "text/html": "<pre>    Data has 3996 observations with 999 users and 4 items.</pre>"
          },
          "metadata": {}
        },
        {
          "output_type": "display_data",
          "data": {
            "text/plain": "    Data prepared in: 0.015423s",
            "text/html": "<pre>    Data prepared in: 0.015423s</pre>"
          },
          "metadata": {}
        },
        {
          "output_type": "display_data",
          "data": {
            "text/plain": "Training model from provided data.",
            "text/html": "<pre>Training model from provided data.</pre>"
          },
          "metadata": {}
        },
        {
          "output_type": "display_data",
          "data": {
            "text/plain": "Gathering per-item and per-user statistics.",
            "text/html": "<pre>Gathering per-item and per-user statistics.</pre>"
          },
          "metadata": {}
        },
        {
          "output_type": "display_data",
          "data": {
            "text/plain": "+--------------------------------+------------+",
            "text/html": "<pre>+--------------------------------+------------+</pre>"
          },
          "metadata": {}
        },
        {
          "output_type": "stream",
          "name": "stdout",
          "text": "+---------+------------+-------+------+\n| user_id | feature_id | score | rank |\n+---------+------------+-------+------+\n+---------+------------+-------+------+\n[0 rows x 4 columns]\n\n"
        },
        {
          "output_type": "display_data",
          "data": {
            "text/plain": "| Elapsed Time (Item Statistics) | % Complete |",
            "text/html": "<pre>| Elapsed Time (Item Statistics) | % Complete |</pre>"
          },
          "metadata": {}
        },
        {
          "output_type": "display_data",
          "data": {
            "text/plain": "+--------------------------------+------------+",
            "text/html": "<pre>+--------------------------------+------------+</pre>"
          },
          "metadata": {}
        },
        {
          "output_type": "display_data",
          "data": {
            "text/plain": "| 9.2ms                          | 100        |",
            "text/html": "<pre>| 9.2ms                          | 100        |</pre>"
          },
          "metadata": {}
        }
      ],
      "source": [
        "item_sim_model = turicreate.item_similarity_recommender.create(train_data, user_id='user_id', item_id='feature_id', target='features', similarity_type='cosine')\n",
        "\n",
        "#Making recommendations\n",
        "item_sim_recomm = item_sim_model.recommend(users=[1,2,3,4,5],k=5)\n",
        "item_sim_recomm.print_rows(num_rows=25)"
      ]
    },
    {
      "cell_type": "code",
      "execution_count": null,
      "metadata": {},
      "outputs": [],
      "source": [
        "#Model Cant make recommendations because everything is randomely filled. There are no patterns\n",
        "\n",
        "#This function will fill missing values for the feature measurements with item as the user. User is item, ratings are feature scores\n",
        "\n",
        "class MF():\n",
        "\n",
        "    # Initializing the user-movie rating matrix, no. of latent features, alpha and beta.\n",
        "    def __init__(self, R, K, alpha, beta, iterations):\n",
        "        self.R = R\n",
        "        self.num_users, self.num_items = R.shape\n",
        "        self.K = K\n",
        "        self.alpha = alpha\n",
        "        self.beta = beta\n",
        "        self.iterations = iterations\n",
        "\n",
        "    # Initializing user-feature and movie-feature matrix \n",
        "    def train(self):\n",
        "        self.P = np.random.normal(scale=1./self.K, size=(self.num_users, self.K))\n",
        "        self.Q = np.random.normal(scale=1./self.K, size=(self.num_items, self.K))\n",
        "\n",
        "        # Initializing the bias terms\n",
        "        self.b_u = np.zeros(self.num_users)\n",
        "        self.b_i = np.zeros(self.num_items)\n",
        "        self.b = np.mean(self.R[np.where(self.R != 0)])\n",
        "\n",
        "        # List of training samples\n",
        "        self.samples = [\n",
        "        (i, j, self.R[i, j])\n",
        "        for i in range(self.num_users)\n",
        "        for j in range(self.num_items)\n",
        "        if self.R[i, j] > 0\n",
        "        ]\n",
        "\n",
        "        # Stochastic gradient descent for given number of iterations\n",
        "        training_process = []\n",
        "        for i in range(self.iterations):\n",
        "        np.random.shuffle(self.samples)\n",
        "        self.sgd()\n",
        "        mse = self.mse()\n",
        "        training_process.append((i, mse))\n",
        "        if (i+1) % 20 == 0:\n",
        "            print(\"Iteration: %d ; error = %.4f\" % (i+1, mse))\n",
        "\n",
        "        return training_process\n",
        "\n",
        "    # Computing total mean squared error\n",
        "    def mse(self):\n",
        "        xs, ys = self.R.nonzero()\n",
        "        predicted = self.full_matrix()\n",
        "        error = 0\n",
        "        for x, y in zip(xs, ys):\n",
        "            error += pow(self.R[x, y] - predicted[x, y], 2)\n",
        "        return np.sqrt(error)\n",
        "\n",
        "    # Stochastic gradient descent to get optimized P and Q matrix\n",
        "    def sgd(self):\n",
        "        for i, j, r in self.samples:\n",
        "            prediction = self.get_rating(i, j)\n",
        "            e = (r - prediction)\n",
        "\n",
        "            self.b_u[i] += self.alpha * (e - self.beta * self.b_u[i])\n",
        "            self.b_i[j] += self.alpha * (e - self.beta * self.b_i[j])\n",
        "\n",
        "            self.P[i, :] += self.alpha * (e * self.Q[j, :] - self.beta * self.P[i,:])\n",
        "            self.Q[j, :] += self.alpha * (e * self.P[i, :] - self.beta * self.Q[j,:])\n",
        "\n",
        "    # Ratings for user i and moive j\n",
        "    def get_rating(self, i, j):\n",
        "        prediction = self.b + self.b_u[i] + self.b_i[j] + self.P[i, :].dot(self.Q[j, :].T)\n",
        "        return prediction\n",
        "\n",
        "    # Full user-movie rating matrix\n",
        "    def full_matrix(self):\n",
        "        return mf.b + mf.b_u[:,np.newaxis] + mf.b_i[np.newaxis:,] + mf.P.dot(mf.Q.T)"
      ]
    },
    {
      "cell_type": "code",
      "execution_count": null,
      "metadata": {},
      "outputs": [],
      "source": []
    },
    {
      "cell_type": "code",
      "execution_count": null,
      "metadata": {},
      "outputs": [],
      "source": []
    },
    {
      "cell_type": "code",
      "execution_count": 199,
      "metadata": {},
      "outputs": [],
      "source": [
        "df=pd.read_csv('/Users/chriskamerin/Desktop/Shopping_Recommender_System/headphones.csv')"
      ]
    },
    {
      "cell_type": "code",
      "execution_count": 151,
      "metadata": {},
      "outputs": [],
      "source": [
        "df1 = pd.DataFrame(columns=['user_id', 'game_use', 'rec_use', 'studio_use', 'exercise_use',\n",
        "       'office_use', 'podcast_use', 'travel_use', 'other_use',\n",
        "       'sound_quality_importance', 'positional_importance', 'loud_importance',\n",
        "       'mic_importance', 'wireless_importance', 'in_ear_importance',\n",
        "       'on_ear_importance', 'over_ear_importance', 'no_pref_oninover',\n",
        "       'price_sensitivity', 'min_price', 'max_price', 'headphone_name',\n",
        "       'price', 'attached_mic', 'recording_quality', 'noise_handling',\n",
        "       'Impedance', 'sensitivity(dbv)', 'accuracy',\n",
        "       'weighted_harmonic_distortion', 'soundstage', 'imaging',\n",
        "       'noise_isolation', 'wireless', 'over_ear_style', 'on_ear_style',\n",
        "       'in_ear_style', 'open_back', 'close_back', 'semiclosed_back'])"
      ]
    },
    {
      "cell_type": "code",
      "execution_count": 152,
      "metadata": {},
      "outputs": [],
      "source": [
        "df1['user_id']=range(0,10000)"
      ]
    },
    {
      "cell_type": "code",
      "execution_count": 153,
      "metadata": {},
      "outputs": [],
      "source": [
        "df1[['game_use', 'rec_use', 'studio_use', 'exercise_use',\n",
        "       'office_use', 'podcast_use', 'travel_use', 'other_use']] = np.random.choice([0,1],size=(10000,8),replace=True,p=[.6,.4])"
      ]
    },
    {
      "cell_type": "code",
      "execution_count": 154,
      "metadata": {},
      "outputs": [],
      "source": [
        "df1['other_use'] = np.random.choice([0,1],size=(10000),replace=True,p=[.9,.1])"
      ]
    },
    {
      "cell_type": "code",
      "execution_count": 155,
      "metadata": {},
      "outputs": [],
      "source": [
        "df1[['sound_quality_importance']] = np.random.choice([6,7,8,9,10],size=(10000),replace=True,p=[.1,.1,.3,.3,.2])"
      ]
    },
    {
      "cell_type": "code",
      "execution_count": 156,
      "metadata": {},
      "outputs": [],
      "source": [
        "df1[['no_pref_oninover','in_ear_importance',\n",
        "       'on_ear_importance', 'over_ear_importance']] = np.random.choice([0,1],size=(10000,4),replace=True)"
      ]
    },
    {
      "cell_type": "code",
      "execution_count": 157,
      "metadata": {},
      "outputs": [],
      "source": [
        "df1[[ 'positional_importance', 'loud_importance',\n",
        "       'mic_importance', 'wireless_importance',\n",
        "       'price_sensitivity']] = np.random.choice([0,1,2,3,4,5,6,7,8,9.10],size=(10000,5),replace=True)"
      ]
    },
    {
      "cell_type": "code",
      "execution_count": 158,
      "metadata": {},
      "outputs": [],
      "source": [
        "prices=[]\n",
        "for i in df1[\"price_sensitivity\"]:\n",
        "    prices.append(1000/(i+1))\n",
        "    "
      ]
    },
    {
      "cell_type": "code",
      "execution_count": 159,
      "metadata": {},
      "outputs": [],
      "source": [
        "df1['max_price']=prices"
      ]
    },
    {
      "cell_type": "code",
      "execution_count": 160,
      "metadata": {},
      "outputs": [],
      "source": [
        "df1['headphone_name']=range(0,10000)\n"
      ]
    },
    {
      "cell_type": "code",
      "execution_count": 161,
      "metadata": {},
      "outputs": [],
      "source": [
        "df1[['price']]=np.random.choice([50,100,200,300,400],size=(10000,1),replace=True,p=[.3,.3,.2,.15,.05])"
      ]
    },
    {
      "cell_type": "code",
      "execution_count": 162,
      "metadata": {},
      "outputs": [],
      "source": [
        "df1[[ 'attached_mic', 'recording_quality', 'noise_handling',\n",
        "       'Impedance', 'sensitivity(dbv)', 'accuracy',\n",
        "       'weighted_harmonic_distortion', 'soundstage', 'imaging',\n",
        "       'noise_isolation', 'wireless', 'over_ear_style', 'on_ear_style',\n",
        "       'in_ear_style', 'open_back', 'close_back', 'semiclosed_back']] = np.random.choice([1],size=(10000,17),replace=True)"
      ]
    },
    {
      "cell_type": "code",
      "execution_count": 163,
      "metadata": {},
      "outputs": [],
      "source": [
        "df1[[ 'attached_mic']] = np.random.choice([0,1],size=(10000),replace=True,p=[.8,.2])\n",
        "df1['noise_cancel_importance'] = np.random.choice([2,3,4,5,6,7,8,9,10],size=(10000),replace=True)"
      ]
    },
    {
      "cell_type": "code",
      "execution_count": 164,
      "metadata": {},
      "outputs": [],
      "source": [
        "miclist=[]\n",
        "for i in df1['attached_mic']:\n",
        "    miclist.append(i)"
      ]
    },
    {
      "cell_type": "code",
      "execution_count": 165,
      "metadata": {},
      "outputs": [],
      "source": [
        "gamelist=[]\n",
        "for i in df1['game_use']:\n",
        "    gamelist.append(i)"
      ]
    },
    {
      "cell_type": "code",
      "execution_count": 166,
      "metadata": {},
      "outputs": [],
      "source": [
        "for i in range(0,10000):\n",
        "    if df1['exercise_use'][i] >0: \n",
        "         df1['exercise_use'][i]=df1['exercise_use'][i]-df1['game_use'][i]\n",
        "    elif df1['studio_use'][i] >0: \n",
        "         df1['studio_use'][i]=df1['studio_use'][i]-df1['exercise_use'][i]   \n",
        "    elif df1['office_use'][i] >0: \n",
        "         df1['office_use'][i]=df1['office_use'][i]-df1['game_use'][i]   "
      ]
    },
    {
      "cell_type": "code",
      "execution_count": 167,
      "metadata": {},
      "outputs": [],
      "source": [
        "for i in range(0,10000):\n",
        "    if df1['game_use'][i] >0:\n",
        "        if df1['mic_importance'][i] < 5:\n",
        "             df1['mic_importance'][i]=df1['mic_importance'][i]+5"
      ]
    },
    {
      "cell_type": "code",
      "execution_count": 168,
      "metadata": {},
      "outputs": [],
      "source": [
        "for i in range(0,10000):\n",
        "    if df1['game_use'][i] >0:\n",
        "        if df1['positional_importance'][i] < 7:\n",
        "             df1['positional_importance'][i]=np.random.choice([7,8,9,10],replace=True)"
      ]
    },
    {
      "cell_type": "code",
      "execution_count": 169,
      "metadata": {},
      "outputs": [],
      "source": [
        "for i in range(0,10000):\n",
        "    if df1['exercise_use'][i] >0:\n",
        "        if df1['in_ear_importance'][i] < 1:\n",
        "            df1['in_ear_importance'][i]=df1['in_ear_importance'][i]+1\n",
        "        elif df1['in_ear_importance'][i] > 1: \n",
        "            df1['in_ear_importance'][i]=1\n"
      ]
    },
    {
      "cell_type": "code",
      "execution_count": 170,
      "metadata": {},
      "outputs": [],
      "source": [
        "for i in range(0,10000):\n",
        "    if df1['travel_use'][i] >0:\n",
        "        if df1['noise_cancel_importance'][i] < 5:\n",
        "            df1['noise_cancel_importance'][i]=df1['noise_cancel_importance'][i]+5  "
      ]
    },
    {
      "cell_type": "code",
      "execution_count": 171,
      "metadata": {},
      "outputs": [],
      "source": [
        "for i in range(0,10000):\n",
        "    if df1['no_pref_oninover'][i] >0:\n",
        "        df1['on_ear_importance'][i] = 0\n",
        "        df1['in_ear_importance'][i] = 0\n",
        "        df1['over_ear_importance'][i] = 0      "
      ]
    },
    {
      "cell_type": "code",
      "execution_count": 172,
      "metadata": {},
      "outputs": [],
      "source": [
        "for i in range(0,10000):\n",
        "    if df1['exercise_use'][i] >0: \n",
        "        df1['exercise_use'][i]=df1['exercise_use'][i]-df1['game_use'][i]"
      ]
    },
    {
      "cell_type": "code",
      "execution_count": 173,
      "metadata": {},
      "outputs": [],
      "source": [
        "for i in range(0,10000):\n",
        "    x = round(np.random.uniform(.20, .70),2)\n",
        "    miclist[i]=miclist[i]*x"
      ]
    },
    {
      "cell_type": "code",
      "execution_count": 174,
      "metadata": {},
      "outputs": [],
      "source": [
        "for i in range(0,10000):\n",
        "    if df1['attached_mic'][i] < 1:\n",
        "        df1['noise_handling'][i]=0"
      ]
    },
    {
      "cell_type": "code",
      "execution_count": 175,
      "metadata": {},
      "outputs": [],
      "source": [
        "df1['recording_quality'] = miclist"
      ]
    },
    {
      "cell_type": "code",
      "execution_count": 176,
      "metadata": {},
      "outputs": [],
      "source": [
        "df1[[ 'over_ear_style', 'on_ear_style',\n",
        "       'in_ear_style']] = np.random.choice([0,1],size=(10000,3),replace=True)"
      ]
    },
    {
      "cell_type": "code",
      "execution_count": 177,
      "metadata": {},
      "outputs": [],
      "source": [
        "df1['close_back'] = np.random.choice([0,1],size=(10000),replace=True,p=(.3,.7))"
      ]
    },
    {
      "cell_type": "code",
      "execution_count": 178,
      "metadata": {},
      "outputs": [],
      "source": [
        "df1[[ 'open_back', 'semiclosed_back']] = np.random.choice([0,1],size=(10000,2),replace=True)"
      ]
    },
    {
      "cell_type": "code",
      "execution_count": 179,
      "metadata": {},
      "outputs": [
        {
          "output_type": "execute_result",
          "data": {
            "text/plain": "      user_id  game_use  rec_use  studio_use  exercise_use  office_use  \\\n0           0         0        1           0             0           1   \n1           1         1        0           0             0           0   \n2           2         0        1           1             0           0   \n3           3         0        1           0             0           0   \n4           4         1        0           0             0           1   \n...       ...       ...      ...         ...           ...         ...   \n9995     9995         0        0           0             0           0   \n9996     9996         0        0           1             1           0   \n9997     9997         1        0           0             0           0   \n9998     9998         1        0           0             0           1   \n9999     9999         0        0           1             1           0   \n\n      podcast_use  travel_use  other_use  sound_quality_importance  ...  \\\n0               0           0          0                         7  ...   \n1               0           1          0                         9  ...   \n2               0           0          0                         9  ...   \n3               1           0          1                         8  ...   \n4               1           0          0                         9  ...   \n...           ...         ...        ...                       ...  ...   \n9995            0           0          0                         9  ...   \n9996            0           0          1                        10  ...   \n9997            1           1          0                         9  ...   \n9998            1           0          0                         9  ...   \n9999            1           0          0                        10  ...   \n\n      imaging  noise_isolation  wireless  over_ear_style  on_ear_style  \\\n0           1                1         1               0             1   \n1           1                1         1               1             1   \n2           1                1         1               0             0   \n3           1                1         1               0             1   \n4           1                1         1               0             1   \n...       ...              ...       ...             ...           ...   \n9995        1                1         1               1             1   \n9996        1                1         1               1             1   \n9997        1                1         1               1             0   \n9998        1                1         1               1             0   \n9999        1                1         1               1             1   \n\n      in_ear_style  open_back  close_back  semiclosed_back  \\\n0                0          0           1                0   \n1                1          1           1                0   \n2                0          1           0                0   \n3                1          1           0                1   \n4                0          1           0                0   \n...            ...        ...         ...              ...   \n9995             0          0           1                0   \n9996             1          0           0                0   \n9997             0          0           1                1   \n9998             0          0           0                0   \n9999             0          1           0                0   \n\n     noise_cancel_importance  \n0                          4  \n1                          9  \n2                          9  \n3                          6  \n4                          3  \n...                      ...  \n9995                       7  \n9996                       9  \n9997                       8  \n9998                      10  \n9999                       8  \n\n[10000 rows x 41 columns]",
            "text/html": "<div>\n<style scoped>\n    .dataframe tbody tr th:only-of-type {\n        vertical-align: middle;\n    }\n\n    .dataframe tbody tr th {\n        vertical-align: top;\n    }\n\n    .dataframe thead th {\n        text-align: right;\n    }\n</style>\n<table border=\"1\" class=\"dataframe\">\n  <thead>\n    <tr style=\"text-align: right;\">\n      <th></th>\n      <th>user_id</th>\n      <th>game_use</th>\n      <th>rec_use</th>\n      <th>studio_use</th>\n      <th>exercise_use</th>\n      <th>office_use</th>\n      <th>podcast_use</th>\n      <th>travel_use</th>\n      <th>other_use</th>\n      <th>sound_quality_importance</th>\n      <th>...</th>\n      <th>imaging</th>\n      <th>noise_isolation</th>\n      <th>wireless</th>\n      <th>over_ear_style</th>\n      <th>on_ear_style</th>\n      <th>in_ear_style</th>\n      <th>open_back</th>\n      <th>close_back</th>\n      <th>semiclosed_back</th>\n      <th>noise_cancel_importance</th>\n    </tr>\n  </thead>\n  <tbody>\n    <tr>\n      <td>0</td>\n      <td>0</td>\n      <td>0</td>\n      <td>1</td>\n      <td>0</td>\n      <td>0</td>\n      <td>1</td>\n      <td>0</td>\n      <td>0</td>\n      <td>0</td>\n      <td>7</td>\n      <td>...</td>\n      <td>1</td>\n      <td>1</td>\n      <td>1</td>\n      <td>0</td>\n      <td>1</td>\n      <td>0</td>\n      <td>0</td>\n      <td>1</td>\n      <td>0</td>\n      <td>4</td>\n    </tr>\n    <tr>\n      <td>1</td>\n      <td>1</td>\n      <td>1</td>\n      <td>0</td>\n      <td>0</td>\n      <td>0</td>\n      <td>0</td>\n      <td>0</td>\n      <td>1</td>\n      <td>0</td>\n      <td>9</td>\n      <td>...</td>\n      <td>1</td>\n      <td>1</td>\n      <td>1</td>\n      <td>1</td>\n      <td>1</td>\n      <td>1</td>\n      <td>1</td>\n      <td>1</td>\n      <td>0</td>\n      <td>9</td>\n    </tr>\n    <tr>\n      <td>2</td>\n      <td>2</td>\n      <td>0</td>\n      <td>1</td>\n      <td>1</td>\n      <td>0</td>\n      <td>0</td>\n      <td>0</td>\n      <td>0</td>\n      <td>0</td>\n      <td>9</td>\n      <td>...</td>\n      <td>1</td>\n      <td>1</td>\n      <td>1</td>\n      <td>0</td>\n      <td>0</td>\n      <td>0</td>\n      <td>1</td>\n      <td>0</td>\n      <td>0</td>\n      <td>9</td>\n    </tr>\n    <tr>\n      <td>3</td>\n      <td>3</td>\n      <td>0</td>\n      <td>1</td>\n      <td>0</td>\n      <td>0</td>\n      <td>0</td>\n      <td>1</td>\n      <td>0</td>\n      <td>1</td>\n      <td>8</td>\n      <td>...</td>\n      <td>1</td>\n      <td>1</td>\n      <td>1</td>\n      <td>0</td>\n      <td>1</td>\n      <td>1</td>\n      <td>1</td>\n      <td>0</td>\n      <td>1</td>\n      <td>6</td>\n    </tr>\n    <tr>\n      <td>4</td>\n      <td>4</td>\n      <td>1</td>\n      <td>0</td>\n      <td>0</td>\n      <td>0</td>\n      <td>1</td>\n      <td>1</td>\n      <td>0</td>\n      <td>0</td>\n      <td>9</td>\n      <td>...</td>\n      <td>1</td>\n      <td>1</td>\n      <td>1</td>\n      <td>0</td>\n      <td>1</td>\n      <td>0</td>\n      <td>1</td>\n      <td>0</td>\n      <td>0</td>\n      <td>3</td>\n    </tr>\n    <tr>\n      <td>...</td>\n      <td>...</td>\n      <td>...</td>\n      <td>...</td>\n      <td>...</td>\n      <td>...</td>\n      <td>...</td>\n      <td>...</td>\n      <td>...</td>\n      <td>...</td>\n      <td>...</td>\n      <td>...</td>\n      <td>...</td>\n      <td>...</td>\n      <td>...</td>\n      <td>...</td>\n      <td>...</td>\n      <td>...</td>\n      <td>...</td>\n      <td>...</td>\n      <td>...</td>\n      <td>...</td>\n    </tr>\n    <tr>\n      <td>9995</td>\n      <td>9995</td>\n      <td>0</td>\n      <td>0</td>\n      <td>0</td>\n      <td>0</td>\n      <td>0</td>\n      <td>0</td>\n      <td>0</td>\n      <td>0</td>\n      <td>9</td>\n      <td>...</td>\n      <td>1</td>\n      <td>1</td>\n      <td>1</td>\n      <td>1</td>\n      <td>1</td>\n      <td>0</td>\n      <td>0</td>\n      <td>1</td>\n      <td>0</td>\n      <td>7</td>\n    </tr>\n    <tr>\n      <td>9996</td>\n      <td>9996</td>\n      <td>0</td>\n      <td>0</td>\n      <td>1</td>\n      <td>1</td>\n      <td>0</td>\n      <td>0</td>\n      <td>0</td>\n      <td>1</td>\n      <td>10</td>\n      <td>...</td>\n      <td>1</td>\n      <td>1</td>\n      <td>1</td>\n      <td>1</td>\n      <td>1</td>\n      <td>1</td>\n      <td>0</td>\n      <td>0</td>\n      <td>0</td>\n      <td>9</td>\n    </tr>\n    <tr>\n      <td>9997</td>\n      <td>9997</td>\n      <td>1</td>\n      <td>0</td>\n      <td>0</td>\n      <td>0</td>\n      <td>0</td>\n      <td>1</td>\n      <td>1</td>\n      <td>0</td>\n      <td>9</td>\n      <td>...</td>\n      <td>1</td>\n      <td>1</td>\n      <td>1</td>\n      <td>1</td>\n      <td>0</td>\n      <td>0</td>\n      <td>0</td>\n      <td>1</td>\n      <td>1</td>\n      <td>8</td>\n    </tr>\n    <tr>\n      <td>9998</td>\n      <td>9998</td>\n      <td>1</td>\n      <td>0</td>\n      <td>0</td>\n      <td>0</td>\n      <td>1</td>\n      <td>1</td>\n      <td>0</td>\n      <td>0</td>\n      <td>9</td>\n      <td>...</td>\n      <td>1</td>\n      <td>1</td>\n      <td>1</td>\n      <td>1</td>\n      <td>0</td>\n      <td>0</td>\n      <td>0</td>\n      <td>0</td>\n      <td>0</td>\n      <td>10</td>\n    </tr>\n    <tr>\n      <td>9999</td>\n      <td>9999</td>\n      <td>0</td>\n      <td>0</td>\n      <td>1</td>\n      <td>1</td>\n      <td>0</td>\n      <td>1</td>\n      <td>0</td>\n      <td>0</td>\n      <td>10</td>\n      <td>...</td>\n      <td>1</td>\n      <td>1</td>\n      <td>1</td>\n      <td>1</td>\n      <td>1</td>\n      <td>0</td>\n      <td>1</td>\n      <td>0</td>\n      <td>0</td>\n      <td>8</td>\n    </tr>\n  </tbody>\n</table>\n<p>10000 rows × 41 columns</p>\n</div>"
          },
          "metadata": {},
          "execution_count": 179
        }
      ],
      "source": [
        "df1"
      ]
    },
    {
      "cell_type": "code",
      "execution_count": 180,
      "metadata": {},
      "outputs": [],
      "source": [
        "df1['wireless']= np.random.choice([0,np.random.uniform(.3,.8)],size=(10000),replace=True,p=[.7,.3])"
      ]
    },
    {
      "cell_type": "code",
      "execution_count": 181,
      "metadata": {},
      "outputs": [],
      "source": [
        "for i in range(0,10000):\n",
        "    if df1['wireless'][i] > 0:\n",
        "        df1['wireless'][i]= np.random.uniform(.3,.8)"
      ]
    },
    {
      "cell_type": "code",
      "execution_count": 182,
      "metadata": {},
      "outputs": [],
      "source": [
        "for i in range(0,10000):\n",
        "    if df1['over_ear_style'][i] >0:\n",
        "        df1['on_ear_style'][i] = 0\n",
        "        df1['in_ear_style'][i] = 0  "
      ]
    },
    {
      "cell_type": "code",
      "execution_count": 183,
      "metadata": {},
      "outputs": [],
      "source": [
        "for i in range(0,10000):\n",
        "    if df1['in_ear_style'][i] >0:\n",
        "        df1['on_ear_style'][i] = 0"
      ]
    },
    {
      "cell_type": "code",
      "execution_count": 184,
      "metadata": {},
      "outputs": [],
      "source": [
        "for i in range(0,10000):\n",
        "    if df1['close_back'][i] >0:\n",
        "        df1['open_back'][i] = 0\n",
        "        df1['semiclosed_back'][i] = 0  "
      ]
    },
    {
      "cell_type": "code",
      "execution_count": 185,
      "metadata": {},
      "outputs": [],
      "source": [
        "for i in range(0,10000):\n",
        "    if df1['open_back'][i] >0:\n",
        "        df1['semiclosed_back'][i] = 0\n",
        "        df1['noise_isolation'][i] = np.random.uniform(.10,.25)"
      ]
    },
    {
      "cell_type": "code",
      "execution_count": 186,
      "metadata": {},
      "outputs": [],
      "source": [
        "for i in range(0,10000):\n",
        "    if df1['semiclosed_back'][i] >0:\n",
        "         df1['noise_isolation'][i] = np.random.uniform(.20,.35)"
      ]
    },
    {
      "cell_type": "code",
      "execution_count": 187,
      "metadata": {},
      "outputs": [],
      "source": [
        "df1[[ 'noise_handling','accuracy',\n",
        "       'weighted_harmonic_distortion', 'soundstage', 'imaging',\n",
        "       'noise_isolation']] = np.random.uniform(.25,1,size=(10000,6))"
      ]
    },
    {
      "cell_type": "code",
      "execution_count": 188,
      "metadata": {},
      "outputs": [],
      "source": [
        "df1[ 'sensitivity(dbv)'] = np.random.uniform(90,130,size=(10000))\n",
        "df1[ 'Impedance'] = np.random.choice([10,20,30,40,50,100,120,150,180,300],size=(10000),p=[.12,.15,.15,.12,.12,.12,.12,.04,.04,.02])"
      ]
    },
    {
      "cell_type": "code",
      "execution_count": 189,
      "metadata": {},
      "outputs": [],
      "source": [
        "df1['min_price']=np.random.choice([0],size=(10000))"
      ]
    },
    {
      "cell_type": "code",
      "execution_count": 190,
      "metadata": {},
      "outputs": [],
      "source": [
        "df1 = df1[['user_id', 'game_use', 'rec_use', 'studio_use', 'exercise_use',\n",
        "       'office_use', 'podcast_use', 'travel_use', 'other_use',\n",
        "       'sound_quality_importance', 'positional_importance', 'loud_importance',\n",
        "       'mic_importance', 'wireless_importance','noise_cancel_importance' ,'in_ear_importance',\n",
        "       'on_ear_importance', 'over_ear_importance', 'no_pref_oninover',\n",
        "       'price_sensitivity', 'min_price', 'max_price', 'headphone_name',\n",
        "       'price', 'attached_mic', 'recording_quality', 'noise_handling',\n",
        "       'Impedance', 'sensitivity(dbv)', 'accuracy',\n",
        "       'weighted_harmonic_distortion', 'soundstage', 'imaging',\n",
        "       'noise_isolation', 'wireless', 'over_ear_style', 'on_ear_style',\n",
        "       'in_ear_style', 'open_back', 'close_back', 'semiclosed_back']]"
      ]
    },
    {
      "cell_type": "code",
      "execution_count": 191,
      "metadata": {},
      "outputs": [],
      "source": [
        "df1.to_csv(\"/Users/chriskamerin/Desktop/Shopping_Recommender_System/df2.csv\")"
      ]
    }
  ]
}