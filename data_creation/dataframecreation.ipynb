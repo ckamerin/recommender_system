{
  "nbformat": 4,
  "nbformat_minor": 0,
  "metadata": {
    "colab": {
      "name": "TF2.0 Recommender System.ipynb",
      "provenance": []
    },
    "kernelspec": {
      "name": "python3",
      "display_name": "Python 3"
    },
    "accelerator": "GPU"
  },
  "cells": [
    {
      "cell_type": "code",
      "metadata": {
        "id": "KmO5csZi7cdr",
        "colab_type": "code",
        "colab": {}
      },
      "source": [
        "# More imports\n",
        "from tensorflow.keras.layers import Input, Dense, Embedding, Flatten, \\\n",
        "  Concatenate\n",
        "from tensorflow.keras.models import Model\n",
        "from tensorflow.keras.optimizers import SGD, Adam\n",
        "\n",
        "from sklearn.utils import shuffle\n",
        "\n",
        "import numpy as np\n",
        "import pandas as pd\n",
        "import matplotlib.pyplot as plt"
      ],
      "execution_count": 9,
      "outputs": []
    },
    {
      "cell_type": "code",
      "execution_count": 199,
      "metadata": {},
      "outputs": [],
      "source": [
        "df=pd.read_csv('/Users/chriskamerin/Desktop/Shopping_Recommender_System/headphones.csv')"
      ]
    },
    {
      "cell_type": "code",
      "execution_count": 151,
      "metadata": {},
      "outputs": [],
      "source": [
        "df1 = pd.DataFrame(columns=['user_id', 'game_use', 'rec_use', 'studio_use', 'exercise_use',\n",
        "       'office_use', 'podcast_use', 'travel_use', 'other_use',\n",
        "       'sound_quality_importance', 'positional_importance', 'loud_importance',\n",
        "       'mic_importance', 'wireless_importance', 'in_ear_importance',\n",
        "       'on_ear_importance', 'over_ear_importance', 'no_pref_oninover',\n",
        "       'price_sensitivity', 'min_price', 'max_price', 'headphone_name',\n",
        "       'price', 'attached_mic', 'recording_quality', 'noise_handling',\n",
        "       'Impedance', 'sensitivity(dbv)', 'accuracy',\n",
        "       'weighted_harmonic_distortion', 'soundstage', 'imaging',\n",
        "       'noise_isolation', 'wireless', 'over_ear_style', 'on_ear_style',\n",
        "       'in_ear_style', 'open_back', 'close_back', 'semiclosed_back'])"
      ]
    },
    {
      "cell_type": "code",
      "execution_count": 152,
      "metadata": {},
      "outputs": [],
      "source": [
        "df1['user_id']=range(0,10000)"
      ]
    },
    {
      "cell_type": "code",
      "execution_count": 153,
      "metadata": {},
      "outputs": [],
      "source": [
        "df1[['game_use', 'rec_use', 'studio_use', 'exercise_use',\n",
        "       'office_use', 'podcast_use', 'travel_use', 'other_use']] = np.random.choice([0,1],size=(10000,8),replace=True,p=[.6,.4])"
      ]
    },
    {
      "cell_type": "code",
      "execution_count": 154,
      "metadata": {},
      "outputs": [],
      "source": [
        "df1['other_use'] = np.random.choice([0,1],size=(10000),replace=True,p=[.9,.1])"
      ]
    },
    {
      "cell_type": "code",
      "execution_count": 155,
      "metadata": {},
      "outputs": [],
      "source": [
        "df1[['sound_quality_importance']] = np.random.choice([6,7,8,9,10],size=(10000),replace=True,p=[.1,.1,.3,.3,.2])"
      ]
    },
    {
      "cell_type": "code",
      "execution_count": 156,
      "metadata": {},
      "outputs": [],
      "source": [
        "df1[['no_pref_oninover','in_ear_importance',\n",
        "       'on_ear_importance', 'over_ear_importance']] = np.random.choice([0,1],size=(10000,4),replace=True)"
      ]
    },
    {
      "cell_type": "code",
      "execution_count": 157,
      "metadata": {},
      "outputs": [],
      "source": [
        "df1[[ 'positional_importance', 'loud_importance',\n",
        "       'mic_importance', 'wireless_importance',\n",
        "       'price_sensitivity']] = np.random.choice([0,1,2,3,4,5,6,7,8,9.10],size=(10000,5),replace=True)"
      ]
    },
    {
      "cell_type": "code",
      "execution_count": 158,
      "metadata": {},
      "outputs": [],
      "source": [
        "prices=[]\n",
        "for i in df1[\"price_sensitivity\"]:\n",
        "    prices.append(1000/(i+1))\n",
        "    "
      ]
    },
    {
      "cell_type": "code",
      "execution_count": 159,
      "metadata": {},
      "outputs": [],
      "source": [
        "df1['max_price']=prices"
      ]
    },
    {
      "cell_type": "code",
      "execution_count": 160,
      "metadata": {},
      "outputs": [],
      "source": [
        "df1['headphone_name']=range(0,10000)\n"
      ]
    },
    {
      "cell_type": "code",
      "execution_count": 161,
      "metadata": {},
      "outputs": [],
      "source": [
        "df1[['price']]=np.random.choice([50,100,200,300,400],size=(10000,1),replace=True,p=[.3,.3,.2,.15,.05])"
      ]
    },
    {
      "cell_type": "code",
      "execution_count": 162,
      "metadata": {},
      "outputs": [],
      "source": [
        "df1[[ 'attached_mic', 'recording_quality', 'noise_handling',\n",
        "       'Impedance', 'sensitivity(dbv)', 'accuracy',\n",
        "       'weighted_harmonic_distortion', 'soundstage', 'imaging',\n",
        "       'noise_isolation', 'wireless', 'over_ear_style', 'on_ear_style',\n",
        "       'in_ear_style', 'open_back', 'close_back', 'semiclosed_back']] = np.random.choice([1],size=(10000,17),replace=True)"
      ]
    },
    {
      "cell_type": "code",
      "execution_count": 163,
      "metadata": {},
      "outputs": [],
      "source": [
        "df1[[ 'attached_mic']] = np.random.choice([0,1],size=(10000),replace=True,p=[.8,.2])\n",
        "df1['noise_cancel_importance'] = np.random.choice([2,3,4,5,6,7,8,9,10],size=(10000),replace=True)"
      ]
    },
    {
      "cell_type": "code",
      "execution_count": 164,
      "metadata": {},
      "outputs": [],
      "source": [
        "miclist=[]\n",
        "for i in df1['attached_mic']:\n",
        "    miclist.append(i)"
      ]
    },
    {
      "cell_type": "code",
      "execution_count": 165,
      "metadata": {},
      "outputs": [],
      "source": [
        "gamelist=[]\n",
        "for i in df1['game_use']:\n",
        "    gamelist.append(i)"
      ]
    },
    {
      "cell_type": "code",
      "execution_count": 166,
      "metadata": {},
      "outputs": [],
      "source": [
        "for i in range(0,10000):\n",
        "    if df1['exercise_use'][i] >0: \n",
        "         df1['exercise_use'][i]=df1['exercise_use'][i]-df1['game_use'][i]\n",
        "    elif df1['studio_use'][i] >0: \n",
        "         df1['studio_use'][i]=df1['studio_use'][i]-df1['exercise_use'][i]   \n",
        "    elif df1['office_use'][i] >0: \n",
        "         df1['office_use'][i]=df1['office_use'][i]-df1['game_use'][i]   "
      ]
    },
    {
      "cell_type": "code",
      "execution_count": 167,
      "metadata": {},
      "outputs": [],
      "source": [
        "for i in range(0,10000):\n",
        "    if df1['game_use'][i] >0:\n",
        "        if df1['mic_importance'][i] < 5:\n",
        "             df1['mic_importance'][i]=df1['mic_importance'][i]+5"
      ]
    },
    {
      "cell_type": "code",
      "execution_count": 168,
      "metadata": {},
      "outputs": [],
      "source": [
        "for i in range(0,10000):\n",
        "    if df1['game_use'][i] >0:\n",
        "        if df1['positional_importance'][i] < 7:\n",
        "             df1['positional_importance'][i]=np.random.choice([7,8,9,10],replace=True)"
      ]
    },
    {
      "cell_type": "code",
      "execution_count": 169,
      "metadata": {},
      "outputs": [],
      "source": [
        "for i in range(0,10000):\n",
        "    if df1['exercise_use'][i] >0:\n",
        "        if df1['in_ear_importance'][i] < 1:\n",
        "            df1['in_ear_importance'][i]=df1['in_ear_importance'][i]+1\n",
        "        elif df1['in_ear_importance'][i] > 1: \n",
        "            df1['in_ear_importance'][i]=1\n"
      ]
    },
    {
      "cell_type": "code",
      "execution_count": 170,
      "metadata": {},
      "outputs": [],
      "source": [
        "for i in range(0,10000):\n",
        "    if df1['travel_use'][i] >0:\n",
        "        if df1['noise_cancel_importance'][i] < 5:\n",
        "            df1['noise_cancel_importance'][i]=df1['noise_cancel_importance'][i]+5  "
      ]
    },
    {
      "cell_type": "code",
      "execution_count": 171,
      "metadata": {},
      "outputs": [],
      "source": [
        "for i in range(0,10000):\n",
        "    if df1['no_pref_oninover'][i] >0:\n",
        "        df1['on_ear_importance'][i] = 0\n",
        "        df1['in_ear_importance'][i] = 0\n",
        "        df1['over_ear_importance'][i] = 0      "
      ]
    },
    {
      "cell_type": "code",
      "execution_count": 172,
      "metadata": {},
      "outputs": [],
      "source": [
        "for i in range(0,10000):\n",
        "    if df1['exercise_use'][i] >0: \n",
        "        df1['exercise_use'][i]=df1['exercise_use'][i]-df1['game_use'][i]"
      ]
    },
    {
      "cell_type": "code",
      "execution_count": 173,
      "metadata": {},
      "outputs": [],
      "source": [
        "for i in range(0,10000):\n",
        "    x = round(np.random.uniform(.20, .70),2)\n",
        "    miclist[i]=miclist[i]*x"
      ]
    },
    {
      "cell_type": "code",
      "execution_count": 174,
      "metadata": {},
      "outputs": [],
      "source": [
        "for i in range(0,10000):\n",
        "    if df1['attached_mic'][i] < 1:\n",
        "        df1['noise_handling'][i]=0"
      ]
    },
    {
      "cell_type": "code",
      "execution_count": 175,
      "metadata": {},
      "outputs": [],
      "source": [
        "df1['recording_quality'] = miclist"
      ]
    },
    {
      "cell_type": "code",
      "execution_count": 176,
      "metadata": {},
      "outputs": [],
      "source": [
        "df1[[ 'over_ear_style', 'on_ear_style',\n",
        "       'in_ear_style']] = np.random.choice([0,1],size=(10000,3),replace=True)"
      ]
    },
    {
      "cell_type": "code",
      "execution_count": 177,
      "metadata": {},
      "outputs": [],
      "source": [
        "df1['close_back'] = np.random.choice([0,1],size=(10000),replace=True,p=(.3,.7))"
      ]
    },
    {
      "cell_type": "code",
      "execution_count": 178,
      "metadata": {},
      "outputs": [],
      "source": [
        "df1[[ 'open_back', 'semiclosed_back']] = np.random.choice([0,1],size=(10000,2),replace=True)"
      ]
    },
    {
      "cell_type": "code",
      "execution_count": 179,
      "metadata": {},
      "outputs": [
        {
          "output_type": "execute_result",
          "data": {
            "text/plain": "      user_id  game_use  rec_use  studio_use  exercise_use  office_use  \\\n0           0         0        1           0             0           1   \n1           1         1        0           0             0           0   \n2           2         0        1           1             0           0   \n3           3         0        1           0             0           0   \n4           4         1        0           0             0           1   \n...       ...       ...      ...         ...           ...         ...   \n9995     9995         0        0           0             0           0   \n9996     9996         0        0           1             1           0   \n9997     9997         1        0           0             0           0   \n9998     9998         1        0           0             0           1   \n9999     9999         0        0           1             1           0   \n\n      podcast_use  travel_use  other_use  sound_quality_importance  ...  \\\n0               0           0          0                         7  ...   \n1               0           1          0                         9  ...   \n2               0           0          0                         9  ...   \n3               1           0          1                         8  ...   \n4               1           0          0                         9  ...   \n...           ...         ...        ...                       ...  ...   \n9995            0           0          0                         9  ...   \n9996            0           0          1                        10  ...   \n9997            1           1          0                         9  ...   \n9998            1           0          0                         9  ...   \n9999            1           0          0                        10  ...   \n\n      imaging  noise_isolation  wireless  over_ear_style  on_ear_style  \\\n0           1                1         1               0             1   \n1           1                1         1               1             1   \n2           1                1         1               0             0   \n3           1                1         1               0             1   \n4           1                1         1               0             1   \n...       ...              ...       ...             ...           ...   \n9995        1                1         1               1             1   \n9996        1                1         1               1             1   \n9997        1                1         1               1             0   \n9998        1                1         1               1             0   \n9999        1                1         1               1             1   \n\n      in_ear_style  open_back  close_back  semiclosed_back  \\\n0                0          0           1                0   \n1                1          1           1                0   \n2                0          1           0                0   \n3                1          1           0                1   \n4                0          1           0                0   \n...            ...        ...         ...              ...   \n9995             0          0           1                0   \n9996             1          0           0                0   \n9997             0          0           1                1   \n9998             0          0           0                0   \n9999             0          1           0                0   \n\n     noise_cancel_importance  \n0                          4  \n1                          9  \n2                          9  \n3                          6  \n4                          3  \n...                      ...  \n9995                       7  \n9996                       9  \n9997                       8  \n9998                      10  \n9999                       8  \n\n[10000 rows x 41 columns]",
            "text/html": "<div>\n<style scoped>\n    .dataframe tbody tr th:only-of-type {\n        vertical-align: middle;\n    }\n\n    .dataframe tbody tr th {\n        vertical-align: top;\n    }\n\n    .dataframe thead th {\n        text-align: right;\n    }\n</style>\n<table border=\"1\" class=\"dataframe\">\n  <thead>\n    <tr style=\"text-align: right;\">\n      <th></th>\n      <th>user_id</th>\n      <th>game_use</th>\n      <th>rec_use</th>\n      <th>studio_use</th>\n      <th>exercise_use</th>\n      <th>office_use</th>\n      <th>podcast_use</th>\n      <th>travel_use</th>\n      <th>other_use</th>\n      <th>sound_quality_importance</th>\n      <th>...</th>\n      <th>imaging</th>\n      <th>noise_isolation</th>\n      <th>wireless</th>\n      <th>over_ear_style</th>\n      <th>on_ear_style</th>\n      <th>in_ear_style</th>\n      <th>open_back</th>\n      <th>close_back</th>\n      <th>semiclosed_back</th>\n      <th>noise_cancel_importance</th>\n    </tr>\n  </thead>\n  <tbody>\n    <tr>\n      <td>0</td>\n      <td>0</td>\n      <td>0</td>\n      <td>1</td>\n      <td>0</td>\n      <td>0</td>\n      <td>1</td>\n      <td>0</td>\n      <td>0</td>\n      <td>0</td>\n      <td>7</td>\n      <td>...</td>\n      <td>1</td>\n      <td>1</td>\n      <td>1</td>\n      <td>0</td>\n      <td>1</td>\n      <td>0</td>\n      <td>0</td>\n      <td>1</td>\n      <td>0</td>\n      <td>4</td>\n    </tr>\n    <tr>\n      <td>1</td>\n      <td>1</td>\n      <td>1</td>\n      <td>0</td>\n      <td>0</td>\n      <td>0</td>\n      <td>0</td>\n      <td>0</td>\n      <td>1</td>\n      <td>0</td>\n      <td>9</td>\n      <td>...</td>\n      <td>1</td>\n      <td>1</td>\n      <td>1</td>\n      <td>1</td>\n      <td>1</td>\n      <td>1</td>\n      <td>1</td>\n      <td>1</td>\n      <td>0</td>\n      <td>9</td>\n    </tr>\n    <tr>\n      <td>2</td>\n      <td>2</td>\n      <td>0</td>\n      <td>1</td>\n      <td>1</td>\n      <td>0</td>\n      <td>0</td>\n      <td>0</td>\n      <td>0</td>\n      <td>0</td>\n      <td>9</td>\n      <td>...</td>\n      <td>1</td>\n      <td>1</td>\n      <td>1</td>\n      <td>0</td>\n      <td>0</td>\n      <td>0</td>\n      <td>1</td>\n      <td>0</td>\n      <td>0</td>\n      <td>9</td>\n    </tr>\n    <tr>\n      <td>3</td>\n      <td>3</td>\n      <td>0</td>\n      <td>1</td>\n      <td>0</td>\n      <td>0</td>\n      <td>0</td>\n      <td>1</td>\n      <td>0</td>\n      <td>1</td>\n      <td>8</td>\n      <td>...</td>\n      <td>1</td>\n      <td>1</td>\n      <td>1</td>\n      <td>0</td>\n      <td>1</td>\n      <td>1</td>\n      <td>1</td>\n      <td>0</td>\n      <td>1</td>\n      <td>6</td>\n    </tr>\n    <tr>\n      <td>4</td>\n      <td>4</td>\n      <td>1</td>\n      <td>0</td>\n      <td>0</td>\n      <td>0</td>\n      <td>1</td>\n      <td>1</td>\n      <td>0</td>\n      <td>0</td>\n      <td>9</td>\n      <td>...</td>\n      <td>1</td>\n      <td>1</td>\n      <td>1</td>\n      <td>0</td>\n      <td>1</td>\n      <td>0</td>\n      <td>1</td>\n      <td>0</td>\n      <td>0</td>\n      <td>3</td>\n    </tr>\n    <tr>\n      <td>...</td>\n      <td>...</td>\n      <td>...</td>\n      <td>...</td>\n      <td>...</td>\n      <td>...</td>\n      <td>...</td>\n      <td>...</td>\n      <td>...</td>\n      <td>...</td>\n      <td>...</td>\n      <td>...</td>\n      <td>...</td>\n      <td>...</td>\n      <td>...</td>\n      <td>...</td>\n      <td>...</td>\n      <td>...</td>\n      <td>...</td>\n      <td>...</td>\n      <td>...</td>\n      <td>...</td>\n    </tr>\n    <tr>\n      <td>9995</td>\n      <td>9995</td>\n      <td>0</td>\n      <td>0</td>\n      <td>0</td>\n      <td>0</td>\n      <td>0</td>\n      <td>0</td>\n      <td>0</td>\n      <td>0</td>\n      <td>9</td>\n      <td>...</td>\n      <td>1</td>\n      <td>1</td>\n      <td>1</td>\n      <td>1</td>\n      <td>1</td>\n      <td>0</td>\n      <td>0</td>\n      <td>1</td>\n      <td>0</td>\n      <td>7</td>\n    </tr>\n    <tr>\n      <td>9996</td>\n      <td>9996</td>\n      <td>0</td>\n      <td>0</td>\n      <td>1</td>\n      <td>1</td>\n      <td>0</td>\n      <td>0</td>\n      <td>0</td>\n      <td>1</td>\n      <td>10</td>\n      <td>...</td>\n      <td>1</td>\n      <td>1</td>\n      <td>1</td>\n      <td>1</td>\n      <td>1</td>\n      <td>1</td>\n      <td>0</td>\n      <td>0</td>\n      <td>0</td>\n      <td>9</td>\n    </tr>\n    <tr>\n      <td>9997</td>\n      <td>9997</td>\n      <td>1</td>\n      <td>0</td>\n      <td>0</td>\n      <td>0</td>\n      <td>0</td>\n      <td>1</td>\n      <td>1</td>\n      <td>0</td>\n      <td>9</td>\n      <td>...</td>\n      <td>1</td>\n      <td>1</td>\n      <td>1</td>\n      <td>1</td>\n      <td>0</td>\n      <td>0</td>\n      <td>0</td>\n      <td>1</td>\n      <td>1</td>\n      <td>8</td>\n    </tr>\n    <tr>\n      <td>9998</td>\n      <td>9998</td>\n      <td>1</td>\n      <td>0</td>\n      <td>0</td>\n      <td>0</td>\n      <td>1</td>\n      <td>1</td>\n      <td>0</td>\n      <td>0</td>\n      <td>9</td>\n      <td>...</td>\n      <td>1</td>\n      <td>1</td>\n      <td>1</td>\n      <td>1</td>\n      <td>0</td>\n      <td>0</td>\n      <td>0</td>\n      <td>0</td>\n      <td>0</td>\n      <td>10</td>\n    </tr>\n    <tr>\n      <td>9999</td>\n      <td>9999</td>\n      <td>0</td>\n      <td>0</td>\n      <td>1</td>\n      <td>1</td>\n      <td>0</td>\n      <td>1</td>\n      <td>0</td>\n      <td>0</td>\n      <td>10</td>\n      <td>...</td>\n      <td>1</td>\n      <td>1</td>\n      <td>1</td>\n      <td>1</td>\n      <td>1</td>\n      <td>0</td>\n      <td>1</td>\n      <td>0</td>\n      <td>0</td>\n      <td>8</td>\n    </tr>\n  </tbody>\n</table>\n<p>10000 rows × 41 columns</p>\n</div>"
          },
          "metadata": {},
          "execution_count": 179
        }
      ],
      "source": [
        "df1"
      ]
    },
    {
      "cell_type": "code",
      "execution_count": 180,
      "metadata": {},
      "outputs": [],
      "source": [
        "df1['wireless']= np.random.choice([0,np.random.uniform(.3,.8)],size=(10000),replace=True,p=[.7,.3])"
      ]
    },
    {
      "cell_type": "code",
      "execution_count": 181,
      "metadata": {},
      "outputs": [],
      "source": [
        "for i in range(0,10000):\n",
        "    if df1['wireless'][i] > 0:\n",
        "        df1['wireless'][i]= np.random.uniform(.3,.8)"
      ]
    },
    {
      "cell_type": "code",
      "execution_count": 182,
      "metadata": {},
      "outputs": [],
      "source": [
        "for i in range(0,10000):\n",
        "    if df1['over_ear_style'][i] >0:\n",
        "        df1['on_ear_style'][i] = 0\n",
        "        df1['in_ear_style'][i] = 0  "
      ]
    },
    {
      "cell_type": "code",
      "execution_count": 183,
      "metadata": {},
      "outputs": [],
      "source": [
        "for i in range(0,10000):\n",
        "    if df1['in_ear_style'][i] >0:\n",
        "        df1['on_ear_style'][i] = 0"
      ]
    },
    {
      "cell_type": "code",
      "execution_count": 184,
      "metadata": {},
      "outputs": [],
      "source": [
        "for i in range(0,10000):\n",
        "    if df1['close_back'][i] >0:\n",
        "        df1['open_back'][i] = 0\n",
        "        df1['semiclosed_back'][i] = 0  "
      ]
    },
    {
      "cell_type": "code",
      "execution_count": 185,
      "metadata": {},
      "outputs": [],
      "source": [
        "for i in range(0,10000):\n",
        "    if df1['open_back'][i] >0:\n",
        "        df1['semiclosed_back'][i] = 0\n",
        "        df1['noise_isolation'][i] = np.random.uniform(.10,.25)"
      ]
    },
    {
      "cell_type": "code",
      "execution_count": 186,
      "metadata": {},
      "outputs": [],
      "source": [
        "for i in range(0,10000):\n",
        "    if df1['semiclosed_back'][i] >0:\n",
        "         df1['noise_isolation'][i] = np.random.uniform(.20,.35)"
      ]
    },
    {
      "cell_type": "code",
      "execution_count": 187,
      "metadata": {},
      "outputs": [],
      "source": [
        "df1[[ 'noise_handling','accuracy',\n",
        "       'weighted_harmonic_distortion', 'soundstage', 'imaging',\n",
        "       'noise_isolation']] = np.random.uniform(.25,1,size=(10000,6))"
      ]
    },
    {
      "cell_type": "code",
      "execution_count": 188,
      "metadata": {},
      "outputs": [],
      "source": [
        "df1[ 'sensitivity(dbv)'] = np.random.uniform(90,130,size=(10000))\n",
        "df1[ 'Impedance'] = np.random.choice([10,20,30,40,50,100,120,150,180,300],size=(10000),p=[.12,.15,.15,.12,.12,.12,.12,.04,.04,.02])"
      ]
    },
    {
      "cell_type": "code",
      "execution_count": 189,
      "metadata": {},
      "outputs": [],
      "source": [
        "df1['min_price']=np.random.choice([0],size=(10000))"
      ]
    },
    {
      "cell_type": "code",
      "execution_count": 190,
      "metadata": {},
      "outputs": [],
      "source": [
        "df1 = df1[['user_id', 'game_use', 'rec_use', 'studio_use', 'exercise_use',\n",
        "       'office_use', 'podcast_use', 'travel_use', 'other_use',\n",
        "       'sound_quality_importance', 'positional_importance', 'loud_importance',\n",
        "       'mic_importance', 'wireless_importance','noise_cancel_importance' ,'in_ear_importance',\n",
        "       'on_ear_importance', 'over_ear_importance', 'no_pref_oninover',\n",
        "       'price_sensitivity', 'min_price', 'max_price', 'headphone_name',\n",
        "       'price', 'attached_mic', 'recording_quality', 'noise_handling',\n",
        "       'Impedance', 'sensitivity(dbv)', 'accuracy',\n",
        "       'weighted_harmonic_distortion', 'soundstage', 'imaging',\n",
        "       'noise_isolation', 'wireless', 'over_ear_style', 'on_ear_style',\n",
        "       'in_ear_style', 'open_back', 'close_back', 'semiclosed_back']]"
      ]
    },
    {
      "cell_type": "code",
      "execution_count": 191,
      "metadata": {},
      "outputs": [],
      "source": [
        "df1.to_csv(\"/Users/chriskamerin/Desktop/Shopping_Recommender_System/df2.csv\")"
      ]
    }
  ]
}