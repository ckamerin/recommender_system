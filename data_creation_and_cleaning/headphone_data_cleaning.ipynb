{
  "nbformat": 4,
  "nbformat_minor": 0,
  "metadata": {
    "colab": {
      "name": "TF2.0 Recommender System.ipynb",
      "provenance": []
    },
    "kernelspec": {
      "name": "python_defaultSpec_1600034261907",
      "display_name": "Python 3.8.5 64-bit ('rec_sys': conda)"
    },
    "accelerator": "GPU"
  },
  "cells": [
    {
      "cell_type": "code",
      "metadata": {
        "id": "KmO5csZi7cdr",
        "colab_type": "code",
        "colab": {}
      },
      "source": [
        "\n",
        "import numpy as np\n",
        "import pandas as pd\n",
        "import matplotlib.pyplot as plt\n",
        "from sklearn.utils import shuffle\n",
        "import os \n",
        "import earthpy as et \n",
        "from os import makedirs"
      ],
      "execution_count": 1,
      "outputs": []
    },
    {
      "cell_type": "code",
      "execution_count": 2,
      "metadata": {},
      "outputs": [],
      "source": [
        "## Code needed to set a new working directory\n",
        "\n",
        "#my_path = os.path.join(et.io.HOME, 'recommender_system')\n",
        "#os.mkdir(my_path)\n",
        "\n",
        "## Set Working Directory\n",
        "os.chdir(os.path.join(et.io.HOME, 'recommender_system'))"
      ]
    },
    {
      "cell_type": "code",
      "execution_count": 3,
      "metadata": {},
      "outputs": [
        {
          "output_type": "execute_result",
          "data": {
            "text/plain": "'/Users/chriskamerin/recommender_system'"
          },
          "metadata": {},
          "execution_count": 3
        }
      ],
      "source": [
        "# Check if it worked\n",
        "os.getcwd()"
      ]
    },
    {
      "cell_type": "code",
      "execution_count": 84,
      "metadata": {},
      "outputs": [],
      "source": [
        "df=pd.read_csv('/Users/chriskamerin/Desktop/hp_ratings_urlremoved.csv')"
      ]
    },
    {
      "cell_type": "code",
      "execution_count": 85,
      "metadata": {},
      "outputs": [
        {
          "output_type": "execute_result",
          "data": {
            "text/plain": "<bound method NDFrame.head of                                    Product1  Releaseyear1  MixedUsage1  \\\n0                   Beyerdynamic DT 770 PRO          2020          5.6   \n1             Corsair Void PRO RGB Wireless          2020          5.8   \n2                   Beats Studio 3 Wireless          2020          7.0   \n3                           HiFiMan Sundara          2020          5.2   \n4        AfterShokz Aeropex Bone Conduction          2020          5.6   \n..                                      ...           ...          ...   \n283                 Skullcandy Jib Wireless          2015          6.7   \n284   Logitech G933 Wireless Gaming Headset          2015          6.3   \n285                Beyerdynamic DT 1770 PRO          2015          5.5   \n286  Astro A40 TR Headset + MixAmp Pro 2017          2015          5.5   \n287                       HyperX Cloud Core          2015          5.6   \n\n     Commute_Travel1  Sports_Fitness1  Office1  WirelessGaming1  WiredGaming1  \\\n0                5.0              5.5      5.5              4.4           6.5   \n1                4.9              5.7      5.6              7.4           5.9   \n2                7.4              7.2      7.1              5.5           7.2   \n3                3.8              5.4      4.5              4.7           6.7   \n4                5.5              7.4      5.4              4.7           4.5   \n..               ...              ...      ...              ...           ...   \n283              7.0              7.6      6.4              5.0           5.0   \n284              5.6              5.9      6.3              7.3           7.7   \n285              4.9              5.4      5.5              4.3           6.3   \n286              4.3              5.5      5.1              6.1           8.0   \n287              4.9              5.3      5.5              5.3           7.3   \n\n     PhoneCalls1  NeutralSound1  ... MidAccuracy1 TrebleAccuracy1 Peaks_Dips1  \\\n0            2.2            7.8  ...          9.5             7.0         7.5   \n1            6.6            7.2  ...          7.7             7.7         6.2   \n2            6.5            6.6  ...          7.8             6.6         7.6   \n3            1.6            8.4  ...          9.0             7.8         7.7   \n4            5.6            4.6  ...          5.6             7.1         4.5   \n..           ...            ...  ...          ...             ...         ...   \n283          6.6            6.7  ...          7.9             8.5         8.4   \n284          7.1            6.8  ...          8.7             7.0         7.4   \n285          2.2            7.3  ...          9.1             7.1         7.0   \n286          7.2            7.2  ...          8.7             6.5         6.9   \n287          7.4            7.1  ...          9.5             6.3         7.1   \n\n    Imaging1 PassiveSoundstage1  WeightedHarmonicDistortion1  NoiseIsolation1  \\\n0        8.3                5.9                          8.4              5.5   \n1        8.7                5.8                          7.2              2.0   \n2        6.5                3.9                          7.3              7.6   \n3        9.0                8.6                          8.5              0.9   \n4        3.4                5.6                          2.7              0.4   \n..       ...                ...                          ...              ...   \n283      9.4                1.2                          7.0              6.7   \n284      7.5                6.1                          8.1              4.5   \n285      8.6                5.5                          7.6              5.5   \n286      8.7                7.6                          7.1              2.1   \n287      6.7                5.7                          8.3              5.3   \n\n     Microphone1  RecordingQuality1  Bluetooth1  \n0            0.0                0.0         0.0  \n1            7.8                7.0         0.0  \n2            6.2                6.5         7.0  \n3            0.0                0.0         0.0  \n4            6.3                6.7         8.4  \n..           ...                ...         ...  \n283          6.7                6.3         6.4  \n284          7.8                8.0         0.0  \n285          0.0                0.0         0.0  \n286          8.7                8.1         0.0  \n287          8.5                8.4         0.0  \n\n[288 rows x 27 columns]>"
          },
          "metadata": {},
          "execution_count": 85
        }
      ],
      "source": [
        "df.head"
      ]
    },
    {
      "cell_type": "code",
      "execution_count": 86,
      "metadata": {},
      "outputs": [],
      "source": [
        "columns = df.columns.to_list()\n",
        "new_columns = []\n",
        "for i in columns:\n",
        "    new_columns.append(str(i)[:-1])"
      ]
    },
    {
      "cell_type": "code",
      "execution_count": 87,
      "metadata": {},
      "outputs": [],
      "source": [
        "df[new_columns] = df[columns]"
      ]
    },
    {
      "cell_type": "code",
      "execution_count": 88,
      "metadata": {},
      "outputs": [],
      "source": [
        "df=df.drop(columns=columns)"
      ]
    },
    {
      "cell_type": "code",
      "execution_count": 89,
      "metadata": {},
      "outputs": [
        {
          "output_type": "execute_result",
          "data": {
            "text/plain": "Index(['Product', 'Releaseyear', 'MixedUsage', 'Commute_Travel',\n       'Sports_Fitness', 'Office', 'WirelessGaming', 'WiredGaming',\n       'PhoneCalls', 'NeutralSound', 'Type', 'Enclosure', 'Wireless',\n       'NoiseCancelling', 'Mic', 'FrequencyResponseConsistency',\n       'BassAccuracy', 'MidAccuracy', 'TrebleAccuracy', 'Peaks_Dips',\n       'Imaging', 'PassiveSoundstage', 'WeightedHarmonicDistortion',\n       'NoiseIsolation', 'Microphone', 'RecordingQuality', 'Bluetooth'],\n      dtype='object')"
          },
          "metadata": {},
          "execution_count": 89
        }
      ],
      "source": [
        "df.columns"
      ]
    },
    {
      "cell_type": "code",
      "execution_count": 90,
      "metadata": {},
      "outputs": [],
      "source": [
        "df= df.drop(columns=['Releaseyear','MixedUsage'])"
      ]
    },
    {
      "cell_type": "code",
      "execution_count": 91,
      "metadata": {},
      "outputs": [],
      "source": [
        "df['game_use'] = df[['WirelessGaming','WiredGaming']].max(axis=1)"
      ]
    },
    {
      "cell_type": "code",
      "execution_count": 92,
      "metadata": {},
      "outputs": [
        {
          "output_type": "execute_result",
          "data": {
            "text/plain": "     game_use  WirelessGaming  WiredGaming\n0         6.5             4.4          6.5\n1         7.4             7.4          5.9\n2         7.2             5.5          7.2\n3         6.7             4.7          6.7\n4         4.7             4.7          4.5\n..        ...             ...          ...\n283       5.0             5.0          5.0\n284       7.7             7.3          7.7\n285       6.3             4.3          6.3\n286       8.0             6.1          8.0\n287       7.3             5.3          7.3\n\n[288 rows x 3 columns]",
            "text/html": "<div>\n<style scoped>\n    .dataframe tbody tr th:only-of-type {\n        vertical-align: middle;\n    }\n\n    .dataframe tbody tr th {\n        vertical-align: top;\n    }\n\n    .dataframe thead th {\n        text-align: right;\n    }\n</style>\n<table border=\"1\" class=\"dataframe\">\n  <thead>\n    <tr style=\"text-align: right;\">\n      <th></th>\n      <th>game_use</th>\n      <th>WirelessGaming</th>\n      <th>WiredGaming</th>\n    </tr>\n  </thead>\n  <tbody>\n    <tr>\n      <th>0</th>\n      <td>6.5</td>\n      <td>4.4</td>\n      <td>6.5</td>\n    </tr>\n    <tr>\n      <th>1</th>\n      <td>7.4</td>\n      <td>7.4</td>\n      <td>5.9</td>\n    </tr>\n    <tr>\n      <th>2</th>\n      <td>7.2</td>\n      <td>5.5</td>\n      <td>7.2</td>\n    </tr>\n    <tr>\n      <th>3</th>\n      <td>6.7</td>\n      <td>4.7</td>\n      <td>6.7</td>\n    </tr>\n    <tr>\n      <th>4</th>\n      <td>4.7</td>\n      <td>4.7</td>\n      <td>4.5</td>\n    </tr>\n    <tr>\n      <th>...</th>\n      <td>...</td>\n      <td>...</td>\n      <td>...</td>\n    </tr>\n    <tr>\n      <th>283</th>\n      <td>5.0</td>\n      <td>5.0</td>\n      <td>5.0</td>\n    </tr>\n    <tr>\n      <th>284</th>\n      <td>7.7</td>\n      <td>7.3</td>\n      <td>7.7</td>\n    </tr>\n    <tr>\n      <th>285</th>\n      <td>6.3</td>\n      <td>4.3</td>\n      <td>6.3</td>\n    </tr>\n    <tr>\n      <th>286</th>\n      <td>8.0</td>\n      <td>6.1</td>\n      <td>8.0</td>\n    </tr>\n    <tr>\n      <th>287</th>\n      <td>7.3</td>\n      <td>5.3</td>\n      <td>7.3</td>\n    </tr>\n  </tbody>\n</table>\n<p>288 rows × 3 columns</p>\n</div>"
          },
          "metadata": {},
          "execution_count": 92
        }
      ],
      "source": [
        "df[['game_use','WirelessGaming','WiredGaming']]"
      ]
    },
    {
      "cell_type": "code",
      "execution_count": 93,
      "metadata": {},
      "outputs": [],
      "source": [
        "df = df.drop(columns=['WirelessGaming','WiredGaming'])"
      ]
    },
    {
      "cell_type": "code",
      "execution_count": 94,
      "metadata": {},
      "outputs": [],
      "source": [
        "df=df.reindex(columns=['Product','game_use', 'Commute_Travel', 'Sports_Fitness', 'Office', 'PhoneCalls',\n",
        "       'NeutralSound', 'Type', 'Enclosure', 'Wireless', 'NoiseCancelling',\n",
        "       'Mic', 'FrequencyResponseConsistency', 'BassAccuracy', 'MidAccuracy',\n",
        "       'TrebleAccuracy', 'Peaks_Dips', 'Imaging', 'PassiveSoundstage',\n",
        "       'WeightedHarmonicDistortion', 'NoiseIsolation', 'Microphone',\n",
        "       'RecordingQuality', 'Bluetooth'])"
      ]
    },
    {
      "cell_type": "code",
      "execution_count": 95,
      "metadata": {},
      "outputs": [],
      "source": [
        "new_columns = ['headphone_name','game_use', 'travel_use', 'exercise_use', 'office_use', 'phone_call_use',\n",
        "       'studio_use', 'type', 'enclosure', 'wireless', 'noise_cancelling',\n",
        "       'mic_presence', 'frequency_response_consistency', 'bass_accuracy', 'mid_accuracy',\n",
        "       'treble_accuracy', 'peaks_dips', 'imaging', 'passive_soundstage',\n",
        "       'weighted_harmonic_distortion', 'noise_isolation', 'microphone_rating',\n",
        "       'mic_recording_quality', 'bluetooth']\n",
        "columns = df.columns.to_list()"
      ]
    },
    {
      "cell_type": "code",
      "execution_count": 96,
      "metadata": {},
      "outputs": [],
      "source": [
        "df[new_columns] = df[columns]"
      ]
    },
    {
      "cell_type": "code",
      "execution_count": 97,
      "metadata": {},
      "outputs": [],
      "source": [
        "df = df.drop(columns=columns)"
      ]
    },
    {
      "cell_type": "code",
      "execution_count": 98,
      "metadata": {},
      "outputs": [
        {
          "output_type": "execute_result",
          "data": {
            "text/plain": "Index(['headphone_name', 'travel_use', 'exercise_use', 'office_use',\n       'phone_call_use', 'studio_use', 'type', 'enclosure', 'wireless',\n       'noise_cancelling', 'mic_presence', 'frequency_response_consistency',\n       'bass_accuracy', 'mid_accuracy', 'treble_accuracy', 'peaks_dips',\n       'imaging', 'passive_soundstage', 'weighted_harmonic_distortion',\n       'noise_isolation', 'microphone_rating', 'mic_recording_quality',\n       'bluetooth'],\n      dtype='object')"
          },
          "metadata": {},
          "execution_count": 98
        }
      ],
      "source": [
        "df.columns"
      ]
    },
    {
      "cell_type": "code",
      "execution_count": 99,
      "metadata": {},
      "outputs": [],
      "source": [
        "df['headphone_name']  = pd.Categorical(df.headphone_name).codes"
      ]
    },
    {
      "cell_type": "code",
      "execution_count": 101,
      "metadata": {},
      "outputs": [],
      "source": [
        "df['wireless'] = pd.get_dummies(df.wireless, prefix='wireless')[['wireless_Yes','wireless_Truly Wireless']].sum(axis=1)\n",
        "df['noise_cancelling'] = pd.get_dummies(df.noise_cancelling, prefix='noise_cancelling')['noise_cancelling_Yes']\n",
        "df['mic_presence'] = pd.get_dummies(df.mic_presence, prefix='mic_presence')['mic_presence_Yes']\n",
        "df[['closed_back','open_back']] = pd.get_dummies(df.enclosure, prefix='enclosure')[['enclosure_Closed-Back','enclosure_Open-Back']]"
      ]
    },
    {
      "cell_type": "code",
      "execution_count": 102,
      "metadata": {},
      "outputs": [],
      "source": [
        "df['in_ear']= pd.get_dummies(df.type, prefix='type')[['type_Earbuds','type_In-ear']].sum(axis=1)\n",
        "df['on_ear'] = pd.get_dummies(df.type, prefix='type')[['type_On-ear']]\n",
        "df['over_ear'] = pd.get_dummies(df.type, prefix='type')[['type_Over-ear']]\n",
        "df['head_set'] = pd.get_dummies(df.type, prefix='type')[['type_Mono In-ear','type_Mono On-ear','type_Mono Earbud']].sum(axis=1)"
      ]
    },
    {
      "cell_type": "code",
      "execution_count": 104,
      "metadata": {},
      "outputs": [],
      "source": [
        "df = df.drop(columns=['type','enclosure'])"
      ]
    },
    {
      "cell_type": "code",
      "execution_count": 108,
      "metadata": {},
      "outputs": [],
      "source": [
        "columns_to_norm = ['travel_use', 'exercise_use', 'office_use',\n",
        "       'phone_call_use', 'studio_use','frequency_response_consistency',\n",
        "       'bass_accuracy', 'mid_accuracy', 'treble_accuracy', 'peaks_dips',\n",
        "       'imaging', 'passive_soundstage', 'weighted_harmonic_distortion',\n",
        "       'noise_isolation', 'microphone_rating', 'mic_recording_quality',\n",
        "       'bluetooth']"
      ]
    },
    {
      "cell_type": "code",
      "execution_count": 109,
      "metadata": {},
      "outputs": [],
      "source": [
        "df=df.fillna(0)\n",
        "df[columns_to_norm] = df[columns_to_norm].apply(lambda x: (x - x.min()) / (x.max() - x.min()))   \n"
      ]
    },
    {
      "cell_type": "code",
      "execution_count": 111,
      "metadata": {},
      "outputs": [],
      "source": [
        "df.to_csv(\"/Users/chriskamerin/Desktop/headphone_df_cleaned.csv\")\n"
      ]
    }
  ]
}