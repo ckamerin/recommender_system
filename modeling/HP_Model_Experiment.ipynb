{
  "nbformat": 4,
  "nbformat_minor": 0,
  "metadata": {
    "colab": {
      "name": "TF2.0 Recommender System.ipynb",
      "provenance": []
    },
    "kernelspec": {
      "name": "Python 3.8.3 64-bit (conda)",
      "display_name": "Python 3.8.3 64-bit (conda)",
      "metadata": {
        "interpreter": {
          "hash": "7d8b0fcd9a33b0b340771ad2580a0cc166ae414f15b0a3afbf83c0b8b1a5722a"
        }
      }
    },
    "accelerator": "GPU"
  },
  "cells": [
    {
      "cell_type": "code",
      "execution_count": 1,
      "metadata": {
        "tags": []
      },
      "outputs": [
        {
          "output_type": "stream",
          "name": "stdout",
          "text": "2.3.0\n"
        }
      ],
      "source": [
        "\n",
        "#Check TF version\n",
        "import tensorflow as tf\n",
        "print(tf.__version__)\n"
      ]
    },
    {
      "cell_type": "code",
      "execution_count": 2,
      "metadata": {
        "tags": []
      },
      "outputs": [
        {
          "output_type": "stream",
          "name": "stdout",
          "text": "Default GPU Device:/device:GPU:0\n"
        }
      ],
      "source": [
        "# Is GPU enabled\n",
        "if tf.test.gpu_device_name():\n",
        "    print('Default GPU Device:{}'.format(tf.test.gpu_device_name()))\n",
        "else:\n",
        "    print(\"Fix it\")"
      ]
    },
    {
      "cell_type": "code",
      "metadata": {
        "id": "KmO5csZi7cdr",
        "colab_type": "code",
        "colab": {}
      },
      "source": [
        "\n",
        "from tensorflow.keras.layers import Input, Dense, Embedding, Flatten, \\\n",
        "  Concatenate\n",
        "from tensorflow.keras.models import Model\n",
        "from tensorflow.keras.optimizers import SGD, Adam\n",
        "\n",
        "from sklearn.utils import shuffle\n",
        "from sklearn.linear_model import LinearRegression\n",
        "from sklearn.linear_model import LogisticRegression\n",
        "from sklearn.neighbors import KNeighborsRegressor\n",
        "from sklearn.ensemble import RandomForestRegressor\n",
        "from sklearn.tree import DecisionTreeRegressor\n",
        "from sklearn.linear_model import Ridge\n",
        "from sklearn.multioutput import MultiOutputRegressor\n",
        "from sklearn.multioutput import RegressorChain\n",
        "from sklearn.model_selection import train_test_split, cross_val_score\n",
        "from sklearn.model_selection import RandomizedSearchCV, GridSearchCV\n",
        "from sklearn.metrics import confusion_matrix, classification_report\n",
        "from sklearn.metrics import precision_score, recall_score, f1_score\n",
        "from sklearn.metrics import plot_roc_curve\n",
        "\n",
        "import numpy as np\n",
        "import pandas as pd\n",
        "import matplotlib.pyplot as plt\n",
        "import os \n",
        "import earthpy as et "
      ],
      "execution_count": 3,
      "outputs": []
    },
    {
      "cell_type": "code",
      "execution_count": 4,
      "metadata": {},
      "outputs": [],
      "source": [
        "## Code needed to set a new working directory\n",
        "\n",
        "#my_path = os.path.join(et.io.HOME, 'recommender_system')\n",
        "#os.mkdir(my_path)\n",
        "\n",
        "## Set Working Directory\n",
        "os.chdir(os.path.join(\"/home/ckamerin/Documents/GitHub\", 'recommender_system'))"
      ]
    },
    {
      "cell_type": "code",
      "execution_count": 5,
      "metadata": {},
      "outputs": [
        {
          "output_type": "execute_result",
          "data": {
            "text/plain": "&#39;/home/ckamerin/Documents/GitHub/recommender_system&#39;"
          },
          "metadata": {},
          "execution_count": 5
        }
      ],
      "source": [
        "# Check if it worked\n",
        "os.getcwd()"
      ]
    },
    {
      "cell_type": "code",
      "metadata": {
        "id": "A6h0pEt_7lZC",
        "colab_type": "code",
        "colab": {
          "base_uri": "https://localhost:8080/",
          "height": 204
        },
        "outputId": "4a410b48-1608-4ea0-b7d5-5bcf12ea065a"
      },
      "source": [
        "# Data Import\n",
        "df = pd.read_csv(\"/home/ckamerin/Desktop/headphone_df_cleaned.csv\")"
      ],
      "execution_count": 6,
      "outputs": []
    },
    {
      "cell_type": "code",
      "execution_count": 7,
      "metadata": {},
      "outputs": [],
      "source": [
        "df = df.sample(frac=1).reset_index(drop=True)\n",
        "df = df.drop(columns='Unnamed: 0')"
      ]
    },
    {
      "cell_type": "code",
      "execution_count": 8,
      "metadata": {},
      "outputs": [
        {
          "output_type": "execute_result",
          "data": {
            "text/plain": "Index([&#39;headphone_name&#39;, &#39;game_use&#39;, &#39;travel_use&#39;, &#39;exercise_use&#39;,\n       &#39;office_use&#39;, &#39;phone_call_use&#39;, &#39;studio_use&#39;, &#39;wireless&#39;,\n       &#39;noise_cancelling&#39;, &#39;mic_presence&#39;, &#39;frequency_response_consistency&#39;,\n       &#39;bass_accuracy&#39;, &#39;mid_accuracy&#39;, &#39;treble_accuracy&#39;, &#39;peaks_dips&#39;,\n       &#39;imaging&#39;, &#39;passive_soundstage&#39;, &#39;weighted_harmonic_distortion&#39;,\n       &#39;noise_isolation&#39;, &#39;microphone_rating&#39;, &#39;mic_recording_quality&#39;,\n       &#39;bluetooth&#39;, &#39;closed_back&#39;, &#39;open_back&#39;, &#39;in_ear&#39;, &#39;on_ear&#39;, &#39;over_ear&#39;,\n       &#39;head_set&#39;],\n      dtype=&#39;object&#39;)"
          },
          "metadata": {},
          "execution_count": 8
        }
      ],
      "source": [
        "df.columns"
      ]
    },
    {
      "cell_type": "code",
      "execution_count": 9,
      "metadata": {},
      "outputs": [],
      "source": [
        "X=df[['travel_use', 'exercise_use', 'office_use',\n",
        "       'phone_call_use', 'studio_use', 'game_use']]\n",
        "y=df[[ 'wireless', 'noise_cancelling',\n",
        "       'mic_presence', 'frequency_response_consistency', 'bass_accuracy',\n",
        "       'mid_accuracy', 'treble_accuracy', 'peaks_dips', 'imaging',\n",
        "       'passive_soundstage', 'weighted_harmonic_distortion', 'noise_isolation',\n",
        "       'microphone_rating', 'mic_recording_quality', 'bluetooth',\n",
        "       'closed_back', 'open_back', 'in_ear', 'on_ear', 'over_ear', 'head_set']]"
      ]
    },
    {
      "cell_type": "code",
      "execution_count": 10,
      "metadata": {},
      "outputs": [],
      "source": [
        " X_train, X_test, y_train, y_test = train_test_split(X, y, test_size=0.20, random_state=42)"
      ]
    },
    {
      "cell_type": "code",
      "execution_count": 11,
      "metadata": {},
      "outputs": [],
      "source": [
        "x1_train, x1_test, y1_train, y1_test = y_train, y_test, X_train, X_test"
      ]
    },
    {
      "cell_type": "code",
      "execution_count": 12,
      "metadata": {},
      "outputs": [],
      "source": [
        "# Put models in a dictionary\n",
        "models = {\"KNN\": KNeighborsRegressor(),\n",
        "          'KNN Multi' : MultiOutputRegressor(KNeighborsRegressor()),\n",
        "          \"Random Forest\": RandomForestRegressor(),\n",
        "          \"Random Forest Multi\": MultiOutputRegressor(RandomForestRegressor()),\n",
        "          \"Linear Regression\": LinearRegression(),\n",
        "          \"Linear Regression Multi\": MultiOutputRegressor(LinearRegression()),\n",
        "          'Decision Tree Regression': DecisionTreeRegressor(),\n",
        "          'Decision Tree Multi': MultiOutputRegressor(DecisionTreeRegressor()),\n",
        "          'Ridge Regressor Chain': RegressorChain(Ridge()),\n",
        "          'Ridge Regresor Multioutput': MultiOutputRegressor(Ridge())\n",
        "          }\n",
        "# Create function to fit and score models\n",
        "def fit_and_score(models, X_train, X_test, y_train, y_test):\n",
        "    \"\"\"\n",
        "    Fits and evaluates given machine learning models.\n",
        "    models : a dict of different Scikit-Learn machine learning models\n",
        "    X_train : training data\n",
        "    X_test : testing data\n",
        "    y_train : labels assosciated with training data\n",
        "    y_test : labels assosciated with test data\n",
        "    \"\"\"\n",
        "    # Random seed for reproducible results\n",
        "    np.random.seed(42)\n",
        "    # Make a list to keep model scores\n",
        "    model_scores = {}\n",
        "    # Loop through models\n",
        "    for name, model in models.items():\n",
        "        # Fit the model to the data\n",
        "        model.fit(X_train, y_train)\n",
        "        # Evaluate the model and append its score to model_scores\n",
        "        model_scores[name] = model.score(X_test, y_test)\n",
        "    return model_scores\n",
        "\n"
      ]
    },
    {
      "cell_type": "code",
      "execution_count": 13,
      "metadata": {},
      "outputs": [
        {
          "output_type": "execute_result",
          "data": {
            "text/plain": "{&#39;KNN&#39;: 0.599778178639396,\n &#39;KNN Multi&#39;: 0.599778178639396,\n &#39;Random Forest&#39;: 0.5886879251928663,\n &#39;Random Forest Multi&#39;: 0.6285097404574641,\n &#39;Linear Regression&#39;: 0.5444887788478071,\n &#39;Linear Regression Multi&#39;: 0.5444887788478071,\n &#39;Decision Tree Regression&#39;: 0.19152007634124824,\n &#39;Decision Tree Multi&#39;: 0.26194138595007344,\n &#39;Ridge Regressor Chain&#39;: 0.5288152584304666,\n &#39;Ridge Regresor Multioutput&#39;: 0.5288152584304666}"
          },
          "metadata": {},
          "execution_count": 13
        }
      ],
      "source": [
        "#Test all models on one dataset\n",
        "model_scores = fit_and_score(models=models,\n",
        "                             X_train=X_train,\n",
        "                             X_test=X_test,\n",
        "                             y_train=y_train,\n",
        "                             y_test=y_test)\n",
        "model_scores"
      ]
    },
    {
      "cell_type": "code",
      "execution_count": 14,
      "metadata": {},
      "outputs": [
        {
          "output_type": "execute_result",
          "data": {
            "text/plain": "{&#39;KNN&#39;: 0.8497970055606429,\n &#39;KNN Multi&#39;: 0.8497970055606429,\n &#39;Random Forest&#39;: 0.8516601228507065,\n &#39;Random Forest Multi&#39;: 0.8754651302596562,\n &#39;Linear Regression&#39;: 0.9156168267307402,\n &#39;Linear Regression Multi&#39;: 0.9156168267307402,\n &#39;Decision Tree Regression&#39;: 0.755113198364849,\n &#39;Decision Tree Multi&#39;: 0.739954070698437,\n &#39;Ridge Regressor Chain&#39;: 0.9114208755853902,\n &#39;Ridge Regresor Multioutput&#39;: 0.9114208755853904}"
          },
          "metadata": {},
          "execution_count": 14
        }
      ],
      "source": [
        "model_scores = fit_and_score(models=models,\n",
        "                             X_train=x1_train,\n",
        "                             X_test=x1_test,\n",
        "                             y_train=y1_train,\n",
        "                             y_test=y1_test)\n",
        "model_scores"
      ]
    },
    {
      "cell_type": "code",
      "execution_count": 15,
      "metadata": {},
      "outputs": [],
      "source": [
        "np.random.seed(42)\n",
        "ANN = tf.keras.models.Sequential([\n",
        "  tf.keras.layers.Dense(108, input_dim = 6, activation='relu'),\n",
        "  #tf.keras.layers.Dropout(.1),\n",
        "  tf.keras.layers.Dense(256, activation='relu'),\n",
        "  #tf.keras.layers.Dropout(.1),\n",
        "  tf.keras.layers.Dense(512, activation='relu'),\n",
        "  #tf.keras.layers.Dropout(.1),\n",
        "  tf.keras.layers.Dense(256, activation='relu'),\n",
        "  #tf.keras.layers.Dropout(.1),\n",
        "  tf.keras.layers.Dense(21, activation= 'linear')\n",
        "])"
      ]
    },
    {
      "cell_type": "code",
      "execution_count": 16,
      "metadata": {},
      "outputs": [],
      "source": [
        "opt = tf.keras.optimizers.Adam(.00001)\n",
        "mae = tf.keras.losses.MeanAbsoluteError()\n",
        "ANN.compile(optimizer=opt,metrics=['accuracy'],loss='mse')\n"
      ]
    },
    {
      "cell_type": "code",
      "execution_count": 17,
      "metadata": {
        "tags": [
          "outputPrepend"
        ]
      },
      "outputs": [
        {
          "output_type": "stream",
          "name": "stdout",
          "text": "[==============================] - 0s 2ms/step - loss: 0.0403 - accuracy: 0.3043 - val_loss: 0.0434 - val_accuracy: 0.3966\nEpoch 212/350\n15/15 [==============================] - 0s 2ms/step - loss: 0.0402 - accuracy: 0.3087 - val_loss: 0.0437 - val_accuracy: 0.4138\nEpoch 213/350\n15/15 [==============================] - 0s 2ms/step - loss: 0.0401 - accuracy: 0.3217 - val_loss: 0.0434 - val_accuracy: 0.4138\nEpoch 214/350\n15/15 [==============================] - 0s 2ms/step - loss: 0.0400 - accuracy: 0.3174 - val_loss: 0.0433 - val_accuracy: 0.4138\nEpoch 215/350\n15/15 [==============================] - 0s 2ms/step - loss: 0.0399 - accuracy: 0.3217 - val_loss: 0.0433 - val_accuracy: 0.4138\nEpoch 216/350\n15/15 [==============================] - 0s 2ms/step - loss: 0.0399 - accuracy: 0.3217 - val_loss: 0.0433 - val_accuracy: 0.4138\nEpoch 217/350\n15/15 [==============================] - 0s 2ms/step - loss: 0.0398 - accuracy: 0.3130 - val_loss: 0.0432 - val_accuracy: 0.4138\nEpoch 218/350\n15/15 [==============================] - 0s 2ms/step - loss: 0.0397 - accuracy: 0.3174 - val_loss: 0.0431 - val_accuracy: 0.4138\nEpoch 219/350\n15/15 [==============================] - 0s 2ms/step - loss: 0.0397 - accuracy: 0.3217 - val_loss: 0.0430 - val_accuracy: 0.4138\nEpoch 220/350\n15/15 [==============================] - 0s 2ms/step - loss: 0.0396 - accuracy: 0.3130 - val_loss: 0.0429 - val_accuracy: 0.4138\nEpoch 221/350\n15/15 [==============================] - 0s 2ms/step - loss: 0.0396 - accuracy: 0.3130 - val_loss: 0.0431 - val_accuracy: 0.4138\nEpoch 222/350\n15/15 [==============================] - 0s 2ms/step - loss: 0.0395 - accuracy: 0.3087 - val_loss: 0.0429 - val_accuracy: 0.4138\nEpoch 223/350\n15/15 [==============================] - 0s 2ms/step - loss: 0.0394 - accuracy: 0.3087 - val_loss: 0.0427 - val_accuracy: 0.4138\nEpoch 224/350\n15/15 [==============================] - 0s 2ms/step - loss: 0.0394 - accuracy: 0.3130 - val_loss: 0.0429 - val_accuracy: 0.4138\nEpoch 225/350\n15/15 [==============================] - 0s 2ms/step - loss: 0.0392 - accuracy: 0.3217 - val_loss: 0.0426 - val_accuracy: 0.4138\nEpoch 226/350\n15/15 [==============================] - 0s 2ms/step - loss: 0.0392 - accuracy: 0.3261 - val_loss: 0.0427 - val_accuracy: 0.4138\nEpoch 227/350\n15/15 [==============================] - 0s 2ms/step - loss: 0.0391 - accuracy: 0.3261 - val_loss: 0.0429 - val_accuracy: 0.4138\nEpoch 228/350\n15/15 [==============================] - 0s 2ms/step - loss: 0.0390 - accuracy: 0.3261 - val_loss: 0.0426 - val_accuracy: 0.4138\nEpoch 229/350\n15/15 [==============================] - 0s 2ms/step - loss: 0.0390 - accuracy: 0.3174 - val_loss: 0.0425 - val_accuracy: 0.4138\nEpoch 230/350\n15/15 [==============================] - 0s 2ms/step - loss: 0.0389 - accuracy: 0.3217 - val_loss: 0.0425 - val_accuracy: 0.4138\nEpoch 231/350\n15/15 [==============================] - 0s 2ms/step - loss: 0.0388 - accuracy: 0.3130 - val_loss: 0.0424 - val_accuracy: 0.4138\nEpoch 232/350\n15/15 [==============================] - 0s 2ms/step - loss: 0.0388 - accuracy: 0.3130 - val_loss: 0.0423 - val_accuracy: 0.4138\nEpoch 233/350\n15/15 [==============================] - 0s 2ms/step - loss: 0.0387 - accuracy: 0.3130 - val_loss: 0.0424 - val_accuracy: 0.4138\nEpoch 234/350\n15/15 [==============================] - 0s 2ms/step - loss: 0.0387 - accuracy: 0.3217 - val_loss: 0.0424 - val_accuracy: 0.4138\nEpoch 235/350\n15/15 [==============================] - 0s 3ms/step - loss: 0.0386 - accuracy: 0.3217 - val_loss: 0.0422 - val_accuracy: 0.4138\nEpoch 236/350\n15/15 [==============================] - 0s 2ms/step - loss: 0.0386 - accuracy: 0.3217 - val_loss: 0.0423 - val_accuracy: 0.4138\nEpoch 237/350\n15/15 [==============================] - 0s 2ms/step - loss: 0.0385 - accuracy: 0.3174 - val_loss: 0.0421 - val_accuracy: 0.4138\nEpoch 238/350\n15/15 [==============================] - 0s 3ms/step - loss: 0.0384 - accuracy: 0.3217 - val_loss: 0.0423 - val_accuracy: 0.4138\nEpoch 239/350\n15/15 [==============================] - 0s 2ms/step - loss: 0.0384 - accuracy: 0.3174 - val_loss: 0.0423 - val_accuracy: 0.4138\nEpoch 240/350\n15/15 [==============================] - 0s 2ms/step - loss: 0.0383 - accuracy: 0.3304 - val_loss: 0.0422 - val_accuracy: 0.4138\nEpoch 241/350\n15/15 [==============================] - 0s 2ms/step - loss: 0.0382 - accuracy: 0.3304 - val_loss: 0.0421 - val_accuracy: 0.4138\nEpoch 242/350\n15/15 [==============================] - 0s 2ms/step - loss: 0.0382 - accuracy: 0.3217 - val_loss: 0.0420 - val_accuracy: 0.4138\nEpoch 243/350\n15/15 [==============================] - 0s 2ms/step - loss: 0.0381 - accuracy: 0.3261 - val_loss: 0.0420 - val_accuracy: 0.4138\nEpoch 244/350\n15/15 [==============================] - 0s 2ms/step - loss: 0.0381 - accuracy: 0.3261 - val_loss: 0.0421 - val_accuracy: 0.4138\nEpoch 245/350\n15/15 [==============================] - 0s 2ms/step - loss: 0.0380 - accuracy: 0.3217 - val_loss: 0.0418 - val_accuracy: 0.4138\nEpoch 246/350\n15/15 [==============================] - 0s 2ms/step - loss: 0.0380 - accuracy: 0.3174 - val_loss: 0.0418 - val_accuracy: 0.4138\nEpoch 247/350\n15/15 [==============================] - 0s 2ms/step - loss: 0.0379 - accuracy: 0.3174 - val_loss: 0.0417 - val_accuracy: 0.4138\nEpoch 248/350\n15/15 [==============================] - 0s 2ms/step - loss: 0.0378 - accuracy: 0.3217 - val_loss: 0.0419 - val_accuracy: 0.4138\nEpoch 249/350\n15/15 [==============================] - 0s 2ms/step - loss: 0.0378 - accuracy: 0.3217 - val_loss: 0.0417 - val_accuracy: 0.4138\nEpoch 250/350\n15/15 [==============================] - 0s 2ms/step - loss: 0.0377 - accuracy: 0.3217 - val_loss: 0.0417 - val_accuracy: 0.4138\nEpoch 251/350\n15/15 [==============================] - 0s 2ms/step - loss: 0.0377 - accuracy: 0.3304 - val_loss: 0.0418 - val_accuracy: 0.4138\nEpoch 252/350\n15/15 [==============================] - 0s 2ms/step - loss: 0.0376 - accuracy: 0.3304 - val_loss: 0.0415 - val_accuracy: 0.4138\nEpoch 253/350\n15/15 [==============================] - 0s 2ms/step - loss: 0.0375 - accuracy: 0.3304 - val_loss: 0.0416 - val_accuracy: 0.4138\nEpoch 254/350\n15/15 [==============================] - 0s 2ms/step - loss: 0.0375 - accuracy: 0.3261 - val_loss: 0.0417 - val_accuracy: 0.4138\nEpoch 255/350\n15/15 [==============================] - 0s 2ms/step - loss: 0.0374 - accuracy: 0.3217 - val_loss: 0.0416 - val_accuracy: 0.4138\nEpoch 256/350\n15/15 [==============================] - 0s 2ms/step - loss: 0.0374 - accuracy: 0.3304 - val_loss: 0.0416 - val_accuracy: 0.4138\nEpoch 257/350\n15/15 [==============================] - 0s 2ms/step - loss: 0.0374 - accuracy: 0.3087 - val_loss: 0.0413 - val_accuracy: 0.4138\nEpoch 258/350\n15/15 [==============================] - 0s 2ms/step - loss: 0.0372 - accuracy: 0.3087 - val_loss: 0.0416 - val_accuracy: 0.3966\nEpoch 259/350\n15/15 [==============================] - 0s 2ms/step - loss: 0.0372 - accuracy: 0.3174 - val_loss: 0.0415 - val_accuracy: 0.3966\nEpoch 260/350\n15/15 [==============================] - 0s 2ms/step - loss: 0.0373 - accuracy: 0.3261 - val_loss: 0.0414 - val_accuracy: 0.4138\nEpoch 261/350\n15/15 [==============================] - 0s 2ms/step - loss: 0.0371 - accuracy: 0.3174 - val_loss: 0.0416 - val_accuracy: 0.4138\nEpoch 262/350\n15/15 [==============================] - 0s 2ms/step - loss: 0.0370 - accuracy: 0.3217 - val_loss: 0.0413 - val_accuracy: 0.4138\nEpoch 263/350\n15/15 [==============================] - 0s 2ms/step - loss: 0.0370 - accuracy: 0.3174 - val_loss: 0.0412 - val_accuracy: 0.3966\nEpoch 264/350\n15/15 [==============================] - 0s 2ms/step - loss: 0.0369 - accuracy: 0.3174 - val_loss: 0.0413 - val_accuracy: 0.3966\nEpoch 265/350\n15/15 [==============================] - 0s 2ms/step - loss: 0.0368 - accuracy: 0.3174 - val_loss: 0.0412 - val_accuracy: 0.4138\nEpoch 266/350\n15/15 [==============================] - 0s 2ms/step - loss: 0.0368 - accuracy: 0.3261 - val_loss: 0.0414 - val_accuracy: 0.4138\nEpoch 267/350\n15/15 [==============================] - 0s 2ms/step - loss: 0.0368 - accuracy: 0.3217 - val_loss: 0.0412 - val_accuracy: 0.4138\nEpoch 268/350\n15/15 [==============================] - 0s 2ms/step - loss: 0.0367 - accuracy: 0.3304 - val_loss: 0.0413 - val_accuracy: 0.3966\nEpoch 269/350\n15/15 [==============================] - 0s 2ms/step - loss: 0.0367 - accuracy: 0.3217 - val_loss: 0.0410 - val_accuracy: 0.4138\nEpoch 270/350\n15/15 [==============================] - 0s 2ms/step - loss: 0.0366 - accuracy: 0.3174 - val_loss: 0.0411 - val_accuracy: 0.4138\nEpoch 271/350\n15/15 [==============================] - 0s 2ms/step - loss: 0.0365 - accuracy: 0.3304 - val_loss: 0.0411 - val_accuracy: 0.4138\nEpoch 272/350\n15/15 [==============================] - 0s 2ms/step - loss: 0.0365 - accuracy: 0.3304 - val_loss: 0.0411 - val_accuracy: 0.4138\nEpoch 273/350\n15/15 [==============================] - 0s 2ms/step - loss: 0.0365 - accuracy: 0.3261 - val_loss: 0.0411 - val_accuracy: 0.4138\nEpoch 274/350\n15/15 [==============================] - 0s 2ms/step - loss: 0.0364 - accuracy: 0.3217 - val_loss: 0.0409 - val_accuracy: 0.4138\nEpoch 275/350\n15/15 [==============================] - 0s 2ms/step - loss: 0.0364 - accuracy: 0.3261 - val_loss: 0.0409 - val_accuracy: 0.4138\nEpoch 276/350\n15/15 [==============================] - 0s 2ms/step - loss: 0.0363 - accuracy: 0.3261 - val_loss: 0.0411 - val_accuracy: 0.4138\nEpoch 277/350\n15/15 [==============================] - 0s 2ms/step - loss: 0.0363 - accuracy: 0.3174 - val_loss: 0.0408 - val_accuracy: 0.4138\nEpoch 278/350\n15/15 [==============================] - 0s 2ms/step - loss: 0.0362 - accuracy: 0.3217 - val_loss: 0.0408 - val_accuracy: 0.4138\nEpoch 279/350\n15/15 [==============================] - 0s 2ms/step - loss: 0.0361 - accuracy: 0.3174 - val_loss: 0.0408 - val_accuracy: 0.3966\nEpoch 280/350\n15/15 [==============================] - 0s 2ms/step - loss: 0.0361 - accuracy: 0.3217 - val_loss: 0.0407 - val_accuracy: 0.4138\nEpoch 281/350\n15/15 [==============================] - 0s 2ms/step - loss: 0.0361 - accuracy: 0.3261 - val_loss: 0.0407 - val_accuracy: 0.4138\nEpoch 282/350\n15/15 [==============================] - 0s 2ms/step - loss: 0.0360 - accuracy: 0.3217 - val_loss: 0.0406 - val_accuracy: 0.3966\nEpoch 283/350\n15/15 [==============================] - 0s 2ms/step - loss: 0.0360 - accuracy: 0.3217 - val_loss: 0.0409 - val_accuracy: 0.3966\nEpoch 284/350\n15/15 [==============================] - 0s 2ms/step - loss: 0.0360 - accuracy: 0.3348 - val_loss: 0.0407 - val_accuracy: 0.4138\nEpoch 285/350\n15/15 [==============================] - 0s 2ms/step - loss: 0.0359 - accuracy: 0.3304 - val_loss: 0.0407 - val_accuracy: 0.4138\nEpoch 286/350\n15/15 [==============================] - 0s 2ms/step - loss: 0.0359 - accuracy: 0.3304 - val_loss: 0.0406 - val_accuracy: 0.4138\nEpoch 287/350\n15/15 [==============================] - 0s 2ms/step - loss: 0.0358 - accuracy: 0.3261 - val_loss: 0.0406 - val_accuracy: 0.4138\nEpoch 288/350\n15/15 [==============================] - 0s 2ms/step - loss: 0.0358 - accuracy: 0.3261 - val_loss: 0.0406 - val_accuracy: 0.4138\nEpoch 289/350\n15/15 [==============================] - 0s 2ms/step - loss: 0.0357 - accuracy: 0.3435 - val_loss: 0.0406 - val_accuracy: 0.4138\nEpoch 290/350\n15/15 [==============================] - 0s 2ms/step - loss: 0.0357 - accuracy: 0.3304 - val_loss: 0.0406 - val_accuracy: 0.4138\nEpoch 291/350\n15/15 [==============================] - 0s 2ms/step - loss: 0.0357 - accuracy: 0.3130 - val_loss: 0.0405 - val_accuracy: 0.3966\nEpoch 292/350\n15/15 [==============================] - 0s 2ms/step - loss: 0.0356 - accuracy: 0.3217 - val_loss: 0.0405 - val_accuracy: 0.4138\nEpoch 293/350\n15/15 [==============================] - 0s 2ms/step - loss: 0.0355 - accuracy: 0.3261 - val_loss: 0.0405 - val_accuracy: 0.4138\nEpoch 294/350\n15/15 [==============================] - 0s 2ms/step - loss: 0.0355 - accuracy: 0.3217 - val_loss: 0.0404 - val_accuracy: 0.3966\nEpoch 295/350\n15/15 [==============================] - 0s 2ms/step - loss: 0.0355 - accuracy: 0.3217 - val_loss: 0.0403 - val_accuracy: 0.4138\nEpoch 296/350\n15/15 [==============================] - 0s 2ms/step - loss: 0.0354 - accuracy: 0.3304 - val_loss: 0.0405 - val_accuracy: 0.4138\nEpoch 297/350\n15/15 [==============================] - 0s 2ms/step - loss: 0.0354 - accuracy: 0.3217 - val_loss: 0.0403 - val_accuracy: 0.3966\nEpoch 298/350\n15/15 [==============================] - 0s 2ms/step - loss: 0.0354 - accuracy: 0.3130 - val_loss: 0.0404 - val_accuracy: 0.3966\nEpoch 299/350\n15/15 [==============================] - 0s 2ms/step - loss: 0.0353 - accuracy: 0.3217 - val_loss: 0.0403 - val_accuracy: 0.4138\nEpoch 300/350\n15/15 [==============================] - 0s 2ms/step - loss: 0.0353 - accuracy: 0.3304 - val_loss: 0.0403 - val_accuracy: 0.3966\nEpoch 301/350\n15/15 [==============================] - 0s 2ms/step - loss: 0.0352 - accuracy: 0.3174 - val_loss: 0.0403 - val_accuracy: 0.4138\nEpoch 302/350\n15/15 [==============================] - 0s 2ms/step - loss: 0.0352 - accuracy: 0.3261 - val_loss: 0.0403 - val_accuracy: 0.4138\nEpoch 303/350\n15/15 [==============================] - 0s 2ms/step - loss: 0.0352 - accuracy: 0.3261 - val_loss: 0.0403 - val_accuracy: 0.3966\nEpoch 304/350\n15/15 [==============================] - 0s 2ms/step - loss: 0.0352 - accuracy: 0.3261 - val_loss: 0.0403 - val_accuracy: 0.4138\nEpoch 305/350\n15/15 [==============================] - 0s 2ms/step - loss: 0.0351 - accuracy: 0.3217 - val_loss: 0.0402 - val_accuracy: 0.3966\nEpoch 306/350\n15/15 [==============================] - 0s 2ms/step - loss: 0.0350 - accuracy: 0.3217 - val_loss: 0.0403 - val_accuracy: 0.4138\nEpoch 307/350\n15/15 [==============================] - 0s 2ms/step - loss: 0.0350 - accuracy: 0.3174 - val_loss: 0.0400 - val_accuracy: 0.4138\nEpoch 308/350\n15/15 [==============================] - 0s 2ms/step - loss: 0.0350 - accuracy: 0.3043 - val_loss: 0.0400 - val_accuracy: 0.4138\nEpoch 309/350\n15/15 [==============================] - 0s 2ms/step - loss: 0.0350 - accuracy: 0.3304 - val_loss: 0.0401 - val_accuracy: 0.4138\nEpoch 310/350\n15/15 [==============================] - 0s 2ms/step - loss: 0.0349 - accuracy: 0.3304 - val_loss: 0.0402 - val_accuracy: 0.4138\nEpoch 311/350\n15/15 [==============================] - 0s 2ms/step - loss: 0.0349 - accuracy: 0.3217 - val_loss: 0.0401 - val_accuracy: 0.4138\nEpoch 312/350\n15/15 [==============================] - 0s 2ms/step - loss: 0.0348 - accuracy: 0.3391 - val_loss: 0.0401 - val_accuracy: 0.4138\nEpoch 313/350\n15/15 [==============================] - 0s 2ms/step - loss: 0.0347 - accuracy: 0.3217 - val_loss: 0.0399 - val_accuracy: 0.4138\nEpoch 314/350\n15/15 [==============================] - 0s 2ms/step - loss: 0.0348 - accuracy: 0.3261 - val_loss: 0.0400 - val_accuracy: 0.4138\nEpoch 315/350\n15/15 [==============================] - 0s 2ms/step - loss: 0.0347 - accuracy: 0.3304 - val_loss: 0.0400 - val_accuracy: 0.3966\nEpoch 316/350\n15/15 [==============================] - 0s 2ms/step - loss: 0.0347 - accuracy: 0.3130 - val_loss: 0.0398 - val_accuracy: 0.4138\nEpoch 317/350\n15/15 [==============================] - 0s 2ms/step - loss: 0.0347 - accuracy: 0.3435 - val_loss: 0.0400 - val_accuracy: 0.4138\nEpoch 318/350\n15/15 [==============================] - 0s 2ms/step - loss: 0.0346 - accuracy: 0.3348 - val_loss: 0.0399 - val_accuracy: 0.3966\nEpoch 319/350\n15/15 [==============================] - 0s 2ms/step - loss: 0.0345 - accuracy: 0.3261 - val_loss: 0.0399 - val_accuracy: 0.4138\nEpoch 320/350\n15/15 [==============================] - 0s 2ms/step - loss: 0.0346 - accuracy: 0.3304 - val_loss: 0.0400 - val_accuracy: 0.4138\nEpoch 321/350\n15/15 [==============================] - 0s 2ms/step - loss: 0.0345 - accuracy: 0.3261 - val_loss: 0.0397 - val_accuracy: 0.4138\nEpoch 322/350\n15/15 [==============================] - 0s 2ms/step - loss: 0.0344 - accuracy: 0.3043 - val_loss: 0.0397 - val_accuracy: 0.3966\nEpoch 323/350\n15/15 [==============================] - 0s 2ms/step - loss: 0.0344 - accuracy: 0.3348 - val_loss: 0.0399 - val_accuracy: 0.4138\nEpoch 324/350\n15/15 [==============================] - 0s 2ms/step - loss: 0.0344 - accuracy: 0.3348 - val_loss: 0.0396 - val_accuracy: 0.4138\nEpoch 325/350\n15/15 [==============================] - 0s 2ms/step - loss: 0.0344 - accuracy: 0.3174 - val_loss: 0.0397 - val_accuracy: 0.3966\nEpoch 326/350\n15/15 [==============================] - 0s 2ms/step - loss: 0.0343 - accuracy: 0.3087 - val_loss: 0.0397 - val_accuracy: 0.4138\nEpoch 327/350\n15/15 [==============================] - 0s 2ms/step - loss: 0.0343 - accuracy: 0.3348 - val_loss: 0.0399 - val_accuracy: 0.4138\nEpoch 328/350\n15/15 [==============================] - 0s 2ms/step - loss: 0.0344 - accuracy: 0.3043 - val_loss: 0.0395 - val_accuracy: 0.4138\nEpoch 329/350\n15/15 [==============================] - 0s 2ms/step - loss: 0.0342 - accuracy: 0.3304 - val_loss: 0.0398 - val_accuracy: 0.3793\nEpoch 330/350\n15/15 [==============================] - 0s 2ms/step - loss: 0.0342 - accuracy: 0.3435 - val_loss: 0.0398 - val_accuracy: 0.4138\nEpoch 331/350\n15/15 [==============================] - 0s 2ms/step - loss: 0.0342 - accuracy: 0.3217 - val_loss: 0.0395 - val_accuracy: 0.3793\nEpoch 332/350\n15/15 [==============================] - 0s 2ms/step - loss: 0.0341 - accuracy: 0.3261 - val_loss: 0.0397 - val_accuracy: 0.3966\nEpoch 333/350\n15/15 [==============================] - 0s 2ms/step - loss: 0.0341 - accuracy: 0.3304 - val_loss: 0.0397 - val_accuracy: 0.4138\nEpoch 334/350\n15/15 [==============================] - 0s 2ms/step - loss: 0.0341 - accuracy: 0.3217 - val_loss: 0.0397 - val_accuracy: 0.4138\nEpoch 335/350\n15/15 [==============================] - 0s 2ms/step - loss: 0.0340 - accuracy: 0.3217 - val_loss: 0.0395 - val_accuracy: 0.3793\nEpoch 336/350\n15/15 [==============================] - 0s 2ms/step - loss: 0.0340 - accuracy: 0.3261 - val_loss: 0.0395 - val_accuracy: 0.4138\nEpoch 337/350\n15/15 [==============================] - 0s 2ms/step - loss: 0.0340 - accuracy: 0.3087 - val_loss: 0.0395 - val_accuracy: 0.3966\nEpoch 338/350\n15/15 [==============================] - 0s 2ms/step - loss: 0.0339 - accuracy: 0.3304 - val_loss: 0.0396 - val_accuracy: 0.3966\nEpoch 339/350\n15/15 [==============================] - 0s 2ms/step - loss: 0.0339 - accuracy: 0.3304 - val_loss: 0.0394 - val_accuracy: 0.4138\nEpoch 340/350\n15/15 [==============================] - 0s 2ms/step - loss: 0.0339 - accuracy: 0.3087 - val_loss: 0.0394 - val_accuracy: 0.3621\nEpoch 341/350\n15/15 [==============================] - 0s 2ms/step - loss: 0.0338 - accuracy: 0.3348 - val_loss: 0.0395 - val_accuracy: 0.4138\nEpoch 342/350\n15/15 [==============================] - 0s 2ms/step - loss: 0.0338 - accuracy: 0.3217 - val_loss: 0.0395 - val_accuracy: 0.4138\nEpoch 343/350\n15/15 [==============================] - 0s 2ms/step - loss: 0.0338 - accuracy: 0.3261 - val_loss: 0.0394 - val_accuracy: 0.3793\nEpoch 344/350\n15/15 [==============================] - 0s 2ms/step - loss: 0.0337 - accuracy: 0.3304 - val_loss: 0.0395 - val_accuracy: 0.3793\nEpoch 345/350\n15/15 [==============================] - 0s 2ms/step - loss: 0.0337 - accuracy: 0.3261 - val_loss: 0.0394 - val_accuracy: 0.3966\nEpoch 346/350\n15/15 [==============================] - 0s 2ms/step - loss: 0.0337 - accuracy: 0.3261 - val_loss: 0.0396 - val_accuracy: 0.4138\nEpoch 347/350\n15/15 [==============================] - 0s 2ms/step - loss: 0.0337 - accuracy: 0.3391 - val_loss: 0.0393 - val_accuracy: 0.4138\nEpoch 348/350\n15/15 [==============================] - 0s 2ms/step - loss: 0.0336 - accuracy: 0.3261 - val_loss: 0.0393 - val_accuracy: 0.3793\nEpoch 349/350\n15/15 [==============================] - 0s 2ms/step - loss: 0.0336 - accuracy: 0.3130 - val_loss: 0.0393 - val_accuracy: 0.3621\nEpoch 350/350\n15/15 [==============================] - 0s 2ms/step - loss: 0.0336 - accuracy: 0.3130 - val_loss: 0.0393 - val_accuracy: 0.3793\n"
        }
      ],
      "source": [
        "hp_model=ANN.fit(x=X_train,y=y_train, validation_data = (X_test, y_test), epochs=350 ,batch_size = 16)\n",
        "#hp_model=ANN.fit(x=x1_train,y=y1_train, validation_data = (x1_test, y1_test), epochs=100 ,batch_size = 16)"
      ]
    },
    {
      "cell_type": "code",
      "execution_count": 18,
      "metadata": {},
      "outputs": [
        {
          "output_type": "execute_result",
          "data": {
            "text/plain": "&lt;matplotlib.legend.Legend at 0x7fbfac4cb0a0&gt;"
          },
          "metadata": {},
          "execution_count": 18
        },
        {
          "output_type": "display_data",
          "data": {
            "text/plain": "&lt;Figure size 432x288 with 1 Axes&gt;",
            "image/svg+xml": "<?xml version=\"1.0\" encoding=\"utf-8\" standalone=\"no\"?>\n<!DOCTYPE svg PUBLIC \"-//W3C//DTD SVG 1.1//EN\"\n  \"http://www.w3.org/Graphics/SVG/1.1/DTD/svg11.dtd\">\n<!-- Created with matplotlib (https://matplotlib.org/) -->\n<svg height=\"248.518125pt\" version=\"1.1\" viewBox=\"0 0 372.103125 248.518125\" width=\"372.103125pt\" xmlns=\"http://www.w3.org/2000/svg\" xmlns:xlink=\"http://www.w3.org/1999/xlink\">\n <defs>\n  <style type=\"text/css\">\n*{stroke-linecap:butt;stroke-linejoin:round;}\n  </style>\n </defs>\n <g id=\"figure_1\">\n  <g id=\"patch_1\">\n   <path d=\"M 0 248.518125 \nL 372.103125 248.518125 \nL 372.103125 0 \nL 0 0 \nz\n\" style=\"fill:none;\"/>\n  </g>\n  <g id=\"axes_1\">\n   <g id=\"patch_2\">\n    <path d=\"M 30.103125 224.64 \nL 364.903125 224.64 \nL 364.903125 7.2 \nL 30.103125 7.2 \nz\n\" style=\"fill:#ffffff;\"/>\n   </g>\n   <g id=\"matplotlib.axis_1\">\n    <g id=\"xtick_1\">\n     <g id=\"line2d_1\">\n      <defs>\n       <path d=\"M 0 0 \nL 0 3.5 \n\" id=\"macad710d71\" style=\"stroke:#000000;stroke-width:0.8;\"/>\n      </defs>\n      <g>\n       <use style=\"stroke:#000000;stroke-width:0.8;\" x=\"45.321307\" xlink:href=\"#macad710d71\" y=\"224.64\"/>\n      </g>\n     </g>\n     <g id=\"text_1\">\n      <!-- 0 -->\n      <defs>\n       <path d=\"M 31.78125 66.40625 \nQ 24.171875 66.40625 20.328125 58.90625 \nQ 16.5 51.421875 16.5 36.375 \nQ 16.5 21.390625 20.328125 13.890625 \nQ 24.171875 6.390625 31.78125 6.390625 \nQ 39.453125 6.390625 43.28125 13.890625 \nQ 47.125 21.390625 47.125 36.375 \nQ 47.125 51.421875 43.28125 58.90625 \nQ 39.453125 66.40625 31.78125 66.40625 \nz\nM 31.78125 74.21875 \nQ 44.046875 74.21875 50.515625 64.515625 \nQ 56.984375 54.828125 56.984375 36.375 \nQ 56.984375 17.96875 50.515625 8.265625 \nQ 44.046875 -1.421875 31.78125 -1.421875 \nQ 19.53125 -1.421875 13.0625 8.265625 \nQ 6.59375 17.96875 6.59375 36.375 \nQ 6.59375 54.828125 13.0625 64.515625 \nQ 19.53125 74.21875 31.78125 74.21875 \nz\n\" id=\"DejaVuSans-48\"/>\n      </defs>\n      <g transform=\"translate(42.140057 239.238437)scale(0.1 -0.1)\">\n       <use xlink:href=\"#DejaVuSans-48\"/>\n      </g>\n     </g>\n    </g>\n    <g id=\"xtick_2\">\n     <g id=\"line2d_2\">\n      <g>\n       <use style=\"stroke:#000000;stroke-width:0.8;\" x=\"88.926412\" xlink:href=\"#macad710d71\" y=\"224.64\"/>\n      </g>\n     </g>\n     <g id=\"text_2\">\n      <!-- 50 -->\n      <defs>\n       <path d=\"M 10.796875 72.90625 \nL 49.515625 72.90625 \nL 49.515625 64.59375 \nL 19.828125 64.59375 \nL 19.828125 46.734375 \nQ 21.96875 47.46875 24.109375 47.828125 \nQ 26.265625 48.1875 28.421875 48.1875 \nQ 40.625 48.1875 47.75 41.5 \nQ 54.890625 34.8125 54.890625 23.390625 \nQ 54.890625 11.625 47.5625 5.09375 \nQ 40.234375 -1.421875 26.90625 -1.421875 \nQ 22.3125 -1.421875 17.546875 -0.640625 \nQ 12.796875 0.140625 7.71875 1.703125 \nL 7.71875 11.625 \nQ 12.109375 9.234375 16.796875 8.0625 \nQ 21.484375 6.890625 26.703125 6.890625 \nQ 35.15625 6.890625 40.078125 11.328125 \nQ 45.015625 15.765625 45.015625 23.390625 \nQ 45.015625 31 40.078125 35.4375 \nQ 35.15625 39.890625 26.703125 39.890625 \nQ 22.75 39.890625 18.8125 39.015625 \nQ 14.890625 38.140625 10.796875 36.28125 \nz\n\" id=\"DejaVuSans-53\"/>\n      </defs>\n      <g transform=\"translate(82.563912 239.238437)scale(0.1 -0.1)\">\n       <use xlink:href=\"#DejaVuSans-53\"/>\n       <use x=\"63.623047\" xlink:href=\"#DejaVuSans-48\"/>\n      </g>\n     </g>\n    </g>\n    <g id=\"xtick_3\">\n     <g id=\"line2d_3\">\n      <g>\n       <use style=\"stroke:#000000;stroke-width:0.8;\" x=\"132.531518\" xlink:href=\"#macad710d71\" y=\"224.64\"/>\n      </g>\n     </g>\n     <g id=\"text_3\">\n      <!-- 100 -->\n      <defs>\n       <path d=\"M 12.40625 8.296875 \nL 28.515625 8.296875 \nL 28.515625 63.921875 \nL 10.984375 60.40625 \nL 10.984375 69.390625 \nL 28.421875 72.90625 \nL 38.28125 72.90625 \nL 38.28125 8.296875 \nL 54.390625 8.296875 \nL 54.390625 0 \nL 12.40625 0 \nz\n\" id=\"DejaVuSans-49\"/>\n      </defs>\n      <g transform=\"translate(122.987768 239.238437)scale(0.1 -0.1)\">\n       <use xlink:href=\"#DejaVuSans-49\"/>\n       <use x=\"63.623047\" xlink:href=\"#DejaVuSans-48\"/>\n       <use x=\"127.246094\" xlink:href=\"#DejaVuSans-48\"/>\n      </g>\n     </g>\n    </g>\n    <g id=\"xtick_4\">\n     <g id=\"line2d_4\">\n      <g>\n       <use style=\"stroke:#000000;stroke-width:0.8;\" x=\"176.136623\" xlink:href=\"#macad710d71\" y=\"224.64\"/>\n      </g>\n     </g>\n     <g id=\"text_4\">\n      <!-- 150 -->\n      <g transform=\"translate(166.592873 239.238437)scale(0.1 -0.1)\">\n       <use xlink:href=\"#DejaVuSans-49\"/>\n       <use x=\"63.623047\" xlink:href=\"#DejaVuSans-53\"/>\n       <use x=\"127.246094\" xlink:href=\"#DejaVuSans-48\"/>\n      </g>\n     </g>\n    </g>\n    <g id=\"xtick_5\">\n     <g id=\"line2d_5\">\n      <g>\n       <use style=\"stroke:#000000;stroke-width:0.8;\" x=\"219.741729\" xlink:href=\"#macad710d71\" y=\"224.64\"/>\n      </g>\n     </g>\n     <g id=\"text_5\">\n      <!-- 200 -->\n      <defs>\n       <path d=\"M 19.1875 8.296875 \nL 53.609375 8.296875 \nL 53.609375 0 \nL 7.328125 0 \nL 7.328125 8.296875 \nQ 12.9375 14.109375 22.625 23.890625 \nQ 32.328125 33.6875 34.8125 36.53125 \nQ 39.546875 41.84375 41.421875 45.53125 \nQ 43.3125 49.21875 43.3125 52.78125 \nQ 43.3125 58.59375 39.234375 62.25 \nQ 35.15625 65.921875 28.609375 65.921875 \nQ 23.96875 65.921875 18.8125 64.3125 \nQ 13.671875 62.703125 7.8125 59.421875 \nL 7.8125 69.390625 \nQ 13.765625 71.78125 18.9375 73 \nQ 24.125 74.21875 28.421875 74.21875 \nQ 39.75 74.21875 46.484375 68.546875 \nQ 53.21875 62.890625 53.21875 53.421875 \nQ 53.21875 48.921875 51.53125 44.890625 \nQ 49.859375 40.875 45.40625 35.40625 \nQ 44.1875 33.984375 37.640625 27.21875 \nQ 31.109375 20.453125 19.1875 8.296875 \nz\n\" id=\"DejaVuSans-50\"/>\n      </defs>\n      <g transform=\"translate(210.197979 239.238437)scale(0.1 -0.1)\">\n       <use xlink:href=\"#DejaVuSans-50\"/>\n       <use x=\"63.623047\" xlink:href=\"#DejaVuSans-48\"/>\n       <use x=\"127.246094\" xlink:href=\"#DejaVuSans-48\"/>\n      </g>\n     </g>\n    </g>\n    <g id=\"xtick_6\">\n     <g id=\"line2d_6\">\n      <g>\n       <use style=\"stroke:#000000;stroke-width:0.8;\" x=\"263.346834\" xlink:href=\"#macad710d71\" y=\"224.64\"/>\n      </g>\n     </g>\n     <g id=\"text_6\">\n      <!-- 250 -->\n      <g transform=\"translate(253.803084 239.238437)scale(0.1 -0.1)\">\n       <use xlink:href=\"#DejaVuSans-50\"/>\n       <use x=\"63.623047\" xlink:href=\"#DejaVuSans-53\"/>\n       <use x=\"127.246094\" xlink:href=\"#DejaVuSans-48\"/>\n      </g>\n     </g>\n    </g>\n    <g id=\"xtick_7\">\n     <g id=\"line2d_7\">\n      <g>\n       <use style=\"stroke:#000000;stroke-width:0.8;\" x=\"306.95194\" xlink:href=\"#macad710d71\" y=\"224.64\"/>\n      </g>\n     </g>\n     <g id=\"text_7\">\n      <!-- 300 -->\n      <defs>\n       <path d=\"M 40.578125 39.3125 \nQ 47.65625 37.796875 51.625 33 \nQ 55.609375 28.21875 55.609375 21.1875 \nQ 55.609375 10.40625 48.1875 4.484375 \nQ 40.765625 -1.421875 27.09375 -1.421875 \nQ 22.515625 -1.421875 17.65625 -0.515625 \nQ 12.796875 0.390625 7.625 2.203125 \nL 7.625 11.71875 \nQ 11.71875 9.328125 16.59375 8.109375 \nQ 21.484375 6.890625 26.8125 6.890625 \nQ 36.078125 6.890625 40.9375 10.546875 \nQ 45.796875 14.203125 45.796875 21.1875 \nQ 45.796875 27.640625 41.28125 31.265625 \nQ 36.765625 34.90625 28.71875 34.90625 \nL 20.21875 34.90625 \nL 20.21875 43.015625 \nL 29.109375 43.015625 \nQ 36.375 43.015625 40.234375 45.921875 \nQ 44.09375 48.828125 44.09375 54.296875 \nQ 44.09375 59.90625 40.109375 62.90625 \nQ 36.140625 65.921875 28.71875 65.921875 \nQ 24.65625 65.921875 20.015625 65.03125 \nQ 15.375 64.15625 9.8125 62.3125 \nL 9.8125 71.09375 \nQ 15.4375 72.65625 20.34375 73.4375 \nQ 25.25 74.21875 29.59375 74.21875 \nQ 40.828125 74.21875 47.359375 69.109375 \nQ 53.90625 64.015625 53.90625 55.328125 \nQ 53.90625 49.265625 50.4375 45.09375 \nQ 46.96875 40.921875 40.578125 39.3125 \nz\n\" id=\"DejaVuSans-51\"/>\n      </defs>\n      <g transform=\"translate(297.40819 239.238437)scale(0.1 -0.1)\">\n       <use xlink:href=\"#DejaVuSans-51\"/>\n       <use x=\"63.623047\" xlink:href=\"#DejaVuSans-48\"/>\n       <use x=\"127.246094\" xlink:href=\"#DejaVuSans-48\"/>\n      </g>\n     </g>\n    </g>\n    <g id=\"xtick_8\">\n     <g id=\"line2d_8\">\n      <g>\n       <use style=\"stroke:#000000;stroke-width:0.8;\" x=\"350.557045\" xlink:href=\"#macad710d71\" y=\"224.64\"/>\n      </g>\n     </g>\n     <g id=\"text_8\">\n      <!-- 350 -->\n      <g transform=\"translate(341.013295 239.238437)scale(0.1 -0.1)\">\n       <use xlink:href=\"#DejaVuSans-51\"/>\n       <use x=\"63.623047\" xlink:href=\"#DejaVuSans-53\"/>\n       <use x=\"127.246094\" xlink:href=\"#DejaVuSans-48\"/>\n      </g>\n     </g>\n    </g>\n   </g>\n   <g id=\"matplotlib.axis_2\">\n    <g id=\"ytick_1\">\n     <g id=\"line2d_9\">\n      <defs>\n       <path d=\"M 0 0 \nL -3.5 0 \n\" id=\"m4401e68381\" style=\"stroke:#000000;stroke-width:0.8;\"/>\n      </defs>\n      <g>\n       <use style=\"stroke:#000000;stroke-width:0.8;\" x=\"30.103125\" xlink:href=\"#m4401e68381\" y=\"189.363137\"/>\n      </g>\n     </g>\n     <g id=\"text_9\">\n      <!-- 0.1 -->\n      <defs>\n       <path d=\"M 10.6875 12.40625 \nL 21 12.40625 \nL 21 0 \nL 10.6875 0 \nz\n\" id=\"DejaVuSans-46\"/>\n      </defs>\n      <g transform=\"translate(7.2 193.162356)scale(0.1 -0.1)\">\n       <use xlink:href=\"#DejaVuSans-48\"/>\n       <use x=\"63.623047\" xlink:href=\"#DejaVuSans-46\"/>\n       <use x=\"95.410156\" xlink:href=\"#DejaVuSans-49\"/>\n      </g>\n     </g>\n    </g>\n    <g id=\"ytick_2\">\n     <g id=\"line2d_10\">\n      <g>\n       <use style=\"stroke:#000000;stroke-width:0.8;\" x=\"30.103125\" xlink:href=\"#m4401e68381\" y=\"151.145897\"/>\n      </g>\n     </g>\n     <g id=\"text_10\">\n      <!-- 0.2 -->\n      <g transform=\"translate(7.2 154.945116)scale(0.1 -0.1)\">\n       <use xlink:href=\"#DejaVuSans-48\"/>\n       <use x=\"63.623047\" xlink:href=\"#DejaVuSans-46\"/>\n       <use x=\"95.410156\" xlink:href=\"#DejaVuSans-50\"/>\n      </g>\n     </g>\n    </g>\n    <g id=\"ytick_3\">\n     <g id=\"line2d_11\">\n      <g>\n       <use style=\"stroke:#000000;stroke-width:0.8;\" x=\"30.103125\" xlink:href=\"#m4401e68381\" y=\"112.928657\"/>\n      </g>\n     </g>\n     <g id=\"text_11\">\n      <!-- 0.3 -->\n      <g transform=\"translate(7.2 116.727876)scale(0.1 -0.1)\">\n       <use xlink:href=\"#DejaVuSans-48\"/>\n       <use x=\"63.623047\" xlink:href=\"#DejaVuSans-46\"/>\n       <use x=\"95.410156\" xlink:href=\"#DejaVuSans-51\"/>\n      </g>\n     </g>\n    </g>\n    <g id=\"ytick_4\">\n     <g id=\"line2d_12\">\n      <g>\n       <use style=\"stroke:#000000;stroke-width:0.8;\" x=\"30.103125\" xlink:href=\"#m4401e68381\" y=\"74.711417\"/>\n      </g>\n     </g>\n     <g id=\"text_12\">\n      <!-- 0.4 -->\n      <defs>\n       <path d=\"M 37.796875 64.3125 \nL 12.890625 25.390625 \nL 37.796875 25.390625 \nz\nM 35.203125 72.90625 \nL 47.609375 72.90625 \nL 47.609375 25.390625 \nL 58.015625 25.390625 \nL 58.015625 17.1875 \nL 47.609375 17.1875 \nL 47.609375 0 \nL 37.796875 0 \nL 37.796875 17.1875 \nL 4.890625 17.1875 \nL 4.890625 26.703125 \nz\n\" id=\"DejaVuSans-52\"/>\n      </defs>\n      <g transform=\"translate(7.2 78.510636)scale(0.1 -0.1)\">\n       <use xlink:href=\"#DejaVuSans-48\"/>\n       <use x=\"63.623047\" xlink:href=\"#DejaVuSans-46\"/>\n       <use x=\"95.410156\" xlink:href=\"#DejaVuSans-52\"/>\n      </g>\n     </g>\n    </g>\n    <g id=\"ytick_5\">\n     <g id=\"line2d_13\">\n      <g>\n       <use style=\"stroke:#000000;stroke-width:0.8;\" x=\"30.103125\" xlink:href=\"#m4401e68381\" y=\"36.494177\"/>\n      </g>\n     </g>\n     <g id=\"text_13\">\n      <!-- 0.5 -->\n      <g transform=\"translate(7.2 40.293396)scale(0.1 -0.1)\">\n       <use xlink:href=\"#DejaVuSans-48\"/>\n       <use x=\"63.623047\" xlink:href=\"#DejaVuSans-46\"/>\n       <use x=\"95.410156\" xlink:href=\"#DejaVuSans-53\"/>\n      </g>\n     </g>\n    </g>\n   </g>\n   <g id=\"line2d_14\">\n    <path clip-path=\"url(#pe4d1aaef12)\" d=\"M 45.321307 17.083636 \nL 47.065511 50.229974 \nL 48.809715 77.037484 \nL 50.553919 100.173206 \nL 52.298124 119.963375 \nL 54.042328 136.735771 \nL 55.786532 150.210773 \nL 57.530736 161.798948 \nL 59.274941 170.891257 \nL 60.147043 174.58518 \nL 61.019145 177.789218 \nL 61.891247 180.567325 \nL 63.635451 185.182691 \nL 64.507553 187.020868 \nL 65.379655 188.533866 \nL 66.251757 189.733592 \nL 67.995962 191.551878 \nL 68.868064 192.236377 \nL 70.612268 193.224988 \nL 73.228574 194.246629 \nL 78.461187 195.732346 \nL 87.182208 197.707571 \nL 95.031127 199.434908 \nL 109.856863 202.817962 \nL 115.961578 204.038406 \nL 119.449986 204.689641 \nL 130.787314 206.605212 \nL 134.275722 207.071206 \nL 144.740947 208.144389 \nL 167.415602 209.697526 \nL 176.136623 210.152848 \nL 190.962359 210.82918 \nL 202.299687 211.285548 \nL 249.393201 212.838151 \nL 253.753711 212.948853 \nL 317.417165 214.300259 \nL 323.52188 214.351423 \nL 327.010288 214.451411 \nL 333.115003 214.525325 \nL 345.324433 214.701548 \nL 349.684943 214.751144 \nL 349.684943 214.751144 \n\" style=\"fill:none;stroke:#1f77b4;stroke-linecap:square;stroke-width:1.5;\"/>\n   </g>\n   <g id=\"line2d_15\">\n    <path clip-path=\"url(#pe4d1aaef12)\" d=\"M 45.321307 23.821852 \nL 47.065511 55.000985 \nL 48.809715 80.787894 \nL 50.553919 103.122698 \nL 52.298124 122.524753 \nL 54.042328 138.500303 \nL 55.786532 151.990078 \nL 57.530736 163.307048 \nL 58.402838 168.070753 \nL 60.147043 175.79936 \nL 61.019145 178.906985 \nL 62.763349 183.993589 \nL 63.635451 186.104841 \nL 64.507553 187.822422 \nL 65.379655 189.247979 \nL 66.251757 190.415022 \nL 67.995962 192.077127 \nL 69.740166 193.231927 \nL 71.48437 194.0153 \nL 74.972779 195.052376 \nL 84.565902 197.276218 \nL 86.310106 197.648197 \nL 94.159025 199.259761 \nL 95.031127 199.404153 \nL 95.903229 199.673369 \nL 96.775331 199.812448 \nL 98.519536 200.351362 \nL 99.391638 200.437642 \nL 108.984761 202.567393 \nL 122.066292 205.069695 \nL 122.938395 205.110153 \nL 126.426803 205.702563 \nL 133.40362 206.689541 \nL 136.019926 206.915208 \nL 136.892028 207.111559 \nL 142.124641 207.547804 \nL 144.740947 207.809663 \nL 146.485152 207.868028 \nL 148.229356 208.054829 \nL 149.101458 208.03696 \nL 150.845662 208.261308 \nL 152.589866 208.300701 \nL 155.206173 208.486357 \nL 156.950377 208.586627 \nL 157.822479 208.699146 \nL 159.566683 208.678248 \nL 161.310887 208.855427 \nL 163.055092 208.873668 \nL 166.5435 209.088445 \nL 168.287704 209.168232 \nL 211.89281 210.569243 \nL 215.381218 210.608014 \nL 217.125422 210.690675 \nL 222.358035 210.779784 \nL 223.230137 210.913396 \nL 224.102239 210.914398 \nL 224.974341 210.79114 \nL 226.718546 210.978406 \nL 230.206954 211.003038 \nL 236.311669 211.20014 \nL 237.183771 211.100627 \nL 238.927975 211.265733 \nL 239.800077 211.199875 \nL 240.672179 211.296204 \nL 242.416384 211.166513 \nL 243.288486 211.309669 \nL 247.648996 211.361143 \nL 254.625813 211.492225 \nL 262.474732 211.658976 \nL 263.346834 211.59139 \nL 264.218936 211.71133 \nL 265.963141 211.630534 \nL 268.579447 211.799839 \nL 269.451549 211.699801 \nL 271.195753 211.760963 \nL 272.067855 211.681203 \nL 273.81206 211.820242 \nL 278.17257 211.782333 \nL 279.044672 211.908902 \nL 281.660979 211.870831 \nL 285.149387 211.891974 \nL 286.021489 212.002468 \nL 287.765693 211.976034 \nL 290.382 212.047946 \nL 291.254102 211.964076 \nL 292.998306 212.029714 \nL 299.103021 212.11132 \nL 300.847225 212.126773 \nL 301.719327 212.182022 \nL 302.591429 212.10634 \nL 303.463531 212.18807 \nL 305.207736 212.194857 \nL 311.31245 212.169579 \nL 312.184552 212.305034 \nL 317.417165 212.313151 \nL 323.52188 212.282578 \nL 325.266084 212.419648 \nL 326.138186 212.340211 \nL 327.88239 212.403706 \nL 339.219718 212.463762 \nL 340.963922 212.506046 \nL 346.196535 212.449446 \nL 347.068637 212.560296 \nL 349.684943 212.567934 \nL 349.684943 212.567934 \n\" style=\"fill:none;stroke:#ff7f0e;stroke-linecap:square;stroke-width:1.5;\"/>\n   </g>\n   <g id=\"patch_3\">\n    <path d=\"M 30.103125 224.64 \nL 30.103125 7.2 \n\" style=\"fill:none;stroke:#000000;stroke-linecap:square;stroke-linejoin:miter;stroke-width:0.8;\"/>\n   </g>\n   <g id=\"patch_4\">\n    <path d=\"M 364.903125 224.64 \nL 364.903125 7.2 \n\" style=\"fill:none;stroke:#000000;stroke-linecap:square;stroke-linejoin:miter;stroke-width:0.8;\"/>\n   </g>\n   <g id=\"patch_5\">\n    <path d=\"M 30.103125 224.64 \nL 364.903125 224.64 \n\" style=\"fill:none;stroke:#000000;stroke-linecap:square;stroke-linejoin:miter;stroke-width:0.8;\"/>\n   </g>\n   <g id=\"patch_6\">\n    <path d=\"M 30.103125 7.2 \nL 364.903125 7.2 \n\" style=\"fill:none;stroke:#000000;stroke-linecap:square;stroke-linejoin:miter;stroke-width:0.8;\"/>\n   </g>\n   <g id=\"legend_1\">\n    <g id=\"patch_7\">\n     <path d=\"M 302.628125 44.55625 \nL 357.903125 44.55625 \nQ 359.903125 44.55625 359.903125 42.55625 \nL 359.903125 14.2 \nQ 359.903125 12.2 357.903125 12.2 \nL 302.628125 12.2 \nQ 300.628125 12.2 300.628125 14.2 \nL 300.628125 42.55625 \nQ 300.628125 44.55625 302.628125 44.55625 \nz\n\" style=\"fill:#ffffff;opacity:0.8;stroke:#cccccc;stroke-linejoin:miter;\"/>\n    </g>\n    <g id=\"line2d_16\">\n     <path d=\"M 304.628125 20.298437 \nL 324.628125 20.298437 \n\" style=\"fill:none;stroke:#1f77b4;stroke-linecap:square;stroke-width:1.5;\"/>\n    </g>\n    <g id=\"line2d_17\"/>\n    <g id=\"text_14\">\n     <!-- train -->\n     <defs>\n      <path d=\"M 18.3125 70.21875 \nL 18.3125 54.6875 \nL 36.8125 54.6875 \nL 36.8125 47.703125 \nL 18.3125 47.703125 \nL 18.3125 18.015625 \nQ 18.3125 11.328125 20.140625 9.421875 \nQ 21.96875 7.515625 27.59375 7.515625 \nL 36.8125 7.515625 \nL 36.8125 0 \nL 27.59375 0 \nQ 17.1875 0 13.234375 3.875 \nQ 9.28125 7.765625 9.28125 18.015625 \nL 9.28125 47.703125 \nL 2.6875 47.703125 \nL 2.6875 54.6875 \nL 9.28125 54.6875 \nL 9.28125 70.21875 \nz\n\" id=\"DejaVuSans-116\"/>\n      <path d=\"M 41.109375 46.296875 \nQ 39.59375 47.171875 37.8125 47.578125 \nQ 36.03125 48 33.890625 48 \nQ 26.265625 48 22.1875 43.046875 \nQ 18.109375 38.09375 18.109375 28.8125 \nL 18.109375 0 \nL 9.078125 0 \nL 9.078125 54.6875 \nL 18.109375 54.6875 \nL 18.109375 46.1875 \nQ 20.953125 51.171875 25.484375 53.578125 \nQ 30.03125 56 36.53125 56 \nQ 37.453125 56 38.578125 55.875 \nQ 39.703125 55.765625 41.0625 55.515625 \nz\n\" id=\"DejaVuSans-114\"/>\n      <path d=\"M 34.28125 27.484375 \nQ 23.390625 27.484375 19.1875 25 \nQ 14.984375 22.515625 14.984375 16.5 \nQ 14.984375 11.71875 18.140625 8.90625 \nQ 21.296875 6.109375 26.703125 6.109375 \nQ 34.1875 6.109375 38.703125 11.40625 \nQ 43.21875 16.703125 43.21875 25.484375 \nL 43.21875 27.484375 \nz\nM 52.203125 31.203125 \nL 52.203125 0 \nL 43.21875 0 \nL 43.21875 8.296875 \nQ 40.140625 3.328125 35.546875 0.953125 \nQ 30.953125 -1.421875 24.3125 -1.421875 \nQ 15.921875 -1.421875 10.953125 3.296875 \nQ 6 8.015625 6 15.921875 \nQ 6 25.140625 12.171875 29.828125 \nQ 18.359375 34.515625 30.609375 34.515625 \nL 43.21875 34.515625 \nL 43.21875 35.40625 \nQ 43.21875 41.609375 39.140625 45 \nQ 35.0625 48.390625 27.6875 48.390625 \nQ 23 48.390625 18.546875 47.265625 \nQ 14.109375 46.140625 10.015625 43.890625 \nL 10.015625 52.203125 \nQ 14.9375 54.109375 19.578125 55.046875 \nQ 24.21875 56 28.609375 56 \nQ 40.484375 56 46.34375 49.84375 \nQ 52.203125 43.703125 52.203125 31.203125 \nz\n\" id=\"DejaVuSans-97\"/>\n      <path d=\"M 9.421875 54.6875 \nL 18.40625 54.6875 \nL 18.40625 0 \nL 9.421875 0 \nz\nM 9.421875 75.984375 \nL 18.40625 75.984375 \nL 18.40625 64.59375 \nL 9.421875 64.59375 \nz\n\" id=\"DejaVuSans-105\"/>\n      <path d=\"M 54.890625 33.015625 \nL 54.890625 0 \nL 45.90625 0 \nL 45.90625 32.71875 \nQ 45.90625 40.484375 42.875 44.328125 \nQ 39.84375 48.1875 33.796875 48.1875 \nQ 26.515625 48.1875 22.3125 43.546875 \nQ 18.109375 38.921875 18.109375 30.90625 \nL 18.109375 0 \nL 9.078125 0 \nL 9.078125 54.6875 \nL 18.109375 54.6875 \nL 18.109375 46.1875 \nQ 21.34375 51.125 25.703125 53.5625 \nQ 30.078125 56 35.796875 56 \nQ 45.21875 56 50.046875 50.171875 \nQ 54.890625 44.34375 54.890625 33.015625 \nz\n\" id=\"DejaVuSans-110\"/>\n     </defs>\n     <g transform=\"translate(332.628125 23.798437)scale(0.1 -0.1)\">\n      <use xlink:href=\"#DejaVuSans-116\"/>\n      <use x=\"39.208984\" xlink:href=\"#DejaVuSans-114\"/>\n      <use x=\"80.322266\" xlink:href=\"#DejaVuSans-97\"/>\n      <use x=\"141.601562\" xlink:href=\"#DejaVuSans-105\"/>\n      <use x=\"169.384766\" xlink:href=\"#DejaVuSans-110\"/>\n     </g>\n    </g>\n    <g id=\"line2d_18\">\n     <path d=\"M 304.628125 34.976562 \nL 324.628125 34.976562 \n\" style=\"fill:none;stroke:#ff7f0e;stroke-linecap:square;stroke-width:1.5;\"/>\n    </g>\n    <g id=\"line2d_19\"/>\n    <g id=\"text_15\">\n     <!-- val -->\n     <defs>\n      <path d=\"M 2.984375 54.6875 \nL 12.5 54.6875 \nL 29.59375 8.796875 \nL 46.6875 54.6875 \nL 56.203125 54.6875 \nL 35.6875 0 \nL 23.484375 0 \nz\n\" id=\"DejaVuSans-118\"/>\n      <path d=\"M 9.421875 75.984375 \nL 18.40625 75.984375 \nL 18.40625 0 \nL 9.421875 0 \nz\n\" id=\"DejaVuSans-108\"/>\n     </defs>\n     <g transform=\"translate(332.628125 38.476562)scale(0.1 -0.1)\">\n      <use xlink:href=\"#DejaVuSans-118\"/>\n      <use x=\"59.179688\" xlink:href=\"#DejaVuSans-97\"/>\n      <use x=\"120.458984\" xlink:href=\"#DejaVuSans-108\"/>\n     </g>\n    </g>\n   </g>\n  </g>\n </g>\n <defs>\n  <clipPath id=\"pe4d1aaef12\">\n   <rect height=\"217.44\" width=\"334.8\" x=\"30.103125\" y=\"7.2\"/>\n  </clipPath>\n </defs>\n</svg>\n",
            "image/png": "[encoded data removed]"
          },
          "metadata": {
            "needs_background": "light"
          }
        }
      ],
      "source": [
        "plt.plot(hp_model.history['loss'],label='loss')\n",
        "plt.plot(hp_model.history['val_loss'],label='val_loss')\n",
        "plt.legend(['train','val'])"
      ]
    },
    {
      "cell_type": "code",
      "execution_count": 19,
      "metadata": {},
      "outputs": [
        {
          "output_type": "execute_result",
          "data": {
            "text/plain": "&lt;matplotlib.legend.Legend at 0x7fbfaffe3ac0&gt;"
          },
          "metadata": {},
          "execution_count": 19
        },
        {
          "output_type": "display_data",
          "data": {
            "text/plain": "&lt;Figure size 432x288 with 1 Axes&gt;",
            "image/svg+xml": "<?xml version=\"1.0\" encoding=\"utf-8\" standalone=\"no\"?>\n<!DOCTYPE svg PUBLIC \"-//W3C//DTD SVG 1.1//EN\"\n  \"http://www.w3.org/Graphics/SVG/1.1/DTD/svg11.dtd\">\n<!-- Created with matplotlib (https://matplotlib.org/) -->\n<svg height=\"248.518125pt\" version=\"1.1\" viewBox=\"0 0 372.103125 248.518125\" width=\"372.103125pt\" xmlns=\"http://www.w3.org/2000/svg\" xmlns:xlink=\"http://www.w3.org/1999/xlink\">\n <defs>\n  <style type=\"text/css\">\n*{stroke-linecap:butt;stroke-linejoin:round;}\n  </style>\n </defs>\n <g id=\"figure_1\">\n  <g id=\"patch_1\">\n   <path d=\"M 0 248.518125 \nL 372.103125 248.518125 \nL 372.103125 0 \nL 0 0 \nz\n\" style=\"fill:none;\"/>\n  </g>\n  <g id=\"axes_1\">\n   <g id=\"patch_2\">\n    <path d=\"M 30.103125 224.64 \nL 364.903125 224.64 \nL 364.903125 7.2 \nL 30.103125 7.2 \nz\n\" style=\"fill:#ffffff;\"/>\n   </g>\n   <g id=\"matplotlib.axis_1\">\n    <g id=\"xtick_1\">\n     <g id=\"line2d_1\">\n      <defs>\n       <path d=\"M 0 0 \nL 0 3.5 \n\" id=\"m608f08fb43\" style=\"stroke:#000000;stroke-width:0.8;\"/>\n      </defs>\n      <g>\n       <use style=\"stroke:#000000;stroke-width:0.8;\" x=\"45.321307\" xlink:href=\"#m608f08fb43\" y=\"224.64\"/>\n      </g>\n     </g>\n     <g id=\"text_1\">\n      <!-- 0 -->\n      <defs>\n       <path d=\"M 31.78125 66.40625 \nQ 24.171875 66.40625 20.328125 58.90625 \nQ 16.5 51.421875 16.5 36.375 \nQ 16.5 21.390625 20.328125 13.890625 \nQ 24.171875 6.390625 31.78125 6.390625 \nQ 39.453125 6.390625 43.28125 13.890625 \nQ 47.125 21.390625 47.125 36.375 \nQ 47.125 51.421875 43.28125 58.90625 \nQ 39.453125 66.40625 31.78125 66.40625 \nz\nM 31.78125 74.21875 \nQ 44.046875 74.21875 50.515625 64.515625 \nQ 56.984375 54.828125 56.984375 36.375 \nQ 56.984375 17.96875 50.515625 8.265625 \nQ 44.046875 -1.421875 31.78125 -1.421875 \nQ 19.53125 -1.421875 13.0625 8.265625 \nQ 6.59375 17.96875 6.59375 36.375 \nQ 6.59375 54.828125 13.0625 64.515625 \nQ 19.53125 74.21875 31.78125 74.21875 \nz\n\" id=\"DejaVuSans-48\"/>\n      </defs>\n      <g transform=\"translate(42.140057 239.238437)scale(0.1 -0.1)\">\n       <use xlink:href=\"#DejaVuSans-48\"/>\n      </g>\n     </g>\n    </g>\n    <g id=\"xtick_2\">\n     <g id=\"line2d_2\">\n      <g>\n       <use style=\"stroke:#000000;stroke-width:0.8;\" x=\"88.926412\" xlink:href=\"#m608f08fb43\" y=\"224.64\"/>\n      </g>\n     </g>\n     <g id=\"text_2\">\n      <!-- 50 -->\n      <defs>\n       <path d=\"M 10.796875 72.90625 \nL 49.515625 72.90625 \nL 49.515625 64.59375 \nL 19.828125 64.59375 \nL 19.828125 46.734375 \nQ 21.96875 47.46875 24.109375 47.828125 \nQ 26.265625 48.1875 28.421875 48.1875 \nQ 40.625 48.1875 47.75 41.5 \nQ 54.890625 34.8125 54.890625 23.390625 \nQ 54.890625 11.625 47.5625 5.09375 \nQ 40.234375 -1.421875 26.90625 -1.421875 \nQ 22.3125 -1.421875 17.546875 -0.640625 \nQ 12.796875 0.140625 7.71875 1.703125 \nL 7.71875 11.625 \nQ 12.109375 9.234375 16.796875 8.0625 \nQ 21.484375 6.890625 26.703125 6.890625 \nQ 35.15625 6.890625 40.078125 11.328125 \nQ 45.015625 15.765625 45.015625 23.390625 \nQ 45.015625 31 40.078125 35.4375 \nQ 35.15625 39.890625 26.703125 39.890625 \nQ 22.75 39.890625 18.8125 39.015625 \nQ 14.890625 38.140625 10.796875 36.28125 \nz\n\" id=\"DejaVuSans-53\"/>\n      </defs>\n      <g transform=\"translate(82.563912 239.238437)scale(0.1 -0.1)\">\n       <use xlink:href=\"#DejaVuSans-53\"/>\n       <use x=\"63.623047\" xlink:href=\"#DejaVuSans-48\"/>\n      </g>\n     </g>\n    </g>\n    <g id=\"xtick_3\">\n     <g id=\"line2d_3\">\n      <g>\n       <use style=\"stroke:#000000;stroke-width:0.8;\" x=\"132.531518\" xlink:href=\"#m608f08fb43\" y=\"224.64\"/>\n      </g>\n     </g>\n     <g id=\"text_3\">\n      <!-- 100 -->\n      <defs>\n       <path d=\"M 12.40625 8.296875 \nL 28.515625 8.296875 \nL 28.515625 63.921875 \nL 10.984375 60.40625 \nL 10.984375 69.390625 \nL 28.421875 72.90625 \nL 38.28125 72.90625 \nL 38.28125 8.296875 \nL 54.390625 8.296875 \nL 54.390625 0 \nL 12.40625 0 \nz\n\" id=\"DejaVuSans-49\"/>\n      </defs>\n      <g transform=\"translate(122.987768 239.238437)scale(0.1 -0.1)\">\n       <use xlink:href=\"#DejaVuSans-49\"/>\n       <use x=\"63.623047\" xlink:href=\"#DejaVuSans-48\"/>\n       <use x=\"127.246094\" xlink:href=\"#DejaVuSans-48\"/>\n      </g>\n     </g>\n    </g>\n    <g id=\"xtick_4\">\n     <g id=\"line2d_4\">\n      <g>\n       <use style=\"stroke:#000000;stroke-width:0.8;\" x=\"176.136623\" xlink:href=\"#m608f08fb43\" y=\"224.64\"/>\n      </g>\n     </g>\n     <g id=\"text_4\">\n      <!-- 150 -->\n      <g transform=\"translate(166.592873 239.238437)scale(0.1 -0.1)\">\n       <use xlink:href=\"#DejaVuSans-49\"/>\n       <use x=\"63.623047\" xlink:href=\"#DejaVuSans-53\"/>\n       <use x=\"127.246094\" xlink:href=\"#DejaVuSans-48\"/>\n      </g>\n     </g>\n    </g>\n    <g id=\"xtick_5\">\n     <g id=\"line2d_5\">\n      <g>\n       <use style=\"stroke:#000000;stroke-width:0.8;\" x=\"219.741729\" xlink:href=\"#m608f08fb43\" y=\"224.64\"/>\n      </g>\n     </g>\n     <g id=\"text_5\">\n      <!-- 200 -->\n      <defs>\n       <path d=\"M 19.1875 8.296875 \nL 53.609375 8.296875 \nL 53.609375 0 \nL 7.328125 0 \nL 7.328125 8.296875 \nQ 12.9375 14.109375 22.625 23.890625 \nQ 32.328125 33.6875 34.8125 36.53125 \nQ 39.546875 41.84375 41.421875 45.53125 \nQ 43.3125 49.21875 43.3125 52.78125 \nQ 43.3125 58.59375 39.234375 62.25 \nQ 35.15625 65.921875 28.609375 65.921875 \nQ 23.96875 65.921875 18.8125 64.3125 \nQ 13.671875 62.703125 7.8125 59.421875 \nL 7.8125 69.390625 \nQ 13.765625 71.78125 18.9375 73 \nQ 24.125 74.21875 28.421875 74.21875 \nQ 39.75 74.21875 46.484375 68.546875 \nQ 53.21875 62.890625 53.21875 53.421875 \nQ 53.21875 48.921875 51.53125 44.890625 \nQ 49.859375 40.875 45.40625 35.40625 \nQ 44.1875 33.984375 37.640625 27.21875 \nQ 31.109375 20.453125 19.1875 8.296875 \nz\n\" id=\"DejaVuSans-50\"/>\n      </defs>\n      <g transform=\"translate(210.197979 239.238437)scale(0.1 -0.1)\">\n       <use xlink:href=\"#DejaVuSans-50\"/>\n       <use x=\"63.623047\" xlink:href=\"#DejaVuSans-48\"/>\n       <use x=\"127.246094\" xlink:href=\"#DejaVuSans-48\"/>\n      </g>\n     </g>\n    </g>\n    <g id=\"xtick_6\">\n     <g id=\"line2d_6\">\n      <g>\n       <use style=\"stroke:#000000;stroke-width:0.8;\" x=\"263.346834\" xlink:href=\"#m608f08fb43\" y=\"224.64\"/>\n      </g>\n     </g>\n     <g id=\"text_6\">\n      <!-- 250 -->\n      <g transform=\"translate(253.803084 239.238437)scale(0.1 -0.1)\">\n       <use xlink:href=\"#DejaVuSans-50\"/>\n       <use x=\"63.623047\" xlink:href=\"#DejaVuSans-53\"/>\n       <use x=\"127.246094\" xlink:href=\"#DejaVuSans-48\"/>\n      </g>\n     </g>\n    </g>\n    <g id=\"xtick_7\">\n     <g id=\"line2d_7\">\n      <g>\n       <use style=\"stroke:#000000;stroke-width:0.8;\" x=\"306.95194\" xlink:href=\"#m608f08fb43\" y=\"224.64\"/>\n      </g>\n     </g>\n     <g id=\"text_7\">\n      <!-- 300 -->\n      <defs>\n       <path d=\"M 40.578125 39.3125 \nQ 47.65625 37.796875 51.625 33 \nQ 55.609375 28.21875 55.609375 21.1875 \nQ 55.609375 10.40625 48.1875 4.484375 \nQ 40.765625 -1.421875 27.09375 -1.421875 \nQ 22.515625 -1.421875 17.65625 -0.515625 \nQ 12.796875 0.390625 7.625 2.203125 \nL 7.625 11.71875 \nQ 11.71875 9.328125 16.59375 8.109375 \nQ 21.484375 6.890625 26.8125 6.890625 \nQ 36.078125 6.890625 40.9375 10.546875 \nQ 45.796875 14.203125 45.796875 21.1875 \nQ 45.796875 27.640625 41.28125 31.265625 \nQ 36.765625 34.90625 28.71875 34.90625 \nL 20.21875 34.90625 \nL 20.21875 43.015625 \nL 29.109375 43.015625 \nQ 36.375 43.015625 40.234375 45.921875 \nQ 44.09375 48.828125 44.09375 54.296875 \nQ 44.09375 59.90625 40.109375 62.90625 \nQ 36.140625 65.921875 28.71875 65.921875 \nQ 24.65625 65.921875 20.015625 65.03125 \nQ 15.375 64.15625 9.8125 62.3125 \nL 9.8125 71.09375 \nQ 15.4375 72.65625 20.34375 73.4375 \nQ 25.25 74.21875 29.59375 74.21875 \nQ 40.828125 74.21875 47.359375 69.109375 \nQ 53.90625 64.015625 53.90625 55.328125 \nQ 53.90625 49.265625 50.4375 45.09375 \nQ 46.96875 40.921875 40.578125 39.3125 \nz\n\" id=\"DejaVuSans-51\"/>\n      </defs>\n      <g transform=\"translate(297.40819 239.238437)scale(0.1 -0.1)\">\n       <use xlink:href=\"#DejaVuSans-51\"/>\n       <use x=\"63.623047\" xlink:href=\"#DejaVuSans-48\"/>\n       <use x=\"127.246094\" xlink:href=\"#DejaVuSans-48\"/>\n      </g>\n     </g>\n    </g>\n    <g id=\"xtick_8\">\n     <g id=\"line2d_8\">\n      <g>\n       <use style=\"stroke:#000000;stroke-width:0.8;\" x=\"350.557045\" xlink:href=\"#m608f08fb43\" y=\"224.64\"/>\n      </g>\n     </g>\n     <g id=\"text_8\">\n      <!-- 350 -->\n      <g transform=\"translate(341.013295 239.238437)scale(0.1 -0.1)\">\n       <use xlink:href=\"#DejaVuSans-51\"/>\n       <use x=\"63.623047\" xlink:href=\"#DejaVuSans-53\"/>\n       <use x=\"127.246094\" xlink:href=\"#DejaVuSans-48\"/>\n      </g>\n     </g>\n    </g>\n   </g>\n   <g id=\"matplotlib.axis_2\">\n    <g id=\"ytick_1\">\n     <g id=\"line2d_9\">\n      <defs>\n       <path d=\"M 0 0 \nL -3.5 0 \n\" id=\"mdb3841aaa2\" style=\"stroke:#000000;stroke-width:0.8;\"/>\n      </defs>\n      <g>\n       <use style=\"stroke:#000000;stroke-width:0.8;\" x=\"30.103125\" xlink:href=\"#mdb3841aaa2\" y=\"214.756364\"/>\n      </g>\n     </g>\n     <g id=\"text_9\">\n      <!-- 0.0 -->\n      <defs>\n       <path d=\"M 10.6875 12.40625 \nL 21 12.40625 \nL 21 0 \nL 10.6875 0 \nz\n\" id=\"DejaVuSans-46\"/>\n      </defs>\n      <g transform=\"translate(7.2 218.555582)scale(0.1 -0.1)\">\n       <use xlink:href=\"#DejaVuSans-48\"/>\n       <use x=\"63.623047\" xlink:href=\"#DejaVuSans-46\"/>\n       <use x=\"95.410156\" xlink:href=\"#DejaVuSans-48\"/>\n      </g>\n     </g>\n    </g>\n    <g id=\"ytick_2\">\n     <g id=\"line2d_10\">\n      <g>\n       <use style=\"stroke:#000000;stroke-width:0.8;\" x=\"30.103125\" xlink:href=\"#mdb3841aaa2\" y=\"166.985456\"/>\n      </g>\n     </g>\n     <g id=\"text_10\">\n      <!-- 0.1 -->\n      <g transform=\"translate(7.2 170.784675)scale(0.1 -0.1)\">\n       <use xlink:href=\"#DejaVuSans-48\"/>\n       <use x=\"63.623047\" xlink:href=\"#DejaVuSans-46\"/>\n       <use x=\"95.410156\" xlink:href=\"#DejaVuSans-49\"/>\n      </g>\n     </g>\n    </g>\n    <g id=\"ytick_3\">\n     <g id=\"line2d_11\">\n      <g>\n       <use style=\"stroke:#000000;stroke-width:0.8;\" x=\"30.103125\" xlink:href=\"#mdb3841aaa2\" y=\"119.214549\"/>\n      </g>\n     </g>\n     <g id=\"text_11\">\n      <!-- 0.2 -->\n      <g transform=\"translate(7.2 123.013767)scale(0.1 -0.1)\">\n       <use xlink:href=\"#DejaVuSans-48\"/>\n       <use x=\"63.623047\" xlink:href=\"#DejaVuSans-46\"/>\n       <use x=\"95.410156\" xlink:href=\"#DejaVuSans-50\"/>\n      </g>\n     </g>\n    </g>\n    <g id=\"ytick_4\">\n     <g id=\"line2d_12\">\n      <g>\n       <use style=\"stroke:#000000;stroke-width:0.8;\" x=\"30.103125\" xlink:href=\"#mdb3841aaa2\" y=\"71.443641\"/>\n      </g>\n     </g>\n     <g id=\"text_12\">\n      <!-- 0.3 -->\n      <g transform=\"translate(7.2 75.24286)scale(0.1 -0.1)\">\n       <use xlink:href=\"#DejaVuSans-48\"/>\n       <use x=\"63.623047\" xlink:href=\"#DejaVuSans-46\"/>\n       <use x=\"95.410156\" xlink:href=\"#DejaVuSans-51\"/>\n      </g>\n     </g>\n    </g>\n    <g id=\"ytick_5\">\n     <g id=\"line2d_13\">\n      <g>\n       <use style=\"stroke:#000000;stroke-width:0.8;\" x=\"30.103125\" xlink:href=\"#mdb3841aaa2\" y=\"23.672733\"/>\n      </g>\n     </g>\n     <g id=\"text_13\">\n      <!-- 0.4 -->\n      <defs>\n       <path d=\"M 37.796875 64.3125 \nL 12.890625 25.390625 \nL 37.796875 25.390625 \nz\nM 35.203125 72.90625 \nL 47.609375 72.90625 \nL 47.609375 25.390625 \nL 58.015625 25.390625 \nL 58.015625 17.1875 \nL 47.609375 17.1875 \nL 47.609375 0 \nL 37.796875 0 \nL 37.796875 17.1875 \nL 4.890625 17.1875 \nL 4.890625 26.703125 \nz\n\" id=\"DejaVuSans-52\"/>\n      </defs>\n      <g transform=\"translate(7.2 27.471952)scale(0.1 -0.1)\">\n       <use xlink:href=\"#DejaVuSans-48\"/>\n       <use x=\"63.623047\" xlink:href=\"#DejaVuSans-46\"/>\n       <use x=\"95.410156\" xlink:href=\"#DejaVuSans-52\"/>\n      </g>\n     </g>\n    </g>\n   </g>\n   <g id=\"line2d_14\">\n    <path clip-path=\"url(#p67546bc679)\" d=\"M 45.321307 214.756364 \nL 62.763349 214.756364 \nL 63.635451 210.602372 \nL 64.507553 202.294388 \nL 65.379655 198.140397 \nL 67.995962 198.140397 \nL 68.868064 196.0634 \nL 70.612268 196.0634 \nL 72.356472 200.217392 \nL 73.228574 204.371384 \nL 74.100676 206.44838 \nL 74.972779 212.679368 \nL 75.844881 214.756364 \nL 107.240557 214.756364 \nL 108.112659 212.679368 \nL 108.984761 212.679368 \nL 109.856863 210.602372 \nL 110.728965 206.44838 \nL 144.740947 206.44838 \nL 145.613049 204.371384 \nL 146.485152 206.44838 \nL 148.229356 206.44838 \nL 149.101458 204.371384 \nL 149.97356 206.44838 \nL 151.717764 206.44838 \nL 152.589866 204.371384 \nL 153.461968 204.371384 \nL 154.334071 206.44838 \nL 155.206173 206.44838 \nL 156.078275 204.371384 \nL 158.694581 204.371384 \nL 159.566683 181.524429 \nL 160.438785 187.755416 \nL 161.310887 202.294388 \nL 162.18299 166.985455 \nL 163.055092 148.292495 \nL 163.927194 154.523483 \nL 164.799296 152.446485 \nL 165.671398 158.677473 \nL 166.5435 158.677473 \nL 167.415602 125.445535 \nL 168.287704 125.445535 \nL 169.159806 131.676523 \nL 170.904011 131.676523 \nL 171.776113 115.060558 \nL 172.648215 110.906568 \nL 173.520317 115.060558 \nL 174.392419 123.368544 \nL 175.264521 110.906568 \nL 176.136623 90.136606 \nL 177.008725 79.751629 \nL 177.880828 77.67463 \nL 179.625032 81.828627 \nL 180.497134 77.67463 \nL 182.241338 77.67463 \nL 183.11344 81.828627 \nL 183.985542 79.751629 \nL 184.857644 75.597632 \nL 185.729747 73.520634 \nL 186.601849 75.597632 \nL 187.473951 83.905611 \nL 188.346053 77.67463 \nL 190.090257 73.520634 \nL 190.962359 69.366651 \nL 191.834461 75.597632 \nL 192.706563 73.520634 \nL 193.578666 75.597632 \nL 195.32287 67.289653 \nL 196.194972 75.597632 \nL 197.939176 71.443635 \nL 199.68338 71.443635 \nL 201.427584 67.289653 \nL 202.299687 69.366651 \nL 203.171789 69.366651 \nL 204.043891 67.289653 \nL 204.915993 71.443635 \nL 205.788095 73.520634 \nL 206.660197 69.366651 \nL 207.532299 69.366651 \nL 208.404401 71.443635 \nL 209.276503 69.366651 \nL 210.148606 69.366651 \nL 211.020708 71.443635 \nL 211.89281 67.289653 \nL 212.764912 67.289653 \nL 213.637014 69.366651 \nL 214.509116 69.366651 \nL 215.381218 67.289653 \nL 216.25332 69.366651 \nL 217.125422 67.289653 \nL 217.997525 69.366651 \nL 218.869627 63.135656 \nL 219.741729 67.289653 \nL 220.613831 69.366651 \nL 221.485933 69.366651 \nL 222.358035 65.212655 \nL 223.230137 67.289653 \nL 224.102239 67.289653 \nL 225.846444 63.135656 \nL 226.718546 65.212655 \nL 227.590648 63.135656 \nL 228.46275 69.366651 \nL 229.334852 67.289653 \nL 230.206954 61.058658 \nL 231.079056 63.135656 \nL 231.951158 61.058658 \nL 232.82326 61.058658 \nL 233.695363 65.212655 \nL 235.439567 61.058658 \nL 236.311669 65.212655 \nL 237.183771 65.212655 \nL 238.055873 67.289653 \nL 238.927975 67.289653 \nL 239.800077 65.212655 \nL 240.672179 61.058658 \nL 241.544282 58.98166 \nL 243.288486 58.98166 \nL 244.160588 63.135656 \nL 245.03269 61.058658 \nL 245.904792 65.212655 \nL 247.648996 65.212655 \nL 248.521098 61.058658 \nL 250.265303 61.058658 \nL 251.137405 63.135656 \nL 252.009507 61.058658 \nL 252.881609 63.135656 \nL 253.753711 56.904675 \nL 254.625813 56.904675 \nL 255.497915 61.058658 \nL 256.370017 58.98166 \nL 257.24212 58.98166 \nL 258.986324 63.135656 \nL 259.858426 63.135656 \nL 260.730528 61.058658 \nL 262.474732 61.058658 \nL 263.346834 56.904675 \nL 265.091039 56.904675 \nL 266.835243 61.058658 \nL 267.707345 56.904675 \nL 268.579447 67.289653 \nL 269.451549 67.289653 \nL 271.195753 58.98166 \nL 272.067855 63.135656 \nL 272.939958 61.058658 \nL 273.81206 63.135656 \nL 275.556264 63.135656 \nL 276.428366 58.98166 \nL 277.300468 61.058658 \nL 278.17257 56.904675 \nL 279.044672 61.058658 \nL 279.916774 63.135656 \nL 280.788876 56.904675 \nL 281.660979 56.904675 \nL 283.405183 61.058658 \nL 284.277285 58.98166 \nL 285.149387 58.98166 \nL 286.021489 63.135656 \nL 286.893591 61.058658 \nL 287.765693 63.135656 \nL 289.509898 58.98166 \nL 290.382 61.058658 \nL 291.254102 61.058658 \nL 292.126204 54.827677 \nL 292.998306 56.904675 \nL 293.870408 56.904675 \nL 294.74251 58.98166 \nL 295.614612 58.98166 \nL 296.486714 50.67368 \nL 297.358817 56.904675 \nL 298.230919 65.212655 \nL 299.103021 61.058658 \nL 299.975123 58.98166 \nL 300.847225 61.058658 \nL 301.719327 61.058658 \nL 302.591429 56.904675 \nL 304.335633 65.212655 \nL 306.079838 56.904675 \nL 306.95194 63.135656 \nL 307.824042 58.98166 \nL 309.568246 58.98166 \nL 310.440348 61.058658 \nL 311.31245 61.058658 \nL 312.184552 63.135656 \nL 313.056655 69.366651 \nL 313.928757 56.904675 \nL 314.800859 56.904675 \nL 315.672961 61.058658 \nL 316.545063 52.750679 \nL 317.417165 61.058658 \nL 319.161369 56.904675 \nL 320.033471 65.212655 \nL 320.905574 50.67368 \nL 322.649778 58.98166 \nL 323.52188 56.904675 \nL 324.393982 58.98166 \nL 325.266084 69.366651 \nL 326.138186 54.827677 \nL 327.010288 54.827677 \nL 327.88239 63.135656 \nL 328.754493 67.289653 \nL 329.626595 54.827677 \nL 330.498697 69.366651 \nL 331.370799 56.904675 \nL 332.242901 50.67368 \nL 333.115003 61.058658 \nL 334.859207 56.904675 \nL 335.731309 61.058658 \nL 336.603412 61.058658 \nL 337.475514 58.98166 \nL 338.347616 67.289653 \nL 339.219718 56.904675 \nL 340.09182 56.904675 \nL 340.963922 67.289653 \nL 341.836024 54.827677 \nL 342.708126 61.058658 \nL 344.452331 56.904675 \nL 345.324433 58.98166 \nL 346.196535 58.98166 \nL 347.068637 52.750679 \nL 348.812841 65.212655 \nL 349.684943 65.212655 \nL 349.684943 65.212655 \n\" style=\"fill:none;stroke:#1f77b4;stroke-linecap:square;stroke-width:1.5;\"/>\n   </g>\n   <g id=\"line2d_15\">\n    <path clip-path=\"url(#p67546bc679)\" d=\"M 45.321307 214.756364 \nL 63.635451 214.756364 \nL 64.507553 206.52 \nL 67.995962 206.52 \nL 68.868064 198.283637 \nL 69.740166 198.283637 \nL 70.612268 206.52 \nL 73.228574 206.52 \nL 74.100676 214.756364 \nL 91.542719 214.756364 \nL 92.414821 206.52 \nL 93.286923 214.756364 \nL 94.159025 214.756364 \nL 95.031127 206.52 \nL 95.903229 214.756364 \nL 96.775331 206.52 \nL 97.647433 206.52 \nL 98.519536 214.756364 \nL 99.391638 206.52 \nL 100.26374 206.52 \nL 101.135842 214.756364 \nL 102.007944 206.52 \nL 102.880046 206.52 \nL 103.752148 214.756364 \nL 104.62425 206.52 \nL 106.368455 206.52 \nL 107.240557 214.756364 \nL 108.984761 214.756364 \nL 109.856863 206.52 \nL 111.601067 206.52 \nL 112.473169 214.756364 \nL 113.345271 214.756364 \nL 114.217374 206.52 \nL 158.694581 206.52 \nL 159.566683 173.574546 \nL 160.438785 206.52 \nL 161.310887 198.283637 \nL 162.18299 157.101821 \nL 163.055092 148.865457 \nL 163.927194 173.574546 \nL 164.799296 165.338182 \nL 165.671398 173.574546 \nL 166.5435 148.865457 \nL 167.415602 115.92 \nL 168.287704 148.865457 \nL 169.159806 165.338182 \nL 170.904011 148.865457 \nL 171.776113 107.683639 \nL 172.648215 115.92 \nL 173.520317 107.683639 \nL 174.392419 124.156368 \nL 175.264521 107.683639 \nL 176.136623 74.738182 \nL 177.008725 66.501829 \nL 177.880828 33.556372 \nL 178.75293 74.738182 \nL 179.625032 74.738182 \nL 180.497134 58.265461 \nL 181.369236 66.501829 \nL 182.241338 33.556372 \nL 183.11344 74.738182 \nL 183.985542 41.79274 \nL 184.857644 33.556372 \nL 185.729747 33.556372 \nL 186.601849 41.79274 \nL 187.473951 74.738182 \nL 188.346053 33.556372 \nL 197.939176 33.556372 \nL 198.811278 25.320004 \nL 199.68338 33.556372 \nL 200.555482 33.556372 \nL 201.427584 25.320004 \nL 202.299687 33.556372 \nL 203.171789 25.320004 \nL 204.043891 25.320004 \nL 204.915993 33.556372 \nL 205.788095 17.083636 \nL 206.660197 25.320004 \nL 208.404401 25.320004 \nL 209.276503 17.083636 \nL 210.148606 17.083636 \nL 211.020708 25.320004 \nL 211.89281 17.083636 \nL 212.764912 25.320004 \nL 213.637014 25.320004 \nL 214.509116 17.083636 \nL 215.381218 25.320004 \nL 216.25332 17.083636 \nL 217.125422 17.083636 \nL 217.997525 25.320004 \nL 218.869627 17.083636 \nL 221.485933 17.083636 \nL 222.358035 25.320004 \nL 223.230137 25.320004 \nL 224.102239 17.083636 \nL 227.590648 17.083636 \nL 228.46275 25.320004 \nL 229.334852 17.083636 \nL 268.579447 17.083636 \nL 269.451549 25.320004 \nL 270.323651 25.320004 \nL 271.195753 17.083636 \nL 272.939958 17.083636 \nL 273.81206 25.320004 \nL 274.684162 25.320004 \nL 275.556264 17.083636 \nL 277.300468 17.083636 \nL 278.17257 25.320004 \nL 279.044672 17.083636 \nL 286.893591 17.083636 \nL 287.765693 25.320004 \nL 288.637795 17.083636 \nL 289.509898 17.083636 \nL 290.382 25.320004 \nL 291.254102 25.320004 \nL 292.126204 17.083636 \nL 297.358817 17.083636 \nL 298.230919 25.320004 \nL 299.103021 17.083636 \nL 299.975123 17.083636 \nL 300.847225 25.320004 \nL 301.719327 17.083636 \nL 302.591429 17.083636 \nL 303.463531 25.320004 \nL 304.335633 25.320004 \nL 305.207736 17.083636 \nL 306.079838 25.320004 \nL 306.95194 17.083636 \nL 307.824042 17.083636 \nL 308.696144 25.320004 \nL 309.568246 17.083636 \nL 310.440348 25.320004 \nL 311.31245 17.083636 \nL 318.289267 17.083636 \nL 319.161369 25.320004 \nL 320.033471 17.083636 \nL 320.905574 17.083636 \nL 321.777676 25.320004 \nL 322.649778 17.083636 \nL 324.393982 17.083636 \nL 325.266084 25.320004 \nL 326.138186 17.083636 \nL 327.010288 17.083636 \nL 327.88239 25.320004 \nL 328.754493 17.083636 \nL 330.498697 17.083636 \nL 331.370799 33.556372 \nL 332.242901 17.083636 \nL 333.115003 33.556372 \nL 334.859207 17.083636 \nL 335.731309 17.083636 \nL 336.603412 33.556372 \nL 337.475514 17.083636 \nL 338.347616 25.320004 \nL 339.219718 25.320004 \nL 340.09182 17.083636 \nL 340.963922 41.79274 \nL 341.836024 17.083636 \nL 342.708126 17.083636 \nL 343.580228 33.556372 \nL 344.452331 33.556372 \nL 346.196535 17.083636 \nL 347.068637 17.083636 \nL 347.940739 33.556372 \nL 348.812841 41.79274 \nL 349.684943 33.556372 \nL 349.684943 33.556372 \n\" style=\"fill:none;stroke:#ff7f0e;stroke-linecap:square;stroke-width:1.5;\"/>\n   </g>\n   <g id=\"patch_3\">\n    <path d=\"M 30.103125 224.64 \nL 30.103125 7.2 \n\" style=\"fill:none;stroke:#000000;stroke-linecap:square;stroke-linejoin:miter;stroke-width:0.8;\"/>\n   </g>\n   <g id=\"patch_4\">\n    <path d=\"M 364.903125 224.64 \nL 364.903125 7.2 \n\" style=\"fill:none;stroke:#000000;stroke-linecap:square;stroke-linejoin:miter;stroke-width:0.8;\"/>\n   </g>\n   <g id=\"patch_5\">\n    <path d=\"M 30.103125 224.64 \nL 364.903125 224.64 \n\" style=\"fill:none;stroke:#000000;stroke-linecap:square;stroke-linejoin:miter;stroke-width:0.8;\"/>\n   </g>\n   <g id=\"patch_6\">\n    <path d=\"M 30.103125 7.2 \nL 364.903125 7.2 \n\" style=\"fill:none;stroke:#000000;stroke-linecap:square;stroke-linejoin:miter;stroke-width:0.8;\"/>\n   </g>\n   <g id=\"legend_1\">\n    <g id=\"patch_7\">\n     <path d=\"M 37.103125 44.55625 \nL 92.378125 44.55625 \nQ 94.378125 44.55625 94.378125 42.55625 \nL 94.378125 14.2 \nQ 94.378125 12.2 92.378125 12.2 \nL 37.103125 12.2 \nQ 35.103125 12.2 35.103125 14.2 \nL 35.103125 42.55625 \nQ 35.103125 44.55625 37.103125 44.55625 \nz\n\" style=\"fill:#ffffff;opacity:0.8;stroke:#cccccc;stroke-linejoin:miter;\"/>\n    </g>\n    <g id=\"line2d_16\">\n     <path d=\"M 39.103125 20.298437 \nL 59.103125 20.298437 \n\" style=\"fill:none;stroke:#1f77b4;stroke-linecap:square;stroke-width:1.5;\"/>\n    </g>\n    <g id=\"line2d_17\"/>\n    <g id=\"text_14\">\n     <!-- train -->\n     <defs>\n      <path d=\"M 18.3125 70.21875 \nL 18.3125 54.6875 \nL 36.8125 54.6875 \nL 36.8125 47.703125 \nL 18.3125 47.703125 \nL 18.3125 18.015625 \nQ 18.3125 11.328125 20.140625 9.421875 \nQ 21.96875 7.515625 27.59375 7.515625 \nL 36.8125 7.515625 \nL 36.8125 0 \nL 27.59375 0 \nQ 17.1875 0 13.234375 3.875 \nQ 9.28125 7.765625 9.28125 18.015625 \nL 9.28125 47.703125 \nL 2.6875 47.703125 \nL 2.6875 54.6875 \nL 9.28125 54.6875 \nL 9.28125 70.21875 \nz\n\" id=\"DejaVuSans-116\"/>\n      <path d=\"M 41.109375 46.296875 \nQ 39.59375 47.171875 37.8125 47.578125 \nQ 36.03125 48 33.890625 48 \nQ 26.265625 48 22.1875 43.046875 \nQ 18.109375 38.09375 18.109375 28.8125 \nL 18.109375 0 \nL 9.078125 0 \nL 9.078125 54.6875 \nL 18.109375 54.6875 \nL 18.109375 46.1875 \nQ 20.953125 51.171875 25.484375 53.578125 \nQ 30.03125 56 36.53125 56 \nQ 37.453125 56 38.578125 55.875 \nQ 39.703125 55.765625 41.0625 55.515625 \nz\n\" id=\"DejaVuSans-114\"/>\n      <path d=\"M 34.28125 27.484375 \nQ 23.390625 27.484375 19.1875 25 \nQ 14.984375 22.515625 14.984375 16.5 \nQ 14.984375 11.71875 18.140625 8.90625 \nQ 21.296875 6.109375 26.703125 6.109375 \nQ 34.1875 6.109375 38.703125 11.40625 \nQ 43.21875 16.703125 43.21875 25.484375 \nL 43.21875 27.484375 \nz\nM 52.203125 31.203125 \nL 52.203125 0 \nL 43.21875 0 \nL 43.21875 8.296875 \nQ 40.140625 3.328125 35.546875 0.953125 \nQ 30.953125 -1.421875 24.3125 -1.421875 \nQ 15.921875 -1.421875 10.953125 3.296875 \nQ 6 8.015625 6 15.921875 \nQ 6 25.140625 12.171875 29.828125 \nQ 18.359375 34.515625 30.609375 34.515625 \nL 43.21875 34.515625 \nL 43.21875 35.40625 \nQ 43.21875 41.609375 39.140625 45 \nQ 35.0625 48.390625 27.6875 48.390625 \nQ 23 48.390625 18.546875 47.265625 \nQ 14.109375 46.140625 10.015625 43.890625 \nL 10.015625 52.203125 \nQ 14.9375 54.109375 19.578125 55.046875 \nQ 24.21875 56 28.609375 56 \nQ 40.484375 56 46.34375 49.84375 \nQ 52.203125 43.703125 52.203125 31.203125 \nz\n\" id=\"DejaVuSans-97\"/>\n      <path d=\"M 9.421875 54.6875 \nL 18.40625 54.6875 \nL 18.40625 0 \nL 9.421875 0 \nz\nM 9.421875 75.984375 \nL 18.40625 75.984375 \nL 18.40625 64.59375 \nL 9.421875 64.59375 \nz\n\" id=\"DejaVuSans-105\"/>\n      <path d=\"M 54.890625 33.015625 \nL 54.890625 0 \nL 45.90625 0 \nL 45.90625 32.71875 \nQ 45.90625 40.484375 42.875 44.328125 \nQ 39.84375 48.1875 33.796875 48.1875 \nQ 26.515625 48.1875 22.3125 43.546875 \nQ 18.109375 38.921875 18.109375 30.90625 \nL 18.109375 0 \nL 9.078125 0 \nL 9.078125 54.6875 \nL 18.109375 54.6875 \nL 18.109375 46.1875 \nQ 21.34375 51.125 25.703125 53.5625 \nQ 30.078125 56 35.796875 56 \nQ 45.21875 56 50.046875 50.171875 \nQ 54.890625 44.34375 54.890625 33.015625 \nz\n\" id=\"DejaVuSans-110\"/>\n     </defs>\n     <g transform=\"translate(67.103125 23.798437)scale(0.1 -0.1)\">\n      <use xlink:href=\"#DejaVuSans-116\"/>\n      <use x=\"39.208984\" xlink:href=\"#DejaVuSans-114\"/>\n      <use x=\"80.322266\" xlink:href=\"#DejaVuSans-97\"/>\n      <use x=\"141.601562\" xlink:href=\"#DejaVuSans-105\"/>\n      <use x=\"169.384766\" xlink:href=\"#DejaVuSans-110\"/>\n     </g>\n    </g>\n    <g id=\"line2d_18\">\n     <path d=\"M 39.103125 34.976562 \nL 59.103125 34.976562 \n\" style=\"fill:none;stroke:#ff7f0e;stroke-linecap:square;stroke-width:1.5;\"/>\n    </g>\n    <g id=\"line2d_19\"/>\n    <g id=\"text_15\">\n     <!-- val -->\n     <defs>\n      <path d=\"M 2.984375 54.6875 \nL 12.5 54.6875 \nL 29.59375 8.796875 \nL 46.6875 54.6875 \nL 56.203125 54.6875 \nL 35.6875 0 \nL 23.484375 0 \nz\n\" id=\"DejaVuSans-118\"/>\n      <path d=\"M 9.421875 75.984375 \nL 18.40625 75.984375 \nL 18.40625 0 \nL 9.421875 0 \nz\n\" id=\"DejaVuSans-108\"/>\n     </defs>\n     <g transform=\"translate(67.103125 38.476562)scale(0.1 -0.1)\">\n      <use xlink:href=\"#DejaVuSans-118\"/>\n      <use x=\"59.179688\" xlink:href=\"#DejaVuSans-97\"/>\n      <use x=\"120.458984\" xlink:href=\"#DejaVuSans-108\"/>\n     </g>\n    </g>\n   </g>\n  </g>\n </g>\n <defs>\n  <clipPath id=\"p67546bc679\">\n   <rect height=\"217.44\" width=\"334.8\" x=\"30.103125\" y=\"7.2\"/>\n  </clipPath>\n </defs>\n</svg>\n",
            "image/png": "[encoded data removed]"
          },
          "metadata": {
            "needs_background": "light"
          }
        }
      ],
      "source": [
        "plt.plot(hp_model.history['accuracy'],label='accuracy')\n",
        "plt.plot(hp_model.history['val_accuracy'],label='val_accuracy')\n",
        "plt.legend(['train','val'])"
      ]
    },
    {
      "cell_type": "code",
      "execution_count": 20,
      "metadata": {},
      "outputs": [],
      "source": [
        "userlist = np.array([[0,0,0,0,0,1,0,0,0,0,0,0,0,0,0,0,0,0,0,0,0,0,0,0,0,0,0,0],[0,1,0,0,0,0,0,0,0,0,0,0,0,0,0,0,0,0,0,0,0,0,0,0,0,0,0,0],[0,0,1,0,0,0,0,0,0,0,0,0,0,0,0,0,0,0,0,0,0,0,0,0,0,0,0,0], [0,0,0,1,0,0,0,0,0,0,0,0,0,0,0,0,0,0,0,0,0,0,0,0,0,0,0,0], [0,0,0,0,1,0,0,0,0,0,0,0,0,0,0,0,0,0,0,0,0,0,0,0,0,0,0,0],[0,0,0,0,0,0,1,0,0,0,0,0,0,0,0,0,0,0,0,0,0,0,0,0,0,0,0,0]])"
      ]
    },
    {
      "cell_type": "code",
      "execution_count": 21,
      "metadata": {},
      "outputs": [],
      "source": [
        "userinputs = pd.DataFrame(data=userlist,columns = df.columns )"
      ]
    },
    {
      "cell_type": "code",
      "execution_count": 22,
      "metadata": {},
      "outputs": [
        {
          "output_type": "execute_result",
          "data": {
            "text/plain": "   headphone_name  game_use  travel_use  exercise_use  office_use  \\\n0               0         0           0             0           0   \n1               0         1           0             0           0   \n2               0         0           1             0           0   \n3               0         0           0             1           0   \n4               0         0           0             0           1   \n5               0         0           0             0           0   \n\n   phone_call_use  studio_use  wireless  noise_cancelling  mic_presence  ...  \\\n0               1           0         0                 0             0  ...   \n1               0           0         0                 0             0  ...   \n2               0           0         0                 0             0  ...   \n3               0           0         0                 0             0  ...   \n4               0           0         0                 0             0  ...   \n5               0           1         0                 0             0  ...   \n\n   noise_isolation  microphone_rating  mic_recording_quality  bluetooth  \\\n0                0                  0                      0          0   \n1                0                  0                      0          0   \n2                0                  0                      0          0   \n3                0                  0                      0          0   \n4                0                  0                      0          0   \n5                0                  0                      0          0   \n\n   closed_back  open_back  in_ear  on_ear  over_ear  head_set  \n0            0          0       0       0         0         0  \n1            0          0       0       0         0         0  \n2            0          0       0       0         0         0  \n3            0          0       0       0         0         0  \n4            0          0       0       0         0         0  \n5            0          0       0       0         0         0  \n\n[6 rows x 28 columns]",
            "text/html": "<div>\n<style scoped>\n    .dataframe tbody tr th:only-of-type {\n        vertical-align: middle;\n    }\n\n    .dataframe tbody tr th {\n        vertical-align: top;\n    }\n\n    .dataframe thead th {\n        text-align: right;\n    }\n</style>\n<table border=\"1\" class=\"dataframe\">\n  <thead>\n    <tr style=\"text-align: right;\">\n      <th></th>\n      <th>headphone_name</th>\n      <th>game_use</th>\n      <th>travel_use</th>\n      <th>exercise_use</th>\n      <th>office_use</th>\n      <th>phone_call_use</th>\n      <th>studio_use</th>\n      <th>wireless</th>\n      <th>noise_cancelling</th>\n      <th>mic_presence</th>\n      <th>...</th>\n      <th>noise_isolation</th>\n      <th>microphone_rating</th>\n      <th>mic_recording_quality</th>\n      <th>bluetooth</th>\n      <th>closed_back</th>\n      <th>open_back</th>\n      <th>in_ear</th>\n      <th>on_ear</th>\n      <th>over_ear</th>\n      <th>head_set</th>\n    </tr>\n  </thead>\n  <tbody>\n    <tr>\n      <th>0</th>\n      <td>0</td>\n      <td>0</td>\n      <td>0</td>\n      <td>0</td>\n      <td>0</td>\n      <td>1</td>\n      <td>0</td>\n      <td>0</td>\n      <td>0</td>\n      <td>0</td>\n      <td>...</td>\n      <td>0</td>\n      <td>0</td>\n      <td>0</td>\n      <td>0</td>\n      <td>0</td>\n      <td>0</td>\n      <td>0</td>\n      <td>0</td>\n      <td>0</td>\n      <td>0</td>\n    </tr>\n    <tr>\n      <th>1</th>\n      <td>0</td>\n      <td>1</td>\n      <td>0</td>\n      <td>0</td>\n      <td>0</td>\n      <td>0</td>\n      <td>0</td>\n      <td>0</td>\n      <td>0</td>\n      <td>0</td>\n      <td>...</td>\n      <td>0</td>\n      <td>0</td>\n      <td>0</td>\n      <td>0</td>\n      <td>0</td>\n      <td>0</td>\n      <td>0</td>\n      <td>0</td>\n      <td>0</td>\n      <td>0</td>\n    </tr>\n    <tr>\n      <th>2</th>\n      <td>0</td>\n      <td>0</td>\n      <td>1</td>\n      <td>0</td>\n      <td>0</td>\n      <td>0</td>\n      <td>0</td>\n      <td>0</td>\n      <td>0</td>\n      <td>0</td>\n      <td>...</td>\n      <td>0</td>\n      <td>0</td>\n      <td>0</td>\n      <td>0</td>\n      <td>0</td>\n      <td>0</td>\n      <td>0</td>\n      <td>0</td>\n      <td>0</td>\n      <td>0</td>\n    </tr>\n    <tr>\n      <th>3</th>\n      <td>0</td>\n      <td>0</td>\n      <td>0</td>\n      <td>1</td>\n      <td>0</td>\n      <td>0</td>\n      <td>0</td>\n      <td>0</td>\n      <td>0</td>\n      <td>0</td>\n      <td>...</td>\n      <td>0</td>\n      <td>0</td>\n      <td>0</td>\n      <td>0</td>\n      <td>0</td>\n      <td>0</td>\n      <td>0</td>\n      <td>0</td>\n      <td>0</td>\n      <td>0</td>\n    </tr>\n    <tr>\n      <th>4</th>\n      <td>0</td>\n      <td>0</td>\n      <td>0</td>\n      <td>0</td>\n      <td>1</td>\n      <td>0</td>\n      <td>0</td>\n      <td>0</td>\n      <td>0</td>\n      <td>0</td>\n      <td>...</td>\n      <td>0</td>\n      <td>0</td>\n      <td>0</td>\n      <td>0</td>\n      <td>0</td>\n      <td>0</td>\n      <td>0</td>\n      <td>0</td>\n      <td>0</td>\n      <td>0</td>\n    </tr>\n    <tr>\n      <th>5</th>\n      <td>0</td>\n      <td>0</td>\n      <td>0</td>\n      <td>0</td>\n      <td>0</td>\n      <td>0</td>\n      <td>1</td>\n      <td>0</td>\n      <td>0</td>\n      <td>0</td>\n      <td>...</td>\n      <td>0</td>\n      <td>0</td>\n      <td>0</td>\n      <td>0</td>\n      <td>0</td>\n      <td>0</td>\n      <td>0</td>\n      <td>0</td>\n      <td>0</td>\n      <td>0</td>\n    </tr>\n  </tbody>\n</table>\n<p>6 rows × 28 columns</p>\n</div>"
          },
          "metadata": {},
          "execution_count": 22
        }
      ],
      "source": [
        "userinputs"
      ]
    },
    {
      "cell_type": "code",
      "execution_count": 23,
      "metadata": {},
      "outputs": [],
      "source": [
        "X_pred=userinputs[['travel_use', 'exercise_use', 'office_use',\n",
        "       'phone_call_use', 'studio_use',  'game_use']]"
      ]
    },
    {
      "cell_type": "code",
      "execution_count": 24,
      "metadata": {
        "tags": []
      },
      "outputs": [],
      "source": [
        "y_pred=ANN.predict(X_pred)"
      ]
    },
    {
      "cell_type": "code",
      "execution_count": 25,
      "metadata": {},
      "outputs": [],
      "source": [
        "annpreddf = pd.DataFrame(data=y_pred, columns =y.columns)\n"
      ]
    },
    {
      "cell_type": "code",
      "execution_count": 26,
      "metadata": {},
      "outputs": [
        {
          "output_type": "execute_result",
          "data": {
            "text/plain": "   wireless  noise_cancelling  mic_presence  frequency_response_consistency  \\\n0  0.096270         -0.078872      0.176291                        0.168226   \n1  0.030106         -0.042024      0.039074                        0.135130   \n2  0.200429         -0.071318      0.136129                        0.368717   \n3  0.121782         -0.226634      0.129154                        0.339713   \n4  0.064136          0.018379      0.105476                        0.165565   \n5  0.021707         -0.171379     -0.005968                        0.332237   \n\n   bass_accuracy  mid_accuracy  treble_accuracy  peaks_dips   imaging  \\\n0       0.098831      0.124639         0.156752    0.106362  0.151175   \n1       0.112860      0.147658         0.150999    0.130245  0.191010   \n2       0.162191      0.205057         0.157895    0.213790  0.262588   \n3       0.101716      0.162978         0.168453    0.189239  0.250814   \n4       0.084929      0.128608         0.087785    0.066319  0.109932   \n5       0.085741      0.205185         0.232295    0.199096  0.260928   \n\n   passive_soundstage  ...  noise_isolation  microphone_rating  \\\n0            0.005064  ...         0.094648           0.159382   \n1            0.072013  ...         0.049336           0.015607   \n2           -0.043498  ...         0.177078           0.031364   \n3           -0.013980  ...         0.074625           0.032415   \n4            0.021853  ...         0.120078          -0.031366   \n5           -0.054635  ...         0.066445          -0.053981   \n\n   mic_recording_quality  bluetooth  closed_back  open_back    in_ear  \\\n0               0.127994   0.071718     0.203379   0.000266  0.242804   \n1               0.019078   0.057627     0.122655   0.074602  0.125649   \n2              -0.006719   0.116920     0.216913   0.085184  0.481830   \n3              -0.020423   0.086544     0.140498   0.170947  0.500878   \n4               0.014469   0.070910     0.150686   0.033411  0.189389   \n5              -0.065736   0.071597     0.124259   0.170229  0.422704   \n\n     on_ear  over_ear  head_set  \n0  0.002267 -0.097962  0.005064  \n1 -0.003358  0.055094  0.009502  \n2  0.018573 -0.195522 -0.012810  \n3  0.007302 -0.231616 -0.014367  \n4 -0.017655 -0.085696  0.020397  \n5 -0.023979 -0.098289  0.010685  \n\n[6 rows x 21 columns]",
            "text/html": "<div>\n<style scoped>\n    .dataframe tbody tr th:only-of-type {\n        vertical-align: middle;\n    }\n\n    .dataframe tbody tr th {\n        vertical-align: top;\n    }\n\n    .dataframe thead th {\n        text-align: right;\n    }\n</style>\n<table border=\"1\" class=\"dataframe\">\n  <thead>\n    <tr style=\"text-align: right;\">\n      <th></th>\n      <th>wireless</th>\n      <th>noise_cancelling</th>\n      <th>mic_presence</th>\n      <th>frequency_response_consistency</th>\n      <th>bass_accuracy</th>\n      <th>mid_accuracy</th>\n      <th>treble_accuracy</th>\n      <th>peaks_dips</th>\n      <th>imaging</th>\n      <th>passive_soundstage</th>\n      <th>...</th>\n      <th>noise_isolation</th>\n      <th>microphone_rating</th>\n      <th>mic_recording_quality</th>\n      <th>bluetooth</th>\n      <th>closed_back</th>\n      <th>open_back</th>\n      <th>in_ear</th>\n      <th>on_ear</th>\n      <th>over_ear</th>\n      <th>head_set</th>\n    </tr>\n  </thead>\n  <tbody>\n    <tr>\n      <th>0</th>\n      <td>0.096270</td>\n      <td>-0.078872</td>\n      <td>0.176291</td>\n      <td>0.168226</td>\n      <td>0.098831</td>\n      <td>0.124639</td>\n      <td>0.156752</td>\n      <td>0.106362</td>\n      <td>0.151175</td>\n      <td>0.005064</td>\n      <td>...</td>\n      <td>0.094648</td>\n      <td>0.159382</td>\n      <td>0.127994</td>\n      <td>0.071718</td>\n      <td>0.203379</td>\n      <td>0.000266</td>\n      <td>0.242804</td>\n      <td>0.002267</td>\n      <td>-0.097962</td>\n      <td>0.005064</td>\n    </tr>\n    <tr>\n      <th>1</th>\n      <td>0.030106</td>\n      <td>-0.042024</td>\n      <td>0.039074</td>\n      <td>0.135130</td>\n      <td>0.112860</td>\n      <td>0.147658</td>\n      <td>0.150999</td>\n      <td>0.130245</td>\n      <td>0.191010</td>\n      <td>0.072013</td>\n      <td>...</td>\n      <td>0.049336</td>\n      <td>0.015607</td>\n      <td>0.019078</td>\n      <td>0.057627</td>\n      <td>0.122655</td>\n      <td>0.074602</td>\n      <td>0.125649</td>\n      <td>-0.003358</td>\n      <td>0.055094</td>\n      <td>0.009502</td>\n    </tr>\n    <tr>\n      <th>2</th>\n      <td>0.200429</td>\n      <td>-0.071318</td>\n      <td>0.136129</td>\n      <td>0.368717</td>\n      <td>0.162191</td>\n      <td>0.205057</td>\n      <td>0.157895</td>\n      <td>0.213790</td>\n      <td>0.262588</td>\n      <td>-0.043498</td>\n      <td>...</td>\n      <td>0.177078</td>\n      <td>0.031364</td>\n      <td>-0.006719</td>\n      <td>0.116920</td>\n      <td>0.216913</td>\n      <td>0.085184</td>\n      <td>0.481830</td>\n      <td>0.018573</td>\n      <td>-0.195522</td>\n      <td>-0.012810</td>\n    </tr>\n    <tr>\n      <th>3</th>\n      <td>0.121782</td>\n      <td>-0.226634</td>\n      <td>0.129154</td>\n      <td>0.339713</td>\n      <td>0.101716</td>\n      <td>0.162978</td>\n      <td>0.168453</td>\n      <td>0.189239</td>\n      <td>0.250814</td>\n      <td>-0.013980</td>\n      <td>...</td>\n      <td>0.074625</td>\n      <td>0.032415</td>\n      <td>-0.020423</td>\n      <td>0.086544</td>\n      <td>0.140498</td>\n      <td>0.170947</td>\n      <td>0.500878</td>\n      <td>0.007302</td>\n      <td>-0.231616</td>\n      <td>-0.014367</td>\n    </tr>\n    <tr>\n      <th>4</th>\n      <td>0.064136</td>\n      <td>0.018379</td>\n      <td>0.105476</td>\n      <td>0.165565</td>\n      <td>0.084929</td>\n      <td>0.128608</td>\n      <td>0.087785</td>\n      <td>0.066319</td>\n      <td>0.109932</td>\n      <td>0.021853</td>\n      <td>...</td>\n      <td>0.120078</td>\n      <td>-0.031366</td>\n      <td>0.014469</td>\n      <td>0.070910</td>\n      <td>0.150686</td>\n      <td>0.033411</td>\n      <td>0.189389</td>\n      <td>-0.017655</td>\n      <td>-0.085696</td>\n      <td>0.020397</td>\n    </tr>\n    <tr>\n      <th>5</th>\n      <td>0.021707</td>\n      <td>-0.171379</td>\n      <td>-0.005968</td>\n      <td>0.332237</td>\n      <td>0.085741</td>\n      <td>0.205185</td>\n      <td>0.232295</td>\n      <td>0.199096</td>\n      <td>0.260928</td>\n      <td>-0.054635</td>\n      <td>...</td>\n      <td>0.066445</td>\n      <td>-0.053981</td>\n      <td>-0.065736</td>\n      <td>0.071597</td>\n      <td>0.124259</td>\n      <td>0.170229</td>\n      <td>0.422704</td>\n      <td>-0.023979</td>\n      <td>-0.098289</td>\n      <td>0.010685</td>\n    </tr>\n  </tbody>\n</table>\n<p>6 rows × 21 columns</p>\n</div>"
          },
          "metadata": {},
          "execution_count": 26
        }
      ],
      "source": [
        "annpreddf"
      ]
    },
    {
      "cell_type": "code",
      "execution_count": 27,
      "metadata": {},
      "outputs": [],
      "source": [
        "np.random.seed(42)\n",
        "\n",
        "KNN = KNeighborsRegressor(n_neighbors=6,weights='distance',algorithm='brute')"
      ]
    },
    {
      "cell_type": "code",
      "execution_count": 28,
      "metadata": {},
      "outputs": [
        {
          "output_type": "execute_result",
          "data": {
            "text/plain": "KNeighborsRegressor(algorithm=&#39;brute&#39;, n_neighbors=6, weights=&#39;distance&#39;)"
          },
          "metadata": {},
          "execution_count": 28
        }
      ],
      "source": [
        "KNN.fit(X_train,y_train)"
      ]
    },
    {
      "cell_type": "code",
      "execution_count": 29,
      "metadata": {},
      "outputs": [
        {
          "output_type": "execute_result",
          "data": {
            "text/plain": "0.6166551223074017"
          },
          "metadata": {},
          "execution_count": 29
        }
      ],
      "source": [
        "KNN.score(X_test,y_test)"
      ]
    },
    {
      "cell_type": "code",
      "execution_count": 30,
      "metadata": {},
      "outputs": [],
      "source": [
        "knny_pred = KNN.predict(X_pred)"
      ]
    },
    {
      "cell_type": "code",
      "execution_count": 31,
      "metadata": {},
      "outputs": [],
      "source": [
        "knnpreddf = pd.DataFrame(data=knny_pred, columns =y.columns)"
      ]
    },
    {
      "cell_type": "code",
      "execution_count": 32,
      "metadata": {},
      "outputs": [
        {
          "output_type": "execute_result",
          "data": {
            "text/plain": "   wireless  noise_cancelling  mic_presence  frequency_response_consistency  \\\n0       1.0               0.0           1.0                        0.427420   \n1       1.0               0.0           1.0                        0.423909   \n2       1.0               0.0           1.0                        0.428327   \n3       1.0               0.0           1.0                        0.426560   \n4       1.0               0.0           1.0                        0.427755   \n5       1.0               0.0           1.0                        0.521641   \n\n   bass_accuracy  mid_accuracy  treble_accuracy  peaks_dips   imaging  \\\n0       0.139898      0.475511         0.527918    0.298694  0.488387   \n1       0.139596      0.475735         0.525522    0.297897  0.484787   \n2       0.140584      0.477280         0.527551    0.300490  0.490503   \n3       0.139751      0.476072         0.527801    0.298775  0.488947   \n4       0.140539      0.476969         0.527331    0.300184  0.489745   \n5       0.152819      0.554869         0.549754    0.402375  0.587310   \n\n   passive_soundstage  ...  noise_isolation  microphone_rating  \\\n0            0.306869  ...         0.313004           0.605833   \n1            0.308819  ...         0.309702           0.604500   \n2            0.306230  ...         0.315054           0.605038   \n3            0.306856  ...         0.312431           0.605178   \n4            0.306770  ...         0.314601           0.605071   \n5            0.259278  ...         0.327028           0.608699   \n\n   mic_recording_quality  bluetooth  closed_back  open_back    in_ear  on_ear  \\\n0               0.644754   0.826144     0.840576   0.159424  0.493958     0.0   \n1               0.644192   0.826205     0.842678   0.157322  0.490954     0.0   \n2               0.643782   0.825338     0.841950   0.158050  0.496908     0.0   \n3               0.644160   0.825976     0.841433   0.158567  0.495062     0.0   \n4               0.643849   0.825477     0.841284   0.158716  0.495761     0.0   \n5               0.651203   0.794842     1.000000   0.000000  0.655223     0.0   \n\n   over_ear  head_set  \n0       0.0  0.346618  \n1       0.0  0.351725  \n2       0.0  0.345042  \n3       0.0  0.346372  \n4       0.0  0.345523  \n5       0.0  0.344777  \n\n[6 rows x 21 columns]",
            "text/html": "<div>\n<style scoped>\n    .dataframe tbody tr th:only-of-type {\n        vertical-align: middle;\n    }\n\n    .dataframe tbody tr th {\n        vertical-align: top;\n    }\n\n    .dataframe thead th {\n        text-align: right;\n    }\n</style>\n<table border=\"1\" class=\"dataframe\">\n  <thead>\n    <tr style=\"text-align: right;\">\n      <th></th>\n      <th>wireless</th>\n      <th>noise_cancelling</th>\n      <th>mic_presence</th>\n      <th>frequency_response_consistency</th>\n      <th>bass_accuracy</th>\n      <th>mid_accuracy</th>\n      <th>treble_accuracy</th>\n      <th>peaks_dips</th>\n      <th>imaging</th>\n      <th>passive_soundstage</th>\n      <th>...</th>\n      <th>noise_isolation</th>\n      <th>microphone_rating</th>\n      <th>mic_recording_quality</th>\n      <th>bluetooth</th>\n      <th>closed_back</th>\n      <th>open_back</th>\n      <th>in_ear</th>\n      <th>on_ear</th>\n      <th>over_ear</th>\n      <th>head_set</th>\n    </tr>\n  </thead>\n  <tbody>\n    <tr>\n      <th>0</th>\n      <td>1.0</td>\n      <td>0.0</td>\n      <td>1.0</td>\n      <td>0.427420</td>\n      <td>0.139898</td>\n      <td>0.475511</td>\n      <td>0.527918</td>\n      <td>0.298694</td>\n      <td>0.488387</td>\n      <td>0.306869</td>\n      <td>...</td>\n      <td>0.313004</td>\n      <td>0.605833</td>\n      <td>0.644754</td>\n      <td>0.826144</td>\n      <td>0.840576</td>\n      <td>0.159424</td>\n      <td>0.493958</td>\n      <td>0.0</td>\n      <td>0.0</td>\n      <td>0.346618</td>\n    </tr>\n    <tr>\n      <th>1</th>\n      <td>1.0</td>\n      <td>0.0</td>\n      <td>1.0</td>\n      <td>0.423909</td>\n      <td>0.139596</td>\n      <td>0.475735</td>\n      <td>0.525522</td>\n      <td>0.297897</td>\n      <td>0.484787</td>\n      <td>0.308819</td>\n      <td>...</td>\n      <td>0.309702</td>\n      <td>0.604500</td>\n      <td>0.644192</td>\n      <td>0.826205</td>\n      <td>0.842678</td>\n      <td>0.157322</td>\n      <td>0.490954</td>\n      <td>0.0</td>\n      <td>0.0</td>\n      <td>0.351725</td>\n    </tr>\n    <tr>\n      <th>2</th>\n      <td>1.0</td>\n      <td>0.0</td>\n      <td>1.0</td>\n      <td>0.428327</td>\n      <td>0.140584</td>\n      <td>0.477280</td>\n      <td>0.527551</td>\n      <td>0.300490</td>\n      <td>0.490503</td>\n      <td>0.306230</td>\n      <td>...</td>\n      <td>0.315054</td>\n      <td>0.605038</td>\n      <td>0.643782</td>\n      <td>0.825338</td>\n      <td>0.841950</td>\n      <td>0.158050</td>\n      <td>0.496908</td>\n      <td>0.0</td>\n      <td>0.0</td>\n      <td>0.345042</td>\n    </tr>\n    <tr>\n      <th>3</th>\n      <td>1.0</td>\n      <td>0.0</td>\n      <td>1.0</td>\n      <td>0.426560</td>\n      <td>0.139751</td>\n      <td>0.476072</td>\n      <td>0.527801</td>\n      <td>0.298775</td>\n      <td>0.488947</td>\n      <td>0.306856</td>\n      <td>...</td>\n      <td>0.312431</td>\n      <td>0.605178</td>\n      <td>0.644160</td>\n      <td>0.825976</td>\n      <td>0.841433</td>\n      <td>0.158567</td>\n      <td>0.495062</td>\n      <td>0.0</td>\n      <td>0.0</td>\n      <td>0.346372</td>\n    </tr>\n    <tr>\n      <th>4</th>\n      <td>1.0</td>\n      <td>0.0</td>\n      <td>1.0</td>\n      <td>0.427755</td>\n      <td>0.140539</td>\n      <td>0.476969</td>\n      <td>0.527331</td>\n      <td>0.300184</td>\n      <td>0.489745</td>\n      <td>0.306770</td>\n      <td>...</td>\n      <td>0.314601</td>\n      <td>0.605071</td>\n      <td>0.643849</td>\n      <td>0.825477</td>\n      <td>0.841284</td>\n      <td>0.158716</td>\n      <td>0.495761</td>\n      <td>0.0</td>\n      <td>0.0</td>\n      <td>0.345523</td>\n    </tr>\n    <tr>\n      <th>5</th>\n      <td>1.0</td>\n      <td>0.0</td>\n      <td>1.0</td>\n      <td>0.521641</td>\n      <td>0.152819</td>\n      <td>0.554869</td>\n      <td>0.549754</td>\n      <td>0.402375</td>\n      <td>0.587310</td>\n      <td>0.259278</td>\n      <td>...</td>\n      <td>0.327028</td>\n      <td>0.608699</td>\n      <td>0.651203</td>\n      <td>0.794842</td>\n      <td>1.000000</td>\n      <td>0.000000</td>\n      <td>0.655223</td>\n      <td>0.0</td>\n      <td>0.0</td>\n      <td>0.344777</td>\n    </tr>\n  </tbody>\n</table>\n<p>6 rows × 21 columns</p>\n</div>"
          },
          "metadata": {},
          "execution_count": 32
        }
      ],
      "source": [
        "knnpreddf"
      ]
    },
    {
      "cell_type": "code",
      "execution_count": 33,
      "metadata": {},
      "outputs": [],
      "source": [
        "np.random.seed(42)\n",
        "\n",
        "RF = RandomForestRegressor()"
      ]
    },
    {
      "cell_type": "code",
      "execution_count": 34,
      "metadata": {},
      "outputs": [
        {
          "output_type": "execute_result",
          "data": {
            "text/plain": "RandomForestRegressor()"
          },
          "metadata": {},
          "execution_count": 34
        }
      ],
      "source": [
        "RF.fit(X_train,y_train)"
      ]
    },
    {
      "cell_type": "code",
      "execution_count": 35,
      "metadata": {},
      "outputs": [
        {
          "output_type": "execute_result",
          "data": {
            "text/plain": "0.5886879251928663"
          },
          "metadata": {},
          "execution_count": 35
        }
      ],
      "source": [
        "RF.score(X_test,y_test)"
      ]
    },
    {
      "cell_type": "code",
      "execution_count": 36,
      "metadata": {},
      "outputs": [],
      "source": [
        "rf_pred = RF.predict(X_pred)"
      ]
    },
    {
      "cell_type": "code",
      "execution_count": 37,
      "metadata": {},
      "outputs": [],
      "source": [
        "rfpreddf = pd.DataFrame(data=rf_pred, columns =y.columns)"
      ]
    },
    {
      "cell_type": "code",
      "execution_count": 38,
      "metadata": {},
      "outputs": [
        {
          "output_type": "execute_result",
          "data": {
            "text/plain": "   wireless  noise_cancelling  mic_presence  frequency_response_consistency  \\\n0      0.12              0.07          0.88                        0.220000   \n1      0.04              0.00          0.04                        0.478511   \n2      0.04              0.00          0.04                        0.491277   \n3      0.76              0.00          0.76                        0.507660   \n4      0.04              0.00          0.04                        0.485106   \n5      0.03              0.00          0.03                        0.492128   \n\n   bass_accuracy  mid_accuracy  treble_accuracy  peaks_dips   imaging  \\\n0       0.581839      0.600408         0.491235    0.395111  0.748421   \n1       0.645977      0.852653         0.567901    0.613333  0.874526   \n2       0.671494      0.836735         0.521975    0.584667  0.875263   \n3       0.211724      0.611020         0.540123    0.300444  0.365474   \n4       0.658506      0.845306         0.549877    0.597778  0.892000   \n5       0.686552      0.867755         0.667654    0.640000  0.881263   \n\n   passive_soundstage  ...  noise_isolation  microphone_rating  \\\n0            0.568667  ...         0.391383           0.803146   \n1            0.651778  ...         0.280638           0.018427   \n2            0.477000  ...         0.429043           0.019101   \n3            0.338444  ...         0.128830           0.481573   \n4            0.523000  ...         0.393830           0.021798   \n5            0.719667  ...         0.236170           0.014944   \n\n   mic_recording_quality  bluetooth  closed_back  open_back  in_ear  on_ear  \\\n0               0.788222   0.110000         0.77       0.23    0.11     0.0   \n1               0.023111   0.030909         0.31       0.24    0.22     0.0   \n2               0.021222   0.030682         0.62       0.07    0.40     0.0   \n3               0.495000   0.679432         0.86       0.08    0.29     0.0   \n4               0.019222   0.030114         0.52       0.10    0.35     0.0   \n5               0.016667   0.024432         0.20       0.30    0.13     0.0   \n\n   over_ear  head_set  \n0      0.77      0.07  \n1      0.74      0.04  \n2      0.57      0.03  \n3      0.12      0.58  \n4      0.64      0.01  \n5      0.84      0.03  \n\n[6 rows x 21 columns]",
            "text/html": "<div>\n<style scoped>\n    .dataframe tbody tr th:only-of-type {\n        vertical-align: middle;\n    }\n\n    .dataframe tbody tr th {\n        vertical-align: top;\n    }\n\n    .dataframe thead th {\n        text-align: right;\n    }\n</style>\n<table border=\"1\" class=\"dataframe\">\n  <thead>\n    <tr style=\"text-align: right;\">\n      <th></th>\n      <th>wireless</th>\n      <th>noise_cancelling</th>\n      <th>mic_presence</th>\n      <th>frequency_response_consistency</th>\n      <th>bass_accuracy</th>\n      <th>mid_accuracy</th>\n      <th>treble_accuracy</th>\n      <th>peaks_dips</th>\n      <th>imaging</th>\n      <th>passive_soundstage</th>\n      <th>...</th>\n      <th>noise_isolation</th>\n      <th>microphone_rating</th>\n      <th>mic_recording_quality</th>\n      <th>bluetooth</th>\n      <th>closed_back</th>\n      <th>open_back</th>\n      <th>in_ear</th>\n      <th>on_ear</th>\n      <th>over_ear</th>\n      <th>head_set</th>\n    </tr>\n  </thead>\n  <tbody>\n    <tr>\n      <th>0</th>\n      <td>0.12</td>\n      <td>0.07</td>\n      <td>0.88</td>\n      <td>0.220000</td>\n      <td>0.581839</td>\n      <td>0.600408</td>\n      <td>0.491235</td>\n      <td>0.395111</td>\n      <td>0.748421</td>\n      <td>0.568667</td>\n      <td>...</td>\n      <td>0.391383</td>\n      <td>0.803146</td>\n      <td>0.788222</td>\n      <td>0.110000</td>\n      <td>0.77</td>\n      <td>0.23</td>\n      <td>0.11</td>\n      <td>0.0</td>\n      <td>0.77</td>\n      <td>0.07</td>\n    </tr>\n    <tr>\n      <th>1</th>\n      <td>0.04</td>\n      <td>0.00</td>\n      <td>0.04</td>\n      <td>0.478511</td>\n      <td>0.645977</td>\n      <td>0.852653</td>\n      <td>0.567901</td>\n      <td>0.613333</td>\n      <td>0.874526</td>\n      <td>0.651778</td>\n      <td>...</td>\n      <td>0.280638</td>\n      <td>0.018427</td>\n      <td>0.023111</td>\n      <td>0.030909</td>\n      <td>0.31</td>\n      <td>0.24</td>\n      <td>0.22</td>\n      <td>0.0</td>\n      <td>0.74</td>\n      <td>0.04</td>\n    </tr>\n    <tr>\n      <th>2</th>\n      <td>0.04</td>\n      <td>0.00</td>\n      <td>0.04</td>\n      <td>0.491277</td>\n      <td>0.671494</td>\n      <td>0.836735</td>\n      <td>0.521975</td>\n      <td>0.584667</td>\n      <td>0.875263</td>\n      <td>0.477000</td>\n      <td>...</td>\n      <td>0.429043</td>\n      <td>0.019101</td>\n      <td>0.021222</td>\n      <td>0.030682</td>\n      <td>0.62</td>\n      <td>0.07</td>\n      <td>0.40</td>\n      <td>0.0</td>\n      <td>0.57</td>\n      <td>0.03</td>\n    </tr>\n    <tr>\n      <th>3</th>\n      <td>0.76</td>\n      <td>0.00</td>\n      <td>0.76</td>\n      <td>0.507660</td>\n      <td>0.211724</td>\n      <td>0.611020</td>\n      <td>0.540123</td>\n      <td>0.300444</td>\n      <td>0.365474</td>\n      <td>0.338444</td>\n      <td>...</td>\n      <td>0.128830</td>\n      <td>0.481573</td>\n      <td>0.495000</td>\n      <td>0.679432</td>\n      <td>0.86</td>\n      <td>0.08</td>\n      <td>0.29</td>\n      <td>0.0</td>\n      <td>0.12</td>\n      <td>0.58</td>\n    </tr>\n    <tr>\n      <th>4</th>\n      <td>0.04</td>\n      <td>0.00</td>\n      <td>0.04</td>\n      <td>0.485106</td>\n      <td>0.658506</td>\n      <td>0.845306</td>\n      <td>0.549877</td>\n      <td>0.597778</td>\n      <td>0.892000</td>\n      <td>0.523000</td>\n      <td>...</td>\n      <td>0.393830</td>\n      <td>0.021798</td>\n      <td>0.019222</td>\n      <td>0.030114</td>\n      <td>0.52</td>\n      <td>0.10</td>\n      <td>0.35</td>\n      <td>0.0</td>\n      <td>0.64</td>\n      <td>0.01</td>\n    </tr>\n    <tr>\n      <th>5</th>\n      <td>0.03</td>\n      <td>0.00</td>\n      <td>0.03</td>\n      <td>0.492128</td>\n      <td>0.686552</td>\n      <td>0.867755</td>\n      <td>0.667654</td>\n      <td>0.640000</td>\n      <td>0.881263</td>\n      <td>0.719667</td>\n      <td>...</td>\n      <td>0.236170</td>\n      <td>0.014944</td>\n      <td>0.016667</td>\n      <td>0.024432</td>\n      <td>0.20</td>\n      <td>0.30</td>\n      <td>0.13</td>\n      <td>0.0</td>\n      <td>0.84</td>\n      <td>0.03</td>\n    </tr>\n  </tbody>\n</table>\n<p>6 rows × 21 columns</p>\n</div>"
          },
          "metadata": {},
          "execution_count": 38
        }
      ],
      "source": [
        "rfpreddf"
      ]
    },
    {
      "cell_type": "code",
      "execution_count": 39,
      "metadata": {},
      "outputs": [],
      "source": [
        "rfdf = pd.DataFrame(columns = ['game_use', 'travel_use', 'exercise_use',\n",
        "       'office_use', 'phone_call_use', 'studio_use', 'wireless',\n",
        "       'noise_cancelling', 'mic_presence', 'frequency_response_consistency',\n",
        "       'bass_accuracy', 'mid_accuracy', 'treble_accuracy', 'peaks_dips',\n",
        "       'imaging', 'passive_soundstage', 'weighted_harmonic_distortion',\n",
        "       'noise_isolation', 'microphone_rating', 'mic_recording_quality',\n",
        "       'bluetooth', 'closed_back', 'open_back', 'in_ear', 'on_ear', 'over_ear',\n",
        "       'head_set'])"
      ]
    },
    {
      "cell_type": "code",
      "execution_count": 40,
      "metadata": {},
      "outputs": [],
      "source": [
        "rfdf[['game_use', 'travel_use', 'exercise_use',\n",
        "       'office_use', 'phone_call_use', 'studio_use']] = X_pred[['game_use', 'travel_use', 'exercise_use',\n",
        "       'office_use', 'phone_call_use', 'studio_use']]\n",
        "rfdf[['wireless',\n",
        "       'noise_cancelling', 'mic_presence', 'frequency_response_consistency',\n",
        "       'bass_accuracy', 'mid_accuracy', 'treble_accuracy', 'peaks_dips',\n",
        "       'imaging', 'passive_soundstage', 'weighted_harmonic_distortion',\n",
        "       'noise_isolation', 'microphone_rating', 'mic_recording_quality',\n",
        "       'bluetooth', 'closed_back', 'open_back', 'in_ear', 'on_ear', 'over_ear',\n",
        "       'head_set']] = rfpreddf[['wireless',\n",
        "       'noise_cancelling', 'mic_presence', 'frequency_response_consistency',\n",
        "       'bass_accuracy', 'mid_accuracy', 'treble_accuracy', 'peaks_dips',\n",
        "       'imaging', 'passive_soundstage', 'weighted_harmonic_distortion',\n",
        "       'noise_isolation', 'microphone_rating', 'mic_recording_quality',\n",
        "       'bluetooth', 'closed_back', 'open_back', 'in_ear', 'on_ear', 'over_ear',\n",
        "       'head_set']]"
      ]
    },
    {
      "cell_type": "code",
      "execution_count": 41,
      "metadata": {},
      "outputs": [
        {
          "output_type": "execute_result",
          "data": {
            "text/plain": "   game_use  travel_use  exercise_use  office_use  phone_call_use  studio_use  \\\n0         0           0             0           0               1           0   \n1         1           0             0           0               0           0   \n2         0           1             0           0               0           0   \n3         0           0             1           0               0           0   \n4         0           0             0           1               0           0   \n5         0           0             0           0               0           1   \n\n   wireless  noise_cancelling  mic_presence  frequency_response_consistency  \\\n0      0.12              0.07          0.88                        0.220000   \n1      0.04              0.00          0.04                        0.478511   \n2      0.04              0.00          0.04                        0.491277   \n3      0.76              0.00          0.76                        0.507660   \n4      0.04              0.00          0.04                        0.485106   \n5      0.03              0.00          0.03                        0.492128   \n\n   ...  noise_isolation  microphone_rating  mic_recording_quality  bluetooth  \\\n0  ...         0.391383           0.803146               0.788222   0.110000   \n1  ...         0.280638           0.018427               0.023111   0.030909   \n2  ...         0.429043           0.019101               0.021222   0.030682   \n3  ...         0.128830           0.481573               0.495000   0.679432   \n4  ...         0.393830           0.021798               0.019222   0.030114   \n5  ...         0.236170           0.014944               0.016667   0.024432   \n\n   closed_back  open_back  in_ear  on_ear  over_ear  head_set  \n0         0.77       0.23    0.11     0.0      0.77      0.07  \n1         0.31       0.24    0.22     0.0      0.74      0.04  \n2         0.62       0.07    0.40     0.0      0.57      0.03  \n3         0.86       0.08    0.29     0.0      0.12      0.58  \n4         0.52       0.10    0.35     0.0      0.64      0.01  \n5         0.20       0.30    0.13     0.0      0.84      0.03  \n\n[6 rows x 27 columns]",
            "text/html": "<div>\n<style scoped>\n    .dataframe tbody tr th:only-of-type {\n        vertical-align: middle;\n    }\n\n    .dataframe tbody tr th {\n        vertical-align: top;\n    }\n\n    .dataframe thead th {\n        text-align: right;\n    }\n</style>\n<table border=\"1\" class=\"dataframe\">\n  <thead>\n    <tr style=\"text-align: right;\">\n      <th></th>\n      <th>game_use</th>\n      <th>travel_use</th>\n      <th>exercise_use</th>\n      <th>office_use</th>\n      <th>phone_call_use</th>\n      <th>studio_use</th>\n      <th>wireless</th>\n      <th>noise_cancelling</th>\n      <th>mic_presence</th>\n      <th>frequency_response_consistency</th>\n      <th>...</th>\n      <th>noise_isolation</th>\n      <th>microphone_rating</th>\n      <th>mic_recording_quality</th>\n      <th>bluetooth</th>\n      <th>closed_back</th>\n      <th>open_back</th>\n      <th>in_ear</th>\n      <th>on_ear</th>\n      <th>over_ear</th>\n      <th>head_set</th>\n    </tr>\n  </thead>\n  <tbody>\n    <tr>\n      <th>0</th>\n      <td>0</td>\n      <td>0</td>\n      <td>0</td>\n      <td>0</td>\n      <td>1</td>\n      <td>0</td>\n      <td>0.12</td>\n      <td>0.07</td>\n      <td>0.88</td>\n      <td>0.220000</td>\n      <td>...</td>\n      <td>0.391383</td>\n      <td>0.803146</td>\n      <td>0.788222</td>\n      <td>0.110000</td>\n      <td>0.77</td>\n      <td>0.23</td>\n      <td>0.11</td>\n      <td>0.0</td>\n      <td>0.77</td>\n      <td>0.07</td>\n    </tr>\n    <tr>\n      <th>1</th>\n      <td>1</td>\n      <td>0</td>\n      <td>0</td>\n      <td>0</td>\n      <td>0</td>\n      <td>0</td>\n      <td>0.04</td>\n      <td>0.00</td>\n      <td>0.04</td>\n      <td>0.478511</td>\n      <td>...</td>\n      <td>0.280638</td>\n      <td>0.018427</td>\n      <td>0.023111</td>\n      <td>0.030909</td>\n      <td>0.31</td>\n      <td>0.24</td>\n      <td>0.22</td>\n      <td>0.0</td>\n      <td>0.74</td>\n      <td>0.04</td>\n    </tr>\n    <tr>\n      <th>2</th>\n      <td>0</td>\n      <td>1</td>\n      <td>0</td>\n      <td>0</td>\n      <td>0</td>\n      <td>0</td>\n      <td>0.04</td>\n      <td>0.00</td>\n      <td>0.04</td>\n      <td>0.491277</td>\n      <td>...</td>\n      <td>0.429043</td>\n      <td>0.019101</td>\n      <td>0.021222</td>\n      <td>0.030682</td>\n      <td>0.62</td>\n      <td>0.07</td>\n      <td>0.40</td>\n      <td>0.0</td>\n      <td>0.57</td>\n      <td>0.03</td>\n    </tr>\n    <tr>\n      <th>3</th>\n      <td>0</td>\n      <td>0</td>\n      <td>1</td>\n      <td>0</td>\n      <td>0</td>\n      <td>0</td>\n      <td>0.76</td>\n      <td>0.00</td>\n      <td>0.76</td>\n      <td>0.507660</td>\n      <td>...</td>\n      <td>0.128830</td>\n      <td>0.481573</td>\n      <td>0.495000</td>\n      <td>0.679432</td>\n      <td>0.86</td>\n      <td>0.08</td>\n      <td>0.29</td>\n      <td>0.0</td>\n      <td>0.12</td>\n      <td>0.58</td>\n    </tr>\n    <tr>\n      <th>4</th>\n      <td>0</td>\n      <td>0</td>\n      <td>0</td>\n      <td>1</td>\n      <td>0</td>\n      <td>0</td>\n      <td>0.04</td>\n      <td>0.00</td>\n      <td>0.04</td>\n      <td>0.485106</td>\n      <td>...</td>\n      <td>0.393830</td>\n      <td>0.021798</td>\n      <td>0.019222</td>\n      <td>0.030114</td>\n      <td>0.52</td>\n      <td>0.10</td>\n      <td>0.35</td>\n      <td>0.0</td>\n      <td>0.64</td>\n      <td>0.01</td>\n    </tr>\n    <tr>\n      <th>5</th>\n      <td>0</td>\n      <td>0</td>\n      <td>0</td>\n      <td>0</td>\n      <td>0</td>\n      <td>1</td>\n      <td>0.03</td>\n      <td>0.00</td>\n      <td>0.03</td>\n      <td>0.492128</td>\n      <td>...</td>\n      <td>0.236170</td>\n      <td>0.014944</td>\n      <td>0.016667</td>\n      <td>0.024432</td>\n      <td>0.20</td>\n      <td>0.30</td>\n      <td>0.13</td>\n      <td>0.0</td>\n      <td>0.84</td>\n      <td>0.03</td>\n    </tr>\n  </tbody>\n</table>\n<p>6 rows × 27 columns</p>\n</div>"
          },
          "metadata": {},
          "execution_count": 41
        }
      ],
      "source": [
        "rfdf"
      ]
    },
    {
      "cell_type": "code",
      "execution_count": 42,
      "metadata": {},
      "outputs": [],
      "source": [
        "randomdf = rfdf"
      ]
    },
    {
      "cell_type": "code",
      "execution_count": 43,
      "metadata": {},
      "outputs": [],
      "source": [
        "np.random.seed(42)\n",
        "\n",
        "LR = LinearRegression()"
      ]
    },
    {
      "cell_type": "code",
      "execution_count": 44,
      "metadata": {},
      "outputs": [
        {
          "output_type": "execute_result",
          "data": {
            "text/plain": "LinearRegression()"
          },
          "metadata": {},
          "execution_count": 44
        }
      ],
      "source": [
        "LR.fit(x1_train,y1_train)"
      ]
    },
    {
      "cell_type": "code",
      "execution_count": 45,
      "metadata": {},
      "outputs": [
        {
          "output_type": "execute_result",
          "data": {
            "text/plain": "0.9156168267307402"
          },
          "metadata": {},
          "execution_count": 45
        }
      ],
      "source": [
        "LR.score(x1_test,y1_test)"
      ]
    },
    {
      "cell_type": "code",
      "execution_count": 46,
      "metadata": {},
      "outputs": [],
      "source": [
        "randomdf[['game_use', 'travel_use', 'exercise_use',\n",
        "       'office_use', 'phone_call_use', 'studio_use']]=LR.predict(rfpreddf)"
      ]
    },
    {
      "cell_type": "code",
      "execution_count": 47,
      "metadata": {},
      "outputs": [],
      "source": [
        "knnhpx=df[['travel_use', 'exercise_use', 'office_use',\n",
        "       'phone_call_use', 'studio_use', 'game_use', 'wireless', 'noise_cancelling',\n",
        "       'mic_presence', 'frequency_response_consistency', 'bass_accuracy',\n",
        "       'mid_accuracy', 'treble_accuracy', 'peaks_dips', 'imaging',\n",
        "       'passive_soundstage', 'weighted_harmonic_distortion', 'noise_isolation',\n",
        "       'microphone_rating', 'mic_recording_quality', 'bluetooth',\n",
        "       'closed_back', 'open_back', 'in_ear', 'on_ear', 'over_ear', 'head_set']]\n",
        "knnhpy=df['headphone_name']"
      ]
    },
    {
      "cell_type": "code",
      "execution_count": 48,
      "metadata": {},
      "outputs": [
        {
          "output_type": "execute_result",
          "data": {
            "text/plain": "288"
          },
          "metadata": {},
          "execution_count": 48
        }
      ],
      "source": [
        "len(knnhpy)"
      ]
    },
    {
      "cell_type": "code",
      "execution_count": 49,
      "metadata": {},
      "outputs": [],
      "source": [
        "knnhp = KNeighborsRegressor(n_neighbors=288,weights='distance')"
      ]
    },
    {
      "cell_type": "code",
      "execution_count": 50,
      "metadata": {},
      "outputs": [
        {
          "output_type": "execute_result",
          "data": {
            "text/plain": "KNeighborsRegressor(n_neighbors=288, weights=&#39;distance&#39;)"
          },
          "metadata": {},
          "execution_count": 50
        }
      ],
      "source": [
        "knnhp.fit(knnhpx,knnhpy)"
      ]
    },
    {
      "cell_type": "code",
      "execution_count": 51,
      "metadata": {},
      "outputs": [],
      "source": [
        "targets = knnhp.predict(randomdf).round()"
      ]
    },
    {
      "cell_type": "code",
      "execution_count": 52,
      "metadata": {},
      "outputs": [
        {
          "output_type": "execute_result",
          "data": {
            "text/plain": "array([143., 139., 141., 146., 140., 138.])"
          },
          "metadata": {},
          "execution_count": 52
        }
      ],
      "source": [
        "targets"
      ]
    },
    {
      "cell_type": "code",
      "execution_count": 53,
      "metadata": {},
      "outputs": [
        {
          "output_type": "execute_result",
          "data": {
            "text/plain": "    headphone_name  game_use  travel_use  exercise_use  office_use  \\\n96             143       5.7    0.888889      0.945946         0.8   \n\n    phone_call_use  studio_use  wireless  noise_cancelling  mic_presence  ...  \\\n96        0.815385       0.575         1                 0             1  ...   \n\n    noise_isolation  microphone_rating  mic_recording_quality  bluetooth  \\\n96         0.734043           0.741573               0.777778   0.897727   \n\n    closed_back  open_back  in_ear  on_ear  over_ear  head_set  \n96            1          0       1       0         0         0  \n\n[1 rows x 28 columns]",
            "text/html": "<div>\n<style scoped>\n    .dataframe tbody tr th:only-of-type {\n        vertical-align: middle;\n    }\n\n    .dataframe tbody tr th {\n        vertical-align: top;\n    }\n\n    .dataframe thead th {\n        text-align: right;\n    }\n</style>\n<table border=\"1\" class=\"dataframe\">\n  <thead>\n    <tr style=\"text-align: right;\">\n      <th></th>\n      <th>headphone_name</th>\n      <th>game_use</th>\n      <th>travel_use</th>\n      <th>exercise_use</th>\n      <th>office_use</th>\n      <th>phone_call_use</th>\n      <th>studio_use</th>\n      <th>wireless</th>\n      <th>noise_cancelling</th>\n      <th>mic_presence</th>\n      <th>...</th>\n      <th>noise_isolation</th>\n      <th>microphone_rating</th>\n      <th>mic_recording_quality</th>\n      <th>bluetooth</th>\n      <th>closed_back</th>\n      <th>open_back</th>\n      <th>in_ear</th>\n      <th>on_ear</th>\n      <th>over_ear</th>\n      <th>head_set</th>\n    </tr>\n  </thead>\n  <tbody>\n    <tr>\n      <th>96</th>\n      <td>143</td>\n      <td>5.7</td>\n      <td>0.888889</td>\n      <td>0.945946</td>\n      <td>0.8</td>\n      <td>0.815385</td>\n      <td>0.575</td>\n      <td>1</td>\n      <td>0</td>\n      <td>1</td>\n      <td>...</td>\n      <td>0.734043</td>\n      <td>0.741573</td>\n      <td>0.777778</td>\n      <td>0.897727</td>\n      <td>1</td>\n      <td>0</td>\n      <td>1</td>\n      <td>0</td>\n      <td>0</td>\n      <td>0</td>\n    </tr>\n  </tbody>\n</table>\n<p>1 rows × 28 columns</p>\n</div>"
          },
          "metadata": {},
          "execution_count": 53
        }
      ],
      "source": [
        "#Attempting to pull target info from target identified \n",
        "df.loc[df['headphone_name'] == targets[0]]"
      ]
    }
  ]
}