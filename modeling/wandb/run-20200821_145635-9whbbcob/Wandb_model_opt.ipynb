{
  "nbformat": 4,
  "nbformat_minor": 0,
  "metadata": {
    "colab": {
      "name": "TF2.0 Recommender System.ipynb",
      "provenance": []
    },
    "kernelspec": {
      "name": "python_defaultSpec_1598902466046",
      "display_name": "Python 3.8.5 64-bit ('rec_sys': conda)"
    },
    "accelerator": "GPU"
  },
  "cells": [
    {
      "cell_type": "code",
      "execution_count": 25,
      "metadata": {},
      "outputs": [],
      "source": [
        "## For wandb hyper parameter testing\n",
        "import wandb"
      ]
    },
    {
      "cell_type": "code",
      "execution_count": 26,
      "metadata": {},
      "outputs": [],
      "source": [
        "mae = tf.keras.losses.MeanAbsoluteError()\n",
        "sweep_config = {\n",
        "    'method': 'grid',\n",
        "    'parameters' : {\n",
        "        'learning_rate': {\n",
        "            'values':[0.01,.001,.0001,.00001,.000001,.0000001]\n",
        "        },\n",
        "        'epochs': {\n",
        "            'values':[50,100,200]\n",
        "        },\n",
        "        'batch_size': {\n",
        "            'values':[32,50,100,256]\n",
        "        },\n",
        "        'layers': {\n",
        "            'values':[32,64,128,256,516,1056]\n",
        "        },  \n",
        "        'activation': {\n",
        "            'values':['relu','linear']\n",
        "        },\n",
        "        'loss':{\n",
        "            'values':['mse',mae]\n",
        "        },\n",
        "        'dropout':{\n",
        "            'values':[.1,.2]\n",
        "        },\n",
        "    }\n",
        "}"
      ]
    },
    {
      "cell_type": "code",
      "execution_count": 27,
      "metadata": {
        "tags": []
      },
      "outputs": [
        {
          "output_type": "stream",
          "name": "stdout",
          "text": "Create sweep with ID: ehn6h7bc\nSweep URL: https://app.wandb.ai/ckamerin/uncategorized/sweeps/ehn6h7bc\n"
        }
      ],
      "source": [
        "sweep_id = wandb.sweep(sweep_config)"
      ]
    },
    {
      "cell_type": "code",
      "execution_count": 33,
      "metadata": {},
      "outputs": [],
      "source": [
        "def train():\n",
        "    wandb.init(project=\"hyperparameter tuning\")\n",
        "\n",
        "    (x_train,y_train) = randx, randy\n",
        "    (x_test,y_test) = testx, testy\n",
        "\n",
        "    configs = {\n",
        "    'layers' : 128,\n",
        "    'learning_rate' :.000001,\n",
        "    'epochs' : 50,\n",
        "    'batch_size': 32,\n",
        "    'activation': 'relu',\n",
        "    'loss' : 'mse',\n",
        "    'dropout' : .1\n",
        "    }\n",
        "\n",
        "    model = tf.keras.models.Sequential([\n",
        "        tf.keras.layers.Dense(wandb.config.layers, input_shape=(17,), activation=wandb.config.activation),\n",
        "        tf.keras.layers.Dropout(wandb.config.dropout),\n",
        "        tf.keras.layers.Dense(wandb.config.layers, activation=wandb.config.activation),\n",
        "        tf.keras.layers.Dropout(wandb.config.dropout),\n",
        "        tf.keras.layers.Dense(wandb.config.layers, activation=wandb.config.activation),\n",
        "        tf.keras.layers.Dropout(wandb.config.dropout),\n",
        "        tf.keras.layers.Dense(wandb.config.layers, activation=wandb.config.activation),\n",
        "        tf.keras.layers.Dropout(wandb.config.dropout),\n",
        "        tf.keras.layers.Dense(17,activation=wandb.config.activation)\n",
        "    ])\n",
        "    opt = tf.keras.optimizers.Adam(wandb.config.learning_rate)\n",
        "    model.compile(optimizer=opt,metrics=['accuracy'],loss=wandb.config.loss)\n",
        "    model.fit(x_train,y_train, epochs=wandb.config.epochs ,batch_size = wandb.config.batch_size,validation_data=(x_test,y_test),callbacks=[WandbCallback(data_type=\"image\",labels=labels)])"
      ]
    },
    {
      "cell_type": "code",
      "execution_count": 68,
      "metadata": {
        "tags": []
      },
      "outputs": [
        {
          "output_type": "stream",
          "name": "stdout",
          "text": "wandb: Agent Starting Run: 9whbbcob with config:\n\tactivation: relu\n\tbatch_size: 32\n\tdropout: 0.1\n\tepochs: 50\n\tlayers: 32\n\tlearning_rate: 0.01\n\tloss: mse\nwandb: Agent Started Run:9whbbcob\n\u001b[34m\u001b[1mwandb\u001b[0m: \u001b[33mWARNING\u001b[0m Ignoring project='hyperparameter tuning' passed to wandb.init when running a sweep\n"
        },
        {
          "output_type": "display_data",
          "data": {
            "text/plain": "<IPython.core.display.HTML object>",
            "text/html": "\n                Logging results to <a href=\"https://wandb.com\" target=\"_blank\">Weights & Biases</a> <a href=\"https://docs.wandb.com/integrations/jupyter.html\" target=\"_blank\">(Documentation)</a>.<br/>\n                Project page: <a href=\"https://app.wandb.ai/ckamerin/uncategorized\" target=\"_blank\">https://app.wandb.ai/ckamerin/uncategorized</a><br/>\n                Sweep page: <a href=\"https://app.wandb.ai/ckamerin/uncategorized/sweeps/qkuq9hld\" target=\"_blank\">https://app.wandb.ai/ckamerin/uncategorized/sweeps/qkuq9hld</a><br/>\nRun page: <a href=\"https://app.wandb.ai/ckamerin/uncategorized/runs/9whbbcob\" target=\"_blank\">https://app.wandb.ai/ckamerin/uncategorized/runs/9whbbcob</a><br/>\n            "
          },
          "metadata": {}
        },
        {
          "output_type": "stream",
          "name": "stderr",
          "text": "Failed to query for notebook name, you can set it manually with the WANDB_NOTEBOOK_NAME environment variable\n\u001b[34m\u001b[1mwandb\u001b[0m: Ctrl-c pressed. Waiting for runs to end. Press ctrl-c again to terminate them.\n"
        }
      ],
      "source": [
        "wandb.agent(sweep_id,function=train)"
      ]
    }
  ]
}